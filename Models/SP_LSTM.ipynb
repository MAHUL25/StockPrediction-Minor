{
 "cells": [
  {
   "cell_type": "code",
   "execution_count": 67,
   "metadata": {},
   "outputs": [],
   "source": [
    "import pandas as pd\n",
    "import numpy as np\n",
    "from datetime import datetime\n",
    "import os\n",
    "import math\n",
    "\n",
    "import yfinance as yf\n",
    "\n",
    "from sklearn.utils import shuffle\n",
    "from sklearn.preprocessing import MinMaxScaler\n",
    "from sklearn.metrics import precision_score, recall_score, f1_score, accuracy_score, confusion_matrix, r2_score, mean_squared_error, root_mean_squared_error\n",
    "\n",
    "import tensorflow as tf\n",
    "from tensorflow import keras\n",
    "from tensorflow.keras.models import Sequential, load_model\n",
    "from tensorflow.keras.layers import Dense, LSTM, Activation\n",
    "from tensorflow.keras.optimizers import Adam\n",
    "from tensorflow.keras.metrics import mean_squared_error\n",
    "\n",
    "import pickle\n",
    "\n",
    "import matplotlib.pyplot as plt\n",
    "import seaborn as sns"
   ]
  },
  {
   "cell_type": "code",
   "execution_count": 2,
   "metadata": {},
   "outputs": [],
   "source": [
    "# import Infosys data\n",
    "infy_data = yf.Ticker(\"GC=F\")\n",
    "infy_df = infy_data.history(period=\"max\")"
   ]
  },
  {
   "cell_type": "code",
   "execution_count": 3,
   "metadata": {},
   "outputs": [
    {
     "data": {
      "text/html": [
       "<div>\n",
       "<style scoped>\n",
       "    .dataframe tbody tr th:only-of-type {\n",
       "        vertical-align: middle;\n",
       "    }\n",
       "\n",
       "    .dataframe tbody tr th {\n",
       "        vertical-align: top;\n",
       "    }\n",
       "\n",
       "    .dataframe thead th {\n",
       "        text-align: right;\n",
       "    }\n",
       "</style>\n",
       "<table border=\"1\" class=\"dataframe\">\n",
       "  <thead>\n",
       "    <tr style=\"text-align: right;\">\n",
       "      <th></th>\n",
       "      <th>Open</th>\n",
       "      <th>High</th>\n",
       "      <th>Low</th>\n",
       "      <th>Close</th>\n",
       "      <th>Volume</th>\n",
       "      <th>Dividends</th>\n",
       "      <th>Stock Splits</th>\n",
       "    </tr>\n",
       "    <tr>\n",
       "      <th>Date</th>\n",
       "      <th></th>\n",
       "      <th></th>\n",
       "      <th></th>\n",
       "      <th></th>\n",
       "      <th></th>\n",
       "      <th></th>\n",
       "      <th></th>\n",
       "    </tr>\n",
       "  </thead>\n",
       "  <tbody>\n",
       "    <tr>\n",
       "      <th>2000-08-30 00:00:00-04:00</th>\n",
       "      <td>273.899994</td>\n",
       "      <td>273.899994</td>\n",
       "      <td>273.899994</td>\n",
       "      <td>273.899994</td>\n",
       "      <td>0</td>\n",
       "      <td>0.0</td>\n",
       "      <td>0.0</td>\n",
       "    </tr>\n",
       "    <tr>\n",
       "      <th>2000-08-31 00:00:00-04:00</th>\n",
       "      <td>274.799988</td>\n",
       "      <td>278.299988</td>\n",
       "      <td>274.799988</td>\n",
       "      <td>278.299988</td>\n",
       "      <td>0</td>\n",
       "      <td>0.0</td>\n",
       "      <td>0.0</td>\n",
       "    </tr>\n",
       "    <tr>\n",
       "      <th>2000-09-01 00:00:00-04:00</th>\n",
       "      <td>277.000000</td>\n",
       "      <td>277.000000</td>\n",
       "      <td>277.000000</td>\n",
       "      <td>277.000000</td>\n",
       "      <td>0</td>\n",
       "      <td>0.0</td>\n",
       "      <td>0.0</td>\n",
       "    </tr>\n",
       "    <tr>\n",
       "      <th>2000-09-05 00:00:00-04:00</th>\n",
       "      <td>275.799988</td>\n",
       "      <td>275.799988</td>\n",
       "      <td>275.799988</td>\n",
       "      <td>275.799988</td>\n",
       "      <td>2</td>\n",
       "      <td>0.0</td>\n",
       "      <td>0.0</td>\n",
       "    </tr>\n",
       "    <tr>\n",
       "      <th>2000-09-06 00:00:00-04:00</th>\n",
       "      <td>274.200012</td>\n",
       "      <td>274.200012</td>\n",
       "      <td>274.200012</td>\n",
       "      <td>274.200012</td>\n",
       "      <td>0</td>\n",
       "      <td>0.0</td>\n",
       "      <td>0.0</td>\n",
       "    </tr>\n",
       "    <tr>\n",
       "      <th>...</th>\n",
       "      <td>...</td>\n",
       "      <td>...</td>\n",
       "      <td>...</td>\n",
       "      <td>...</td>\n",
       "      <td>...</td>\n",
       "      <td>...</td>\n",
       "      <td>...</td>\n",
       "    </tr>\n",
       "    <tr>\n",
       "      <th>2024-04-17 00:00:00-04:00</th>\n",
       "      <td>2384.199951</td>\n",
       "      <td>2391.399902</td>\n",
       "      <td>2369.300049</td>\n",
       "      <td>2371.699951</td>\n",
       "      <td>37</td>\n",
       "      <td>0.0</td>\n",
       "      <td>0.0</td>\n",
       "    </tr>\n",
       "    <tr>\n",
       "      <th>2024-04-18 00:00:00-04:00</th>\n",
       "      <td>2368.399902</td>\n",
       "      <td>2384.399902</td>\n",
       "      <td>2368.399902</td>\n",
       "      <td>2382.300049</td>\n",
       "      <td>128</td>\n",
       "      <td>0.0</td>\n",
       "      <td>0.0</td>\n",
       "    </tr>\n",
       "    <tr>\n",
       "      <th>2024-04-19 00:00:00-04:00</th>\n",
       "      <td>2379.300049</td>\n",
       "      <td>2399.800049</td>\n",
       "      <td>2377.300049</td>\n",
       "      <td>2398.399902</td>\n",
       "      <td>160</td>\n",
       "      <td>0.0</td>\n",
       "      <td>0.0</td>\n",
       "    </tr>\n",
       "    <tr>\n",
       "      <th>2024-04-22 00:00:00-04:00</th>\n",
       "      <td>2383.300049</td>\n",
       "      <td>2383.300049</td>\n",
       "      <td>2326.899902</td>\n",
       "      <td>2332.199951</td>\n",
       "      <td>160</td>\n",
       "      <td>0.0</td>\n",
       "      <td>0.0</td>\n",
       "    </tr>\n",
       "    <tr>\n",
       "      <th>2024-04-23 00:00:00-04:00</th>\n",
       "      <td>2342.300049</td>\n",
       "      <td>2347.899902</td>\n",
       "      <td>2304.600098</td>\n",
       "      <td>2324.500000</td>\n",
       "      <td>149944</td>\n",
       "      <td>0.0</td>\n",
       "      <td>0.0</td>\n",
       "    </tr>\n",
       "  </tbody>\n",
       "</table>\n",
       "<p>5933 rows × 7 columns</p>\n",
       "</div>"
      ],
      "text/plain": [
       "                                  Open         High          Low        Close  \\\n",
       "Date                                                                            \n",
       "2000-08-30 00:00:00-04:00   273.899994   273.899994   273.899994   273.899994   \n",
       "2000-08-31 00:00:00-04:00   274.799988   278.299988   274.799988   278.299988   \n",
       "2000-09-01 00:00:00-04:00   277.000000   277.000000   277.000000   277.000000   \n",
       "2000-09-05 00:00:00-04:00   275.799988   275.799988   275.799988   275.799988   \n",
       "2000-09-06 00:00:00-04:00   274.200012   274.200012   274.200012   274.200012   \n",
       "...                                ...          ...          ...          ...   \n",
       "2024-04-17 00:00:00-04:00  2384.199951  2391.399902  2369.300049  2371.699951   \n",
       "2024-04-18 00:00:00-04:00  2368.399902  2384.399902  2368.399902  2382.300049   \n",
       "2024-04-19 00:00:00-04:00  2379.300049  2399.800049  2377.300049  2398.399902   \n",
       "2024-04-22 00:00:00-04:00  2383.300049  2383.300049  2326.899902  2332.199951   \n",
       "2024-04-23 00:00:00-04:00  2342.300049  2347.899902  2304.600098  2324.500000   \n",
       "\n",
       "                           Volume  Dividends  Stock Splits  \n",
       "Date                                                        \n",
       "2000-08-30 00:00:00-04:00       0        0.0           0.0  \n",
       "2000-08-31 00:00:00-04:00       0        0.0           0.0  \n",
       "2000-09-01 00:00:00-04:00       0        0.0           0.0  \n",
       "2000-09-05 00:00:00-04:00       2        0.0           0.0  \n",
       "2000-09-06 00:00:00-04:00       0        0.0           0.0  \n",
       "...                           ...        ...           ...  \n",
       "2024-04-17 00:00:00-04:00      37        0.0           0.0  \n",
       "2024-04-18 00:00:00-04:00     128        0.0           0.0  \n",
       "2024-04-19 00:00:00-04:00     160        0.0           0.0  \n",
       "2024-04-22 00:00:00-04:00     160        0.0           0.0  \n",
       "2024-04-23 00:00:00-04:00  149944        0.0           0.0  \n",
       "\n",
       "[5933 rows x 7 columns]"
      ]
     },
     "execution_count": 3,
     "metadata": {},
     "output_type": "execute_result"
    }
   ],
   "source": [
    "infy_df"
   ]
  },
  {
   "cell_type": "code",
   "execution_count": 4,
   "metadata": {},
   "outputs": [
    {
     "data": {
      "text/html": [
       "<div>\n",
       "<style scoped>\n",
       "    .dataframe tbody tr th:only-of-type {\n",
       "        vertical-align: middle;\n",
       "    }\n",
       "\n",
       "    .dataframe tbody tr th {\n",
       "        vertical-align: top;\n",
       "    }\n",
       "\n",
       "    .dataframe thead th {\n",
       "        text-align: right;\n",
       "    }\n",
       "</style>\n",
       "<table border=\"1\" class=\"dataframe\">\n",
       "  <thead>\n",
       "    <tr style=\"text-align: right;\">\n",
       "      <th></th>\n",
       "      <th>Open</th>\n",
       "      <th>High</th>\n",
       "      <th>Low</th>\n",
       "      <th>Close</th>\n",
       "      <th>Volume</th>\n",
       "    </tr>\n",
       "    <tr>\n",
       "      <th>Date</th>\n",
       "      <th></th>\n",
       "      <th></th>\n",
       "      <th></th>\n",
       "      <th></th>\n",
       "      <th></th>\n",
       "    </tr>\n",
       "  </thead>\n",
       "  <tbody>\n",
       "    <tr>\n",
       "      <th>2000-08-30 00:00:00-04:00</th>\n",
       "      <td>273.899994</td>\n",
       "      <td>273.899994</td>\n",
       "      <td>273.899994</td>\n",
       "      <td>273.899994</td>\n",
       "      <td>0</td>\n",
       "    </tr>\n",
       "    <tr>\n",
       "      <th>2000-08-31 00:00:00-04:00</th>\n",
       "      <td>274.799988</td>\n",
       "      <td>278.299988</td>\n",
       "      <td>274.799988</td>\n",
       "      <td>278.299988</td>\n",
       "      <td>0</td>\n",
       "    </tr>\n",
       "    <tr>\n",
       "      <th>2000-09-01 00:00:00-04:00</th>\n",
       "      <td>277.000000</td>\n",
       "      <td>277.000000</td>\n",
       "      <td>277.000000</td>\n",
       "      <td>277.000000</td>\n",
       "      <td>0</td>\n",
       "    </tr>\n",
       "    <tr>\n",
       "      <th>2000-09-05 00:00:00-04:00</th>\n",
       "      <td>275.799988</td>\n",
       "      <td>275.799988</td>\n",
       "      <td>275.799988</td>\n",
       "      <td>275.799988</td>\n",
       "      <td>2</td>\n",
       "    </tr>\n",
       "    <tr>\n",
       "      <th>2000-09-06 00:00:00-04:00</th>\n",
       "      <td>274.200012</td>\n",
       "      <td>274.200012</td>\n",
       "      <td>274.200012</td>\n",
       "      <td>274.200012</td>\n",
       "      <td>0</td>\n",
       "    </tr>\n",
       "    <tr>\n",
       "      <th>...</th>\n",
       "      <td>...</td>\n",
       "      <td>...</td>\n",
       "      <td>...</td>\n",
       "      <td>...</td>\n",
       "      <td>...</td>\n",
       "    </tr>\n",
       "    <tr>\n",
       "      <th>2024-04-17 00:00:00-04:00</th>\n",
       "      <td>2384.199951</td>\n",
       "      <td>2391.399902</td>\n",
       "      <td>2369.300049</td>\n",
       "      <td>2371.699951</td>\n",
       "      <td>37</td>\n",
       "    </tr>\n",
       "    <tr>\n",
       "      <th>2024-04-18 00:00:00-04:00</th>\n",
       "      <td>2368.399902</td>\n",
       "      <td>2384.399902</td>\n",
       "      <td>2368.399902</td>\n",
       "      <td>2382.300049</td>\n",
       "      <td>128</td>\n",
       "    </tr>\n",
       "    <tr>\n",
       "      <th>2024-04-19 00:00:00-04:00</th>\n",
       "      <td>2379.300049</td>\n",
       "      <td>2399.800049</td>\n",
       "      <td>2377.300049</td>\n",
       "      <td>2398.399902</td>\n",
       "      <td>160</td>\n",
       "    </tr>\n",
       "    <tr>\n",
       "      <th>2024-04-22 00:00:00-04:00</th>\n",
       "      <td>2383.300049</td>\n",
       "      <td>2383.300049</td>\n",
       "      <td>2326.899902</td>\n",
       "      <td>2332.199951</td>\n",
       "      <td>160</td>\n",
       "    </tr>\n",
       "    <tr>\n",
       "      <th>2024-04-23 00:00:00-04:00</th>\n",
       "      <td>2342.300049</td>\n",
       "      <td>2347.899902</td>\n",
       "      <td>2304.600098</td>\n",
       "      <td>2324.500000</td>\n",
       "      <td>149944</td>\n",
       "    </tr>\n",
       "  </tbody>\n",
       "</table>\n",
       "<p>5933 rows × 5 columns</p>\n",
       "</div>"
      ],
      "text/plain": [
       "                                  Open         High          Low        Close  \\\n",
       "Date                                                                            \n",
       "2000-08-30 00:00:00-04:00   273.899994   273.899994   273.899994   273.899994   \n",
       "2000-08-31 00:00:00-04:00   274.799988   278.299988   274.799988   278.299988   \n",
       "2000-09-01 00:00:00-04:00   277.000000   277.000000   277.000000   277.000000   \n",
       "2000-09-05 00:00:00-04:00   275.799988   275.799988   275.799988   275.799988   \n",
       "2000-09-06 00:00:00-04:00   274.200012   274.200012   274.200012   274.200012   \n",
       "...                                ...          ...          ...          ...   \n",
       "2024-04-17 00:00:00-04:00  2384.199951  2391.399902  2369.300049  2371.699951   \n",
       "2024-04-18 00:00:00-04:00  2368.399902  2384.399902  2368.399902  2382.300049   \n",
       "2024-04-19 00:00:00-04:00  2379.300049  2399.800049  2377.300049  2398.399902   \n",
       "2024-04-22 00:00:00-04:00  2383.300049  2383.300049  2326.899902  2332.199951   \n",
       "2024-04-23 00:00:00-04:00  2342.300049  2347.899902  2304.600098  2324.500000   \n",
       "\n",
       "                           Volume  \n",
       "Date                               \n",
       "2000-08-30 00:00:00-04:00       0  \n",
       "2000-08-31 00:00:00-04:00       0  \n",
       "2000-09-01 00:00:00-04:00       0  \n",
       "2000-09-05 00:00:00-04:00       2  \n",
       "2000-09-06 00:00:00-04:00       0  \n",
       "...                           ...  \n",
       "2024-04-17 00:00:00-04:00      37  \n",
       "2024-04-18 00:00:00-04:00     128  \n",
       "2024-04-19 00:00:00-04:00     160  \n",
       "2024-04-22 00:00:00-04:00     160  \n",
       "2024-04-23 00:00:00-04:00  149944  \n",
       "\n",
       "[5933 rows x 5 columns]"
      ]
     },
     "execution_count": 4,
     "metadata": {},
     "output_type": "execute_result"
    }
   ],
   "source": [
    "# removing dividends and stock splits columns\n",
    "infy_df.drop(columns=[\"Dividends\", \"Stock Splits\"])\n",
    "\n",
    "# removing last 30 days data\n",
    "# df = infy_df[infy_df.index < infy_df.index[-1] - pd.Timedelta(30, 'D')]"
   ]
  },
  {
   "cell_type": "code",
   "execution_count": 5,
   "metadata": {},
   "outputs": [
    {
     "data": {
      "text/plain": [
       "[<matplotlib.lines.Line2D at 0x212a64b4290>,\n",
       " <matplotlib.lines.Line2D at 0x212a637be50>,\n",
       " <matplotlib.lines.Line2D at 0x212a64dc590>,\n",
       " <matplotlib.lines.Line2D at 0x212a64dc990>,\n",
       " <matplotlib.lines.Line2D at 0x212a64dcc90>,\n",
       " <matplotlib.lines.Line2D at 0x212a6331150>,\n",
       " <matplotlib.lines.Line2D at 0x212a64dd610>]"
      ]
     },
     "execution_count": 5,
     "metadata": {},
     "output_type": "execute_result"
    },
    {
     "data": {
      "image/png": "[encoded data removed]",
      "text/plain": [
       "<Figure size 640x480 with 1 Axes>"
      ]
     },
     "metadata": {},
     "output_type": "display_data"
    }
   ],
   "source": [
    "# plotting the stock\n",
    "plt.plot(infy_df)"
   ]
  },
  {
   "cell_type": "code",
   "execution_count": 6,
   "metadata": {},
   "outputs": [
    {
     "data": {
      "text/plain": [
       "Date\n",
       "2000-08-30 00:00:00-04:00     273.899994\n",
       "2000-08-31 00:00:00-04:00     278.299988\n",
       "2000-09-01 00:00:00-04:00     277.000000\n",
       "2000-09-05 00:00:00-04:00     275.799988\n",
       "2000-09-06 00:00:00-04:00     274.200012\n",
       "                                ...     \n",
       "2024-04-17 00:00:00-04:00    2371.699951\n",
       "2024-04-18 00:00:00-04:00    2382.300049\n",
       "2024-04-19 00:00:00-04:00    2398.399902\n",
       "2024-04-22 00:00:00-04:00    2332.199951\n",
       "2024-04-23 00:00:00-04:00    2324.500000\n",
       "Name: Close, Length: 5933, dtype: float64"
      ]
     },
     "execution_count": 6,
     "metadata": {},
     "output_type": "execute_result"
    }
   ],
   "source": [
    "close_data_infy = infy_df[\"Close\"]\n",
    "\n",
    "close_data_infy"
   ]
  },
  {
   "cell_type": "code",
   "execution_count": 7,
   "metadata": {},
   "outputs": [
    {
     "data": {
      "text/plain": [
       "[<matplotlib.lines.Line2D at 0x212a6144050>]"
      ]
     },
     "execution_count": 7,
     "metadata": {},
     "output_type": "execute_result"
    },
    {
     "data": {
      "image/png": "[encoded data removed]",
      "text/plain": [
       "<Figure size 640x480 with 1 Axes>"
      ]
     },
     "metadata": {},
     "output_type": "display_data"
    }
   ],
   "source": [
    "# plotting the price of stock on closing time\n",
    "plt.plot(close_data_infy)"
   ]
  },
  {
   "cell_type": "code",
   "execution_count": 8,
   "metadata": {},
   "outputs": [],
   "source": [
    "# real-valued data to discreet-valued data\n",
    "scaler = MinMaxScaler(feature_range=(0, 1))\n",
    "df = scaler.fit_transform(np.array(close_data_infy).reshape(-1, 1))"
   ]
  },
  {
   "cell_type": "code",
   "execution_count": 9,
   "metadata": {},
   "outputs": [
    {
     "data": {
      "text/plain": [
       "array([[0.00877152],\n",
       "       [0.01082442],\n",
       "       [0.01021789],\n",
       "       ...,\n",
       "       [1.        ],\n",
       "       [0.96911307],\n",
       "       [0.9655205 ]])"
      ]
     },
     "execution_count": 9,
     "metadata": {},
     "output_type": "execute_result"
    }
   ],
   "source": [
    "df"
   ]
  },
  {
   "cell_type": "code",
   "execution_count": 10,
   "metadata": {},
   "outputs": [
    {
     "name": "stdout",
     "output_type": "stream",
     "text": [
      "Training size: 4153 and testing size: 1780\n"
     ]
    }
   ],
   "source": [
    "# dividing data into training and testing sets\n",
    "training_size = int(len(df)*0.7)\n",
    "testing_size = int(len(df)) - training_size\n",
    "\n",
    "print(f\"Training size: {training_size} and testing size: {testing_size}\")"
   ]
  },
  {
   "cell_type": "code",
   "execution_count": 11,
   "metadata": {},
   "outputs": [],
   "source": [
    "training_data, testing_data = df[0:training_size:], df[training_size:len(df):]"
   ]
  },
  {
   "cell_type": "code",
   "execution_count": 12,
   "metadata": {},
   "outputs": [
    {
     "data": {
      "text/plain": [
       "array([[0.00877152],\n",
       "       [0.01082442],\n",
       "       [0.01021789],\n",
       "       ...,\n",
       "       [0.4627444 ],\n",
       "       [0.4633509 ],\n",
       "       [0.46671024]])"
      ]
     },
     "execution_count": 12,
     "metadata": {},
     "output_type": "execute_result"
    }
   ],
   "source": [
    "training_data"
   ]
  },
  {
   "cell_type": "code",
   "execution_count": 13,
   "metadata": {},
   "outputs": [
    {
     "data": {
      "text/plain": [
       "array([[0.4666636 ],\n",
       "       [0.4657771 ],\n",
       "       [0.4618579 ],\n",
       "       ...,\n",
       "       [1.        ],\n",
       "       [0.96911307],\n",
       "       [0.9655205 ]])"
      ]
     },
     "execution_count": 13,
     "metadata": {},
     "output_type": "execute_result"
    }
   ],
   "source": [
    "testing_data"
   ]
  },
  {
   "cell_type": "code",
   "execution_count": 14,
   "metadata": {},
   "outputs": [
    {
     "name": "stdout",
     "output_type": "stream",
     "text": [
      "Length of training set: 4153, calculated length: 4153\n",
      "Length of testing set: 1780, calculated length: 1780\n"
     ]
    }
   ],
   "source": [
    "print(f\"Length of training set: {len(training_data)}, calculated length: {training_size}\")\n",
    "print(f\"Length of testing set: {len(testing_data)}, calculated length: {testing_size}\")"
   ]
  },
  {
   "cell_type": "code",
   "execution_count": 15,
   "metadata": {},
   "outputs": [],
   "source": [
    "# creating datasets for predictions\n",
    "def create_datasets(dataset, timesteps=1):\n",
    "    data_x, data_y = [], []\n",
    "\n",
    "    for i in range(len(dataset)-timesteps):\n",
    "        data = dataset[i:(timesteps+i), 0]\n",
    "        data_x.append(data)\n",
    "        prev_data = dataset[i+timesteps, 0]\n",
    "        data_y.append(prev_data)\n",
    "\n",
    "    return np.array(data_x), np.array(data_y)"
   ]
  },
  {
   "cell_type": "code",
   "execution_count": 16,
   "metadata": {},
   "outputs": [],
   "source": [
    "train_x, train_y = create_datasets(training_data, 250)\n",
    "test_x, test_y = create_datasets(testing_data, 250)"
   ]
  },
  {
   "cell_type": "code",
   "execution_count": 44,
   "metadata": {},
   "outputs": [
    {
     "data": {
      "text/plain": [
       "(array([[[0.00877152],\n",
       "         [0.01082442],\n",
       "         [0.01021789],\n",
       "         ...,\n",
       "         [0.00811832],\n",
       "         [0.00816498],\n",
       "         [0.008025  ]],\n",
       " \n",
       "        [[0.01082442],\n",
       "         [0.01021789],\n",
       "         [0.009658  ],\n",
       "         ...,\n",
       "         [0.00816498],\n",
       "         [0.008025  ],\n",
       "         [0.00867821]],\n",
       " \n",
       "        [[0.01021789],\n",
       "         [0.009658  ],\n",
       "         [0.00891149],\n",
       "         ...,\n",
       "         [0.008025  ],\n",
       "         [0.00867821],\n",
       "         [0.00947137]],\n",
       " \n",
       "        ...,\n",
       " \n",
       "        [[0.45191993],\n",
       "         [0.45084686],\n",
       "         [0.450147  ],\n",
       "         ...,\n",
       "         [0.45653899],\n",
       "         [0.46237112],\n",
       "         [0.46386418]],\n",
       " \n",
       "        [[0.45084686],\n",
       "         [0.450147  ],\n",
       "         [0.45747213],\n",
       "         ...,\n",
       "         [0.46237112],\n",
       "         [0.46386418],\n",
       "         [0.4627444 ]],\n",
       " \n",
       "        [[0.450147  ],\n",
       "         [0.45747213],\n",
       "         [0.45341299],\n",
       "         ...,\n",
       "         [0.46386418],\n",
       "         [0.4627444 ],\n",
       "         [0.4633509 ]]]),\n",
       " array([0.00867821, 0.00947137, 0.0090048 , ..., 0.4627444 , 0.4633509 ,\n",
       "        0.46671024]))"
      ]
     },
     "execution_count": 44,
     "metadata": {},
     "output_type": "execute_result"
    }
   ],
   "source": [
    "train_x, train_y"
   ]
  },
  {
   "cell_type": "code",
   "execution_count": 42,
   "metadata": {},
   "outputs": [
    {
     "data": {
      "text/plain": [
       "(array([[[0.4666636 ],\n",
       "         [0.4657771 ],\n",
       "         [0.4618579 ],\n",
       "         ...,\n",
       "         [0.49993002],\n",
       "         [0.5105212 ],\n",
       "         [0.5129007 ]],\n",
       " \n",
       "        [[0.4657771 ],\n",
       "         [0.4618579 ],\n",
       "         [0.46293104],\n",
       "         ...,\n",
       "         [0.5105212 ],\n",
       "         [0.5129007 ],\n",
       "         [0.50678864]],\n",
       " \n",
       "        [[0.4618579 ],\n",
       "         [0.46293104],\n",
       "         [0.46456403],\n",
       "         ...,\n",
       "         [0.5129007 ],\n",
       "         [0.50678864],\n",
       "         [0.49881024]],\n",
       " \n",
       "        ...,\n",
       " \n",
       "        [[0.80903282],\n",
       "         [0.81131903],\n",
       "         [0.80744647],\n",
       "         ...,\n",
       "         [0.99645413],\n",
       "         [0.9875426 ],\n",
       "         [0.99248829]],\n",
       " \n",
       "        [[0.81131903],\n",
       "         [0.80744647],\n",
       "         [0.8094061 ],\n",
       "         ...,\n",
       "         [0.9875426 ],\n",
       "         [0.99248829],\n",
       "         [1.        ]],\n",
       " \n",
       "        [[0.80744647],\n",
       "         [0.8094061 ],\n",
       "         [0.8094994 ],\n",
       "         ...,\n",
       "         [0.99248829],\n",
       "         [1.        ],\n",
       "         [0.96911307]]]),\n",
       " array([0.50678864, 0.49881024, 0.49815709, ..., 1.        , 0.96911307,\n",
       "        0.9655205 ]))"
      ]
     },
     "execution_count": 42,
     "metadata": {},
     "output_type": "execute_result"
    }
   ],
   "source": [
    "test_x, test_y"
   ]
  },
  {
   "cell_type": "code",
   "execution_count": 28,
   "metadata": {},
   "outputs": [],
   "source": [
    "model = load_model('lstm_model.keras')"
   ]
  },
  {
   "cell_type": "code",
   "execution_count": 45,
   "metadata": {},
   "outputs": [
    {
     "name": "stdout",
     "output_type": "stream",
     "text": [
      "\u001b[1m48/48\u001b[0m \u001b[32m━━━━━━━━━━━━━━━━━━━━\u001b[0m\u001b[37m\u001b[0m \u001b[1m6s\u001b[0m 115ms/step\n",
      "\u001b[1m122/122\u001b[0m \u001b[32m━━━━━━━━━━━━━━━━━━━━\u001b[0m\u001b[37m\u001b[0m \u001b[1m14s\u001b[0m 112ms/step\n"
     ]
    }
   ],
   "source": [
    "test_y_pred = model.predict(test_x)\n",
    "train_y_pred = model.predict(train_x)"
   ]
  },
  {
   "cell_type": "code",
   "execution_count": 30,
   "metadata": {},
   "outputs": [
    {
     "data": {
      "text/plain": [
       "array([0.50678864, 0.49881024, 0.49815709, ..., 1.        , 0.96911307,\n",
       "       0.9655205 ])"
      ]
     },
     "execution_count": 30,
     "metadata": {},
     "output_type": "execute_result"
    }
   ],
   "source": [
    "test_y"
   ]
  },
  {
   "cell_type": "code",
   "execution_count": 31,
   "metadata": {},
   "outputs": [
    {
     "data": {
      "text/plain": [
       "array([[0.5101544 ],\n",
       "       [0.50426817],\n",
       "       [0.49626315],\n",
       "       ...,\n",
       "       [0.9754574 ],\n",
       "       [0.9811296 ],\n",
       "       [0.945751  ]], dtype=float32)"
      ]
     },
     "execution_count": 31,
     "metadata": {},
     "output_type": "execute_result"
    }
   ],
   "source": [
    "test_y_pred"
   ]
  },
  {
   "cell_type": "code",
   "execution_count": 47,
   "metadata": {},
   "outputs": [],
   "source": [
    "y_test = scaler.fit_transform(test_y.reshape(-1, 1))\n",
    "y_test_pred = scaler.fit_transform(test_y_pred.reshape(-1, 1))"
   ]
  },
  {
   "cell_type": "code",
   "execution_count": 48,
   "metadata": {},
   "outputs": [],
   "source": [
    "y_train = scaler.fit_transform(train_y.reshape(-1, 1))\n",
    "y_train_pred = scaler.fit_transform(train_y_pred.reshape(-1, 1))"
   ]
  },
  {
   "cell_type": "code",
   "execution_count": 49,
   "metadata": {},
   "outputs": [],
   "source": [
    "y_test_binary = (y_test > 0.5).astype(int)\n",
    "y_test_pred_binary = (test_y_pred > 0.5).astype(int)\n",
    "y_train_binary = (y_train > 0.5).astype(int)\n",
    "y_train_pred_binary = (train_y_pred > 0.5).astype(int)"
   ]
  },
  {
   "cell_type": "code",
   "execution_count": 50,
   "metadata": {},
   "outputs": [],
   "source": [
    "acc_test = accuracy_score(y_test_binary, y_test_pred_binary)\n",
    "acc_train = accuracy_score(y_train_binary, y_train_pred_binary)"
   ]
  },
  {
   "cell_type": "code",
   "execution_count": 51,
   "metadata": {},
   "outputs": [
    {
     "data": {
      "text/plain": [
       "(0.6679738562091503, 0.7271329746348962)"
      ]
     },
     "execution_count": 51,
     "metadata": {},
     "output_type": "execute_result"
    }
   ],
   "source": [
    "(acc_test, acc_train)"
   ]
  },
  {
   "cell_type": "code",
   "execution_count": 52,
   "metadata": {},
   "outputs": [],
   "source": [
    "pres_test = precision_score(y_test_binary, y_test_pred_binary)\n",
    "pres_train = precision_score(y_train_binary, y_train_pred_binary)"
   ]
  },
  {
   "cell_type": "code",
   "execution_count": 53,
   "metadata": {},
   "outputs": [
    {
     "data": {
      "text/plain": [
       "(0.5913113435237329, 1.0)"
      ]
     },
     "execution_count": 53,
     "metadata": {},
     "output_type": "execute_result"
    }
   ],
   "source": [
    "(pres_test, pres_train)"
   ]
  },
  {
   "cell_type": "code",
   "execution_count": 55,
   "metadata": {},
   "outputs": [],
   "source": [
    "rec_test = recall_score(y_test_binary, y_test_pred_binary)\n",
    "rec_train = recall_score(y_train_binary, y_train_pred_binary)"
   ]
  },
  {
   "cell_type": "code",
   "execution_count": 56,
   "metadata": {},
   "outputs": [
    {
     "data": {
      "text/plain": [
       "(1.0, 0.4154774972557629)"
      ]
     },
     "execution_count": 56,
     "metadata": {},
     "output_type": "execute_result"
    }
   ],
   "source": [
    "(rec_test, rec_train)"
   ]
  },
  {
   "cell_type": "code",
   "execution_count": 57,
   "metadata": {},
   "outputs": [],
   "source": [
    "f1_test = f1_score(y_test_binary, y_test_pred_binary)\n",
    "f1_train = f1_score(y_train_binary, y_train_pred_binary)"
   ]
  },
  {
   "cell_type": "code",
   "execution_count": 58,
   "metadata": {},
   "outputs": [
    {
     "data": {
      "text/plain": [
       "(0.7431749241658241, 0.5870492438929817)"
      ]
     },
     "execution_count": 58,
     "metadata": {},
     "output_type": "execute_result"
    }
   ],
   "source": [
    "(f1_test, f1_train)"
   ]
  },
  {
   "cell_type": "code",
   "execution_count": 90,
   "metadata": {},
   "outputs": [],
   "source": [
    "mse_test = mean_squared_error(y_test_binary, y_test_pred_binary)\n",
    "mse_train = mean_squared_error(y_train_binary, y_train_pred_binary)"
   ]
  },
  {
   "cell_type": "code",
   "execution_count": 95,
   "metadata": {},
   "outputs": [
    {
     "data": {
      "text/plain": [
       "(<tf.Tensor: shape=(1530,), dtype=float32, numpy=array([1., 1., 0., ..., 0., 0., 0.], dtype=float32)>,\n",
       " <tf.Tensor: shape=(3903,), dtype=float32, numpy=array([0., 0., 0., ..., 1., 1., 1.], dtype=float32)>)"
      ]
     },
     "execution_count": 95,
     "metadata": {},
     "output_type": "execute_result"
    }
   ],
   "source": [
    "(mse_test, mse_train)"
   ]
  },
  {
   "cell_type": "code",
   "execution_count": 92,
   "metadata": {},
   "outputs": [],
   "source": [
    "rmse_test = root_mean_squared_error(y_test_binary, y_test_pred_binary)\n",
    "rmse_train = root_mean_squared_error(y_train_binary, y_train_pred_binary)"
   ]
  },
  {
   "cell_type": "code",
   "execution_count": 93,
   "metadata": {},
   "outputs": [
    {
     "data": {
      "text/plain": [
       "(0.5762170977946156, 0.5223667536942831)"
      ]
     },
     "execution_count": 93,
     "metadata": {},
     "output_type": "execute_result"
    }
   ],
   "source": [
    "(rmse_test, rmse_train)"
   ]
  },
  {
   "cell_type": "code",
   "execution_count": 59,
   "metadata": {},
   "outputs": [],
   "source": [
    "r2_test = r2_score(y_test_binary, y_test_pred_binary)\n",
    "r2_train = r2_score(y_train_binary, y_train_pred_binary)"
   ]
  },
  {
   "cell_type": "code",
   "execution_count": 60,
   "metadata": {},
   "outputs": [
    {
     "data": {
      "text/plain": [
       "(-0.3301501732768577, -0.09629568871252192)"
      ]
     },
     "execution_count": 60,
     "metadata": {},
     "output_type": "execute_result"
    }
   ],
   "source": [
    "(r2_test, r2_train)"
   ]
  },
  {
   "cell_type": "code",
   "execution_count": 61,
   "metadata": {},
   "outputs": [],
   "source": [
    "cm_test = confusion_matrix(y_test_binary, y_test_pred_binary)\n",
    "cm_train = confusion_matrix(y_train_binary, y_train_pred_binary)"
   ]
  },
  {
   "cell_type": "code",
   "execution_count": 62,
   "metadata": {},
   "outputs": [
    {
     "data": {
      "text/plain": [
       "array([[287, 508],\n",
       "       [  0, 735]], dtype=int64)"
      ]
     },
     "execution_count": 62,
     "metadata": {},
     "output_type": "execute_result"
    }
   ],
   "source": [
    "cm_test"
   ]
  },
  {
   "cell_type": "code",
   "execution_count": 63,
   "metadata": {},
   "outputs": [
    {
     "data": {
      "text/plain": [
       "array([[2081,    0],\n",
       "       [1065,  757]], dtype=int64)"
      ]
     },
     "execution_count": 63,
     "metadata": {},
     "output_type": "execute_result"
    }
   ],
   "source": [
    "cm_train"
   ]
  },
  {
   "cell_type": "code",
   "execution_count": 64,
   "metadata": {},
   "outputs": [],
   "source": [
    "def plotCM(cm):\n",
    "    plt.figure(figsize=(8, 6))\n",
    "    sns.heatmap(cm, annot=True, fmt='d', cmap='Blues', xticklabels=['0', '1'], yticklabels=['0', '1'])\n",
    "    plt.xlabel('Predicted')\n",
    "    plt.ylabel('True')\n",
    "    plt.title('Confusion Matrix')\n",
    "    plt.show()"
   ]
  },
  {
   "cell_type": "code",
   "execution_count": 65,
   "metadata": {},
   "outputs": [
    {
     "data": {
      "image/png": "[encoded data removed]",
      "text/plain": [
       "<Figure size 800x600 with 2 Axes>"
      ]
     },
     "metadata": {},
     "output_type": "display_data"
    }
   ],
   "source": [
    "plotCM(cm_test)"
   ]
  },
  {
   "cell_type": "code",
   "execution_count": 66,
   "metadata": {},
   "outputs": [
    {
     "data": {
      "image/png": "[encoded data removed]",
      "text/plain": [
       "<Figure size 800x600 with 2 Axes>"
      ]
     },
     "metadata": {},
     "output_type": "display_data"
    }
   ],
   "source": [
    "plotCM(cm_train)"
   ]
  },
  {
   "cell_type": "code",
   "execution_count": 19,
   "metadata": {},
   "outputs": [
    {
     "data": {
      "text/plain": [
       "((3903, 250), (3903,))"
      ]
     },
     "execution_count": 19,
     "metadata": {},
     "output_type": "execute_result"
    }
   ],
   "source": [
    "train_x.shape, train_y.shape"
   ]
  },
  {
   "cell_type": "code",
   "execution_count": 20,
   "metadata": {},
   "outputs": [],
   "source": [
    "# reshape data into (batch size, timesteps, features)\n",
    "train_x = train_x.reshape(train_x.shape[0], train_x.shape[1], 1)\n",
    "test_x = test_x.reshape(test_x.shape[0], test_x.shape[1], 1)"
   ]
  },
  {
   "cell_type": "code",
   "execution_count": 21,
   "metadata": {},
   "outputs": [
    {
     "data": {
      "text/plain": [
       "array([[[0.00877152],\n",
       "        [0.01082442],\n",
       "        [0.01021789],\n",
       "        ...,\n",
       "        [0.00811832],\n",
       "        [0.00816498],\n",
       "        [0.008025  ]],\n",
       "\n",
       "       [[0.01082442],\n",
       "        [0.01021789],\n",
       "        [0.009658  ],\n",
       "        ...,\n",
       "        [0.00816498],\n",
       "        [0.008025  ],\n",
       "        [0.00867821]],\n",
       "\n",
       "       [[0.01021789],\n",
       "        [0.009658  ],\n",
       "        [0.00891149],\n",
       "        ...,\n",
       "        [0.008025  ],\n",
       "        [0.00867821],\n",
       "        [0.00947137]],\n",
       "\n",
       "       ...,\n",
       "\n",
       "       [[0.45191993],\n",
       "        [0.45084686],\n",
       "        [0.450147  ],\n",
       "        ...,\n",
       "        [0.45653899],\n",
       "        [0.46237112],\n",
       "        [0.46386418]],\n",
       "\n",
       "       [[0.45084686],\n",
       "        [0.450147  ],\n",
       "        [0.45747213],\n",
       "        ...,\n",
       "        [0.46237112],\n",
       "        [0.46386418],\n",
       "        [0.4627444 ]],\n",
       "\n",
       "       [[0.450147  ],\n",
       "        [0.45747213],\n",
       "        [0.45341299],\n",
       "        ...,\n",
       "        [0.46386418],\n",
       "        [0.4627444 ],\n",
       "        [0.4633509 ]]])"
      ]
     },
     "execution_count": 21,
     "metadata": {},
     "output_type": "execute_result"
    }
   ],
   "source": [
    "train_x"
   ]
  },
  {
   "cell_type": "code",
   "execution_count": 22,
   "metadata": {},
   "outputs": [
    {
     "name": "stderr",
     "output_type": "stream",
     "text": [
      "c:\\Users\\Mehul\\CODES\\StockPrediction-Minor\\myenv\\Lib\\site-packages\\keras\\src\\layers\\rnn\\rnn.py:204: UserWarning: Do not pass an `input_shape`/`input_dim` argument to a layer. When using Sequential models, prefer using an `Input(shape)` object as the first layer in the model instead.\n",
      "  super().__init__(**kwargs)\n"
     ]
    }
   ],
   "source": [
    "# building LSTM Model\n",
    "model = Sequential()\n",
    "model.add(LSTM(50, return_sequences=True, input_shape=(100, 1)))\n",
    "model.add(LSTM(50, return_sequences=True))\n",
    "model.add(LSTM(50))\n",
    "model.add(Dense(1))"
   ]
  },
  {
   "cell_type": "code",
   "execution_count": 23,
   "metadata": {},
   "outputs": [
    {
     "data": {
      "text/html": [
       "<pre style=\"white-space:pre;overflow-x:auto;line-height:normal;font-family:Menlo,'DejaVu Sans Mono',consolas,'Courier New',monospace\"><span style=\"font-weight: bold\">Model: \"sequential\"</span>\n",
       "</pre>\n"
      ],
      "text/plain": [
       "\u001b[1mModel: \"sequential\"\u001b[0m\n"
      ]
     },
     "metadata": {},
     "output_type": "display_data"
    },
    {
     "data": {
      "text/html": [
       "<pre style=\"white-space:pre;overflow-x:auto;line-height:normal;font-family:Menlo,'DejaVu Sans Mono',consolas,'Courier New',monospace\">┏━━━━━━━━━━━━━━━━━━━━━━━━━━━━━━━━━┳━━━━━━━━━━━━━━━━━━━━━━━━┳━━━━━━━━━━━━━━━┓\n",
       "┃<span style=\"font-weight: bold\"> Layer (type)                    </span>┃<span style=\"font-weight: bold\"> Output Shape           </span>┃<span style=\"font-weight: bold\">       Param # </span>┃\n",
       "┡━━━━━━━━━━━━━━━━━━━━━━━━━━━━━━━━━╇━━━━━━━━━━━━━━━━━━━━━━━━╇━━━━━━━━━━━━━━━┩\n",
       "│ lstm (<span style=\"color: #0087ff; text-decoration-color: #0087ff\">LSTM</span>)                     │ (<span style=\"color: #00d7ff; text-decoration-color: #00d7ff\">None</span>, <span style=\"color: #00af00; text-decoration-color: #00af00\">100</span>, <span style=\"color: #00af00; text-decoration-color: #00af00\">50</span>)        │        <span style=\"color: #00af00; text-decoration-color: #00af00\">10,400</span> │\n",
       "├─────────────────────────────────┼────────────────────────┼───────────────┤\n",
       "│ lstm_1 (<span style=\"color: #0087ff; text-decoration-color: #0087ff\">LSTM</span>)                   │ (<span style=\"color: #00d7ff; text-decoration-color: #00d7ff\">None</span>, <span style=\"color: #00af00; text-decoration-color: #00af00\">100</span>, <span style=\"color: #00af00; text-decoration-color: #00af00\">50</span>)        │        <span style=\"color: #00af00; text-decoration-color: #00af00\">20,200</span> │\n",
       "├─────────────────────────────────┼────────────────────────┼───────────────┤\n",
       "│ lstm_2 (<span style=\"color: #0087ff; text-decoration-color: #0087ff\">LSTM</span>)                   │ (<span style=\"color: #00d7ff; text-decoration-color: #00d7ff\">None</span>, <span style=\"color: #00af00; text-decoration-color: #00af00\">50</span>)             │        <span style=\"color: #00af00; text-decoration-color: #00af00\">20,200</span> │\n",
       "├─────────────────────────────────┼────────────────────────┼───────────────┤\n",
       "│ dense (<span style=\"color: #0087ff; text-decoration-color: #0087ff\">Dense</span>)                   │ (<span style=\"color: #00d7ff; text-decoration-color: #00d7ff\">None</span>, <span style=\"color: #00af00; text-decoration-color: #00af00\">1</span>)              │            <span style=\"color: #00af00; text-decoration-color: #00af00\">51</span> │\n",
       "└─────────────────────────────────┴────────────────────────┴───────────────┘\n",
       "</pre>\n"
      ],
      "text/plain": [
       "┏━━━━━━━━━━━━━━━━━━━━━━━━━━━━━━━━━┳━━━━━━━━━━━━━━━━━━━━━━━━┳━━━━━━━━━━━━━━━┓\n",
       "┃\u001b[1m \u001b[0m\u001b[1mLayer (type)                   \u001b[0m\u001b[1m \u001b[0m┃\u001b[1m \u001b[0m\u001b[1mOutput Shape          \u001b[0m\u001b[1m \u001b[0m┃\u001b[1m \u001b[0m\u001b[1m      Param #\u001b[0m\u001b[1m \u001b[0m┃\n",
       "┡━━━━━━━━━━━━━━━━━━━━━━━━━━━━━━━━━╇━━━━━━━━━━━━━━━━━━━━━━━━╇━━━━━━━━━━━━━━━┩\n",
       "│ lstm (\u001b[38;5;33mLSTM\u001b[0m)                     │ (\u001b[38;5;45mNone\u001b[0m, \u001b[38;5;34m100\u001b[0m, \u001b[38;5;34m50\u001b[0m)        │        \u001b[38;5;34m10,400\u001b[0m │\n",
       "├─────────────────────────────────┼────────────────────────┼───────────────┤\n",
       "│ lstm_1 (\u001b[38;5;33mLSTM\u001b[0m)                   │ (\u001b[38;5;45mNone\u001b[0m, \u001b[38;5;34m100\u001b[0m, \u001b[38;5;34m50\u001b[0m)        │        \u001b[38;5;34m20,200\u001b[0m │\n",
       "├─────────────────────────────────┼────────────────────────┼───────────────┤\n",
       "│ lstm_2 (\u001b[38;5;33mLSTM\u001b[0m)                   │ (\u001b[38;5;45mNone\u001b[0m, \u001b[38;5;34m50\u001b[0m)             │        \u001b[38;5;34m20,200\u001b[0m │\n",
       "├─────────────────────────────────┼────────────────────────┼───────────────┤\n",
       "│ dense (\u001b[38;5;33mDense\u001b[0m)                   │ (\u001b[38;5;45mNone\u001b[0m, \u001b[38;5;34m1\u001b[0m)              │            \u001b[38;5;34m51\u001b[0m │\n",
       "└─────────────────────────────────┴────────────────────────┴───────────────┘\n"
      ]
     },
     "metadata": {},
     "output_type": "display_data"
    },
    {
     "data": {
      "text/html": [
       "<pre style=\"white-space:pre;overflow-x:auto;line-height:normal;font-family:Menlo,'DejaVu Sans Mono',consolas,'Courier New',monospace\"><span style=\"font-weight: bold\"> Total params: </span><span style=\"color: #00af00; text-decoration-color: #00af00\">50,851</span> (198.64 KB)\n",
       "</pre>\n"
      ],
      "text/plain": [
       "\u001b[1m Total params: \u001b[0m\u001b[38;5;34m50,851\u001b[0m (198.64 KB)\n"
      ]
     },
     "metadata": {},
     "output_type": "display_data"
    },
    {
     "data": {
      "text/html": [
       "<pre style=\"white-space:pre;overflow-x:auto;line-height:normal;font-family:Menlo,'DejaVu Sans Mono',consolas,'Courier New',monospace\"><span style=\"font-weight: bold\"> Trainable params: </span><span style=\"color: #00af00; text-decoration-color: #00af00\">50,851</span> (198.64 KB)\n",
       "</pre>\n"
      ],
      "text/plain": [
       "\u001b[1m Trainable params: \u001b[0m\u001b[38;5;34m50,851\u001b[0m (198.64 KB)\n"
      ]
     },
     "metadata": {},
     "output_type": "display_data"
    },
    {
     "data": {
      "text/html": [
       "<pre style=\"white-space:pre;overflow-x:auto;line-height:normal;font-family:Menlo,'DejaVu Sans Mono',consolas,'Courier New',monospace\"><span style=\"font-weight: bold\"> Non-trainable params: </span><span style=\"color: #00af00; text-decoration-color: #00af00\">0</span> (0.00 B)\n",
       "</pre>\n"
      ],
      "text/plain": [
       "\u001b[1m Non-trainable params: \u001b[0m\u001b[38;5;34m0\u001b[0m (0.00 B)\n"
      ]
     },
     "metadata": {},
     "output_type": "display_data"
    }
   ],
   "source": [
    "model.summary()"
   ]
  },
  {
   "cell_type": "code",
   "execution_count": 24,
   "metadata": {},
   "outputs": [],
   "source": [
    "# train model\n",
    "model.compile(optimizer=\"adam\", loss=\"mean_squared_error\", metrics=[\"accuracy\"])"
   ]
  },
  {
   "cell_type": "code",
   "execution_count": 25,
   "metadata": {},
   "outputs": [
    {
     "name": "stdout",
     "output_type": "stream",
     "text": [
      "Epoch 1/100\n",
      "\u001b[1m61/61\u001b[0m \u001b[32m━━━━━━━━━━━━━━━━━━━━\u001b[0m\u001b[37m\u001b[0m \u001b[1m19s\u001b[0m 260ms/step - accuracy: 0.0000e+00 - loss: 0.0294 - val_accuracy: 6.5359e-04 - val_loss: 0.0015\n",
      "Epoch 2/100\n",
      "\u001b[1m61/61\u001b[0m \u001b[32m━━━━━━━━━━━━━━━━━━━━\u001b[0m\u001b[37m\u001b[0m \u001b[1m15s\u001b[0m 254ms/step - accuracy: 0.0000e+00 - loss: 3.4460e-04 - val_accuracy: 6.5359e-04 - val_loss: 0.0010\n",
      "Epoch 3/100\n",
      "\u001b[1m61/61\u001b[0m \u001b[32m━━━━━━━━━━━━━━━━━━━━\u001b[0m\u001b[37m\u001b[0m \u001b[1m16s\u001b[0m 269ms/step - accuracy: 0.0000e+00 - loss: 3.0344e-04 - val_accuracy: 6.5359e-04 - val_loss: 7.9599e-04\n",
      "Epoch 4/100\n",
      "\u001b[1m61/61\u001b[0m \u001b[32m━━━━━━━━━━━━━━━━━━━━\u001b[0m\u001b[37m\u001b[0m \u001b[1m16s\u001b[0m 269ms/step - accuracy: 0.0000e+00 - loss: 2.9566e-04 - val_accuracy: 6.5359e-04 - val_loss: 6.5121e-04\n",
      "Epoch 5/100\n",
      "\u001b[1m61/61\u001b[0m \u001b[32m━━━━━━━━━━━━━━━━━━━━\u001b[0m\u001b[37m\u001b[0m \u001b[1m16s\u001b[0m 266ms/step - accuracy: 0.0000e+00 - loss: 2.9520e-04 - val_accuracy: 6.5359e-04 - val_loss: 6.7990e-04\n",
      "Epoch 6/100\n",
      "\u001b[1m61/61\u001b[0m \u001b[32m━━━━━━━━━━━━━━━━━━━━\u001b[0m\u001b[37m\u001b[0m \u001b[1m17s\u001b[0m 275ms/step - accuracy: 0.0000e+00 - loss: 2.6462e-04 - val_accuracy: 6.5359e-04 - val_loss: 5.1599e-04\n",
      "Epoch 7/100\n",
      "\u001b[1m61/61\u001b[0m \u001b[32m━━━━━━━━━━━━━━━━━━━━\u001b[0m\u001b[37m\u001b[0m \u001b[1m19s\u001b[0m 316ms/step - accuracy: 0.0000e+00 - loss: 2.7671e-04 - val_accuracy: 6.5359e-04 - val_loss: 7.0226e-04\n",
      "Epoch 8/100\n",
      "\u001b[1m61/61\u001b[0m \u001b[32m━━━━━━━━━━━━━━━━━━━━\u001b[0m\u001b[37m\u001b[0m \u001b[1m18s\u001b[0m 301ms/step - accuracy: 0.0000e+00 - loss: 2.9267e-04 - val_accuracy: 6.5359e-04 - val_loss: 5.9001e-04\n",
      "Epoch 9/100\n",
      "\u001b[1m61/61\u001b[0m \u001b[32m━━━━━━━━━━━━━━━━━━━━\u001b[0m\u001b[37m\u001b[0m \u001b[1m18s\u001b[0m 302ms/step - accuracy: 0.0000e+00 - loss: 2.5236e-04 - val_accuracy: 6.5359e-04 - val_loss: 4.2655e-04\n",
      "Epoch 10/100\n",
      "\u001b[1m61/61\u001b[0m \u001b[32m━━━━━━━━━━━━━━━━━━━━\u001b[0m\u001b[37m\u001b[0m \u001b[1m18s\u001b[0m 299ms/step - accuracy: 0.0000e+00 - loss: 2.4689e-04 - val_accuracy: 6.5359e-04 - val_loss: 3.9866e-04\n",
      "Epoch 11/100\n",
      "\u001b[1m61/61\u001b[0m \u001b[32m━━━━━━━━━━━━━━━━━━━━\u001b[0m\u001b[37m\u001b[0m \u001b[1m16s\u001b[0m 270ms/step - accuracy: 0.0000e+00 - loss: 2.2373e-04 - val_accuracy: 6.5359e-04 - val_loss: 7.5896e-04\n",
      "Epoch 12/100\n",
      "\u001b[1m61/61\u001b[0m \u001b[32m━━━━━━━━━━━━━━━━━━━━\u001b[0m\u001b[37m\u001b[0m \u001b[1m16s\u001b[0m 267ms/step - accuracy: 0.0000e+00 - loss: 2.6063e-04 - val_accuracy: 6.5359e-04 - val_loss: 4.5396e-04\n",
      "Epoch 13/100\n",
      "\u001b[1m61/61\u001b[0m \u001b[32m━━━━━━━━━━━━━━━━━━━━\u001b[0m\u001b[37m\u001b[0m \u001b[1m16s\u001b[0m 269ms/step - accuracy: 0.0000e+00 - loss: 2.2447e-04 - val_accuracy: 6.5359e-04 - val_loss: 3.8607e-04\n",
      "Epoch 14/100\n",
      "\u001b[1m61/61\u001b[0m \u001b[32m━━━━━━━━━━━━━━━━━━━━\u001b[0m\u001b[37m\u001b[0m \u001b[1m16s\u001b[0m 267ms/step - accuracy: 0.0000e+00 - loss: 1.8022e-04 - val_accuracy: 6.5359e-04 - val_loss: 3.1911e-04\n",
      "Epoch 15/100\n",
      "\u001b[1m61/61\u001b[0m \u001b[32m━━━━━━━━━━━━━━━━━━━━\u001b[0m\u001b[37m\u001b[0m \u001b[1m17s\u001b[0m 283ms/step - accuracy: 0.0000e+00 - loss: 2.1403e-04 - val_accuracy: 6.5359e-04 - val_loss: 3.6896e-04\n",
      "Epoch 16/100\n",
      "\u001b[1m61/61\u001b[0m \u001b[32m━━━━━━━━━━━━━━━━━━━━\u001b[0m\u001b[37m\u001b[0m \u001b[1m20s\u001b[0m 330ms/step - accuracy: 0.0000e+00 - loss: 1.7853e-04 - val_accuracy: 6.5359e-04 - val_loss: 2.6629e-04\n",
      "Epoch 17/100\n",
      "\u001b[1m61/61\u001b[0m \u001b[32m━━━━━━━━━━━━━━━━━━━━\u001b[0m\u001b[37m\u001b[0m \u001b[1m20s\u001b[0m 330ms/step - accuracy: 0.0000e+00 - loss: 1.7240e-04 - val_accuracy: 6.5359e-04 - val_loss: 6.6425e-04\n",
      "Epoch 18/100\n",
      "\u001b[1m61/61\u001b[0m \u001b[32m━━━━━━━━━━━━━━━━━━━━\u001b[0m\u001b[37m\u001b[0m \u001b[1m20s\u001b[0m 331ms/step - accuracy: 0.0000e+00 - loss: 2.2282e-04 - val_accuracy: 6.5359e-04 - val_loss: 2.5594e-04\n",
      "Epoch 19/100\n",
      "\u001b[1m61/61\u001b[0m \u001b[32m━━━━━━━━━━━━━━━━━━━━\u001b[0m\u001b[37m\u001b[0m \u001b[1m17s\u001b[0m 275ms/step - accuracy: 0.0000e+00 - loss: 1.6426e-04 - val_accuracy: 6.5359e-04 - val_loss: 4.3441e-04\n",
      "Epoch 20/100\n",
      "\u001b[1m61/61\u001b[0m \u001b[32m━━━━━━━━━━━━━━━━━━━━\u001b[0m\u001b[37m\u001b[0m \u001b[1m16s\u001b[0m 270ms/step - accuracy: 0.0000e+00 - loss: 1.4390e-04 - val_accuracy: 6.5359e-04 - val_loss: 2.8171e-04\n",
      "Epoch 21/100\n",
      "\u001b[1m61/61\u001b[0m \u001b[32m━━━━━━━━━━━━━━━━━━━━\u001b[0m\u001b[37m\u001b[0m \u001b[1m17s\u001b[0m 271ms/step - accuracy: 0.0000e+00 - loss: 1.5529e-04 - val_accuracy: 6.5359e-04 - val_loss: 3.1614e-04\n",
      "Epoch 22/100\n",
      "\u001b[1m61/61\u001b[0m \u001b[32m━━━━━━━━━━━━━━━━━━━━\u001b[0m\u001b[37m\u001b[0m \u001b[1m27s\u001b[0m 437ms/step - accuracy: 0.0000e+00 - loss: 1.4055e-04 - val_accuracy: 6.5359e-04 - val_loss: 4.4293e-04\n",
      "Epoch 23/100\n",
      "\u001b[1m61/61\u001b[0m \u001b[32m━━━━━━━━━━━━━━━━━━━━\u001b[0m\u001b[37m\u001b[0m \u001b[1m29s\u001b[0m 474ms/step - accuracy: 0.0000e+00 - loss: 1.7644e-04 - val_accuracy: 6.5359e-04 - val_loss: 2.2126e-04\n",
      "Epoch 24/100\n",
      "\u001b[1m61/61\u001b[0m \u001b[32m━━━━━━━━━━━━━━━━━━━━\u001b[0m\u001b[37m\u001b[0m \u001b[1m29s\u001b[0m 468ms/step - accuracy: 0.0000e+00 - loss: 1.3004e-04 - val_accuracy: 6.5359e-04 - val_loss: 3.1352e-04\n",
      "Epoch 25/100\n",
      "\u001b[1m61/61\u001b[0m \u001b[32m━━━━━━━━━━━━━━━━━━━━\u001b[0m\u001b[37m\u001b[0m \u001b[1m27s\u001b[0m 449ms/step - accuracy: 0.0000e+00 - loss: 1.4292e-04 - val_accuracy: 6.5359e-04 - val_loss: 1.9491e-04\n",
      "Epoch 26/100\n",
      "\u001b[1m61/61\u001b[0m \u001b[32m━━━━━━━━━━━━━━━━━━━━\u001b[0m\u001b[37m\u001b[0m \u001b[1m27s\u001b[0m 450ms/step - accuracy: 0.0000e+00 - loss: 1.2514e-04 - val_accuracy: 6.5359e-04 - val_loss: 1.7536e-04\n",
      "Epoch 27/100\n",
      "\u001b[1m61/61\u001b[0m \u001b[32m━━━━━━━━━━━━━━━━━━━━\u001b[0m\u001b[37m\u001b[0m \u001b[1m27s\u001b[0m 450ms/step - accuracy: 0.0000e+00 - loss: 1.4530e-04 - val_accuracy: 6.5359e-04 - val_loss: 2.9631e-04\n",
      "Epoch 28/100\n",
      "\u001b[1m61/61\u001b[0m \u001b[32m━━━━━━━━━━━━━━━━━━━━\u001b[0m\u001b[37m\u001b[0m \u001b[1m27s\u001b[0m 450ms/step - accuracy: 0.0000e+00 - loss: 1.4439e-04 - val_accuracy: 6.5359e-04 - val_loss: 1.6417e-04\n",
      "Epoch 29/100\n",
      "\u001b[1m61/61\u001b[0m \u001b[32m━━━━━━━━━━━━━━━━━━━━\u001b[0m\u001b[37m\u001b[0m \u001b[1m45s\u001b[0m 516ms/step - accuracy: 0.0000e+00 - loss: 1.5629e-04 - val_accuracy: 6.5359e-04 - val_loss: 2.0042e-04\n",
      "Epoch 30/100\n",
      "\u001b[1m61/61\u001b[0m \u001b[32m━━━━━━━━━━━━━━━━━━━━\u001b[0m\u001b[37m\u001b[0m \u001b[1m35s\u001b[0m 580ms/step - accuracy: 0.0000e+00 - loss: 1.3672e-04 - val_accuracy: 6.5359e-04 - val_loss: 1.5754e-04\n",
      "Epoch 31/100\n",
      "\u001b[1m61/61\u001b[0m \u001b[32m━━━━━━━━━━━━━━━━━━━━\u001b[0m\u001b[37m\u001b[0m \u001b[1m34s\u001b[0m 552ms/step - accuracy: 0.0000e+00 - loss: 1.1206e-04 - val_accuracy: 6.5359e-04 - val_loss: 1.5495e-04\n",
      "Epoch 32/100\n",
      "\u001b[1m61/61\u001b[0m \u001b[32m━━━━━━━━━━━━━━━━━━━━\u001b[0m\u001b[37m\u001b[0m \u001b[1m34s\u001b[0m 553ms/step - accuracy: 0.0000e+00 - loss: 1.1159e-04 - val_accuracy: 6.5359e-04 - val_loss: 1.8550e-04\n",
      "Epoch 33/100\n",
      "\u001b[1m61/61\u001b[0m \u001b[32m━━━━━━━━━━━━━━━━━━━━\u001b[0m\u001b[37m\u001b[0m \u001b[1m34s\u001b[0m 554ms/step - accuracy: 0.0000e+00 - loss: 1.1042e-04 - val_accuracy: 6.5359e-04 - val_loss: 1.4491e-04\n",
      "Epoch 34/100\n",
      "\u001b[1m61/61\u001b[0m \u001b[32m━━━━━━━━━━━━━━━━━━━━\u001b[0m\u001b[37m\u001b[0m \u001b[1m34s\u001b[0m 555ms/step - accuracy: 0.0000e+00 - loss: 1.0539e-04 - val_accuracy: 6.5359e-04 - val_loss: 1.7391e-04\n",
      "Epoch 35/100\n",
      "\u001b[1m61/61\u001b[0m \u001b[32m━━━━━━━━━━━━━━━━━━━━\u001b[0m\u001b[37m\u001b[0m \u001b[1m33s\u001b[0m 549ms/step - accuracy: 0.0000e+00 - loss: 1.2839e-04 - val_accuracy: 6.5359e-04 - val_loss: 1.3522e-04\n",
      "Epoch 36/100\n",
      "\u001b[1m61/61\u001b[0m \u001b[32m━━━━━━━━━━━━━━━━━━━━\u001b[0m\u001b[37m\u001b[0m \u001b[1m34s\u001b[0m 557ms/step - accuracy: 0.0000e+00 - loss: 1.0892e-04 - val_accuracy: 6.5359e-04 - val_loss: 2.9916e-04\n",
      "Epoch 37/100\n",
      "\u001b[1m61/61\u001b[0m \u001b[32m━━━━━━━━━━━━━━━━━━━━\u001b[0m\u001b[37m\u001b[0m \u001b[1m34s\u001b[0m 556ms/step - accuracy: 0.0000e+00 - loss: 1.2004e-04 - val_accuracy: 6.5359e-04 - val_loss: 1.2820e-04\n",
      "Epoch 38/100\n",
      "\u001b[1m61/61\u001b[0m \u001b[32m━━━━━━━━━━━━━━━━━━━━\u001b[0m\u001b[37m\u001b[0m \u001b[1m34s\u001b[0m 554ms/step - accuracy: 0.0000e+00 - loss: 8.7145e-05 - val_accuracy: 6.5359e-04 - val_loss: 1.5783e-04\n",
      "Epoch 39/100\n",
      "\u001b[1m61/61\u001b[0m \u001b[32m━━━━━━━━━━━━━━━━━━━━\u001b[0m\u001b[37m\u001b[0m \u001b[1m34s\u001b[0m 556ms/step - accuracy: 0.0000e+00 - loss: 9.3722e-05 - val_accuracy: 6.5359e-04 - val_loss: 1.2095e-04\n",
      "Epoch 40/100\n",
      "\u001b[1m61/61\u001b[0m \u001b[32m━━━━━━━━━━━━━━━━━━━━\u001b[0m\u001b[37m\u001b[0m \u001b[1m34s\u001b[0m 562ms/step - accuracy: 0.0000e+00 - loss: 8.1831e-05 - val_accuracy: 6.5359e-04 - val_loss: 1.4032e-04\n",
      "Epoch 41/100\n",
      "\u001b[1m61/61\u001b[0m \u001b[32m━━━━━━━━━━━━━━━━━━━━\u001b[0m\u001b[37m\u001b[0m \u001b[1m34s\u001b[0m 558ms/step - accuracy: 0.0000e+00 - loss: 7.6046e-05 - val_accuracy: 6.5359e-04 - val_loss: 1.2720e-04\n",
      "Epoch 42/100\n",
      "\u001b[1m61/61\u001b[0m \u001b[32m━━━━━━━━━━━━━━━━━━━━\u001b[0m\u001b[37m\u001b[0m \u001b[1m33s\u001b[0m 549ms/step - accuracy: 0.0000e+00 - loss: 8.5910e-05 - val_accuracy: 6.5359e-04 - val_loss: 1.1996e-04\n",
      "Epoch 43/100\n",
      "\u001b[1m61/61\u001b[0m \u001b[32m━━━━━━━━━━━━━━━━━━━━\u001b[0m\u001b[37m\u001b[0m \u001b[1m33s\u001b[0m 549ms/step - accuracy: 0.0000e+00 - loss: 7.9281e-05 - val_accuracy: 6.5359e-04 - val_loss: 1.4715e-04\n",
      "Epoch 44/100\n",
      "\u001b[1m61/61\u001b[0m \u001b[32m━━━━━━━━━━━━━━━━━━━━\u001b[0m\u001b[37m\u001b[0m \u001b[1m32s\u001b[0m 519ms/step - accuracy: 0.0000e+00 - loss: 8.4924e-05 - val_accuracy: 6.5359e-04 - val_loss: 2.3908e-04\n",
      "Epoch 45/100\n",
      "\u001b[1m61/61\u001b[0m \u001b[32m━━━━━━━━━━━━━━━━━━━━\u001b[0m\u001b[37m\u001b[0m \u001b[1m27s\u001b[0m 450ms/step - accuracy: 0.0000e+00 - loss: 7.2356e-05 - val_accuracy: 6.5359e-04 - val_loss: 1.5584e-04\n",
      "Epoch 46/100\n",
      "\u001b[1m61/61\u001b[0m \u001b[32m━━━━━━━━━━━━━━━━━━━━\u001b[0m\u001b[37m\u001b[0m \u001b[1m27s\u001b[0m 450ms/step - accuracy: 0.0000e+00 - loss: 7.1233e-05 - val_accuracy: 6.5359e-04 - val_loss: 9.5451e-05\n",
      "Epoch 47/100\n",
      "\u001b[1m61/61\u001b[0m \u001b[32m━━━━━━━━━━━━━━━━━━━━\u001b[0m\u001b[37m\u001b[0m \u001b[1m28s\u001b[0m 453ms/step - accuracy: 0.0000e+00 - loss: 7.5317e-05 - val_accuracy: 6.5359e-04 - val_loss: 9.7203e-05\n",
      "Epoch 48/100\n",
      "\u001b[1m61/61\u001b[0m \u001b[32m━━━━━━━━━━━━━━━━━━━━\u001b[0m\u001b[37m\u001b[0m \u001b[1m28s\u001b[0m 457ms/step - accuracy: 0.0000e+00 - loss: 7.3544e-05 - val_accuracy: 6.5359e-04 - val_loss: 3.2129e-04\n",
      "Epoch 49/100\n",
      "\u001b[1m61/61\u001b[0m \u001b[32m━━━━━━━━━━━━━━━━━━━━\u001b[0m\u001b[37m\u001b[0m \u001b[1m27s\u001b[0m 446ms/step - accuracy: 0.0000e+00 - loss: 7.1723e-05 - val_accuracy: 6.5359e-04 - val_loss: 1.7903e-04\n",
      "Epoch 50/100\n",
      "\u001b[1m61/61\u001b[0m \u001b[32m━━━━━━━━━━━━━━━━━━━━\u001b[0m\u001b[37m\u001b[0m \u001b[1m27s\u001b[0m 450ms/step - accuracy: 0.0000e+00 - loss: 8.4879e-05 - val_accuracy: 6.5359e-04 - val_loss: 9.2822e-05\n",
      "Epoch 51/100\n",
      "\u001b[1m61/61\u001b[0m \u001b[32m━━━━━━━━━━━━━━━━━━━━\u001b[0m\u001b[37m\u001b[0m \u001b[1m28s\u001b[0m 459ms/step - accuracy: 0.0000e+00 - loss: 6.8117e-05 - val_accuracy: 6.5359e-04 - val_loss: 1.0461e-04\n",
      "Epoch 52/100\n",
      "\u001b[1m61/61\u001b[0m \u001b[32m━━━━━━━━━━━━━━━━━━━━\u001b[0m\u001b[37m\u001b[0m \u001b[1m27s\u001b[0m 446ms/step - accuracy: 0.0000e+00 - loss: 6.4208e-05 - val_accuracy: 6.5359e-04 - val_loss: 9.2027e-05\n",
      "Epoch 53/100\n",
      "\u001b[1m61/61\u001b[0m \u001b[32m━━━━━━━━━━━━━━━━━━━━\u001b[0m\u001b[37m\u001b[0m \u001b[1m27s\u001b[0m 447ms/step - accuracy: 0.0000e+00 - loss: 6.2259e-05 - val_accuracy: 6.5359e-04 - val_loss: 8.3516e-05\n",
      "Epoch 54/100\n",
      "\u001b[1m61/61\u001b[0m \u001b[32m━━━━━━━━━━━━━━━━━━━━\u001b[0m\u001b[37m\u001b[0m \u001b[1m27s\u001b[0m 442ms/step - accuracy: 0.0000e+00 - loss: 6.5761e-05 - val_accuracy: 6.5359e-04 - val_loss: 7.9394e-05\n",
      "Epoch 55/100\n",
      "\u001b[1m61/61\u001b[0m \u001b[32m━━━━━━━━━━━━━━━━━━━━\u001b[0m\u001b[37m\u001b[0m \u001b[1m27s\u001b[0m 445ms/step - accuracy: 0.0000e+00 - loss: 5.6945e-05 - val_accuracy: 6.5359e-04 - val_loss: 1.2301e-04\n",
      "Epoch 56/100\n",
      "\u001b[1m61/61\u001b[0m \u001b[32m━━━━━━━━━━━━━━━━━━━━\u001b[0m\u001b[37m\u001b[0m \u001b[1m28s\u001b[0m 462ms/step - accuracy: 0.0000e+00 - loss: 6.7760e-05 - val_accuracy: 6.5359e-04 - val_loss: 8.1416e-05\n",
      "Epoch 57/100\n",
      "\u001b[1m61/61\u001b[0m \u001b[32m━━━━━━━━━━━━━━━━━━━━\u001b[0m\u001b[37m\u001b[0m \u001b[1m29s\u001b[0m 483ms/step - accuracy: 0.0000e+00 - loss: 5.2382e-05 - val_accuracy: 6.5359e-04 - val_loss: 8.9018e-05\n",
      "Epoch 58/100\n",
      "\u001b[1m61/61\u001b[0m \u001b[32m━━━━━━━━━━━━━━━━━━━━\u001b[0m\u001b[37m\u001b[0m \u001b[1m27s\u001b[0m 447ms/step - accuracy: 0.0000e+00 - loss: 5.6850e-05 - val_accuracy: 6.5359e-04 - val_loss: 7.5869e-05\n",
      "Epoch 59/100\n",
      "\u001b[1m61/61\u001b[0m \u001b[32m━━━━━━━━━━━━━━━━━━━━\u001b[0m\u001b[37m\u001b[0m \u001b[1m27s\u001b[0m 443ms/step - accuracy: 0.0000e+00 - loss: 7.0269e-05 - val_accuracy: 6.5359e-04 - val_loss: 1.1821e-04\n",
      "Epoch 60/100\n",
      "\u001b[1m61/61\u001b[0m \u001b[32m━━━━━━━━━━━━━━━━━━━━\u001b[0m\u001b[37m\u001b[0m \u001b[1m27s\u001b[0m 443ms/step - accuracy: 0.0000e+00 - loss: 6.4085e-05 - val_accuracy: 6.5359e-04 - val_loss: 9.8478e-05\n",
      "Epoch 61/100\n",
      "\u001b[1m61/61\u001b[0m \u001b[32m━━━━━━━━━━━━━━━━━━━━\u001b[0m\u001b[37m\u001b[0m \u001b[1m27s\u001b[0m 439ms/step - accuracy: 0.0000e+00 - loss: 5.0029e-05 - val_accuracy: 6.5359e-04 - val_loss: 7.1461e-05\n",
      "Epoch 62/100\n",
      "\u001b[1m61/61\u001b[0m \u001b[32m━━━━━━━━━━━━━━━━━━━━\u001b[0m\u001b[37m\u001b[0m \u001b[1m27s\u001b[0m 439ms/step - accuracy: 0.0000e+00 - loss: 5.3037e-05 - val_accuracy: 6.5359e-04 - val_loss: 1.3178e-04\n",
      "Epoch 63/100\n",
      "\u001b[1m61/61\u001b[0m \u001b[32m━━━━━━━━━━━━━━━━━━━━\u001b[0m\u001b[37m\u001b[0m \u001b[1m27s\u001b[0m 438ms/step - accuracy: 0.0000e+00 - loss: 5.4057e-05 - val_accuracy: 6.5359e-04 - val_loss: 2.2692e-04\n",
      "Epoch 64/100\n",
      "\u001b[1m61/61\u001b[0m \u001b[32m━━━━━━━━━━━━━━━━━━━━\u001b[0m\u001b[37m\u001b[0m \u001b[1m27s\u001b[0m 444ms/step - accuracy: 0.0000e+00 - loss: 4.9928e-05 - val_accuracy: 6.5359e-04 - val_loss: 1.6696e-04\n",
      "Epoch 65/100\n",
      "\u001b[1m61/61\u001b[0m \u001b[32m━━━━━━━━━━━━━━━━━━━━\u001b[0m\u001b[37m\u001b[0m \u001b[1m27s\u001b[0m 446ms/step - accuracy: 0.0000e+00 - loss: 5.4193e-05 - val_accuracy: 6.5359e-04 - val_loss: 1.5263e-04\n",
      "Epoch 66/100\n",
      "\u001b[1m61/61\u001b[0m \u001b[32m━━━━━━━━━━━━━━━━━━━━\u001b[0m\u001b[37m\u001b[0m \u001b[1m28s\u001b[0m 453ms/step - accuracy: 0.0000e+00 - loss: 5.2819e-05 - val_accuracy: 6.5359e-04 - val_loss: 8.0118e-05\n",
      "Epoch 67/100\n",
      "\u001b[1m61/61\u001b[0m \u001b[32m━━━━━━━━━━━━━━━━━━━━\u001b[0m\u001b[37m\u001b[0m \u001b[1m27s\u001b[0m 450ms/step - accuracy: 0.0000e+00 - loss: 6.0088e-05 - val_accuracy: 6.5359e-04 - val_loss: 6.9607e-05\n",
      "Epoch 68/100\n",
      "\u001b[1m61/61\u001b[0m \u001b[32m━━━━━━━━━━━━━━━━━━━━\u001b[0m\u001b[37m\u001b[0m \u001b[1m27s\u001b[0m 445ms/step - accuracy: 0.0000e+00 - loss: 1.0078e-04 - val_accuracy: 6.5359e-04 - val_loss: 9.8754e-05\n",
      "Epoch 69/100\n",
      "\u001b[1m61/61\u001b[0m \u001b[32m━━━━━━━━━━━━━━━━━━━━\u001b[0m\u001b[37m\u001b[0m \u001b[1m27s\u001b[0m 443ms/step - accuracy: 0.0000e+00 - loss: 4.4539e-05 - val_accuracy: 6.5359e-04 - val_loss: 7.3414e-05\n",
      "Epoch 70/100\n",
      "\u001b[1m61/61\u001b[0m \u001b[32m━━━━━━━━━━━━━━━━━━━━\u001b[0m\u001b[37m\u001b[0m \u001b[1m27s\u001b[0m 442ms/step - accuracy: 0.0000e+00 - loss: 4.9994e-05 - val_accuracy: 6.5359e-04 - val_loss: 9.4279e-05\n",
      "Epoch 71/100\n",
      "\u001b[1m61/61\u001b[0m \u001b[32m━━━━━━━━━━━━━━━━━━━━\u001b[0m\u001b[37m\u001b[0m \u001b[1m27s\u001b[0m 443ms/step - accuracy: 0.0000e+00 - loss: 5.0462e-05 - val_accuracy: 6.5359e-04 - val_loss: 7.6224e-05\n",
      "Epoch 72/100\n",
      "\u001b[1m61/61\u001b[0m \u001b[32m━━━━━━━━━━━━━━━━━━━━\u001b[0m\u001b[37m\u001b[0m \u001b[1m27s\u001b[0m 441ms/step - accuracy: 0.0000e+00 - loss: 5.0496e-05 - val_accuracy: 6.5359e-04 - val_loss: 1.2694e-04\n",
      "Epoch 73/100\n",
      "\u001b[1m61/61\u001b[0m \u001b[32m━━━━━━━━━━━━━━━━━━━━\u001b[0m\u001b[37m\u001b[0m \u001b[1m27s\u001b[0m 441ms/step - accuracy: 0.0000e+00 - loss: 5.0287e-05 - val_accuracy: 6.5359e-04 - val_loss: 7.5907e-05\n",
      "Epoch 74/100\n",
      "\u001b[1m61/61\u001b[0m \u001b[32m━━━━━━━━━━━━━━━━━━━━\u001b[0m\u001b[37m\u001b[0m \u001b[1m27s\u001b[0m 440ms/step - accuracy: 0.0000e+00 - loss: 4.7680e-05 - val_accuracy: 6.5359e-04 - val_loss: 9.4597e-05\n",
      "Epoch 75/100\n",
      "\u001b[1m61/61\u001b[0m \u001b[32m━━━━━━━━━━━━━━━━━━━━\u001b[0m\u001b[37m\u001b[0m \u001b[1m27s\u001b[0m 446ms/step - accuracy: 0.0000e+00 - loss: 4.8572e-05 - val_accuracy: 6.5359e-04 - val_loss: 7.5367e-05\n",
      "Epoch 76/100\n",
      "\u001b[1m61/61\u001b[0m \u001b[32m━━━━━━━━━━━━━━━━━━━━\u001b[0m\u001b[37m\u001b[0m \u001b[1m27s\u001b[0m 447ms/step - accuracy: 0.0000e+00 - loss: 4.6856e-05 - val_accuracy: 6.5359e-04 - val_loss: 1.8161e-04\n",
      "Epoch 77/100\n",
      "\u001b[1m61/61\u001b[0m \u001b[32m━━━━━━━━━━━━━━━━━━━━\u001b[0m\u001b[37m\u001b[0m \u001b[1m27s\u001b[0m 449ms/step - accuracy: 0.0000e+00 - loss: 6.0510e-05 - val_accuracy: 6.5359e-04 - val_loss: 6.3879e-05\n",
      "Epoch 78/100\n",
      "\u001b[1m61/61\u001b[0m \u001b[32m━━━━━━━━━━━━━━━━━━━━\u001b[0m\u001b[37m\u001b[0m \u001b[1m27s\u001b[0m 442ms/step - accuracy: 0.0000e+00 - loss: 4.4571e-05 - val_accuracy: 6.5359e-04 - val_loss: 7.3350e-05\n",
      "Epoch 79/100\n",
      "\u001b[1m61/61\u001b[0m \u001b[32m━━━━━━━━━━━━━━━━━━━━\u001b[0m\u001b[37m\u001b[0m \u001b[1m27s\u001b[0m 442ms/step - accuracy: 0.0000e+00 - loss: 4.1127e-05 - val_accuracy: 6.5359e-04 - val_loss: 1.3923e-04\n",
      "Epoch 80/100\n",
      "\u001b[1m61/61\u001b[0m \u001b[32m━━━━━━━━━━━━━━━━━━━━\u001b[0m\u001b[37m\u001b[0m \u001b[1m27s\u001b[0m 436ms/step - accuracy: 0.0000e+00 - loss: 5.2442e-05 - val_accuracy: 6.5359e-04 - val_loss: 7.4949e-05\n",
      "Epoch 81/100\n",
      "\u001b[1m61/61\u001b[0m \u001b[32m━━━━━━━━━━━━━━━━━━━━\u001b[0m\u001b[37m\u001b[0m \u001b[1m27s\u001b[0m 440ms/step - accuracy: 0.0000e+00 - loss: 4.7233e-05 - val_accuracy: 6.5359e-04 - val_loss: 6.6530e-05\n",
      "Epoch 82/100\n",
      "\u001b[1m61/61\u001b[0m \u001b[32m━━━━━━━━━━━━━━━━━━━━\u001b[0m\u001b[37m\u001b[0m \u001b[1m27s\u001b[0m 445ms/step - accuracy: 0.0000e+00 - loss: 4.9288e-05 - val_accuracy: 6.5359e-04 - val_loss: 1.1175e-04\n",
      "Epoch 83/100\n",
      "\u001b[1m61/61\u001b[0m \u001b[32m━━━━━━━━━━━━━━━━━━━━\u001b[0m\u001b[37m\u001b[0m \u001b[1m27s\u001b[0m 442ms/step - accuracy: 0.0000e+00 - loss: 4.5269e-05 - val_accuracy: 6.5359e-04 - val_loss: 1.4686e-04\n",
      "Epoch 84/100\n",
      "\u001b[1m61/61\u001b[0m \u001b[32m━━━━━━━━━━━━━━━━━━━━\u001b[0m\u001b[37m\u001b[0m \u001b[1m27s\u001b[0m 446ms/step - accuracy: 0.0000e+00 - loss: 4.7699e-05 - val_accuracy: 6.5359e-04 - val_loss: 1.1259e-04\n",
      "Epoch 85/100\n",
      "\u001b[1m61/61\u001b[0m \u001b[32m━━━━━━━━━━━━━━━━━━━━\u001b[0m\u001b[37m\u001b[0m \u001b[1m29s\u001b[0m 468ms/step - accuracy: 0.0000e+00 - loss: 5.3008e-05 - val_accuracy: 6.5359e-04 - val_loss: 6.3114e-05\n",
      "Epoch 86/100\n",
      "\u001b[1m61/61\u001b[0m \u001b[32m━━━━━━━━━━━━━━━━━━━━\u001b[0m\u001b[37m\u001b[0m \u001b[1m28s\u001b[0m 467ms/step - accuracy: 0.0000e+00 - loss: 4.1717e-05 - val_accuracy: 6.5359e-04 - val_loss: 1.3051e-04\n",
      "Epoch 87/100\n",
      "\u001b[1m61/61\u001b[0m \u001b[32m━━━━━━━━━━━━━━━━━━━━\u001b[0m\u001b[37m\u001b[0m \u001b[1m28s\u001b[0m 458ms/step - accuracy: 0.0000e+00 - loss: 4.9701e-05 - val_accuracy: 6.5359e-04 - val_loss: 1.5966e-04\n",
      "Epoch 88/100\n",
      "\u001b[1m61/61\u001b[0m \u001b[32m━━━━━━━━━━━━━━━━━━━━\u001b[0m\u001b[37m\u001b[0m \u001b[1m27s\u001b[0m 442ms/step - accuracy: 0.0000e+00 - loss: 5.0453e-05 - val_accuracy: 6.5359e-04 - val_loss: 1.2466e-04\n",
      "Epoch 89/100\n",
      "\u001b[1m61/61\u001b[0m \u001b[32m━━━━━━━━━━━━━━━━━━━━\u001b[0m\u001b[37m\u001b[0m \u001b[1m27s\u001b[0m 439ms/step - accuracy: 0.0000e+00 - loss: 4.1852e-05 - val_accuracy: 6.5359e-04 - val_loss: 8.0644e-05\n",
      "Epoch 90/100\n",
      "\u001b[1m61/61\u001b[0m \u001b[32m━━━━━━━━━━━━━━━━━━━━\u001b[0m\u001b[37m\u001b[0m \u001b[1m27s\u001b[0m 445ms/step - accuracy: 0.0000e+00 - loss: 3.9426e-05 - val_accuracy: 6.5359e-04 - val_loss: 6.3097e-05\n",
      "Epoch 91/100\n",
      "\u001b[1m61/61\u001b[0m \u001b[32m━━━━━━━━━━━━━━━━━━━━\u001b[0m\u001b[37m\u001b[0m \u001b[1m27s\u001b[0m 445ms/step - accuracy: 0.0000e+00 - loss: 4.1850e-05 - val_accuracy: 6.5359e-04 - val_loss: 6.7373e-05\n",
      "Epoch 92/100\n",
      "\u001b[1m61/61\u001b[0m \u001b[32m━━━━━━━━━━━━━━━━━━━━\u001b[0m\u001b[37m\u001b[0m \u001b[1m41s\u001b[0m 448ms/step - accuracy: 0.0000e+00 - loss: 3.9447e-05 - val_accuracy: 6.5359e-04 - val_loss: 6.1692e-05\n",
      "Epoch 93/100\n",
      "\u001b[1m61/61\u001b[0m \u001b[32m━━━━━━━━━━━━━━━━━━━━\u001b[0m\u001b[37m\u001b[0m \u001b[1m30s\u001b[0m 501ms/step - accuracy: 0.0000e+00 - loss: 4.6455e-05 - val_accuracy: 6.5359e-04 - val_loss: 6.5912e-05\n",
      "Epoch 94/100\n",
      "\u001b[1m61/61\u001b[0m \u001b[32m━━━━━━━━━━━━━━━━━━━━\u001b[0m\u001b[37m\u001b[0m \u001b[1m32s\u001b[0m 524ms/step - accuracy: 0.0000e+00 - loss: 4.8415e-05 - val_accuracy: 6.5359e-04 - val_loss: 7.9559e-05\n",
      "Epoch 95/100\n",
      "\u001b[1m61/61\u001b[0m \u001b[32m━━━━━━━━━━━━━━━━━━━━\u001b[0m\u001b[37m\u001b[0m \u001b[1m32s\u001b[0m 522ms/step - accuracy: 0.0000e+00 - loss: 4.2801e-05 - val_accuracy: 6.5359e-04 - val_loss: 1.0242e-04\n",
      "Epoch 96/100\n",
      "\u001b[1m61/61\u001b[0m \u001b[32m━━━━━━━━━━━━━━━━━━━━\u001b[0m\u001b[37m\u001b[0m \u001b[1m32s\u001b[0m 523ms/step - accuracy: 0.0000e+00 - loss: 4.7105e-05 - val_accuracy: 6.5359e-04 - val_loss: 7.0510e-05\n",
      "Epoch 97/100\n",
      "\u001b[1m61/61\u001b[0m \u001b[32m━━━━━━━━━━━━━━━━━━━━\u001b[0m\u001b[37m\u001b[0m \u001b[1m29s\u001b[0m 473ms/step - accuracy: 0.0000e+00 - loss: 4.3642e-05 - val_accuracy: 6.5359e-04 - val_loss: 3.2865e-04\n",
      "Epoch 98/100\n",
      "\u001b[1m61/61\u001b[0m \u001b[32m━━━━━━━━━━━━━━━━━━━━\u001b[0m\u001b[37m\u001b[0m \u001b[1m27s\u001b[0m 442ms/step - accuracy: 0.0000e+00 - loss: 4.6893e-05 - val_accuracy: 6.5359e-04 - val_loss: 8.4739e-05\n",
      "Epoch 99/100\n",
      "\u001b[1m61/61\u001b[0m \u001b[32m━━━━━━━━━━━━━━━━━━━━\u001b[0m\u001b[37m\u001b[0m \u001b[1m27s\u001b[0m 441ms/step - accuracy: 0.0000e+00 - loss: 4.8253e-05 - val_accuracy: 6.5359e-04 - val_loss: 7.1902e-05\n",
      "Epoch 100/100\n",
      "\u001b[1m61/61\u001b[0m \u001b[32m━━━━━━━━━━━━━━━━━━━━\u001b[0m\u001b[37m\u001b[0m \u001b[1m28s\u001b[0m 455ms/step - accuracy: 0.0000e+00 - loss: 5.4199e-05 - val_accuracy: 6.5359e-04 - val_loss: 1.0625e-04\n"
     ]
    },
    {
     "data": {
      "text/plain": [
       "<keras.src.callbacks.history.History at 0x212a654eed0>"
      ]
     },
     "execution_count": 25,
     "metadata": {},
     "output_type": "execute_result"
    }
   ],
   "source": [
    "model.fit(train_x, train_y, validation_data=(test_x, test_y), epochs=100, batch_size=64, verbose=1)"
   ]
  },
  {
   "cell_type": "code",
   "execution_count": 26,
   "metadata": {},
   "outputs": [
    {
     "ename": "AttributeError",
     "evalue": "Can't pickle local object 'Layer._initializer_tracker.<locals>.<lambda>'",
     "output_type": "error",
     "traceback": [
      "\u001b[1;31m---------------------------------------------------------------------------\u001b[0m",
      "\u001b[1;31mAttributeError\u001b[0m                            Traceback (most recent call last)",
      "Cell \u001b[1;32mIn[26], line 2\u001b[0m\n\u001b[0;32m      1\u001b[0m \u001b[38;5;28;01mwith\u001b[39;00m \u001b[38;5;28mopen\u001b[39m(\u001b[38;5;124m'\u001b[39m\u001b[38;5;124mlstm_model.pkl\u001b[39m\u001b[38;5;124m'\u001b[39m, \u001b[38;5;124m'\u001b[39m\u001b[38;5;124mwb\u001b[39m\u001b[38;5;124m'\u001b[39m) \u001b[38;5;28;01mas\u001b[39;00m file:\n\u001b[1;32m----> 2\u001b[0m     \u001b[43mpickle\u001b[49m\u001b[38;5;241;43m.\u001b[39;49m\u001b[43mdump\u001b[49m\u001b[43m(\u001b[49m\u001b[43mmodel\u001b[49m\u001b[43m,\u001b[49m\u001b[43m \u001b[49m\u001b[43mfile\u001b[49m\u001b[43m)\u001b[49m\n",
      "\u001b[1;31mAttributeError\u001b[0m: Can't pickle local object 'Layer._initializer_tracker.<locals>.<lambda>'"
     ]
    }
   ],
   "source": [
    "with open('lstm_model.pkl', 'wb') as file:\n",
    "    pickle.dump(model, file)"
   ]
  },
  {
   "cell_type": "code",
   "execution_count": 27,
   "metadata": {},
   "outputs": [],
   "source": [
    "model.save('lstm_model.keras')"
   ]
  },
  {
   "cell_type": "code",
   "execution_count": 96,
   "metadata": {},
   "outputs": [
    {
     "name": "stdout",
     "output_type": "stream",
     "text": [
      "\u001b[1m122/122\u001b[0m \u001b[32m━━━━━━━━━━━━━━━━━━━━\u001b[0m\u001b[37m\u001b[0m \u001b[1m8s\u001b[0m 64ms/step\n",
      "\u001b[1m48/48\u001b[0m \u001b[32m━━━━━━━━━━━━━━━━━━━━\u001b[0m\u001b[37m\u001b[0m \u001b[1m3s\u001b[0m 65ms/step\n"
     ]
    }
   ],
   "source": [
    "# predicting data\n",
    "train_predict = model.predict(train_x)\n",
    "test_predict = model.predict(test_x)"
   ]
  },
  {
   "cell_type": "code",
   "execution_count": null,
   "metadata": {},
   "outputs": [],
   "source": []
  },
  {
   "cell_type": "code",
   "execution_count": 97,
   "metadata": {},
   "outputs": [
    {
     "data": {
      "text/plain": [
       "array([[1],\n",
       "       [1],\n",
       "       [0],\n",
       "       ...,\n",
       "       [1],\n",
       "       [1],\n",
       "       [1]])"
      ]
     },
     "execution_count": 97,
     "metadata": {},
     "output_type": "execute_result"
    }
   ],
   "source": [
    "y_pred_classes = (test_predict > 0.5).astype(int)\n",
    "y_pred_classes"
   ]
  },
  {
   "cell_type": "code",
   "execution_count": 98,
   "metadata": {},
   "outputs": [
    {
     "ename": "ValueError",
     "evalue": "Expected 2D array, got 1D array instead:\narray=[0.50678864 0.49881024 0.49815709 ... 1.         0.96911307 0.9655205 ].\nReshape your data either using array.reshape(-1, 1) if your data has a single feature or array.reshape(1, -1) if it contains a single sample.",
     "output_type": "error",
     "traceback": [
      "\u001b[1;31m---------------------------------------------------------------------------\u001b[0m",
      "\u001b[1;31mValueError\u001b[0m                                Traceback (most recent call last)",
      "Cell \u001b[1;32mIn[98], line 1\u001b[0m\n\u001b[1;32m----> 1\u001b[0m t \u001b[38;5;241m=\u001b[39m \u001b[43mscaler\u001b[49m\u001b[38;5;241;43m.\u001b[39;49m\u001b[43minverse_transform\u001b[49m\u001b[43m(\u001b[49m\u001b[43mtest_y\u001b[49m\u001b[43m)\u001b[49m\n",
      "File \u001b[1;32mc:\\Users\\Mehul\\CODES\\StockPrediction-Minor\\myenv\\Lib\\site-packages\\sklearn\\preprocessing\\_data.py:565\u001b[0m, in \u001b[0;36mMinMaxScaler.inverse_transform\u001b[1;34m(self, X)\u001b[0m\n\u001b[0;32m    561\u001b[0m check_is_fitted(\u001b[38;5;28mself\u001b[39m)\n\u001b[0;32m    563\u001b[0m xp, _ \u001b[38;5;241m=\u001b[39m get_namespace(X)\n\u001b[1;32m--> 565\u001b[0m X \u001b[38;5;241m=\u001b[39m \u001b[43mcheck_array\u001b[49m\u001b[43m(\u001b[49m\n\u001b[0;32m    566\u001b[0m \u001b[43m    \u001b[49m\u001b[43mX\u001b[49m\u001b[43m,\u001b[49m\n\u001b[0;32m    567\u001b[0m \u001b[43m    \u001b[49m\u001b[43mcopy\u001b[49m\u001b[38;5;241;43m=\u001b[39;49m\u001b[38;5;28;43mself\u001b[39;49m\u001b[38;5;241;43m.\u001b[39;49m\u001b[43mcopy\u001b[49m\u001b[43m,\u001b[49m\n\u001b[0;32m    568\u001b[0m \u001b[43m    \u001b[49m\u001b[43mdtype\u001b[49m\u001b[38;5;241;43m=\u001b[39;49m\u001b[43m_array_api\u001b[49m\u001b[38;5;241;43m.\u001b[39;49m\u001b[43msupported_float_dtypes\u001b[49m\u001b[43m(\u001b[49m\u001b[43mxp\u001b[49m\u001b[43m)\u001b[49m\u001b[43m,\u001b[49m\n\u001b[0;32m    569\u001b[0m \u001b[43m    \u001b[49m\u001b[43mforce_all_finite\u001b[49m\u001b[38;5;241;43m=\u001b[39;49m\u001b[38;5;124;43m\"\u001b[39;49m\u001b[38;5;124;43mallow-nan\u001b[39;49m\u001b[38;5;124;43m\"\u001b[39;49m\u001b[43m,\u001b[49m\n\u001b[0;32m    570\u001b[0m \u001b[43m\u001b[49m\u001b[43m)\u001b[49m\n\u001b[0;32m    572\u001b[0m X \u001b[38;5;241m-\u001b[39m\u001b[38;5;241m=\u001b[39m \u001b[38;5;28mself\u001b[39m\u001b[38;5;241m.\u001b[39mmin_\n\u001b[0;32m    573\u001b[0m X \u001b[38;5;241m/\u001b[39m\u001b[38;5;241m=\u001b[39m \u001b[38;5;28mself\u001b[39m\u001b[38;5;241m.\u001b[39mscale_\n",
      "File \u001b[1;32mc:\\Users\\Mehul\\CODES\\StockPrediction-Minor\\myenv\\Lib\\site-packages\\sklearn\\utils\\validation.py:1035\u001b[0m, in \u001b[0;36mcheck_array\u001b[1;34m(array, accept_sparse, accept_large_sparse, dtype, order, copy, force_all_finite, ensure_2d, allow_nd, ensure_min_samples, ensure_min_features, estimator, input_name)\u001b[0m\n\u001b[0;32m   1028\u001b[0m         \u001b[38;5;28;01melse\u001b[39;00m:\n\u001b[0;32m   1029\u001b[0m             msg \u001b[38;5;241m=\u001b[39m (\n\u001b[0;32m   1030\u001b[0m                 \u001b[38;5;124mf\u001b[39m\u001b[38;5;124m\"\u001b[39m\u001b[38;5;124mExpected 2D array, got 1D array instead:\u001b[39m\u001b[38;5;130;01m\\n\u001b[39;00m\u001b[38;5;124marray=\u001b[39m\u001b[38;5;132;01m{\u001b[39;00marray\u001b[38;5;132;01m}\u001b[39;00m\u001b[38;5;124m.\u001b[39m\u001b[38;5;130;01m\\n\u001b[39;00m\u001b[38;5;124m\"\u001b[39m\n\u001b[0;32m   1031\u001b[0m                 \u001b[38;5;124m\"\u001b[39m\u001b[38;5;124mReshape your data either using array.reshape(-1, 1) if \u001b[39m\u001b[38;5;124m\"\u001b[39m\n\u001b[0;32m   1032\u001b[0m                 \u001b[38;5;124m\"\u001b[39m\u001b[38;5;124myour data has a single feature or array.reshape(1, -1) \u001b[39m\u001b[38;5;124m\"\u001b[39m\n\u001b[0;32m   1033\u001b[0m                 \u001b[38;5;124m\"\u001b[39m\u001b[38;5;124mif it contains a single sample.\u001b[39m\u001b[38;5;124m\"\u001b[39m\n\u001b[0;32m   1034\u001b[0m             )\n\u001b[1;32m-> 1035\u001b[0m         \u001b[38;5;28;01mraise\u001b[39;00m \u001b[38;5;167;01mValueError\u001b[39;00m(msg)\n\u001b[0;32m   1037\u001b[0m \u001b[38;5;28;01mif\u001b[39;00m dtype_numeric \u001b[38;5;129;01mand\u001b[39;00m \u001b[38;5;28mhasattr\u001b[39m(array\u001b[38;5;241m.\u001b[39mdtype, \u001b[38;5;124m\"\u001b[39m\u001b[38;5;124mkind\u001b[39m\u001b[38;5;124m\"\u001b[39m) \u001b[38;5;129;01mand\u001b[39;00m array\u001b[38;5;241m.\u001b[39mdtype\u001b[38;5;241m.\u001b[39mkind \u001b[38;5;129;01min\u001b[39;00m \u001b[38;5;124m\"\u001b[39m\u001b[38;5;124mUSV\u001b[39m\u001b[38;5;124m\"\u001b[39m:\n\u001b[0;32m   1038\u001b[0m     \u001b[38;5;28;01mraise\u001b[39;00m \u001b[38;5;167;01mValueError\u001b[39;00m(\n\u001b[0;32m   1039\u001b[0m         \u001b[38;5;124m\"\u001b[39m\u001b[38;5;124mdtype=\u001b[39m\u001b[38;5;124m'\u001b[39m\u001b[38;5;124mnumeric\u001b[39m\u001b[38;5;124m'\u001b[39m\u001b[38;5;124m is not compatible with arrays of bytes/strings.\u001b[39m\u001b[38;5;124m\"\u001b[39m\n\u001b[0;32m   1040\u001b[0m         \u001b[38;5;124m\"\u001b[39m\u001b[38;5;124mConvert your data to numeric values explicitly instead.\u001b[39m\u001b[38;5;124m\"\u001b[39m\n\u001b[0;32m   1041\u001b[0m     )\n",
      "\u001b[1;31mValueError\u001b[0m: Expected 2D array, got 1D array instead:\narray=[0.50678864 0.49881024 0.49815709 ... 1.         0.96911307 0.9655205 ].\nReshape your data either using array.reshape(-1, 1) if your data has a single feature or array.reshape(1, -1) if it contains a single sample."
     ]
    }
   ],
   "source": [
    "t = scaler.inverse_transform(test_y)"
   ]
  },
  {
   "cell_type": "code",
   "execution_count": 99,
   "metadata": {},
   "outputs": [
    {
     "ename": "NameError",
     "evalue": "name 't' is not defined",
     "output_type": "error",
     "traceback": [
      "\u001b[1;31m---------------------------------------------------------------------------\u001b[0m",
      "\u001b[1;31mNameError\u001b[0m                                 Traceback (most recent call last)",
      "Cell \u001b[1;32mIn[99], line 2\u001b[0m\n\u001b[0;32m      1\u001b[0m \u001b[38;5;66;03m# Calculate precision and recall\u001b[39;00m\n\u001b[1;32m----> 2\u001b[0m precision \u001b[38;5;241m=\u001b[39m precision_score(\u001b[43mt\u001b[49m, y_pred_classes)\n\u001b[0;32m      3\u001b[0m recall \u001b[38;5;241m=\u001b[39m recall_score(t, y_pred_classes)\n\u001b[0;32m      4\u001b[0m f1 \u001b[38;5;241m=\u001b[39m (precision\u001b[38;5;241m*\u001b[39mrecall)\u001b[38;5;241m/\u001b[39m(precision\u001b[38;5;241m+\u001b[39mrecall)\n",
      "\u001b[1;31mNameError\u001b[0m: name 't' is not defined"
     ]
    }
   ],
   "source": [
    "# Calculate precision and recall\n",
    "precision = precision_score(t, y_pred_classes)\n",
    "recall = recall_score(t, y_pred_classes)\n",
    "f1 = (precision*recall)/(precision+recall)\n",
    "f1 = 2*f1"
   ]
  },
  {
   "cell_type": "code",
   "execution_count": 35,
   "metadata": {},
   "outputs": [
    {
     "data": {
      "text/plain": [
       "0.0"
      ]
     },
     "execution_count": 35,
     "metadata": {},
     "output_type": "execute_result"
    }
   ],
   "source": [
    "precision"
   ]
  },
  {
   "cell_type": "code",
   "execution_count": 36,
   "metadata": {},
   "outputs": [
    {
     "data": {
      "text/plain": [
       "0.0"
      ]
     },
     "execution_count": 36,
     "metadata": {},
     "output_type": "execute_result"
    }
   ],
   "source": [
    "recall"
   ]
  },
  {
   "cell_type": "code",
   "execution_count": 39,
   "metadata": {},
   "outputs": [
    {
     "data": {
      "text/plain": [
       "nan"
      ]
     },
     "execution_count": 39,
     "metadata": {},
     "output_type": "execute_result"
    }
   ],
   "source": [
    "f1"
   ]
  },
  {
   "cell_type": "code",
   "execution_count": 100,
   "metadata": {},
   "outputs": [
    {
     "data": {
      "text/plain": [
       "array([[0.00755472],\n",
       "       [0.00756822],\n",
       "       [0.00792377],\n",
       "       ...,\n",
       "       [0.46132436],\n",
       "       [0.46038708],\n",
       "       [0.46069983]], dtype=float32)"
      ]
     },
     "execution_count": 100,
     "metadata": {},
     "output_type": "execute_result"
    }
   ],
   "source": [
    "train_predict"
   ]
  },
  {
   "cell_type": "code",
   "execution_count": 29,
   "metadata": {},
   "outputs": [],
   "source": [
    "train_predict = scaler.inverse_transform(train_predict)\n",
    "test_predict = scaler.inverse_transform(test_predict)"
   ]
  },
  {
   "cell_type": "code",
   "execution_count": 30,
   "metadata": {},
   "outputs": [
    {
     "data": {
      "text/plain": [
       "array([[7.1074185],\n",
       "       [6.8290524],\n",
       "       [6.981919 ],\n",
       "       ...,\n",
       "       [6.6089425],\n",
       "       [6.649187 ],\n",
       "       [6.695852 ]], dtype=float32)"
      ]
     },
     "execution_count": 30,
     "metadata": {},
     "output_type": "execute_result"
    }
   ],
   "source": [
    "train_predict"
   ]
  },
  {
   "cell_type": "code",
   "execution_count": 35,
   "metadata": {},
   "outputs": [
    {
     "name": "stdout",
     "output_type": "stream",
     "text": [
      "mean_squared_error: [46.818695 43.031586 45.060513 ... 40.403507 40.89111  41.55251 ]\n",
      "Root mean squared error: [6.8424187 6.5598464 6.712713  ... 6.356375  6.3946157 6.4461236]\n"
     ]
    }
   ],
   "source": [
    "mse = mean_squared_error(train_y, train_predict)\n",
    "rmse = np.sqrt(mse)\n",
    "\n",
    "print(f\"mean_squared_error: {mse}\")\n",
    "print(f\"Root mean squared error: {rmse}\")"
   ]
  },
  {
   "cell_type": "code",
   "execution_count": 36,
   "metadata": {},
   "outputs": [
    {
     "name": "stdout",
     "output_type": "stream",
     "text": [
      "mean_squared_error: [ 35.29479   35.24796   33.783028 ... 267.5491   283.40436  283.01712 ]\n",
      "Root mean squared error: [2.6158018 2.5612197 2.5908904 ... 2.5211854 2.5287578 2.5389218]\n"
     ]
    }
   ],
   "source": [
    "mse = mean_squared_error(test_y, test_predict)\n",
    "rmse = np.sqrt(rmse)\n",
    "\n",
    "print(f\"mean_squared_error: {mse}\")\n",
    "print(f\"Root mean squared error: {rmse}\")"
   ]
  },
  {
   "cell_type": "code",
   "execution_count": 101,
   "metadata": {},
   "outputs": [
    {
     "data": {
      "image/png": "[encoded data removed]",
      "text/plain": [
       "<Figure size 640x480 with 1 Axes>"
      ]
     },
     "metadata": {},
     "output_type": "display_data"
    }
   ],
   "source": [
    "look_back=250\n",
    "train_predict_plot = np.empty_like(df)\n",
    "train_predict_plot[:, :] = np.nan\n",
    "train_predict_plot[look_back:len(train_predict)+look_back, :] = train_predict\n",
    "# shift test predictions for plotting\n",
    "test_predict_plot = np.empty_like(df)\n",
    "test_predict_plot[:, :] = np.nan\n",
    "test_predict_plot[len(train_predict)+(look_back*2)-1:len(df)-1, :] = test_predict\n",
    "# plot baseline and predictions\n",
    "plt.plot(scaler.inverse_transform(df), label=\"original data\")\n",
    "plt.plot(train_predict_plot, label=\"train data\")\n",
    "plt.plot(test_predict_plot, label=\"test data\")\n",
    "plt.legend()\n",
    "plt.show()"
   ]
  },
  {
   "cell_type": "code",
   "execution_count": 103,
   "metadata": {},
   "outputs": [
    {
     "data": {
      "text/plain": [
       "(1, 250)"
      ]
     },
     "execution_count": 103,
     "metadata": {},
     "output_type": "execute_result"
    }
   ],
   "source": [
    "x_input = testing_data[len(testing_data)-250:].reshape(1, -1)\n",
    "x_input.shape"
   ]
  },
  {
   "cell_type": "code",
   "execution_count": 104,
   "metadata": {},
   "outputs": [],
   "source": [
    "temp_input = list(x_input)\n",
    "temp_input = temp_input[0].tolist()"
   ]
  },
  {
   "cell_type": "code",
   "execution_count": 105,
   "metadata": {},
   "outputs": [
    {
     "data": {
      "text/plain": [
       "250"
      ]
     },
     "execution_count": 105,
     "metadata": {},
     "output_type": "execute_result"
    }
   ],
   "source": [
    "len(temp_input)"
   ]
  },
  {
   "cell_type": "code",
   "execution_count": 106,
   "metadata": {},
   "outputs": [
    {
     "name": "stdout",
     "output_type": "stream",
     "text": [
      "[0.95333284]\n",
      "251\n",
      "1 day input [0.8094994  0.8063734  0.82079043 0.82746235 0.83651382 0.82223679\n",
      " 0.82638927 0.83100827 0.82834885 0.82097701 0.82088372 0.82251672\n",
      " 0.80870625 0.80511362 0.79382265 0.80418048 0.8023609  0.80124112\n",
      " 0.79676206 0.78757059 0.78803716 0.7945225  0.79727528 0.80385391\n",
      " 0.79190972 0.7945225  0.79802178 0.78738395 0.79713528 0.79648207\n",
      " 0.79326278 0.78827045 0.79326278 0.79442921 0.79470914 0.78402467\n",
      " 0.78299824 0.77338685 0.77637291 0.77851912 0.77399341 0.77320026\n",
      " 0.77175385 0.77730605 0.77758598 0.77660619 0.77152056 0.77968554\n",
      " 0.77912568 0.7820651  0.79368265 0.79508236 0.79550229 0.79190972\n",
      " 0.80348063 0.80362062 0.7993282  0.79746192 0.79559564 0.79643543\n",
      " 0.79960813 0.78864373 0.79564228 0.80035463 0.78645081 0.78491116\n",
      " 0.78239167 0.7859376  0.78309153 0.77870576 0.77464662 0.77418005\n",
      " 0.77348019 0.77240706 0.76862785 0.76564179 0.76004295 0.76097609\n",
      " 0.76433543 0.76578178 0.77609298 0.77595298 0.77264034 0.77581304\n",
      " 0.78449124 0.78813051 0.78528439 0.78603094 0.77968554 0.77590634\n",
      " 0.77562641 0.77604633 0.77833254 0.77273369 0.7717072  0.77212713\n",
      " 0.77851912 0.78215839 0.78239167 0.78873702 0.77641955 0.77931232\n",
      " 0.77520648 0.76764807 0.75421082 0.74898525 0.74324642 0.73480151\n",
      " 0.73228202 0.72943595 0.72854945 0.7348948  0.74389963 0.74926519\n",
      " 0.75477074 0.75313774 0.78024546 0.77730605 0.77805255 0.79326278\n",
      " 0.79937484 0.80595347 0.80306076 0.8024542  0.80669997 0.80814633\n",
      " 0.80879954 0.81234546 0.80721319 0.80422719 0.80739983 0.8101526\n",
      " 0.80553355 0.79862834 0.79148979 0.79741521 0.7826716  0.78869037\n",
      " 0.79629549 0.79550229 0.80660668 0.80553355 0.80371391 0.81379188\n",
      " 0.81010596 0.8101526  0.81514488 0.819624   0.83264127 0.8360939\n",
      " 0.83189477 0.84724494 0.82536278 0.82275    0.82834885 0.82806891\n",
      " 0.81332531 0.80385391 0.80376061 0.80586018 0.82820885 0.82396307\n",
      " 0.82638927 0.83203476 0.83021513 0.83236134 0.84075966 0.84127282\n",
      " 0.85233051 0.84859795 0.84323239 0.84416553 0.83007513 0.8338544\n",
      " 0.83390104 0.82652921 0.82643592 0.824243   0.82079043 0.83590726\n",
      " 0.82624928 0.81533152 0.82279665 0.82648256 0.82335657 0.82517614\n",
      " 0.82060379 0.8220035  0.82195686 0.825876   0.82881542 0.83670041\n",
      " 0.83884668 0.83096163 0.82610929 0.83021513 0.8305417  0.82914199\n",
      " 0.82498956 0.82261001 0.81080581 0.80959274 0.81509824 0.81948401\n",
      " 0.82694913 0.82452299 0.82330986 0.83212805 0.8274157  0.82998184\n",
      " 0.82951527 0.83544069 0.85466336 0.86903375 0.87640558 0.88424399\n",
      " 0.88783655 0.89744795 0.89926753 0.88895628 0.89595483 0.89016941\n",
      " 0.88750998 0.88909627 0.88704341 0.88778985 0.89922082 0.88788326\n",
      " 0.89567496 0.89604824 0.90304679 0.91555078 0.92446232 0.93589329\n",
      " 0.95147669 0.94886397 0.96608036 0.96887979 0.97438534 0.96790006\n",
      " 0.9796576  0.98031076 0.98478988 0.99645413 0.9875426  0.99248829\n",
      " 1.         0.96911307 0.9655205  0.95333284]\n",
      "1 day output [[0.9373817]]\n",
      "2 day input [0.8063734  0.82079043 0.82746235 0.83651382 0.82223679 0.82638927\n",
      " 0.83100827 0.82834885 0.82097701 0.82088372 0.82251672 0.80870625\n",
      " 0.80511362 0.79382265 0.80418048 0.8023609  0.80124112 0.79676206\n",
      " 0.78757059 0.78803716 0.7945225  0.79727528 0.80385391 0.79190972\n",
      " 0.7945225  0.79802178 0.78738395 0.79713528 0.79648207 0.79326278\n",
      " 0.78827045 0.79326278 0.79442921 0.79470914 0.78402467 0.78299824\n",
      " 0.77338685 0.77637291 0.77851912 0.77399341 0.77320026 0.77175385\n",
      " 0.77730605 0.77758598 0.77660619 0.77152056 0.77968554 0.77912568\n",
      " 0.7820651  0.79368265 0.79508236 0.79550229 0.79190972 0.80348063\n",
      " 0.80362062 0.7993282  0.79746192 0.79559564 0.79643543 0.79960813\n",
      " 0.78864373 0.79564228 0.80035463 0.78645081 0.78491116 0.78239167\n",
      " 0.7859376  0.78309153 0.77870576 0.77464662 0.77418005 0.77348019\n",
      " 0.77240706 0.76862785 0.76564179 0.76004295 0.76097609 0.76433543\n",
      " 0.76578178 0.77609298 0.77595298 0.77264034 0.77581304 0.78449124\n",
      " 0.78813051 0.78528439 0.78603094 0.77968554 0.77590634 0.77562641\n",
      " 0.77604633 0.77833254 0.77273369 0.7717072  0.77212713 0.77851912\n",
      " 0.78215839 0.78239167 0.78873702 0.77641955 0.77931232 0.77520648\n",
      " 0.76764807 0.75421082 0.74898525 0.74324642 0.73480151 0.73228202\n",
      " 0.72943595 0.72854945 0.7348948  0.74389963 0.74926519 0.75477074\n",
      " 0.75313774 0.78024546 0.77730605 0.77805255 0.79326278 0.79937484\n",
      " 0.80595347 0.80306076 0.8024542  0.80669997 0.80814633 0.80879954\n",
      " 0.81234546 0.80721319 0.80422719 0.80739983 0.8101526  0.80553355\n",
      " 0.79862834 0.79148979 0.79741521 0.7826716  0.78869037 0.79629549\n",
      " 0.79550229 0.80660668 0.80553355 0.80371391 0.81379188 0.81010596\n",
      " 0.8101526  0.81514488 0.819624   0.83264127 0.8360939  0.83189477\n",
      " 0.84724494 0.82536278 0.82275    0.82834885 0.82806891 0.81332531\n",
      " 0.80385391 0.80376061 0.80586018 0.82820885 0.82396307 0.82638927\n",
      " 0.83203476 0.83021513 0.83236134 0.84075966 0.84127282 0.85233051\n",
      " 0.84859795 0.84323239 0.84416553 0.83007513 0.8338544  0.83390104\n",
      " 0.82652921 0.82643592 0.824243   0.82079043 0.83590726 0.82624928\n",
      " 0.81533152 0.82279665 0.82648256 0.82335657 0.82517614 0.82060379\n",
      " 0.8220035  0.82195686 0.825876   0.82881542 0.83670041 0.83884668\n",
      " 0.83096163 0.82610929 0.83021513 0.8305417  0.82914199 0.82498956\n",
      " 0.82261001 0.81080581 0.80959274 0.81509824 0.81948401 0.82694913\n",
      " 0.82452299 0.82330986 0.83212805 0.8274157  0.82998184 0.82951527\n",
      " 0.83544069 0.85466336 0.86903375 0.87640558 0.88424399 0.88783655\n",
      " 0.89744795 0.89926753 0.88895628 0.89595483 0.89016941 0.88750998\n",
      " 0.88909627 0.88704341 0.88778985 0.89922082 0.88788326 0.89567496\n",
      " 0.89604824 0.90304679 0.91555078 0.92446232 0.93589329 0.95147669\n",
      " 0.94886397 0.96608036 0.96887979 0.97438534 0.96790006 0.9796576\n",
      " 0.98031076 0.98478988 0.99645413 0.9875426  0.99248829 1.\n",
      " 0.96911307 0.9655205  0.95333284 0.93738168]\n",
      "2 day output [[0.92235214]]\n",
      "3 day input [0.82079043 0.82746235 0.83651382 0.82223679 0.82638927 0.83100827\n",
      " 0.82834885 0.82097701 0.82088372 0.82251672 0.80870625 0.80511362\n",
      " 0.79382265 0.80418048 0.8023609  0.80124112 0.79676206 0.78757059\n",
      " 0.78803716 0.7945225  0.79727528 0.80385391 0.79190972 0.7945225\n",
      " 0.79802178 0.78738395 0.79713528 0.79648207 0.79326278 0.78827045\n",
      " 0.79326278 0.79442921 0.79470914 0.78402467 0.78299824 0.77338685\n",
      " 0.77637291 0.77851912 0.77399341 0.77320026 0.77175385 0.77730605\n",
      " 0.77758598 0.77660619 0.77152056 0.77968554 0.77912568 0.7820651\n",
      " 0.79368265 0.79508236 0.79550229 0.79190972 0.80348063 0.80362062\n",
      " 0.7993282  0.79746192 0.79559564 0.79643543 0.79960813 0.78864373\n",
      " 0.79564228 0.80035463 0.78645081 0.78491116 0.78239167 0.7859376\n",
      " 0.78309153 0.77870576 0.77464662 0.77418005 0.77348019 0.77240706\n",
      " 0.76862785 0.76564179 0.76004295 0.76097609 0.76433543 0.76578178\n",
      " 0.77609298 0.77595298 0.77264034 0.77581304 0.78449124 0.78813051\n",
      " 0.78528439 0.78603094 0.77968554 0.77590634 0.77562641 0.77604633\n",
      " 0.77833254 0.77273369 0.7717072  0.77212713 0.77851912 0.78215839\n",
      " 0.78239167 0.78873702 0.77641955 0.77931232 0.77520648 0.76764807\n",
      " 0.75421082 0.74898525 0.74324642 0.73480151 0.73228202 0.72943595\n",
      " 0.72854945 0.7348948  0.74389963 0.74926519 0.75477074 0.75313774\n",
      " 0.78024546 0.77730605 0.77805255 0.79326278 0.79937484 0.80595347\n",
      " 0.80306076 0.8024542  0.80669997 0.80814633 0.80879954 0.81234546\n",
      " 0.80721319 0.80422719 0.80739983 0.8101526  0.80553355 0.79862834\n",
      " 0.79148979 0.79741521 0.7826716  0.78869037 0.79629549 0.79550229\n",
      " 0.80660668 0.80553355 0.80371391 0.81379188 0.81010596 0.8101526\n",
      " 0.81514488 0.819624   0.83264127 0.8360939  0.83189477 0.84724494\n",
      " 0.82536278 0.82275    0.82834885 0.82806891 0.81332531 0.80385391\n",
      " 0.80376061 0.80586018 0.82820885 0.82396307 0.82638927 0.83203476\n",
      " 0.83021513 0.83236134 0.84075966 0.84127282 0.85233051 0.84859795\n",
      " 0.84323239 0.84416553 0.83007513 0.8338544  0.83390104 0.82652921\n",
      " 0.82643592 0.824243   0.82079043 0.83590726 0.82624928 0.81533152\n",
      " 0.82279665 0.82648256 0.82335657 0.82517614 0.82060379 0.8220035\n",
      " 0.82195686 0.825876   0.82881542 0.83670041 0.83884668 0.83096163\n",
      " 0.82610929 0.83021513 0.8305417  0.82914199 0.82498956 0.82261001\n",
      " 0.81080581 0.80959274 0.81509824 0.81948401 0.82694913 0.82452299\n",
      " 0.82330986 0.83212805 0.8274157  0.82998184 0.82951527 0.83544069\n",
      " 0.85466336 0.86903375 0.87640558 0.88424399 0.88783655 0.89744795\n",
      " 0.89926753 0.88895628 0.89595483 0.89016941 0.88750998 0.88909627\n",
      " 0.88704341 0.88778985 0.89922082 0.88788326 0.89567496 0.89604824\n",
      " 0.90304679 0.91555078 0.92446232 0.93589329 0.95147669 0.94886397\n",
      " 0.96608036 0.96887979 0.97438534 0.96790006 0.9796576  0.98031076\n",
      " 0.98478988 0.99645413 0.9875426  0.99248829 1.         0.96911307\n",
      " 0.9655205  0.95333284 0.93738168 0.92235214]\n",
      "3 day output [[0.9093865]]\n",
      "4 day input [0.82746235 0.83651382 0.82223679 0.82638927 0.83100827 0.82834885\n",
      " 0.82097701 0.82088372 0.82251672 0.80870625 0.80511362 0.79382265\n",
      " 0.80418048 0.8023609  0.80124112 0.79676206 0.78757059 0.78803716\n",
      " 0.7945225  0.79727528 0.80385391 0.79190972 0.7945225  0.79802178\n",
      " 0.78738395 0.79713528 0.79648207 0.79326278 0.78827045 0.79326278\n",
      " 0.79442921 0.79470914 0.78402467 0.78299824 0.77338685 0.77637291\n",
      " 0.77851912 0.77399341 0.77320026 0.77175385 0.77730605 0.77758598\n",
      " 0.77660619 0.77152056 0.77968554 0.77912568 0.7820651  0.79368265\n",
      " 0.79508236 0.79550229 0.79190972 0.80348063 0.80362062 0.7993282\n",
      " 0.79746192 0.79559564 0.79643543 0.79960813 0.78864373 0.79564228\n",
      " 0.80035463 0.78645081 0.78491116 0.78239167 0.7859376  0.78309153\n",
      " 0.77870576 0.77464662 0.77418005 0.77348019 0.77240706 0.76862785\n",
      " 0.76564179 0.76004295 0.76097609 0.76433543 0.76578178 0.77609298\n",
      " 0.77595298 0.77264034 0.77581304 0.78449124 0.78813051 0.78528439\n",
      " 0.78603094 0.77968554 0.77590634 0.77562641 0.77604633 0.77833254\n",
      " 0.77273369 0.7717072  0.77212713 0.77851912 0.78215839 0.78239167\n",
      " 0.78873702 0.77641955 0.77931232 0.77520648 0.76764807 0.75421082\n",
      " 0.74898525 0.74324642 0.73480151 0.73228202 0.72943595 0.72854945\n",
      " 0.7348948  0.74389963 0.74926519 0.75477074 0.75313774 0.78024546\n",
      " 0.77730605 0.77805255 0.79326278 0.79937484 0.80595347 0.80306076\n",
      " 0.8024542  0.80669997 0.80814633 0.80879954 0.81234546 0.80721319\n",
      " 0.80422719 0.80739983 0.8101526  0.80553355 0.79862834 0.79148979\n",
      " 0.79741521 0.7826716  0.78869037 0.79629549 0.79550229 0.80660668\n",
      " 0.80553355 0.80371391 0.81379188 0.81010596 0.8101526  0.81514488\n",
      " 0.819624   0.83264127 0.8360939  0.83189477 0.84724494 0.82536278\n",
      " 0.82275    0.82834885 0.82806891 0.81332531 0.80385391 0.80376061\n",
      " 0.80586018 0.82820885 0.82396307 0.82638927 0.83203476 0.83021513\n",
      " 0.83236134 0.84075966 0.84127282 0.85233051 0.84859795 0.84323239\n",
      " 0.84416553 0.83007513 0.8338544  0.83390104 0.82652921 0.82643592\n",
      " 0.824243   0.82079043 0.83590726 0.82624928 0.81533152 0.82279665\n",
      " 0.82648256 0.82335657 0.82517614 0.82060379 0.8220035  0.82195686\n",
      " 0.825876   0.82881542 0.83670041 0.83884668 0.83096163 0.82610929\n",
      " 0.83021513 0.8305417  0.82914199 0.82498956 0.82261001 0.81080581\n",
      " 0.80959274 0.81509824 0.81948401 0.82694913 0.82452299 0.82330986\n",
      " 0.83212805 0.8274157  0.82998184 0.82951527 0.83544069 0.85466336\n",
      " 0.86903375 0.87640558 0.88424399 0.88783655 0.89744795 0.89926753\n",
      " 0.88895628 0.89595483 0.89016941 0.88750998 0.88909627 0.88704341\n",
      " 0.88778985 0.89922082 0.88788326 0.89567496 0.89604824 0.90304679\n",
      " 0.91555078 0.92446232 0.93589329 0.95147669 0.94886397 0.96608036\n",
      " 0.96887979 0.97438534 0.96790006 0.9796576  0.98031076 0.98478988\n",
      " 0.99645413 0.9875426  0.99248829 1.         0.96911307 0.9655205\n",
      " 0.95333284 0.93738168 0.92235214 0.90938652]\n",
      "4 day output [[0.8971131]]\n",
      "5 day input [0.83651382 0.82223679 0.82638927 0.83100827 0.82834885 0.82097701\n",
      " 0.82088372 0.82251672 0.80870625 0.80511362 0.79382265 0.80418048\n",
      " 0.8023609  0.80124112 0.79676206 0.78757059 0.78803716 0.7945225\n",
      " 0.79727528 0.80385391 0.79190972 0.7945225  0.79802178 0.78738395\n",
      " 0.79713528 0.79648207 0.79326278 0.78827045 0.79326278 0.79442921\n",
      " 0.79470914 0.78402467 0.78299824 0.77338685 0.77637291 0.77851912\n",
      " 0.77399341 0.77320026 0.77175385 0.77730605 0.77758598 0.77660619\n",
      " 0.77152056 0.77968554 0.77912568 0.7820651  0.79368265 0.79508236\n",
      " 0.79550229 0.79190972 0.80348063 0.80362062 0.7993282  0.79746192\n",
      " 0.79559564 0.79643543 0.79960813 0.78864373 0.79564228 0.80035463\n",
      " 0.78645081 0.78491116 0.78239167 0.7859376  0.78309153 0.77870576\n",
      " 0.77464662 0.77418005 0.77348019 0.77240706 0.76862785 0.76564179\n",
      " 0.76004295 0.76097609 0.76433543 0.76578178 0.77609298 0.77595298\n",
      " 0.77264034 0.77581304 0.78449124 0.78813051 0.78528439 0.78603094\n",
      " 0.77968554 0.77590634 0.77562641 0.77604633 0.77833254 0.77273369\n",
      " 0.7717072  0.77212713 0.77851912 0.78215839 0.78239167 0.78873702\n",
      " 0.77641955 0.77931232 0.77520648 0.76764807 0.75421082 0.74898525\n",
      " 0.74324642 0.73480151 0.73228202 0.72943595 0.72854945 0.7348948\n",
      " 0.74389963 0.74926519 0.75477074 0.75313774 0.78024546 0.77730605\n",
      " 0.77805255 0.79326278 0.79937484 0.80595347 0.80306076 0.8024542\n",
      " 0.80669997 0.80814633 0.80879954 0.81234546 0.80721319 0.80422719\n",
      " 0.80739983 0.8101526  0.80553355 0.79862834 0.79148979 0.79741521\n",
      " 0.7826716  0.78869037 0.79629549 0.79550229 0.80660668 0.80553355\n",
      " 0.80371391 0.81379188 0.81010596 0.8101526  0.81514488 0.819624\n",
      " 0.83264127 0.8360939  0.83189477 0.84724494 0.82536278 0.82275\n",
      " 0.82834885 0.82806891 0.81332531 0.80385391 0.80376061 0.80586018\n",
      " 0.82820885 0.82396307 0.82638927 0.83203476 0.83021513 0.83236134\n",
      " 0.84075966 0.84127282 0.85233051 0.84859795 0.84323239 0.84416553\n",
      " 0.83007513 0.8338544  0.83390104 0.82652921 0.82643592 0.824243\n",
      " 0.82079043 0.83590726 0.82624928 0.81533152 0.82279665 0.82648256\n",
      " 0.82335657 0.82517614 0.82060379 0.8220035  0.82195686 0.825876\n",
      " 0.82881542 0.83670041 0.83884668 0.83096163 0.82610929 0.83021513\n",
      " 0.8305417  0.82914199 0.82498956 0.82261001 0.81080581 0.80959274\n",
      " 0.81509824 0.81948401 0.82694913 0.82452299 0.82330986 0.83212805\n",
      " 0.8274157  0.82998184 0.82951527 0.83544069 0.85466336 0.86903375\n",
      " 0.87640558 0.88424399 0.88783655 0.89744795 0.89926753 0.88895628\n",
      " 0.89595483 0.89016941 0.88750998 0.88909627 0.88704341 0.88778985\n",
      " 0.89922082 0.88788326 0.89567496 0.89604824 0.90304679 0.91555078\n",
      " 0.92446232 0.93589329 0.95147669 0.94886397 0.96608036 0.96887979\n",
      " 0.97438534 0.96790006 0.9796576  0.98031076 0.98478988 0.99645413\n",
      " 0.9875426  0.99248829 1.         0.96911307 0.9655205  0.95333284\n",
      " 0.93738168 0.92235214 0.90938652 0.89711308]\n",
      "5 day output [[0.88504374]]\n",
      "6 day input [0.82223679 0.82638927 0.83100827 0.82834885 0.82097701 0.82088372\n",
      " 0.82251672 0.80870625 0.80511362 0.79382265 0.80418048 0.8023609\n",
      " 0.80124112 0.79676206 0.78757059 0.78803716 0.7945225  0.79727528\n",
      " 0.80385391 0.79190972 0.7945225  0.79802178 0.78738395 0.79713528\n",
      " 0.79648207 0.79326278 0.78827045 0.79326278 0.79442921 0.79470914\n",
      " 0.78402467 0.78299824 0.77338685 0.77637291 0.77851912 0.77399341\n",
      " 0.77320026 0.77175385 0.77730605 0.77758598 0.77660619 0.77152056\n",
      " 0.77968554 0.77912568 0.7820651  0.79368265 0.79508236 0.79550229\n",
      " 0.79190972 0.80348063 0.80362062 0.7993282  0.79746192 0.79559564\n",
      " 0.79643543 0.79960813 0.78864373 0.79564228 0.80035463 0.78645081\n",
      " 0.78491116 0.78239167 0.7859376  0.78309153 0.77870576 0.77464662\n",
      " 0.77418005 0.77348019 0.77240706 0.76862785 0.76564179 0.76004295\n",
      " 0.76097609 0.76433543 0.76578178 0.77609298 0.77595298 0.77264034\n",
      " 0.77581304 0.78449124 0.78813051 0.78528439 0.78603094 0.77968554\n",
      " 0.77590634 0.77562641 0.77604633 0.77833254 0.77273369 0.7717072\n",
      " 0.77212713 0.77851912 0.78215839 0.78239167 0.78873702 0.77641955\n",
      " 0.77931232 0.77520648 0.76764807 0.75421082 0.74898525 0.74324642\n",
      " 0.73480151 0.73228202 0.72943595 0.72854945 0.7348948  0.74389963\n",
      " 0.74926519 0.75477074 0.75313774 0.78024546 0.77730605 0.77805255\n",
      " 0.79326278 0.79937484 0.80595347 0.80306076 0.8024542  0.80669997\n",
      " 0.80814633 0.80879954 0.81234546 0.80721319 0.80422719 0.80739983\n",
      " 0.8101526  0.80553355 0.79862834 0.79148979 0.79741521 0.7826716\n",
      " 0.78869037 0.79629549 0.79550229 0.80660668 0.80553355 0.80371391\n",
      " 0.81379188 0.81010596 0.8101526  0.81514488 0.819624   0.83264127\n",
      " 0.8360939  0.83189477 0.84724494 0.82536278 0.82275    0.82834885\n",
      " 0.82806891 0.81332531 0.80385391 0.80376061 0.80586018 0.82820885\n",
      " 0.82396307 0.82638927 0.83203476 0.83021513 0.83236134 0.84075966\n",
      " 0.84127282 0.85233051 0.84859795 0.84323239 0.84416553 0.83007513\n",
      " 0.8338544  0.83390104 0.82652921 0.82643592 0.824243   0.82079043\n",
      " 0.83590726 0.82624928 0.81533152 0.82279665 0.82648256 0.82335657\n",
      " 0.82517614 0.82060379 0.8220035  0.82195686 0.825876   0.82881542\n",
      " 0.83670041 0.83884668 0.83096163 0.82610929 0.83021513 0.8305417\n",
      " 0.82914199 0.82498956 0.82261001 0.81080581 0.80959274 0.81509824\n",
      " 0.81948401 0.82694913 0.82452299 0.82330986 0.83212805 0.8274157\n",
      " 0.82998184 0.82951527 0.83544069 0.85466336 0.86903375 0.87640558\n",
      " 0.88424399 0.88783655 0.89744795 0.89926753 0.88895628 0.89595483\n",
      " 0.89016941 0.88750998 0.88909627 0.88704341 0.88778985 0.89922082\n",
      " 0.88788326 0.89567496 0.89604824 0.90304679 0.91555078 0.92446232\n",
      " 0.93589329 0.95147669 0.94886397 0.96608036 0.96887979 0.97438534\n",
      " 0.96790006 0.9796576  0.98031076 0.98478988 0.99645413 0.9875426\n",
      " 0.99248829 1.         0.96911307 0.9655205  0.95333284 0.93738168\n",
      " 0.92235214 0.90938652 0.89711308 0.88504374]\n",
      "6 day output [[0.87320054]]\n",
      "7 day input [0.82638927 0.83100827 0.82834885 0.82097701 0.82088372 0.82251672\n",
      " 0.80870625 0.80511362 0.79382265 0.80418048 0.8023609  0.80124112\n",
      " 0.79676206 0.78757059 0.78803716 0.7945225  0.79727528 0.80385391\n",
      " 0.79190972 0.7945225  0.79802178 0.78738395 0.79713528 0.79648207\n",
      " 0.79326278 0.78827045 0.79326278 0.79442921 0.79470914 0.78402467\n",
      " 0.78299824 0.77338685 0.77637291 0.77851912 0.77399341 0.77320026\n",
      " 0.77175385 0.77730605 0.77758598 0.77660619 0.77152056 0.77968554\n",
      " 0.77912568 0.7820651  0.79368265 0.79508236 0.79550229 0.79190972\n",
      " 0.80348063 0.80362062 0.7993282  0.79746192 0.79559564 0.79643543\n",
      " 0.79960813 0.78864373 0.79564228 0.80035463 0.78645081 0.78491116\n",
      " 0.78239167 0.7859376  0.78309153 0.77870576 0.77464662 0.77418005\n",
      " 0.77348019 0.77240706 0.76862785 0.76564179 0.76004295 0.76097609\n",
      " 0.76433543 0.76578178 0.77609298 0.77595298 0.77264034 0.77581304\n",
      " 0.78449124 0.78813051 0.78528439 0.78603094 0.77968554 0.77590634\n",
      " 0.77562641 0.77604633 0.77833254 0.77273369 0.7717072  0.77212713\n",
      " 0.77851912 0.78215839 0.78239167 0.78873702 0.77641955 0.77931232\n",
      " 0.77520648 0.76764807 0.75421082 0.74898525 0.74324642 0.73480151\n",
      " 0.73228202 0.72943595 0.72854945 0.7348948  0.74389963 0.74926519\n",
      " 0.75477074 0.75313774 0.78024546 0.77730605 0.77805255 0.79326278\n",
      " 0.79937484 0.80595347 0.80306076 0.8024542  0.80669997 0.80814633\n",
      " 0.80879954 0.81234546 0.80721319 0.80422719 0.80739983 0.8101526\n",
      " 0.80553355 0.79862834 0.79148979 0.79741521 0.7826716  0.78869037\n",
      " 0.79629549 0.79550229 0.80660668 0.80553355 0.80371391 0.81379188\n",
      " 0.81010596 0.8101526  0.81514488 0.819624   0.83264127 0.8360939\n",
      " 0.83189477 0.84724494 0.82536278 0.82275    0.82834885 0.82806891\n",
      " 0.81332531 0.80385391 0.80376061 0.80586018 0.82820885 0.82396307\n",
      " 0.82638927 0.83203476 0.83021513 0.83236134 0.84075966 0.84127282\n",
      " 0.85233051 0.84859795 0.84323239 0.84416553 0.83007513 0.8338544\n",
      " 0.83390104 0.82652921 0.82643592 0.824243   0.82079043 0.83590726\n",
      " 0.82624928 0.81533152 0.82279665 0.82648256 0.82335657 0.82517614\n",
      " 0.82060379 0.8220035  0.82195686 0.825876   0.82881542 0.83670041\n",
      " 0.83884668 0.83096163 0.82610929 0.83021513 0.8305417  0.82914199\n",
      " 0.82498956 0.82261001 0.81080581 0.80959274 0.81509824 0.81948401\n",
      " 0.82694913 0.82452299 0.82330986 0.83212805 0.8274157  0.82998184\n",
      " 0.82951527 0.83544069 0.85466336 0.86903375 0.87640558 0.88424399\n",
      " 0.88783655 0.89744795 0.89926753 0.88895628 0.89595483 0.89016941\n",
      " 0.88750998 0.88909627 0.88704341 0.88778985 0.89922082 0.88788326\n",
      " 0.89567496 0.89604824 0.90304679 0.91555078 0.92446232 0.93589329\n",
      " 0.95147669 0.94886397 0.96608036 0.96887979 0.97438534 0.96790006\n",
      " 0.9796576  0.98031076 0.98478988 0.99645413 0.9875426  0.99248829\n",
      " 1.         0.96911307 0.9655205  0.95333284 0.93738168 0.92235214\n",
      " 0.90938652 0.89711308 0.88504374 0.87320054]\n",
      "7 day output [[0.86163616]]\n",
      "8 day input [0.83100827 0.82834885 0.82097701 0.82088372 0.82251672 0.80870625\n",
      " 0.80511362 0.79382265 0.80418048 0.8023609  0.80124112 0.79676206\n",
      " 0.78757059 0.78803716 0.7945225  0.79727528 0.80385391 0.79190972\n",
      " 0.7945225  0.79802178 0.78738395 0.79713528 0.79648207 0.79326278\n",
      " 0.78827045 0.79326278 0.79442921 0.79470914 0.78402467 0.78299824\n",
      " 0.77338685 0.77637291 0.77851912 0.77399341 0.77320026 0.77175385\n",
      " 0.77730605 0.77758598 0.77660619 0.77152056 0.77968554 0.77912568\n",
      " 0.7820651  0.79368265 0.79508236 0.79550229 0.79190972 0.80348063\n",
      " 0.80362062 0.7993282  0.79746192 0.79559564 0.79643543 0.79960813\n",
      " 0.78864373 0.79564228 0.80035463 0.78645081 0.78491116 0.78239167\n",
      " 0.7859376  0.78309153 0.77870576 0.77464662 0.77418005 0.77348019\n",
      " 0.77240706 0.76862785 0.76564179 0.76004295 0.76097609 0.76433543\n",
      " 0.76578178 0.77609298 0.77595298 0.77264034 0.77581304 0.78449124\n",
      " 0.78813051 0.78528439 0.78603094 0.77968554 0.77590634 0.77562641\n",
      " 0.77604633 0.77833254 0.77273369 0.7717072  0.77212713 0.77851912\n",
      " 0.78215839 0.78239167 0.78873702 0.77641955 0.77931232 0.77520648\n",
      " 0.76764807 0.75421082 0.74898525 0.74324642 0.73480151 0.73228202\n",
      " 0.72943595 0.72854945 0.7348948  0.74389963 0.74926519 0.75477074\n",
      " 0.75313774 0.78024546 0.77730605 0.77805255 0.79326278 0.79937484\n",
      " 0.80595347 0.80306076 0.8024542  0.80669997 0.80814633 0.80879954\n",
      " 0.81234546 0.80721319 0.80422719 0.80739983 0.8101526  0.80553355\n",
      " 0.79862834 0.79148979 0.79741521 0.7826716  0.78869037 0.79629549\n",
      " 0.79550229 0.80660668 0.80553355 0.80371391 0.81379188 0.81010596\n",
      " 0.8101526  0.81514488 0.819624   0.83264127 0.8360939  0.83189477\n",
      " 0.84724494 0.82536278 0.82275    0.82834885 0.82806891 0.81332531\n",
      " 0.80385391 0.80376061 0.80586018 0.82820885 0.82396307 0.82638927\n",
      " 0.83203476 0.83021513 0.83236134 0.84075966 0.84127282 0.85233051\n",
      " 0.84859795 0.84323239 0.84416553 0.83007513 0.8338544  0.83390104\n",
      " 0.82652921 0.82643592 0.824243   0.82079043 0.83590726 0.82624928\n",
      " 0.81533152 0.82279665 0.82648256 0.82335657 0.82517614 0.82060379\n",
      " 0.8220035  0.82195686 0.825876   0.82881542 0.83670041 0.83884668\n",
      " 0.83096163 0.82610929 0.83021513 0.8305417  0.82914199 0.82498956\n",
      " 0.82261001 0.81080581 0.80959274 0.81509824 0.81948401 0.82694913\n",
      " 0.82452299 0.82330986 0.83212805 0.8274157  0.82998184 0.82951527\n",
      " 0.83544069 0.85466336 0.86903375 0.87640558 0.88424399 0.88783655\n",
      " 0.89744795 0.89926753 0.88895628 0.89595483 0.89016941 0.88750998\n",
      " 0.88909627 0.88704341 0.88778985 0.89922082 0.88788326 0.89567496\n",
      " 0.89604824 0.90304679 0.91555078 0.92446232 0.93589329 0.95147669\n",
      " 0.94886397 0.96608036 0.96887979 0.97438534 0.96790006 0.9796576\n",
      " 0.98031076 0.98478988 0.99645413 0.9875426  0.99248829 1.\n",
      " 0.96911307 0.9655205  0.95333284 0.93738168 0.92235214 0.90938652\n",
      " 0.89711308 0.88504374 0.87320054 0.86163616]\n",
      "8 day output [[0.8503808]]\n",
      "9 day input [0.82834885 0.82097701 0.82088372 0.82251672 0.80870625 0.80511362\n",
      " 0.79382265 0.80418048 0.8023609  0.80124112 0.79676206 0.78757059\n",
      " 0.78803716 0.7945225  0.79727528 0.80385391 0.79190972 0.7945225\n",
      " 0.79802178 0.78738395 0.79713528 0.79648207 0.79326278 0.78827045\n",
      " 0.79326278 0.79442921 0.79470914 0.78402467 0.78299824 0.77338685\n",
      " 0.77637291 0.77851912 0.77399341 0.77320026 0.77175385 0.77730605\n",
      " 0.77758598 0.77660619 0.77152056 0.77968554 0.77912568 0.7820651\n",
      " 0.79368265 0.79508236 0.79550229 0.79190972 0.80348063 0.80362062\n",
      " 0.7993282  0.79746192 0.79559564 0.79643543 0.79960813 0.78864373\n",
      " 0.79564228 0.80035463 0.78645081 0.78491116 0.78239167 0.7859376\n",
      " 0.78309153 0.77870576 0.77464662 0.77418005 0.77348019 0.77240706\n",
      " 0.76862785 0.76564179 0.76004295 0.76097609 0.76433543 0.76578178\n",
      " 0.77609298 0.77595298 0.77264034 0.77581304 0.78449124 0.78813051\n",
      " 0.78528439 0.78603094 0.77968554 0.77590634 0.77562641 0.77604633\n",
      " 0.77833254 0.77273369 0.7717072  0.77212713 0.77851912 0.78215839\n",
      " 0.78239167 0.78873702 0.77641955 0.77931232 0.77520648 0.76764807\n",
      " 0.75421082 0.74898525 0.74324642 0.73480151 0.73228202 0.72943595\n",
      " 0.72854945 0.7348948  0.74389963 0.74926519 0.75477074 0.75313774\n",
      " 0.78024546 0.77730605 0.77805255 0.79326278 0.79937484 0.80595347\n",
      " 0.80306076 0.8024542  0.80669997 0.80814633 0.80879954 0.81234546\n",
      " 0.80721319 0.80422719 0.80739983 0.8101526  0.80553355 0.79862834\n",
      " 0.79148979 0.79741521 0.7826716  0.78869037 0.79629549 0.79550229\n",
      " 0.80660668 0.80553355 0.80371391 0.81379188 0.81010596 0.8101526\n",
      " 0.81514488 0.819624   0.83264127 0.8360939  0.83189477 0.84724494\n",
      " 0.82536278 0.82275    0.82834885 0.82806891 0.81332531 0.80385391\n",
      " 0.80376061 0.80586018 0.82820885 0.82396307 0.82638927 0.83203476\n",
      " 0.83021513 0.83236134 0.84075966 0.84127282 0.85233051 0.84859795\n",
      " 0.84323239 0.84416553 0.83007513 0.8338544  0.83390104 0.82652921\n",
      " 0.82643592 0.824243   0.82079043 0.83590726 0.82624928 0.81533152\n",
      " 0.82279665 0.82648256 0.82335657 0.82517614 0.82060379 0.8220035\n",
      " 0.82195686 0.825876   0.82881542 0.83670041 0.83884668 0.83096163\n",
      " 0.82610929 0.83021513 0.8305417  0.82914199 0.82498956 0.82261001\n",
      " 0.81080581 0.80959274 0.81509824 0.81948401 0.82694913 0.82452299\n",
      " 0.82330986 0.83212805 0.8274157  0.82998184 0.82951527 0.83544069\n",
      " 0.85466336 0.86903375 0.87640558 0.88424399 0.88783655 0.89744795\n",
      " 0.89926753 0.88895628 0.89595483 0.89016941 0.88750998 0.88909627\n",
      " 0.88704341 0.88778985 0.89922082 0.88788326 0.89567496 0.89604824\n",
      " 0.90304679 0.91555078 0.92446232 0.93589329 0.95147669 0.94886397\n",
      " 0.96608036 0.96887979 0.97438534 0.96790006 0.9796576  0.98031076\n",
      " 0.98478988 0.99645413 0.9875426  0.99248829 1.         0.96911307\n",
      " 0.9655205  0.95333284 0.93738168 0.92235214 0.90938652 0.89711308\n",
      " 0.88504374 0.87320054 0.86163616 0.85038078]\n",
      "9 day output [[0.8394632]]\n",
      "10 day input [0.82097701 0.82088372 0.82251672 0.80870625 0.80511362 0.79382265\n",
      " 0.80418048 0.8023609  0.80124112 0.79676206 0.78757059 0.78803716\n",
      " 0.7945225  0.79727528 0.80385391 0.79190972 0.7945225  0.79802178\n",
      " 0.78738395 0.79713528 0.79648207 0.79326278 0.78827045 0.79326278\n",
      " 0.79442921 0.79470914 0.78402467 0.78299824 0.77338685 0.77637291\n",
      " 0.77851912 0.77399341 0.77320026 0.77175385 0.77730605 0.77758598\n",
      " 0.77660619 0.77152056 0.77968554 0.77912568 0.7820651  0.79368265\n",
      " 0.79508236 0.79550229 0.79190972 0.80348063 0.80362062 0.7993282\n",
      " 0.79746192 0.79559564 0.79643543 0.79960813 0.78864373 0.79564228\n",
      " 0.80035463 0.78645081 0.78491116 0.78239167 0.7859376  0.78309153\n",
      " 0.77870576 0.77464662 0.77418005 0.77348019 0.77240706 0.76862785\n",
      " 0.76564179 0.76004295 0.76097609 0.76433543 0.76578178 0.77609298\n",
      " 0.77595298 0.77264034 0.77581304 0.78449124 0.78813051 0.78528439\n",
      " 0.78603094 0.77968554 0.77590634 0.77562641 0.77604633 0.77833254\n",
      " 0.77273369 0.7717072  0.77212713 0.77851912 0.78215839 0.78239167\n",
      " 0.78873702 0.77641955 0.77931232 0.77520648 0.76764807 0.75421082\n",
      " 0.74898525 0.74324642 0.73480151 0.73228202 0.72943595 0.72854945\n",
      " 0.7348948  0.74389963 0.74926519 0.75477074 0.75313774 0.78024546\n",
      " 0.77730605 0.77805255 0.79326278 0.79937484 0.80595347 0.80306076\n",
      " 0.8024542  0.80669997 0.80814633 0.80879954 0.81234546 0.80721319\n",
      " 0.80422719 0.80739983 0.8101526  0.80553355 0.79862834 0.79148979\n",
      " 0.79741521 0.7826716  0.78869037 0.79629549 0.79550229 0.80660668\n",
      " 0.80553355 0.80371391 0.81379188 0.81010596 0.8101526  0.81514488\n",
      " 0.819624   0.83264127 0.8360939  0.83189477 0.84724494 0.82536278\n",
      " 0.82275    0.82834885 0.82806891 0.81332531 0.80385391 0.80376061\n",
      " 0.80586018 0.82820885 0.82396307 0.82638927 0.83203476 0.83021513\n",
      " 0.83236134 0.84075966 0.84127282 0.85233051 0.84859795 0.84323239\n",
      " 0.84416553 0.83007513 0.8338544  0.83390104 0.82652921 0.82643592\n",
      " 0.824243   0.82079043 0.83590726 0.82624928 0.81533152 0.82279665\n",
      " 0.82648256 0.82335657 0.82517614 0.82060379 0.8220035  0.82195686\n",
      " 0.825876   0.82881542 0.83670041 0.83884668 0.83096163 0.82610929\n",
      " 0.83021513 0.8305417  0.82914199 0.82498956 0.82261001 0.81080581\n",
      " 0.80959274 0.81509824 0.81948401 0.82694913 0.82452299 0.82330986\n",
      " 0.83212805 0.8274157  0.82998184 0.82951527 0.83544069 0.85466336\n",
      " 0.86903375 0.87640558 0.88424399 0.88783655 0.89744795 0.89926753\n",
      " 0.88895628 0.89595483 0.89016941 0.88750998 0.88909627 0.88704341\n",
      " 0.88778985 0.89922082 0.88788326 0.89567496 0.89604824 0.90304679\n",
      " 0.91555078 0.92446232 0.93589329 0.95147669 0.94886397 0.96608036\n",
      " 0.96887979 0.97438534 0.96790006 0.9796576  0.98031076 0.98478988\n",
      " 0.99645413 0.9875426  0.99248829 1.         0.96911307 0.9655205\n",
      " 0.95333284 0.93738168 0.92235214 0.90938652 0.89711308 0.88504374\n",
      " 0.87320054 0.86163616 0.85038078 0.83946317]\n",
      "10 day output [[0.8289124]]\n",
      "11 day input [0.82088372 0.82251672 0.80870625 0.80511362 0.79382265 0.80418048\n",
      " 0.8023609  0.80124112 0.79676206 0.78757059 0.78803716 0.7945225\n",
      " 0.79727528 0.80385391 0.79190972 0.7945225  0.79802178 0.78738395\n",
      " 0.79713528 0.79648207 0.79326278 0.78827045 0.79326278 0.79442921\n",
      " 0.79470914 0.78402467 0.78299824 0.77338685 0.77637291 0.77851912\n",
      " 0.77399341 0.77320026 0.77175385 0.77730605 0.77758598 0.77660619\n",
      " 0.77152056 0.77968554 0.77912568 0.7820651  0.79368265 0.79508236\n",
      " 0.79550229 0.79190972 0.80348063 0.80362062 0.7993282  0.79746192\n",
      " 0.79559564 0.79643543 0.79960813 0.78864373 0.79564228 0.80035463\n",
      " 0.78645081 0.78491116 0.78239167 0.7859376  0.78309153 0.77870576\n",
      " 0.77464662 0.77418005 0.77348019 0.77240706 0.76862785 0.76564179\n",
      " 0.76004295 0.76097609 0.76433543 0.76578178 0.77609298 0.77595298\n",
      " 0.77264034 0.77581304 0.78449124 0.78813051 0.78528439 0.78603094\n",
      " 0.77968554 0.77590634 0.77562641 0.77604633 0.77833254 0.77273369\n",
      " 0.7717072  0.77212713 0.77851912 0.78215839 0.78239167 0.78873702\n",
      " 0.77641955 0.77931232 0.77520648 0.76764807 0.75421082 0.74898525\n",
      " 0.74324642 0.73480151 0.73228202 0.72943595 0.72854945 0.7348948\n",
      " 0.74389963 0.74926519 0.75477074 0.75313774 0.78024546 0.77730605\n",
      " 0.77805255 0.79326278 0.79937484 0.80595347 0.80306076 0.8024542\n",
      " 0.80669997 0.80814633 0.80879954 0.81234546 0.80721319 0.80422719\n",
      " 0.80739983 0.8101526  0.80553355 0.79862834 0.79148979 0.79741521\n",
      " 0.7826716  0.78869037 0.79629549 0.79550229 0.80660668 0.80553355\n",
      " 0.80371391 0.81379188 0.81010596 0.8101526  0.81514488 0.819624\n",
      " 0.83264127 0.8360939  0.83189477 0.84724494 0.82536278 0.82275\n",
      " 0.82834885 0.82806891 0.81332531 0.80385391 0.80376061 0.80586018\n",
      " 0.82820885 0.82396307 0.82638927 0.83203476 0.83021513 0.83236134\n",
      " 0.84075966 0.84127282 0.85233051 0.84859795 0.84323239 0.84416553\n",
      " 0.83007513 0.8338544  0.83390104 0.82652921 0.82643592 0.824243\n",
      " 0.82079043 0.83590726 0.82624928 0.81533152 0.82279665 0.82648256\n",
      " 0.82335657 0.82517614 0.82060379 0.8220035  0.82195686 0.825876\n",
      " 0.82881542 0.83670041 0.83884668 0.83096163 0.82610929 0.83021513\n",
      " 0.8305417  0.82914199 0.82498956 0.82261001 0.81080581 0.80959274\n",
      " 0.81509824 0.81948401 0.82694913 0.82452299 0.82330986 0.83212805\n",
      " 0.8274157  0.82998184 0.82951527 0.83544069 0.85466336 0.86903375\n",
      " 0.87640558 0.88424399 0.88783655 0.89744795 0.89926753 0.88895628\n",
      " 0.89595483 0.89016941 0.88750998 0.88909627 0.88704341 0.88778985\n",
      " 0.89922082 0.88788326 0.89567496 0.89604824 0.90304679 0.91555078\n",
      " 0.92446232 0.93589329 0.95147669 0.94886397 0.96608036 0.96887979\n",
      " 0.97438534 0.96790006 0.9796576  0.98031076 0.98478988 0.99645413\n",
      " 0.9875426  0.99248829 1.         0.96911307 0.9655205  0.95333284\n",
      " 0.93738168 0.92235214 0.90938652 0.89711308 0.88504374 0.87320054\n",
      " 0.86163616 0.85038078 0.83946317 0.82891238]\n",
      "11 day output [[0.81875145]]\n",
      "12 day input [0.82251672 0.80870625 0.80511362 0.79382265 0.80418048 0.8023609\n",
      " 0.80124112 0.79676206 0.78757059 0.78803716 0.7945225  0.79727528\n",
      " 0.80385391 0.79190972 0.7945225  0.79802178 0.78738395 0.79713528\n",
      " 0.79648207 0.79326278 0.78827045 0.79326278 0.79442921 0.79470914\n",
      " 0.78402467 0.78299824 0.77338685 0.77637291 0.77851912 0.77399341\n",
      " 0.77320026 0.77175385 0.77730605 0.77758598 0.77660619 0.77152056\n",
      " 0.77968554 0.77912568 0.7820651  0.79368265 0.79508236 0.79550229\n",
      " 0.79190972 0.80348063 0.80362062 0.7993282  0.79746192 0.79559564\n",
      " 0.79643543 0.79960813 0.78864373 0.79564228 0.80035463 0.78645081\n",
      " 0.78491116 0.78239167 0.7859376  0.78309153 0.77870576 0.77464662\n",
      " 0.77418005 0.77348019 0.77240706 0.76862785 0.76564179 0.76004295\n",
      " 0.76097609 0.76433543 0.76578178 0.77609298 0.77595298 0.77264034\n",
      " 0.77581304 0.78449124 0.78813051 0.78528439 0.78603094 0.77968554\n",
      " 0.77590634 0.77562641 0.77604633 0.77833254 0.77273369 0.7717072\n",
      " 0.77212713 0.77851912 0.78215839 0.78239167 0.78873702 0.77641955\n",
      " 0.77931232 0.77520648 0.76764807 0.75421082 0.74898525 0.74324642\n",
      " 0.73480151 0.73228202 0.72943595 0.72854945 0.7348948  0.74389963\n",
      " 0.74926519 0.75477074 0.75313774 0.78024546 0.77730605 0.77805255\n",
      " 0.79326278 0.79937484 0.80595347 0.80306076 0.8024542  0.80669997\n",
      " 0.80814633 0.80879954 0.81234546 0.80721319 0.80422719 0.80739983\n",
      " 0.8101526  0.80553355 0.79862834 0.79148979 0.79741521 0.7826716\n",
      " 0.78869037 0.79629549 0.79550229 0.80660668 0.80553355 0.80371391\n",
      " 0.81379188 0.81010596 0.8101526  0.81514488 0.819624   0.83264127\n",
      " 0.8360939  0.83189477 0.84724494 0.82536278 0.82275    0.82834885\n",
      " 0.82806891 0.81332531 0.80385391 0.80376061 0.80586018 0.82820885\n",
      " 0.82396307 0.82638927 0.83203476 0.83021513 0.83236134 0.84075966\n",
      " 0.84127282 0.85233051 0.84859795 0.84323239 0.84416553 0.83007513\n",
      " 0.8338544  0.83390104 0.82652921 0.82643592 0.824243   0.82079043\n",
      " 0.83590726 0.82624928 0.81533152 0.82279665 0.82648256 0.82335657\n",
      " 0.82517614 0.82060379 0.8220035  0.82195686 0.825876   0.82881542\n",
      " 0.83670041 0.83884668 0.83096163 0.82610929 0.83021513 0.8305417\n",
      " 0.82914199 0.82498956 0.82261001 0.81080581 0.80959274 0.81509824\n",
      " 0.81948401 0.82694913 0.82452299 0.82330986 0.83212805 0.8274157\n",
      " 0.82998184 0.82951527 0.83544069 0.85466336 0.86903375 0.87640558\n",
      " 0.88424399 0.88783655 0.89744795 0.89926753 0.88895628 0.89595483\n",
      " 0.89016941 0.88750998 0.88909627 0.88704341 0.88778985 0.89922082\n",
      " 0.88788326 0.89567496 0.89604824 0.90304679 0.91555078 0.92446232\n",
      " 0.93589329 0.95147669 0.94886397 0.96608036 0.96887979 0.97438534\n",
      " 0.96790006 0.9796576  0.98031076 0.98478988 0.99645413 0.9875426\n",
      " 0.99248829 1.         0.96911307 0.9655205  0.95333284 0.93738168\n",
      " 0.92235214 0.90938652 0.89711308 0.88504374 0.87320054 0.86163616\n",
      " 0.85038078 0.83946317 0.82891238 0.81875145]\n",
      "12 day output [[0.8089955]]\n",
      "13 day input [0.80870625 0.80511362 0.79382265 0.80418048 0.8023609  0.80124112\n",
      " 0.79676206 0.78757059 0.78803716 0.7945225  0.79727528 0.80385391\n",
      " 0.79190972 0.7945225  0.79802178 0.78738395 0.79713528 0.79648207\n",
      " 0.79326278 0.78827045 0.79326278 0.79442921 0.79470914 0.78402467\n",
      " 0.78299824 0.77338685 0.77637291 0.77851912 0.77399341 0.77320026\n",
      " 0.77175385 0.77730605 0.77758598 0.77660619 0.77152056 0.77968554\n",
      " 0.77912568 0.7820651  0.79368265 0.79508236 0.79550229 0.79190972\n",
      " 0.80348063 0.80362062 0.7993282  0.79746192 0.79559564 0.79643543\n",
      " 0.79960813 0.78864373 0.79564228 0.80035463 0.78645081 0.78491116\n",
      " 0.78239167 0.7859376  0.78309153 0.77870576 0.77464662 0.77418005\n",
      " 0.77348019 0.77240706 0.76862785 0.76564179 0.76004295 0.76097609\n",
      " 0.76433543 0.76578178 0.77609298 0.77595298 0.77264034 0.77581304\n",
      " 0.78449124 0.78813051 0.78528439 0.78603094 0.77968554 0.77590634\n",
      " 0.77562641 0.77604633 0.77833254 0.77273369 0.7717072  0.77212713\n",
      " 0.77851912 0.78215839 0.78239167 0.78873702 0.77641955 0.77931232\n",
      " 0.77520648 0.76764807 0.75421082 0.74898525 0.74324642 0.73480151\n",
      " 0.73228202 0.72943595 0.72854945 0.7348948  0.74389963 0.74926519\n",
      " 0.75477074 0.75313774 0.78024546 0.77730605 0.77805255 0.79326278\n",
      " 0.79937484 0.80595347 0.80306076 0.8024542  0.80669997 0.80814633\n",
      " 0.80879954 0.81234546 0.80721319 0.80422719 0.80739983 0.8101526\n",
      " 0.80553355 0.79862834 0.79148979 0.79741521 0.7826716  0.78869037\n",
      " 0.79629549 0.79550229 0.80660668 0.80553355 0.80371391 0.81379188\n",
      " 0.81010596 0.8101526  0.81514488 0.819624   0.83264127 0.8360939\n",
      " 0.83189477 0.84724494 0.82536278 0.82275    0.82834885 0.82806891\n",
      " 0.81332531 0.80385391 0.80376061 0.80586018 0.82820885 0.82396307\n",
      " 0.82638927 0.83203476 0.83021513 0.83236134 0.84075966 0.84127282\n",
      " 0.85233051 0.84859795 0.84323239 0.84416553 0.83007513 0.8338544\n",
      " 0.83390104 0.82652921 0.82643592 0.824243   0.82079043 0.83590726\n",
      " 0.82624928 0.81533152 0.82279665 0.82648256 0.82335657 0.82517614\n",
      " 0.82060379 0.8220035  0.82195686 0.825876   0.82881542 0.83670041\n",
      " 0.83884668 0.83096163 0.82610929 0.83021513 0.8305417  0.82914199\n",
      " 0.82498956 0.82261001 0.81080581 0.80959274 0.81509824 0.81948401\n",
      " 0.82694913 0.82452299 0.82330986 0.83212805 0.8274157  0.82998184\n",
      " 0.82951527 0.83544069 0.85466336 0.86903375 0.87640558 0.88424399\n",
      " 0.88783655 0.89744795 0.89926753 0.88895628 0.89595483 0.89016941\n",
      " 0.88750998 0.88909627 0.88704341 0.88778985 0.89922082 0.88788326\n",
      " 0.89567496 0.89604824 0.90304679 0.91555078 0.92446232 0.93589329\n",
      " 0.95147669 0.94886397 0.96608036 0.96887979 0.97438534 0.96790006\n",
      " 0.9796576  0.98031076 0.98478988 0.99645413 0.9875426  0.99248829\n",
      " 1.         0.96911307 0.9655205  0.95333284 0.93738168 0.92235214\n",
      " 0.90938652 0.89711308 0.88504374 0.87320054 0.86163616 0.85038078\n",
      " 0.83946317 0.82891238 0.81875145 0.80899549]\n",
      "13 day output [[0.7996509]]\n",
      "14 day input [0.80511362 0.79382265 0.80418048 0.8023609  0.80124112 0.79676206\n",
      " 0.78757059 0.78803716 0.7945225  0.79727528 0.80385391 0.79190972\n",
      " 0.7945225  0.79802178 0.78738395 0.79713528 0.79648207 0.79326278\n",
      " 0.78827045 0.79326278 0.79442921 0.79470914 0.78402467 0.78299824\n",
      " 0.77338685 0.77637291 0.77851912 0.77399341 0.77320026 0.77175385\n",
      " 0.77730605 0.77758598 0.77660619 0.77152056 0.77968554 0.77912568\n",
      " 0.7820651  0.79368265 0.79508236 0.79550229 0.79190972 0.80348063\n",
      " 0.80362062 0.7993282  0.79746192 0.79559564 0.79643543 0.79960813\n",
      " 0.78864373 0.79564228 0.80035463 0.78645081 0.78491116 0.78239167\n",
      " 0.7859376  0.78309153 0.77870576 0.77464662 0.77418005 0.77348019\n",
      " 0.77240706 0.76862785 0.76564179 0.76004295 0.76097609 0.76433543\n",
      " 0.76578178 0.77609298 0.77595298 0.77264034 0.77581304 0.78449124\n",
      " 0.78813051 0.78528439 0.78603094 0.77968554 0.77590634 0.77562641\n",
      " 0.77604633 0.77833254 0.77273369 0.7717072  0.77212713 0.77851912\n",
      " 0.78215839 0.78239167 0.78873702 0.77641955 0.77931232 0.77520648\n",
      " 0.76764807 0.75421082 0.74898525 0.74324642 0.73480151 0.73228202\n",
      " 0.72943595 0.72854945 0.7348948  0.74389963 0.74926519 0.75477074\n",
      " 0.75313774 0.78024546 0.77730605 0.77805255 0.79326278 0.79937484\n",
      " 0.80595347 0.80306076 0.8024542  0.80669997 0.80814633 0.80879954\n",
      " 0.81234546 0.80721319 0.80422719 0.80739983 0.8101526  0.80553355\n",
      " 0.79862834 0.79148979 0.79741521 0.7826716  0.78869037 0.79629549\n",
      " 0.79550229 0.80660668 0.80553355 0.80371391 0.81379188 0.81010596\n",
      " 0.8101526  0.81514488 0.819624   0.83264127 0.8360939  0.83189477\n",
      " 0.84724494 0.82536278 0.82275    0.82834885 0.82806891 0.81332531\n",
      " 0.80385391 0.80376061 0.80586018 0.82820885 0.82396307 0.82638927\n",
      " 0.83203476 0.83021513 0.83236134 0.84075966 0.84127282 0.85233051\n",
      " 0.84859795 0.84323239 0.84416553 0.83007513 0.8338544  0.83390104\n",
      " 0.82652921 0.82643592 0.824243   0.82079043 0.83590726 0.82624928\n",
      " 0.81533152 0.82279665 0.82648256 0.82335657 0.82517614 0.82060379\n",
      " 0.8220035  0.82195686 0.825876   0.82881542 0.83670041 0.83884668\n",
      " 0.83096163 0.82610929 0.83021513 0.8305417  0.82914199 0.82498956\n",
      " 0.82261001 0.81080581 0.80959274 0.81509824 0.81948401 0.82694913\n",
      " 0.82452299 0.82330986 0.83212805 0.8274157  0.82998184 0.82951527\n",
      " 0.83544069 0.85466336 0.86903375 0.87640558 0.88424399 0.88783655\n",
      " 0.89744795 0.89926753 0.88895628 0.89595483 0.89016941 0.88750998\n",
      " 0.88909627 0.88704341 0.88778985 0.89922082 0.88788326 0.89567496\n",
      " 0.89604824 0.90304679 0.91555078 0.92446232 0.93589329 0.95147669\n",
      " 0.94886397 0.96608036 0.96887979 0.97438534 0.96790006 0.9796576\n",
      " 0.98031076 0.98478988 0.99645413 0.9875426  0.99248829 1.\n",
      " 0.96911307 0.9655205  0.95333284 0.93738168 0.92235214 0.90938652\n",
      " 0.89711308 0.88504374 0.87320054 0.86163616 0.85038078 0.83946317\n",
      " 0.82891238 0.81875145 0.80899549 0.79965091]\n",
      "14 day output [[0.79071724]]\n",
      "15 day input [0.79382265 0.80418048 0.8023609  0.80124112 0.79676206 0.78757059\n",
      " 0.78803716 0.7945225  0.79727528 0.80385391 0.79190972 0.7945225\n",
      " 0.79802178 0.78738395 0.79713528 0.79648207 0.79326278 0.78827045\n",
      " 0.79326278 0.79442921 0.79470914 0.78402467 0.78299824 0.77338685\n",
      " 0.77637291 0.77851912 0.77399341 0.77320026 0.77175385 0.77730605\n",
      " 0.77758598 0.77660619 0.77152056 0.77968554 0.77912568 0.7820651\n",
      " 0.79368265 0.79508236 0.79550229 0.79190972 0.80348063 0.80362062\n",
      " 0.7993282  0.79746192 0.79559564 0.79643543 0.79960813 0.78864373\n",
      " 0.79564228 0.80035463 0.78645081 0.78491116 0.78239167 0.7859376\n",
      " 0.78309153 0.77870576 0.77464662 0.77418005 0.77348019 0.77240706\n",
      " 0.76862785 0.76564179 0.76004295 0.76097609 0.76433543 0.76578178\n",
      " 0.77609298 0.77595298 0.77264034 0.77581304 0.78449124 0.78813051\n",
      " 0.78528439 0.78603094 0.77968554 0.77590634 0.77562641 0.77604633\n",
      " 0.77833254 0.77273369 0.7717072  0.77212713 0.77851912 0.78215839\n",
      " 0.78239167 0.78873702 0.77641955 0.77931232 0.77520648 0.76764807\n",
      " 0.75421082 0.74898525 0.74324642 0.73480151 0.73228202 0.72943595\n",
      " 0.72854945 0.7348948  0.74389963 0.74926519 0.75477074 0.75313774\n",
      " 0.78024546 0.77730605 0.77805255 0.79326278 0.79937484 0.80595347\n",
      " 0.80306076 0.8024542  0.80669997 0.80814633 0.80879954 0.81234546\n",
      " 0.80721319 0.80422719 0.80739983 0.8101526  0.80553355 0.79862834\n",
      " 0.79148979 0.79741521 0.7826716  0.78869037 0.79629549 0.79550229\n",
      " 0.80660668 0.80553355 0.80371391 0.81379188 0.81010596 0.8101526\n",
      " 0.81514488 0.819624   0.83264127 0.8360939  0.83189477 0.84724494\n",
      " 0.82536278 0.82275    0.82834885 0.82806891 0.81332531 0.80385391\n",
      " 0.80376061 0.80586018 0.82820885 0.82396307 0.82638927 0.83203476\n",
      " 0.83021513 0.83236134 0.84075966 0.84127282 0.85233051 0.84859795\n",
      " 0.84323239 0.84416553 0.83007513 0.8338544  0.83390104 0.82652921\n",
      " 0.82643592 0.824243   0.82079043 0.83590726 0.82624928 0.81533152\n",
      " 0.82279665 0.82648256 0.82335657 0.82517614 0.82060379 0.8220035\n",
      " 0.82195686 0.825876   0.82881542 0.83670041 0.83884668 0.83096163\n",
      " 0.82610929 0.83021513 0.8305417  0.82914199 0.82498956 0.82261001\n",
      " 0.81080581 0.80959274 0.81509824 0.81948401 0.82694913 0.82452299\n",
      " 0.82330986 0.83212805 0.8274157  0.82998184 0.82951527 0.83544069\n",
      " 0.85466336 0.86903375 0.87640558 0.88424399 0.88783655 0.89744795\n",
      " 0.89926753 0.88895628 0.89595483 0.89016941 0.88750998 0.88909627\n",
      " 0.88704341 0.88778985 0.89922082 0.88788326 0.89567496 0.89604824\n",
      " 0.90304679 0.91555078 0.92446232 0.93589329 0.95147669 0.94886397\n",
      " 0.96608036 0.96887979 0.97438534 0.96790006 0.9796576  0.98031076\n",
      " 0.98478988 0.99645413 0.9875426  0.99248829 1.         0.96911307\n",
      " 0.9655205  0.95333284 0.93738168 0.92235214 0.90938652 0.89711308\n",
      " 0.88504374 0.87320054 0.86163616 0.85038078 0.83946317 0.82891238\n",
      " 0.81875145 0.80899549 0.79965091 0.79071724]\n",
      "15 day output [[0.7821882]]\n",
      "16 day input [0.80418048 0.8023609  0.80124112 0.79676206 0.78757059 0.78803716\n",
      " 0.7945225  0.79727528 0.80385391 0.79190972 0.7945225  0.79802178\n",
      " 0.78738395 0.79713528 0.79648207 0.79326278 0.78827045 0.79326278\n",
      " 0.79442921 0.79470914 0.78402467 0.78299824 0.77338685 0.77637291\n",
      " 0.77851912 0.77399341 0.77320026 0.77175385 0.77730605 0.77758598\n",
      " 0.77660619 0.77152056 0.77968554 0.77912568 0.7820651  0.79368265\n",
      " 0.79508236 0.79550229 0.79190972 0.80348063 0.80362062 0.7993282\n",
      " 0.79746192 0.79559564 0.79643543 0.79960813 0.78864373 0.79564228\n",
      " 0.80035463 0.78645081 0.78491116 0.78239167 0.7859376  0.78309153\n",
      " 0.77870576 0.77464662 0.77418005 0.77348019 0.77240706 0.76862785\n",
      " 0.76564179 0.76004295 0.76097609 0.76433543 0.76578178 0.77609298\n",
      " 0.77595298 0.77264034 0.77581304 0.78449124 0.78813051 0.78528439\n",
      " 0.78603094 0.77968554 0.77590634 0.77562641 0.77604633 0.77833254\n",
      " 0.77273369 0.7717072  0.77212713 0.77851912 0.78215839 0.78239167\n",
      " 0.78873702 0.77641955 0.77931232 0.77520648 0.76764807 0.75421082\n",
      " 0.74898525 0.74324642 0.73480151 0.73228202 0.72943595 0.72854945\n",
      " 0.7348948  0.74389963 0.74926519 0.75477074 0.75313774 0.78024546\n",
      " 0.77730605 0.77805255 0.79326278 0.79937484 0.80595347 0.80306076\n",
      " 0.8024542  0.80669997 0.80814633 0.80879954 0.81234546 0.80721319\n",
      " 0.80422719 0.80739983 0.8101526  0.80553355 0.79862834 0.79148979\n",
      " 0.79741521 0.7826716  0.78869037 0.79629549 0.79550229 0.80660668\n",
      " 0.80553355 0.80371391 0.81379188 0.81010596 0.8101526  0.81514488\n",
      " 0.819624   0.83264127 0.8360939  0.83189477 0.84724494 0.82536278\n",
      " 0.82275    0.82834885 0.82806891 0.81332531 0.80385391 0.80376061\n",
      " 0.80586018 0.82820885 0.82396307 0.82638927 0.83203476 0.83021513\n",
      " 0.83236134 0.84075966 0.84127282 0.85233051 0.84859795 0.84323239\n",
      " 0.84416553 0.83007513 0.8338544  0.83390104 0.82652921 0.82643592\n",
      " 0.824243   0.82079043 0.83590726 0.82624928 0.81533152 0.82279665\n",
      " 0.82648256 0.82335657 0.82517614 0.82060379 0.8220035  0.82195686\n",
      " 0.825876   0.82881542 0.83670041 0.83884668 0.83096163 0.82610929\n",
      " 0.83021513 0.8305417  0.82914199 0.82498956 0.82261001 0.81080581\n",
      " 0.80959274 0.81509824 0.81948401 0.82694913 0.82452299 0.82330986\n",
      " 0.83212805 0.8274157  0.82998184 0.82951527 0.83544069 0.85466336\n",
      " 0.86903375 0.87640558 0.88424399 0.88783655 0.89744795 0.89926753\n",
      " 0.88895628 0.89595483 0.89016941 0.88750998 0.88909627 0.88704341\n",
      " 0.88778985 0.89922082 0.88788326 0.89567496 0.89604824 0.90304679\n",
      " 0.91555078 0.92446232 0.93589329 0.95147669 0.94886397 0.96608036\n",
      " 0.96887979 0.97438534 0.96790006 0.9796576  0.98031076 0.98478988\n",
      " 0.99645413 0.9875426  0.99248829 1.         0.96911307 0.9655205\n",
      " 0.95333284 0.93738168 0.92235214 0.90938652 0.89711308 0.88504374\n",
      " 0.87320054 0.86163616 0.85038078 0.83946317 0.82891238 0.81875145\n",
      " 0.80899549 0.79965091 0.79071724 0.78218818]\n",
      "16 day output [[0.77405244]]\n",
      "17 day input [0.8023609  0.80124112 0.79676206 0.78757059 0.78803716 0.7945225\n",
      " 0.79727528 0.80385391 0.79190972 0.7945225  0.79802178 0.78738395\n",
      " 0.79713528 0.79648207 0.79326278 0.78827045 0.79326278 0.79442921\n",
      " 0.79470914 0.78402467 0.78299824 0.77338685 0.77637291 0.77851912\n",
      " 0.77399341 0.77320026 0.77175385 0.77730605 0.77758598 0.77660619\n",
      " 0.77152056 0.77968554 0.77912568 0.7820651  0.79368265 0.79508236\n",
      " 0.79550229 0.79190972 0.80348063 0.80362062 0.7993282  0.79746192\n",
      " 0.79559564 0.79643543 0.79960813 0.78864373 0.79564228 0.80035463\n",
      " 0.78645081 0.78491116 0.78239167 0.7859376  0.78309153 0.77870576\n",
      " 0.77464662 0.77418005 0.77348019 0.77240706 0.76862785 0.76564179\n",
      " 0.76004295 0.76097609 0.76433543 0.76578178 0.77609298 0.77595298\n",
      " 0.77264034 0.77581304 0.78449124 0.78813051 0.78528439 0.78603094\n",
      " 0.77968554 0.77590634 0.77562641 0.77604633 0.77833254 0.77273369\n",
      " 0.7717072  0.77212713 0.77851912 0.78215839 0.78239167 0.78873702\n",
      " 0.77641955 0.77931232 0.77520648 0.76764807 0.75421082 0.74898525\n",
      " 0.74324642 0.73480151 0.73228202 0.72943595 0.72854945 0.7348948\n",
      " 0.74389963 0.74926519 0.75477074 0.75313774 0.78024546 0.77730605\n",
      " 0.77805255 0.79326278 0.79937484 0.80595347 0.80306076 0.8024542\n",
      " 0.80669997 0.80814633 0.80879954 0.81234546 0.80721319 0.80422719\n",
      " 0.80739983 0.8101526  0.80553355 0.79862834 0.79148979 0.79741521\n",
      " 0.7826716  0.78869037 0.79629549 0.79550229 0.80660668 0.80553355\n",
      " 0.80371391 0.81379188 0.81010596 0.8101526  0.81514488 0.819624\n",
      " 0.83264127 0.8360939  0.83189477 0.84724494 0.82536278 0.82275\n",
      " 0.82834885 0.82806891 0.81332531 0.80385391 0.80376061 0.80586018\n",
      " 0.82820885 0.82396307 0.82638927 0.83203476 0.83021513 0.83236134\n",
      " 0.84075966 0.84127282 0.85233051 0.84859795 0.84323239 0.84416553\n",
      " 0.83007513 0.8338544  0.83390104 0.82652921 0.82643592 0.824243\n",
      " 0.82079043 0.83590726 0.82624928 0.81533152 0.82279665 0.82648256\n",
      " 0.82335657 0.82517614 0.82060379 0.8220035  0.82195686 0.825876\n",
      " 0.82881542 0.83670041 0.83884668 0.83096163 0.82610929 0.83021513\n",
      " 0.8305417  0.82914199 0.82498956 0.82261001 0.81080581 0.80959274\n",
      " 0.81509824 0.81948401 0.82694913 0.82452299 0.82330986 0.83212805\n",
      " 0.8274157  0.82998184 0.82951527 0.83544069 0.85466336 0.86903375\n",
      " 0.87640558 0.88424399 0.88783655 0.89744795 0.89926753 0.88895628\n",
      " 0.89595483 0.89016941 0.88750998 0.88909627 0.88704341 0.88778985\n",
      " 0.89922082 0.88788326 0.89567496 0.89604824 0.90304679 0.91555078\n",
      " 0.92446232 0.93589329 0.95147669 0.94886397 0.96608036 0.96887979\n",
      " 0.97438534 0.96790006 0.9796576  0.98031076 0.98478988 0.99645413\n",
      " 0.9875426  0.99248829 1.         0.96911307 0.9655205  0.95333284\n",
      " 0.93738168 0.92235214 0.90938652 0.89711308 0.88504374 0.87320054\n",
      " 0.86163616 0.85038078 0.83946317 0.82891238 0.81875145 0.80899549\n",
      " 0.79965091 0.79071724 0.78218818 0.77405244]\n",
      "17 day output [[0.76629573]]\n",
      "18 day input [0.80124112 0.79676206 0.78757059 0.78803716 0.7945225  0.79727528\n",
      " 0.80385391 0.79190972 0.7945225  0.79802178 0.78738395 0.79713528\n",
      " 0.79648207 0.79326278 0.78827045 0.79326278 0.79442921 0.79470914\n",
      " 0.78402467 0.78299824 0.77338685 0.77637291 0.77851912 0.77399341\n",
      " 0.77320026 0.77175385 0.77730605 0.77758598 0.77660619 0.77152056\n",
      " 0.77968554 0.77912568 0.7820651  0.79368265 0.79508236 0.79550229\n",
      " 0.79190972 0.80348063 0.80362062 0.7993282  0.79746192 0.79559564\n",
      " 0.79643543 0.79960813 0.78864373 0.79564228 0.80035463 0.78645081\n",
      " 0.78491116 0.78239167 0.7859376  0.78309153 0.77870576 0.77464662\n",
      " 0.77418005 0.77348019 0.77240706 0.76862785 0.76564179 0.76004295\n",
      " 0.76097609 0.76433543 0.76578178 0.77609298 0.77595298 0.77264034\n",
      " 0.77581304 0.78449124 0.78813051 0.78528439 0.78603094 0.77968554\n",
      " 0.77590634 0.77562641 0.77604633 0.77833254 0.77273369 0.7717072\n",
      " 0.77212713 0.77851912 0.78215839 0.78239167 0.78873702 0.77641955\n",
      " 0.77931232 0.77520648 0.76764807 0.75421082 0.74898525 0.74324642\n",
      " 0.73480151 0.73228202 0.72943595 0.72854945 0.7348948  0.74389963\n",
      " 0.74926519 0.75477074 0.75313774 0.78024546 0.77730605 0.77805255\n",
      " 0.79326278 0.79937484 0.80595347 0.80306076 0.8024542  0.80669997\n",
      " 0.80814633 0.80879954 0.81234546 0.80721319 0.80422719 0.80739983\n",
      " 0.8101526  0.80553355 0.79862834 0.79148979 0.79741521 0.7826716\n",
      " 0.78869037 0.79629549 0.79550229 0.80660668 0.80553355 0.80371391\n",
      " 0.81379188 0.81010596 0.8101526  0.81514488 0.819624   0.83264127\n",
      " 0.8360939  0.83189477 0.84724494 0.82536278 0.82275    0.82834885\n",
      " 0.82806891 0.81332531 0.80385391 0.80376061 0.80586018 0.82820885\n",
      " 0.82396307 0.82638927 0.83203476 0.83021513 0.83236134 0.84075966\n",
      " 0.84127282 0.85233051 0.84859795 0.84323239 0.84416553 0.83007513\n",
      " 0.8338544  0.83390104 0.82652921 0.82643592 0.824243   0.82079043\n",
      " 0.83590726 0.82624928 0.81533152 0.82279665 0.82648256 0.82335657\n",
      " 0.82517614 0.82060379 0.8220035  0.82195686 0.825876   0.82881542\n",
      " 0.83670041 0.83884668 0.83096163 0.82610929 0.83021513 0.8305417\n",
      " 0.82914199 0.82498956 0.82261001 0.81080581 0.80959274 0.81509824\n",
      " 0.81948401 0.82694913 0.82452299 0.82330986 0.83212805 0.8274157\n",
      " 0.82998184 0.82951527 0.83544069 0.85466336 0.86903375 0.87640558\n",
      " 0.88424399 0.88783655 0.89744795 0.89926753 0.88895628 0.89595483\n",
      " 0.89016941 0.88750998 0.88909627 0.88704341 0.88778985 0.89922082\n",
      " 0.88788326 0.89567496 0.89604824 0.90304679 0.91555078 0.92446232\n",
      " 0.93589329 0.95147669 0.94886397 0.96608036 0.96887979 0.97438534\n",
      " 0.96790006 0.9796576  0.98031076 0.98478988 0.99645413 0.9875426\n",
      " 0.99248829 1.         0.96911307 0.9655205  0.95333284 0.93738168\n",
      " 0.92235214 0.90938652 0.89711308 0.88504374 0.87320054 0.86163616\n",
      " 0.85038078 0.83946317 0.82891238 0.81875145 0.80899549 0.79965091\n",
      " 0.79071724 0.78218818 0.77405244 0.76629573]\n",
      "18 day output [[0.7589003]]\n",
      "19 day input [0.79676206 0.78757059 0.78803716 0.7945225  0.79727528 0.80385391\n",
      " 0.79190972 0.7945225  0.79802178 0.78738395 0.79713528 0.79648207\n",
      " 0.79326278 0.78827045 0.79326278 0.79442921 0.79470914 0.78402467\n",
      " 0.78299824 0.77338685 0.77637291 0.77851912 0.77399341 0.77320026\n",
      " 0.77175385 0.77730605 0.77758598 0.77660619 0.77152056 0.77968554\n",
      " 0.77912568 0.7820651  0.79368265 0.79508236 0.79550229 0.79190972\n",
      " 0.80348063 0.80362062 0.7993282  0.79746192 0.79559564 0.79643543\n",
      " 0.79960813 0.78864373 0.79564228 0.80035463 0.78645081 0.78491116\n",
      " 0.78239167 0.7859376  0.78309153 0.77870576 0.77464662 0.77418005\n",
      " 0.77348019 0.77240706 0.76862785 0.76564179 0.76004295 0.76097609\n",
      " 0.76433543 0.76578178 0.77609298 0.77595298 0.77264034 0.77581304\n",
      " 0.78449124 0.78813051 0.78528439 0.78603094 0.77968554 0.77590634\n",
      " 0.77562641 0.77604633 0.77833254 0.77273369 0.7717072  0.77212713\n",
      " 0.77851912 0.78215839 0.78239167 0.78873702 0.77641955 0.77931232\n",
      " 0.77520648 0.76764807 0.75421082 0.74898525 0.74324642 0.73480151\n",
      " 0.73228202 0.72943595 0.72854945 0.7348948  0.74389963 0.74926519\n",
      " 0.75477074 0.75313774 0.78024546 0.77730605 0.77805255 0.79326278\n",
      " 0.79937484 0.80595347 0.80306076 0.8024542  0.80669997 0.80814633\n",
      " 0.80879954 0.81234546 0.80721319 0.80422719 0.80739983 0.8101526\n",
      " 0.80553355 0.79862834 0.79148979 0.79741521 0.7826716  0.78869037\n",
      " 0.79629549 0.79550229 0.80660668 0.80553355 0.80371391 0.81379188\n",
      " 0.81010596 0.8101526  0.81514488 0.819624   0.83264127 0.8360939\n",
      " 0.83189477 0.84724494 0.82536278 0.82275    0.82834885 0.82806891\n",
      " 0.81332531 0.80385391 0.80376061 0.80586018 0.82820885 0.82396307\n",
      " 0.82638927 0.83203476 0.83021513 0.83236134 0.84075966 0.84127282\n",
      " 0.85233051 0.84859795 0.84323239 0.84416553 0.83007513 0.8338544\n",
      " 0.83390104 0.82652921 0.82643592 0.824243   0.82079043 0.83590726\n",
      " 0.82624928 0.81533152 0.82279665 0.82648256 0.82335657 0.82517614\n",
      " 0.82060379 0.8220035  0.82195686 0.825876   0.82881542 0.83670041\n",
      " 0.83884668 0.83096163 0.82610929 0.83021513 0.8305417  0.82914199\n",
      " 0.82498956 0.82261001 0.81080581 0.80959274 0.81509824 0.81948401\n",
      " 0.82694913 0.82452299 0.82330986 0.83212805 0.8274157  0.82998184\n",
      " 0.82951527 0.83544069 0.85466336 0.86903375 0.87640558 0.88424399\n",
      " 0.88783655 0.89744795 0.89926753 0.88895628 0.89595483 0.89016941\n",
      " 0.88750998 0.88909627 0.88704341 0.88778985 0.89922082 0.88788326\n",
      " 0.89567496 0.89604824 0.90304679 0.91555078 0.92446232 0.93589329\n",
      " 0.95147669 0.94886397 0.96608036 0.96887979 0.97438534 0.96790006\n",
      " 0.9796576  0.98031076 0.98478988 0.99645413 0.9875426  0.99248829\n",
      " 1.         0.96911307 0.9655205  0.95333284 0.93738168 0.92235214\n",
      " 0.90938652 0.89711308 0.88504374 0.87320054 0.86163616 0.85038078\n",
      " 0.83946317 0.82891238 0.81875145 0.80899549 0.79965091 0.79071724\n",
      " 0.78218818 0.77405244 0.76629573 0.75890028]\n",
      "19 day output [[0.7518485]]\n",
      "20 day input [0.78757059 0.78803716 0.7945225  0.79727528 0.80385391 0.79190972\n",
      " 0.7945225  0.79802178 0.78738395 0.79713528 0.79648207 0.79326278\n",
      " 0.78827045 0.79326278 0.79442921 0.79470914 0.78402467 0.78299824\n",
      " 0.77338685 0.77637291 0.77851912 0.77399341 0.77320026 0.77175385\n",
      " 0.77730605 0.77758598 0.77660619 0.77152056 0.77968554 0.77912568\n",
      " 0.7820651  0.79368265 0.79508236 0.79550229 0.79190972 0.80348063\n",
      " 0.80362062 0.7993282  0.79746192 0.79559564 0.79643543 0.79960813\n",
      " 0.78864373 0.79564228 0.80035463 0.78645081 0.78491116 0.78239167\n",
      " 0.7859376  0.78309153 0.77870576 0.77464662 0.77418005 0.77348019\n",
      " 0.77240706 0.76862785 0.76564179 0.76004295 0.76097609 0.76433543\n",
      " 0.76578178 0.77609298 0.77595298 0.77264034 0.77581304 0.78449124\n",
      " 0.78813051 0.78528439 0.78603094 0.77968554 0.77590634 0.77562641\n",
      " 0.77604633 0.77833254 0.77273369 0.7717072  0.77212713 0.77851912\n",
      " 0.78215839 0.78239167 0.78873702 0.77641955 0.77931232 0.77520648\n",
      " 0.76764807 0.75421082 0.74898525 0.74324642 0.73480151 0.73228202\n",
      " 0.72943595 0.72854945 0.7348948  0.74389963 0.74926519 0.75477074\n",
      " 0.75313774 0.78024546 0.77730605 0.77805255 0.79326278 0.79937484\n",
      " 0.80595347 0.80306076 0.8024542  0.80669997 0.80814633 0.80879954\n",
      " 0.81234546 0.80721319 0.80422719 0.80739983 0.8101526  0.80553355\n",
      " 0.79862834 0.79148979 0.79741521 0.7826716  0.78869037 0.79629549\n",
      " 0.79550229 0.80660668 0.80553355 0.80371391 0.81379188 0.81010596\n",
      " 0.8101526  0.81514488 0.819624   0.83264127 0.8360939  0.83189477\n",
      " 0.84724494 0.82536278 0.82275    0.82834885 0.82806891 0.81332531\n",
      " 0.80385391 0.80376061 0.80586018 0.82820885 0.82396307 0.82638927\n",
      " 0.83203476 0.83021513 0.83236134 0.84075966 0.84127282 0.85233051\n",
      " 0.84859795 0.84323239 0.84416553 0.83007513 0.8338544  0.83390104\n",
      " 0.82652921 0.82643592 0.824243   0.82079043 0.83590726 0.82624928\n",
      " 0.81533152 0.82279665 0.82648256 0.82335657 0.82517614 0.82060379\n",
      " 0.8220035  0.82195686 0.825876   0.82881542 0.83670041 0.83884668\n",
      " 0.83096163 0.82610929 0.83021513 0.8305417  0.82914199 0.82498956\n",
      " 0.82261001 0.81080581 0.80959274 0.81509824 0.81948401 0.82694913\n",
      " 0.82452299 0.82330986 0.83212805 0.8274157  0.82998184 0.82951527\n",
      " 0.83544069 0.85466336 0.86903375 0.87640558 0.88424399 0.88783655\n",
      " 0.89744795 0.89926753 0.88895628 0.89595483 0.89016941 0.88750998\n",
      " 0.88909627 0.88704341 0.88778985 0.89922082 0.88788326 0.89567496\n",
      " 0.89604824 0.90304679 0.91555078 0.92446232 0.93589329 0.95147669\n",
      " 0.94886397 0.96608036 0.96887979 0.97438534 0.96790006 0.9796576\n",
      " 0.98031076 0.98478988 0.99645413 0.9875426  0.99248829 1.\n",
      " 0.96911307 0.9655205  0.95333284 0.93738168 0.92235214 0.90938652\n",
      " 0.89711308 0.88504374 0.87320054 0.86163616 0.85038078 0.83946317\n",
      " 0.82891238 0.81875145 0.80899549 0.79965091 0.79071724 0.78218818\n",
      " 0.77405244 0.76629573 0.75890028 0.75184852]\n",
      "20 day output [[0.74511933]]\n",
      "21 day input [0.78803716 0.7945225  0.79727528 0.80385391 0.79190972 0.7945225\n",
      " 0.79802178 0.78738395 0.79713528 0.79648207 0.79326278 0.78827045\n",
      " 0.79326278 0.79442921 0.79470914 0.78402467 0.78299824 0.77338685\n",
      " 0.77637291 0.77851912 0.77399341 0.77320026 0.77175385 0.77730605\n",
      " 0.77758598 0.77660619 0.77152056 0.77968554 0.77912568 0.7820651\n",
      " 0.79368265 0.79508236 0.79550229 0.79190972 0.80348063 0.80362062\n",
      " 0.7993282  0.79746192 0.79559564 0.79643543 0.79960813 0.78864373\n",
      " 0.79564228 0.80035463 0.78645081 0.78491116 0.78239167 0.7859376\n",
      " 0.78309153 0.77870576 0.77464662 0.77418005 0.77348019 0.77240706\n",
      " 0.76862785 0.76564179 0.76004295 0.76097609 0.76433543 0.76578178\n",
      " 0.77609298 0.77595298 0.77264034 0.77581304 0.78449124 0.78813051\n",
      " 0.78528439 0.78603094 0.77968554 0.77590634 0.77562641 0.77604633\n",
      " 0.77833254 0.77273369 0.7717072  0.77212713 0.77851912 0.78215839\n",
      " 0.78239167 0.78873702 0.77641955 0.77931232 0.77520648 0.76764807\n",
      " 0.75421082 0.74898525 0.74324642 0.73480151 0.73228202 0.72943595\n",
      " 0.72854945 0.7348948  0.74389963 0.74926519 0.75477074 0.75313774\n",
      " 0.78024546 0.77730605 0.77805255 0.79326278 0.79937484 0.80595347\n",
      " 0.80306076 0.8024542  0.80669997 0.80814633 0.80879954 0.81234546\n",
      " 0.80721319 0.80422719 0.80739983 0.8101526  0.80553355 0.79862834\n",
      " 0.79148979 0.79741521 0.7826716  0.78869037 0.79629549 0.79550229\n",
      " 0.80660668 0.80553355 0.80371391 0.81379188 0.81010596 0.8101526\n",
      " 0.81514488 0.819624   0.83264127 0.8360939  0.83189477 0.84724494\n",
      " 0.82536278 0.82275    0.82834885 0.82806891 0.81332531 0.80385391\n",
      " 0.80376061 0.80586018 0.82820885 0.82396307 0.82638927 0.83203476\n",
      " 0.83021513 0.83236134 0.84075966 0.84127282 0.85233051 0.84859795\n",
      " 0.84323239 0.84416553 0.83007513 0.8338544  0.83390104 0.82652921\n",
      " 0.82643592 0.824243   0.82079043 0.83590726 0.82624928 0.81533152\n",
      " 0.82279665 0.82648256 0.82335657 0.82517614 0.82060379 0.8220035\n",
      " 0.82195686 0.825876   0.82881542 0.83670041 0.83884668 0.83096163\n",
      " 0.82610929 0.83021513 0.8305417  0.82914199 0.82498956 0.82261001\n",
      " 0.81080581 0.80959274 0.81509824 0.81948401 0.82694913 0.82452299\n",
      " 0.82330986 0.83212805 0.8274157  0.82998184 0.82951527 0.83544069\n",
      " 0.85466336 0.86903375 0.87640558 0.88424399 0.88783655 0.89744795\n",
      " 0.89926753 0.88895628 0.89595483 0.89016941 0.88750998 0.88909627\n",
      " 0.88704341 0.88778985 0.89922082 0.88788326 0.89567496 0.89604824\n",
      " 0.90304679 0.91555078 0.92446232 0.93589329 0.95147669 0.94886397\n",
      " 0.96608036 0.96887979 0.97438534 0.96790006 0.9796576  0.98031076\n",
      " 0.98478988 0.99645413 0.9875426  0.99248829 1.         0.96911307\n",
      " 0.9655205  0.95333284 0.93738168 0.92235214 0.90938652 0.89711308\n",
      " 0.88504374 0.87320054 0.86163616 0.85038078 0.83946317 0.82891238\n",
      " 0.81875145 0.80899549 0.79965091 0.79071724 0.78218818 0.77405244\n",
      " 0.76629573 0.75890028 0.75184852 0.74511933]\n",
      "21 day output [[0.7386924]]\n",
      "22 day input [0.7945225  0.79727528 0.80385391 0.79190972 0.7945225  0.79802178\n",
      " 0.78738395 0.79713528 0.79648207 0.79326278 0.78827045 0.79326278\n",
      " 0.79442921 0.79470914 0.78402467 0.78299824 0.77338685 0.77637291\n",
      " 0.77851912 0.77399341 0.77320026 0.77175385 0.77730605 0.77758598\n",
      " 0.77660619 0.77152056 0.77968554 0.77912568 0.7820651  0.79368265\n",
      " 0.79508236 0.79550229 0.79190972 0.80348063 0.80362062 0.7993282\n",
      " 0.79746192 0.79559564 0.79643543 0.79960813 0.78864373 0.79564228\n",
      " 0.80035463 0.78645081 0.78491116 0.78239167 0.7859376  0.78309153\n",
      " 0.77870576 0.77464662 0.77418005 0.77348019 0.77240706 0.76862785\n",
      " 0.76564179 0.76004295 0.76097609 0.76433543 0.76578178 0.77609298\n",
      " 0.77595298 0.77264034 0.77581304 0.78449124 0.78813051 0.78528439\n",
      " 0.78603094 0.77968554 0.77590634 0.77562641 0.77604633 0.77833254\n",
      " 0.77273369 0.7717072  0.77212713 0.77851912 0.78215839 0.78239167\n",
      " 0.78873702 0.77641955 0.77931232 0.77520648 0.76764807 0.75421082\n",
      " 0.74898525 0.74324642 0.73480151 0.73228202 0.72943595 0.72854945\n",
      " 0.7348948  0.74389963 0.74926519 0.75477074 0.75313774 0.78024546\n",
      " 0.77730605 0.77805255 0.79326278 0.79937484 0.80595347 0.80306076\n",
      " 0.8024542  0.80669997 0.80814633 0.80879954 0.81234546 0.80721319\n",
      " 0.80422719 0.80739983 0.8101526  0.80553355 0.79862834 0.79148979\n",
      " 0.79741521 0.7826716  0.78869037 0.79629549 0.79550229 0.80660668\n",
      " 0.80553355 0.80371391 0.81379188 0.81010596 0.8101526  0.81514488\n",
      " 0.819624   0.83264127 0.8360939  0.83189477 0.84724494 0.82536278\n",
      " 0.82275    0.82834885 0.82806891 0.81332531 0.80385391 0.80376061\n",
      " 0.80586018 0.82820885 0.82396307 0.82638927 0.83203476 0.83021513\n",
      " 0.83236134 0.84075966 0.84127282 0.85233051 0.84859795 0.84323239\n",
      " 0.84416553 0.83007513 0.8338544  0.83390104 0.82652921 0.82643592\n",
      " 0.824243   0.82079043 0.83590726 0.82624928 0.81533152 0.82279665\n",
      " 0.82648256 0.82335657 0.82517614 0.82060379 0.8220035  0.82195686\n",
      " 0.825876   0.82881542 0.83670041 0.83884668 0.83096163 0.82610929\n",
      " 0.83021513 0.8305417  0.82914199 0.82498956 0.82261001 0.81080581\n",
      " 0.80959274 0.81509824 0.81948401 0.82694913 0.82452299 0.82330986\n",
      " 0.83212805 0.8274157  0.82998184 0.82951527 0.83544069 0.85466336\n",
      " 0.86903375 0.87640558 0.88424399 0.88783655 0.89744795 0.89926753\n",
      " 0.88895628 0.89595483 0.89016941 0.88750998 0.88909627 0.88704341\n",
      " 0.88778985 0.89922082 0.88788326 0.89567496 0.89604824 0.90304679\n",
      " 0.91555078 0.92446232 0.93589329 0.95147669 0.94886397 0.96608036\n",
      " 0.96887979 0.97438534 0.96790006 0.9796576  0.98031076 0.98478988\n",
      " 0.99645413 0.9875426  0.99248829 1.         0.96911307 0.9655205\n",
      " 0.95333284 0.93738168 0.92235214 0.90938652 0.89711308 0.88504374\n",
      " 0.87320054 0.86163616 0.85038078 0.83946317 0.82891238 0.81875145\n",
      " 0.80899549 0.79965091 0.79071724 0.78218818 0.77405244 0.76629573\n",
      " 0.75890028 0.75184852 0.74511933 0.7386924 ]\n",
      "22 day output [[0.7325474]]\n",
      "23 day input [0.79727528 0.80385391 0.79190972 0.7945225  0.79802178 0.78738395\n",
      " 0.79713528 0.79648207 0.79326278 0.78827045 0.79326278 0.79442921\n",
      " 0.79470914 0.78402467 0.78299824 0.77338685 0.77637291 0.77851912\n",
      " 0.77399341 0.77320026 0.77175385 0.77730605 0.77758598 0.77660619\n",
      " 0.77152056 0.77968554 0.77912568 0.7820651  0.79368265 0.79508236\n",
      " 0.79550229 0.79190972 0.80348063 0.80362062 0.7993282  0.79746192\n",
      " 0.79559564 0.79643543 0.79960813 0.78864373 0.79564228 0.80035463\n",
      " 0.78645081 0.78491116 0.78239167 0.7859376  0.78309153 0.77870576\n",
      " 0.77464662 0.77418005 0.77348019 0.77240706 0.76862785 0.76564179\n",
      " 0.76004295 0.76097609 0.76433543 0.76578178 0.77609298 0.77595298\n",
      " 0.77264034 0.77581304 0.78449124 0.78813051 0.78528439 0.78603094\n",
      " 0.77968554 0.77590634 0.77562641 0.77604633 0.77833254 0.77273369\n",
      " 0.7717072  0.77212713 0.77851912 0.78215839 0.78239167 0.78873702\n",
      " 0.77641955 0.77931232 0.77520648 0.76764807 0.75421082 0.74898525\n",
      " 0.74324642 0.73480151 0.73228202 0.72943595 0.72854945 0.7348948\n",
      " 0.74389963 0.74926519 0.75477074 0.75313774 0.78024546 0.77730605\n",
      " 0.77805255 0.79326278 0.79937484 0.80595347 0.80306076 0.8024542\n",
      " 0.80669997 0.80814633 0.80879954 0.81234546 0.80721319 0.80422719\n",
      " 0.80739983 0.8101526  0.80553355 0.79862834 0.79148979 0.79741521\n",
      " 0.7826716  0.78869037 0.79629549 0.79550229 0.80660668 0.80553355\n",
      " 0.80371391 0.81379188 0.81010596 0.8101526  0.81514488 0.819624\n",
      " 0.83264127 0.8360939  0.83189477 0.84724494 0.82536278 0.82275\n",
      " 0.82834885 0.82806891 0.81332531 0.80385391 0.80376061 0.80586018\n",
      " 0.82820885 0.82396307 0.82638927 0.83203476 0.83021513 0.83236134\n",
      " 0.84075966 0.84127282 0.85233051 0.84859795 0.84323239 0.84416553\n",
      " 0.83007513 0.8338544  0.83390104 0.82652921 0.82643592 0.824243\n",
      " 0.82079043 0.83590726 0.82624928 0.81533152 0.82279665 0.82648256\n",
      " 0.82335657 0.82517614 0.82060379 0.8220035  0.82195686 0.825876\n",
      " 0.82881542 0.83670041 0.83884668 0.83096163 0.82610929 0.83021513\n",
      " 0.8305417  0.82914199 0.82498956 0.82261001 0.81080581 0.80959274\n",
      " 0.81509824 0.81948401 0.82694913 0.82452299 0.82330986 0.83212805\n",
      " 0.8274157  0.82998184 0.82951527 0.83544069 0.85466336 0.86903375\n",
      " 0.87640558 0.88424399 0.88783655 0.89744795 0.89926753 0.88895628\n",
      " 0.89595483 0.89016941 0.88750998 0.88909627 0.88704341 0.88778985\n",
      " 0.89922082 0.88788326 0.89567496 0.89604824 0.90304679 0.91555078\n",
      " 0.92446232 0.93589329 0.95147669 0.94886397 0.96608036 0.96887979\n",
      " 0.97438534 0.96790006 0.9796576  0.98031076 0.98478988 0.99645413\n",
      " 0.9875426  0.99248829 1.         0.96911307 0.9655205  0.95333284\n",
      " 0.93738168 0.92235214 0.90938652 0.89711308 0.88504374 0.87320054\n",
      " 0.86163616 0.85038078 0.83946317 0.82891238 0.81875145 0.80899549\n",
      " 0.79965091 0.79071724 0.78218818 0.77405244 0.76629573 0.75890028\n",
      " 0.75184852 0.74511933 0.7386924  0.7325474 ]\n",
      "23 day output [[0.726664]]\n",
      "24 day input [0.80385391 0.79190972 0.7945225  0.79802178 0.78738395 0.79713528\n",
      " 0.79648207 0.79326278 0.78827045 0.79326278 0.79442921 0.79470914\n",
      " 0.78402467 0.78299824 0.77338685 0.77637291 0.77851912 0.77399341\n",
      " 0.77320026 0.77175385 0.77730605 0.77758598 0.77660619 0.77152056\n",
      " 0.77968554 0.77912568 0.7820651  0.79368265 0.79508236 0.79550229\n",
      " 0.79190972 0.80348063 0.80362062 0.7993282  0.79746192 0.79559564\n",
      " 0.79643543 0.79960813 0.78864373 0.79564228 0.80035463 0.78645081\n",
      " 0.78491116 0.78239167 0.7859376  0.78309153 0.77870576 0.77464662\n",
      " 0.77418005 0.77348019 0.77240706 0.76862785 0.76564179 0.76004295\n",
      " 0.76097609 0.76433543 0.76578178 0.77609298 0.77595298 0.77264034\n",
      " 0.77581304 0.78449124 0.78813051 0.78528439 0.78603094 0.77968554\n",
      " 0.77590634 0.77562641 0.77604633 0.77833254 0.77273369 0.7717072\n",
      " 0.77212713 0.77851912 0.78215839 0.78239167 0.78873702 0.77641955\n",
      " 0.77931232 0.77520648 0.76764807 0.75421082 0.74898525 0.74324642\n",
      " 0.73480151 0.73228202 0.72943595 0.72854945 0.7348948  0.74389963\n",
      " 0.74926519 0.75477074 0.75313774 0.78024546 0.77730605 0.77805255\n",
      " 0.79326278 0.79937484 0.80595347 0.80306076 0.8024542  0.80669997\n",
      " 0.80814633 0.80879954 0.81234546 0.80721319 0.80422719 0.80739983\n",
      " 0.8101526  0.80553355 0.79862834 0.79148979 0.79741521 0.7826716\n",
      " 0.78869037 0.79629549 0.79550229 0.80660668 0.80553355 0.80371391\n",
      " 0.81379188 0.81010596 0.8101526  0.81514488 0.819624   0.83264127\n",
      " 0.8360939  0.83189477 0.84724494 0.82536278 0.82275    0.82834885\n",
      " 0.82806891 0.81332531 0.80385391 0.80376061 0.80586018 0.82820885\n",
      " 0.82396307 0.82638927 0.83203476 0.83021513 0.83236134 0.84075966\n",
      " 0.84127282 0.85233051 0.84859795 0.84323239 0.84416553 0.83007513\n",
      " 0.8338544  0.83390104 0.82652921 0.82643592 0.824243   0.82079043\n",
      " 0.83590726 0.82624928 0.81533152 0.82279665 0.82648256 0.82335657\n",
      " 0.82517614 0.82060379 0.8220035  0.82195686 0.825876   0.82881542\n",
      " 0.83670041 0.83884668 0.83096163 0.82610929 0.83021513 0.8305417\n",
      " 0.82914199 0.82498956 0.82261001 0.81080581 0.80959274 0.81509824\n",
      " 0.81948401 0.82694913 0.82452299 0.82330986 0.83212805 0.8274157\n",
      " 0.82998184 0.82951527 0.83544069 0.85466336 0.86903375 0.87640558\n",
      " 0.88424399 0.88783655 0.89744795 0.89926753 0.88895628 0.89595483\n",
      " 0.89016941 0.88750998 0.88909627 0.88704341 0.88778985 0.89922082\n",
      " 0.88788326 0.89567496 0.89604824 0.90304679 0.91555078 0.92446232\n",
      " 0.93589329 0.95147669 0.94886397 0.96608036 0.96887979 0.97438534\n",
      " 0.96790006 0.9796576  0.98031076 0.98478988 0.99645413 0.9875426\n",
      " 0.99248829 1.         0.96911307 0.9655205  0.95333284 0.93738168\n",
      " 0.92235214 0.90938652 0.89711308 0.88504374 0.87320054 0.86163616\n",
      " 0.85038078 0.83946317 0.82891238 0.81875145 0.80899549 0.79965091\n",
      " 0.79071724 0.78218818 0.77405244 0.76629573 0.75890028 0.75184852\n",
      " 0.74511933 0.7386924  0.7325474  0.72666401]\n",
      "24 day output [[0.72102195]]\n",
      "25 day input [0.79190972 0.7945225  0.79802178 0.78738395 0.79713528 0.79648207\n",
      " 0.79326278 0.78827045 0.79326278 0.79442921 0.79470914 0.78402467\n",
      " 0.78299824 0.77338685 0.77637291 0.77851912 0.77399341 0.77320026\n",
      " 0.77175385 0.77730605 0.77758598 0.77660619 0.77152056 0.77968554\n",
      " 0.77912568 0.7820651  0.79368265 0.79508236 0.79550229 0.79190972\n",
      " 0.80348063 0.80362062 0.7993282  0.79746192 0.79559564 0.79643543\n",
      " 0.79960813 0.78864373 0.79564228 0.80035463 0.78645081 0.78491116\n",
      " 0.78239167 0.7859376  0.78309153 0.77870576 0.77464662 0.77418005\n",
      " 0.77348019 0.77240706 0.76862785 0.76564179 0.76004295 0.76097609\n",
      " 0.76433543 0.76578178 0.77609298 0.77595298 0.77264034 0.77581304\n",
      " 0.78449124 0.78813051 0.78528439 0.78603094 0.77968554 0.77590634\n",
      " 0.77562641 0.77604633 0.77833254 0.77273369 0.7717072  0.77212713\n",
      " 0.77851912 0.78215839 0.78239167 0.78873702 0.77641955 0.77931232\n",
      " 0.77520648 0.76764807 0.75421082 0.74898525 0.74324642 0.73480151\n",
      " 0.73228202 0.72943595 0.72854945 0.7348948  0.74389963 0.74926519\n",
      " 0.75477074 0.75313774 0.78024546 0.77730605 0.77805255 0.79326278\n",
      " 0.79937484 0.80595347 0.80306076 0.8024542  0.80669997 0.80814633\n",
      " 0.80879954 0.81234546 0.80721319 0.80422719 0.80739983 0.8101526\n",
      " 0.80553355 0.79862834 0.79148979 0.79741521 0.7826716  0.78869037\n",
      " 0.79629549 0.79550229 0.80660668 0.80553355 0.80371391 0.81379188\n",
      " 0.81010596 0.8101526  0.81514488 0.819624   0.83264127 0.8360939\n",
      " 0.83189477 0.84724494 0.82536278 0.82275    0.82834885 0.82806891\n",
      " 0.81332531 0.80385391 0.80376061 0.80586018 0.82820885 0.82396307\n",
      " 0.82638927 0.83203476 0.83021513 0.83236134 0.84075966 0.84127282\n",
      " 0.85233051 0.84859795 0.84323239 0.84416553 0.83007513 0.8338544\n",
      " 0.83390104 0.82652921 0.82643592 0.824243   0.82079043 0.83590726\n",
      " 0.82624928 0.81533152 0.82279665 0.82648256 0.82335657 0.82517614\n",
      " 0.82060379 0.8220035  0.82195686 0.825876   0.82881542 0.83670041\n",
      " 0.83884668 0.83096163 0.82610929 0.83021513 0.8305417  0.82914199\n",
      " 0.82498956 0.82261001 0.81080581 0.80959274 0.81509824 0.81948401\n",
      " 0.82694913 0.82452299 0.82330986 0.83212805 0.8274157  0.82998184\n",
      " 0.82951527 0.83544069 0.85466336 0.86903375 0.87640558 0.88424399\n",
      " 0.88783655 0.89744795 0.89926753 0.88895628 0.89595483 0.89016941\n",
      " 0.88750998 0.88909627 0.88704341 0.88778985 0.89922082 0.88788326\n",
      " 0.89567496 0.89604824 0.90304679 0.91555078 0.92446232 0.93589329\n",
      " 0.95147669 0.94886397 0.96608036 0.96887979 0.97438534 0.96790006\n",
      " 0.9796576  0.98031076 0.98478988 0.99645413 0.9875426  0.99248829\n",
      " 1.         0.96911307 0.9655205  0.95333284 0.93738168 0.92235214\n",
      " 0.90938652 0.89711308 0.88504374 0.87320054 0.86163616 0.85038078\n",
      " 0.83946317 0.82891238 0.81875145 0.80899549 0.79965091 0.79071724\n",
      " 0.78218818 0.77405244 0.76629573 0.75890028 0.75184852 0.74511933\n",
      " 0.7386924  0.7325474  0.72666401 0.72102195]\n",
      "25 day output [[0.71560186]]\n",
      "26 day input [0.7945225  0.79802178 0.78738395 0.79713528 0.79648207 0.79326278\n",
      " 0.78827045 0.79326278 0.79442921 0.79470914 0.78402467 0.78299824\n",
      " 0.77338685 0.77637291 0.77851912 0.77399341 0.77320026 0.77175385\n",
      " 0.77730605 0.77758598 0.77660619 0.77152056 0.77968554 0.77912568\n",
      " 0.7820651  0.79368265 0.79508236 0.79550229 0.79190972 0.80348063\n",
      " 0.80362062 0.7993282  0.79746192 0.79559564 0.79643543 0.79960813\n",
      " 0.78864373 0.79564228 0.80035463 0.78645081 0.78491116 0.78239167\n",
      " 0.7859376  0.78309153 0.77870576 0.77464662 0.77418005 0.77348019\n",
      " 0.77240706 0.76862785 0.76564179 0.76004295 0.76097609 0.76433543\n",
      " 0.76578178 0.77609298 0.77595298 0.77264034 0.77581304 0.78449124\n",
      " 0.78813051 0.78528439 0.78603094 0.77968554 0.77590634 0.77562641\n",
      " 0.77604633 0.77833254 0.77273369 0.7717072  0.77212713 0.77851912\n",
      " 0.78215839 0.78239167 0.78873702 0.77641955 0.77931232 0.77520648\n",
      " 0.76764807 0.75421082 0.74898525 0.74324642 0.73480151 0.73228202\n",
      " 0.72943595 0.72854945 0.7348948  0.74389963 0.74926519 0.75477074\n",
      " 0.75313774 0.78024546 0.77730605 0.77805255 0.79326278 0.79937484\n",
      " 0.80595347 0.80306076 0.8024542  0.80669997 0.80814633 0.80879954\n",
      " 0.81234546 0.80721319 0.80422719 0.80739983 0.8101526  0.80553355\n",
      " 0.79862834 0.79148979 0.79741521 0.7826716  0.78869037 0.79629549\n",
      " 0.79550229 0.80660668 0.80553355 0.80371391 0.81379188 0.81010596\n",
      " 0.8101526  0.81514488 0.819624   0.83264127 0.8360939  0.83189477\n",
      " 0.84724494 0.82536278 0.82275    0.82834885 0.82806891 0.81332531\n",
      " 0.80385391 0.80376061 0.80586018 0.82820885 0.82396307 0.82638927\n",
      " 0.83203476 0.83021513 0.83236134 0.84075966 0.84127282 0.85233051\n",
      " 0.84859795 0.84323239 0.84416553 0.83007513 0.8338544  0.83390104\n",
      " 0.82652921 0.82643592 0.824243   0.82079043 0.83590726 0.82624928\n",
      " 0.81533152 0.82279665 0.82648256 0.82335657 0.82517614 0.82060379\n",
      " 0.8220035  0.82195686 0.825876   0.82881542 0.83670041 0.83884668\n",
      " 0.83096163 0.82610929 0.83021513 0.8305417  0.82914199 0.82498956\n",
      " 0.82261001 0.81080581 0.80959274 0.81509824 0.81948401 0.82694913\n",
      " 0.82452299 0.82330986 0.83212805 0.8274157  0.82998184 0.82951527\n",
      " 0.83544069 0.85466336 0.86903375 0.87640558 0.88424399 0.88783655\n",
      " 0.89744795 0.89926753 0.88895628 0.89595483 0.89016941 0.88750998\n",
      " 0.88909627 0.88704341 0.88778985 0.89922082 0.88788326 0.89567496\n",
      " 0.89604824 0.90304679 0.91555078 0.92446232 0.93589329 0.95147669\n",
      " 0.94886397 0.96608036 0.96887979 0.97438534 0.96790006 0.9796576\n",
      " 0.98031076 0.98478988 0.99645413 0.9875426  0.99248829 1.\n",
      " 0.96911307 0.9655205  0.95333284 0.93738168 0.92235214 0.90938652\n",
      " 0.89711308 0.88504374 0.87320054 0.86163616 0.85038078 0.83946317\n",
      " 0.82891238 0.81875145 0.80899549 0.79965091 0.79071724 0.78218818\n",
      " 0.77405244 0.76629573 0.75890028 0.75184852 0.74511933 0.7386924\n",
      " 0.7325474  0.72666401 0.72102195 0.71560186]\n",
      "26 day output [[0.71038544]]\n",
      "27 day input [0.79802178 0.78738395 0.79713528 0.79648207 0.79326278 0.78827045\n",
      " 0.79326278 0.79442921 0.79470914 0.78402467 0.78299824 0.77338685\n",
      " 0.77637291 0.77851912 0.77399341 0.77320026 0.77175385 0.77730605\n",
      " 0.77758598 0.77660619 0.77152056 0.77968554 0.77912568 0.7820651\n",
      " 0.79368265 0.79508236 0.79550229 0.79190972 0.80348063 0.80362062\n",
      " 0.7993282  0.79746192 0.79559564 0.79643543 0.79960813 0.78864373\n",
      " 0.79564228 0.80035463 0.78645081 0.78491116 0.78239167 0.7859376\n",
      " 0.78309153 0.77870576 0.77464662 0.77418005 0.77348019 0.77240706\n",
      " 0.76862785 0.76564179 0.76004295 0.76097609 0.76433543 0.76578178\n",
      " 0.77609298 0.77595298 0.77264034 0.77581304 0.78449124 0.78813051\n",
      " 0.78528439 0.78603094 0.77968554 0.77590634 0.77562641 0.77604633\n",
      " 0.77833254 0.77273369 0.7717072  0.77212713 0.77851912 0.78215839\n",
      " 0.78239167 0.78873702 0.77641955 0.77931232 0.77520648 0.76764807\n",
      " 0.75421082 0.74898525 0.74324642 0.73480151 0.73228202 0.72943595\n",
      " 0.72854945 0.7348948  0.74389963 0.74926519 0.75477074 0.75313774\n",
      " 0.78024546 0.77730605 0.77805255 0.79326278 0.79937484 0.80595347\n",
      " 0.80306076 0.8024542  0.80669997 0.80814633 0.80879954 0.81234546\n",
      " 0.80721319 0.80422719 0.80739983 0.8101526  0.80553355 0.79862834\n",
      " 0.79148979 0.79741521 0.7826716  0.78869037 0.79629549 0.79550229\n",
      " 0.80660668 0.80553355 0.80371391 0.81379188 0.81010596 0.8101526\n",
      " 0.81514488 0.819624   0.83264127 0.8360939  0.83189477 0.84724494\n",
      " 0.82536278 0.82275    0.82834885 0.82806891 0.81332531 0.80385391\n",
      " 0.80376061 0.80586018 0.82820885 0.82396307 0.82638927 0.83203476\n",
      " 0.83021513 0.83236134 0.84075966 0.84127282 0.85233051 0.84859795\n",
      " 0.84323239 0.84416553 0.83007513 0.8338544  0.83390104 0.82652921\n",
      " 0.82643592 0.824243   0.82079043 0.83590726 0.82624928 0.81533152\n",
      " 0.82279665 0.82648256 0.82335657 0.82517614 0.82060379 0.8220035\n",
      " 0.82195686 0.825876   0.82881542 0.83670041 0.83884668 0.83096163\n",
      " 0.82610929 0.83021513 0.8305417  0.82914199 0.82498956 0.82261001\n",
      " 0.81080581 0.80959274 0.81509824 0.81948401 0.82694913 0.82452299\n",
      " 0.82330986 0.83212805 0.8274157  0.82998184 0.82951527 0.83544069\n",
      " 0.85466336 0.86903375 0.87640558 0.88424399 0.88783655 0.89744795\n",
      " 0.89926753 0.88895628 0.89595483 0.89016941 0.88750998 0.88909627\n",
      " 0.88704341 0.88778985 0.89922082 0.88788326 0.89567496 0.89604824\n",
      " 0.90304679 0.91555078 0.92446232 0.93589329 0.95147669 0.94886397\n",
      " 0.96608036 0.96887979 0.97438534 0.96790006 0.9796576  0.98031076\n",
      " 0.98478988 0.99645413 0.9875426  0.99248829 1.         0.96911307\n",
      " 0.9655205  0.95333284 0.93738168 0.92235214 0.90938652 0.89711308\n",
      " 0.88504374 0.87320054 0.86163616 0.85038078 0.83946317 0.82891238\n",
      " 0.81875145 0.80899549 0.79965091 0.79071724 0.78218818 0.77405244\n",
      " 0.76629573 0.75890028 0.75184852 0.74511933 0.7386924  0.7325474\n",
      " 0.72666401 0.72102195 0.71560186 0.71038544]\n",
      "27 day output [[0.70535487]]\n",
      "28 day input [0.78738395 0.79713528 0.79648207 0.79326278 0.78827045 0.79326278\n",
      " 0.79442921 0.79470914 0.78402467 0.78299824 0.77338685 0.77637291\n",
      " 0.77851912 0.77399341 0.77320026 0.77175385 0.77730605 0.77758598\n",
      " 0.77660619 0.77152056 0.77968554 0.77912568 0.7820651  0.79368265\n",
      " 0.79508236 0.79550229 0.79190972 0.80348063 0.80362062 0.7993282\n",
      " 0.79746192 0.79559564 0.79643543 0.79960813 0.78864373 0.79564228\n",
      " 0.80035463 0.78645081 0.78491116 0.78239167 0.7859376  0.78309153\n",
      " 0.77870576 0.77464662 0.77418005 0.77348019 0.77240706 0.76862785\n",
      " 0.76564179 0.76004295 0.76097609 0.76433543 0.76578178 0.77609298\n",
      " 0.77595298 0.77264034 0.77581304 0.78449124 0.78813051 0.78528439\n",
      " 0.78603094 0.77968554 0.77590634 0.77562641 0.77604633 0.77833254\n",
      " 0.77273369 0.7717072  0.77212713 0.77851912 0.78215839 0.78239167\n",
      " 0.78873702 0.77641955 0.77931232 0.77520648 0.76764807 0.75421082\n",
      " 0.74898525 0.74324642 0.73480151 0.73228202 0.72943595 0.72854945\n",
      " 0.7348948  0.74389963 0.74926519 0.75477074 0.75313774 0.78024546\n",
      " 0.77730605 0.77805255 0.79326278 0.79937484 0.80595347 0.80306076\n",
      " 0.8024542  0.80669997 0.80814633 0.80879954 0.81234546 0.80721319\n",
      " 0.80422719 0.80739983 0.8101526  0.80553355 0.79862834 0.79148979\n",
      " 0.79741521 0.7826716  0.78869037 0.79629549 0.79550229 0.80660668\n",
      " 0.80553355 0.80371391 0.81379188 0.81010596 0.8101526  0.81514488\n",
      " 0.819624   0.83264127 0.8360939  0.83189477 0.84724494 0.82536278\n",
      " 0.82275    0.82834885 0.82806891 0.81332531 0.80385391 0.80376061\n",
      " 0.80586018 0.82820885 0.82396307 0.82638927 0.83203476 0.83021513\n",
      " 0.83236134 0.84075966 0.84127282 0.85233051 0.84859795 0.84323239\n",
      " 0.84416553 0.83007513 0.8338544  0.83390104 0.82652921 0.82643592\n",
      " 0.824243   0.82079043 0.83590726 0.82624928 0.81533152 0.82279665\n",
      " 0.82648256 0.82335657 0.82517614 0.82060379 0.8220035  0.82195686\n",
      " 0.825876   0.82881542 0.83670041 0.83884668 0.83096163 0.82610929\n",
      " 0.83021513 0.8305417  0.82914199 0.82498956 0.82261001 0.81080581\n",
      " 0.80959274 0.81509824 0.81948401 0.82694913 0.82452299 0.82330986\n",
      " 0.83212805 0.8274157  0.82998184 0.82951527 0.83544069 0.85466336\n",
      " 0.86903375 0.87640558 0.88424399 0.88783655 0.89744795 0.89926753\n",
      " 0.88895628 0.89595483 0.89016941 0.88750998 0.88909627 0.88704341\n",
      " 0.88778985 0.89922082 0.88788326 0.89567496 0.89604824 0.90304679\n",
      " 0.91555078 0.92446232 0.93589329 0.95147669 0.94886397 0.96608036\n",
      " 0.96887979 0.97438534 0.96790006 0.9796576  0.98031076 0.98478988\n",
      " 0.99645413 0.9875426  0.99248829 1.         0.96911307 0.9655205\n",
      " 0.95333284 0.93738168 0.92235214 0.90938652 0.89711308 0.88504374\n",
      " 0.87320054 0.86163616 0.85038078 0.83946317 0.82891238 0.81875145\n",
      " 0.80899549 0.79965091 0.79071724 0.78218818 0.77405244 0.76629573\n",
      " 0.75890028 0.75184852 0.74511933 0.7386924  0.7325474  0.72666401\n",
      " 0.72102195 0.71560186 0.71038544 0.70535487]\n",
      "28 day output [[0.70049393]]\n",
      "29 day input [0.79713528 0.79648207 0.79326278 0.78827045 0.79326278 0.79442921\n",
      " 0.79470914 0.78402467 0.78299824 0.77338685 0.77637291 0.77851912\n",
      " 0.77399341 0.77320026 0.77175385 0.77730605 0.77758598 0.77660619\n",
      " 0.77152056 0.77968554 0.77912568 0.7820651  0.79368265 0.79508236\n",
      " 0.79550229 0.79190972 0.80348063 0.80362062 0.7993282  0.79746192\n",
      " 0.79559564 0.79643543 0.79960813 0.78864373 0.79564228 0.80035463\n",
      " 0.78645081 0.78491116 0.78239167 0.7859376  0.78309153 0.77870576\n",
      " 0.77464662 0.77418005 0.77348019 0.77240706 0.76862785 0.76564179\n",
      " 0.76004295 0.76097609 0.76433543 0.76578178 0.77609298 0.77595298\n",
      " 0.77264034 0.77581304 0.78449124 0.78813051 0.78528439 0.78603094\n",
      " 0.77968554 0.77590634 0.77562641 0.77604633 0.77833254 0.77273369\n",
      " 0.7717072  0.77212713 0.77851912 0.78215839 0.78239167 0.78873702\n",
      " 0.77641955 0.77931232 0.77520648 0.76764807 0.75421082 0.74898525\n",
      " 0.74324642 0.73480151 0.73228202 0.72943595 0.72854945 0.7348948\n",
      " 0.74389963 0.74926519 0.75477074 0.75313774 0.78024546 0.77730605\n",
      " 0.77805255 0.79326278 0.79937484 0.80595347 0.80306076 0.8024542\n",
      " 0.80669997 0.80814633 0.80879954 0.81234546 0.80721319 0.80422719\n",
      " 0.80739983 0.8101526  0.80553355 0.79862834 0.79148979 0.79741521\n",
      " 0.7826716  0.78869037 0.79629549 0.79550229 0.80660668 0.80553355\n",
      " 0.80371391 0.81379188 0.81010596 0.8101526  0.81514488 0.819624\n",
      " 0.83264127 0.8360939  0.83189477 0.84724494 0.82536278 0.82275\n",
      " 0.82834885 0.82806891 0.81332531 0.80385391 0.80376061 0.80586018\n",
      " 0.82820885 0.82396307 0.82638927 0.83203476 0.83021513 0.83236134\n",
      " 0.84075966 0.84127282 0.85233051 0.84859795 0.84323239 0.84416553\n",
      " 0.83007513 0.8338544  0.83390104 0.82652921 0.82643592 0.824243\n",
      " 0.82079043 0.83590726 0.82624928 0.81533152 0.82279665 0.82648256\n",
      " 0.82335657 0.82517614 0.82060379 0.8220035  0.82195686 0.825876\n",
      " 0.82881542 0.83670041 0.83884668 0.83096163 0.82610929 0.83021513\n",
      " 0.8305417  0.82914199 0.82498956 0.82261001 0.81080581 0.80959274\n",
      " 0.81509824 0.81948401 0.82694913 0.82452299 0.82330986 0.83212805\n",
      " 0.8274157  0.82998184 0.82951527 0.83544069 0.85466336 0.86903375\n",
      " 0.87640558 0.88424399 0.88783655 0.89744795 0.89926753 0.88895628\n",
      " 0.89595483 0.89016941 0.88750998 0.88909627 0.88704341 0.88778985\n",
      " 0.89922082 0.88788326 0.89567496 0.89604824 0.90304679 0.91555078\n",
      " 0.92446232 0.93589329 0.95147669 0.94886397 0.96608036 0.96887979\n",
      " 0.97438534 0.96790006 0.9796576  0.98031076 0.98478988 0.99645413\n",
      " 0.9875426  0.99248829 1.         0.96911307 0.9655205  0.95333284\n",
      " 0.93738168 0.92235214 0.90938652 0.89711308 0.88504374 0.87320054\n",
      " 0.86163616 0.85038078 0.83946317 0.82891238 0.81875145 0.80899549\n",
      " 0.79965091 0.79071724 0.78218818 0.77405244 0.76629573 0.75890028\n",
      " 0.75184852 0.74511933 0.7386924  0.7325474  0.72666401 0.72102195\n",
      " 0.71560186 0.71038544 0.70535487 0.70049393]\n",
      "29 day output [[0.6957867]]\n",
      "[[0.9533328413963318], [0.9373816847801208], [0.922352135181427], [0.9093865156173706], [0.8971130847930908], [0.885043740272522], [0.873200535774231], [0.8616361618041992], [0.8503807783126831], [0.8394631743431091], [0.8289123773574829], [0.8187514543533325], [0.8089954853057861], [0.7996509075164795], [0.7907172441482544], [0.7821881771087646], [0.7740524411201477], [0.7662957310676575], [0.7589002847671509], [0.7518485188484192], [0.7451193332672119], [0.7386924028396606], [0.732547402381897], [0.7266640067100525], [0.7210219502449036], [0.7156018614768982], [0.7103854417800903], [0.7053548693656921], [0.7004939317703247], [0.695786714553833]]\n"
     ]
    }
   ],
   "source": [
    "lst_output=[]\n",
    "n_steps=250\n",
    "i=0\n",
    "\n",
    "while(i<30):\n",
    "    \n",
    "    if(len(temp_input)>n_steps):\n",
    "        #print(temp_input)\n",
    "        x_input=np.array(temp_input[1:])\n",
    "        print(\"{} day input {}\".format(i,x_input))\n",
    "        x_input=x_input.reshape(1,-1)\n",
    "        x_input = x_input.reshape((1, n_steps, 1))\n",
    "        #print(x_input)\n",
    "        yhat = model.predict(x_input, verbose=0)\n",
    "        print(\"{} day output {}\".format(i,yhat))\n",
    "        temp_input.extend(yhat[0].tolist())\n",
    "        temp_input=temp_input[1:]\n",
    "        #print(temp_input)\n",
    "        lst_output.extend(yhat.tolist())\n",
    "        i=i+1\n",
    "    else:\n",
    "        x_input = x_input.reshape((1, n_steps,1))\n",
    "        yhat = model.predict(x_input, verbose=0)\n",
    "        print(yhat[0])\n",
    "        temp_input.extend(yhat[0].tolist())\n",
    "        print(len(temp_input))\n",
    "        lst_output.extend(yhat.tolist())\n",
    "        i=i+1\n",
    "    \n",
    "\n",
    "print(lst_output)"
   ]
  },
  {
   "cell_type": "code",
   "execution_count": 107,
   "metadata": {},
   "outputs": [],
   "source": [
    "day_new=np.arange(1,251)\n",
    "day_pred=np.arange(251, 281)"
   ]
  },
  {
   "cell_type": "code",
   "execution_count": 108,
   "metadata": {},
   "outputs": [
    {
     "data": {
      "text/plain": [
       "[<matplotlib.lines.Line2D at 0x212be1e4a10>]"
      ]
     },
     "execution_count": 108,
     "metadata": {},
     "output_type": "execute_result"
    },
    {
     "data": {
      "image/png": "[encoded data removed]",
      "text/plain": [
       "<Figure size 640x480 with 1 Axes>"
      ]
     },
     "metadata": {},
     "output_type": "display_data"
    }
   ],
   "source": [
    "df2=df.tolist()\n",
    "df2.extend(lst_output)\n",
    "plt.plot(df2)"
   ]
  },
  {
   "cell_type": "code",
   "execution_count": 52,
   "metadata": {},
   "outputs": [],
   "source": [
    "loaded_model = load_model('lstm_model.keras')"
   ]
  },
  {
   "cell_type": "code",
   "execution_count": 69,
   "metadata": {},
   "outputs": [
    {
     "name": "stderr",
     "output_type": "stream",
     "text": [
      "[*********************100%%**********************]  1 of 1 completed\n"
     ]
    }
   ],
   "source": [
    "data2 = yf.download('AAPL', start='2021-02-01', end='2023-12-31')"
   ]
  },
  {
   "cell_type": "code",
   "execution_count": 70,
   "metadata": {},
   "outputs": [
    {
     "name": "stdout",
     "output_type": "stream",
     "text": [
      "\u001b[1m23/23\u001b[0m \u001b[32m━━━━━━━━━━━━━━━━━━━━\u001b[0m\u001b[37m\u001b[0m \u001b[1m0s\u001b[0m 2ms/step  \n"
     ]
    }
   ],
   "source": [
    "prediction = loaded_model.predict(data2[\"Close\"])"
   ]
  },
  {
   "cell_type": "code",
   "execution_count": 71,
   "metadata": {},
   "outputs": [
    {
     "data": {
      "text/plain": [
       "[<matplotlib.lines.Line2D at 0x22705840110>]"
      ]
     },
     "execution_count": 71,
     "metadata": {},
     "output_type": "execute_result"
    },
    {
     "data": {
      "image/png": "[encoded data removed]",
      "text/plain": [
       "<Figure size 640x480 with 1 Axes>"
      ]
     },
     "metadata": {},
     "output_type": "display_data"
    }
   ],
   "source": [
    "plt.plot(data2.index, prediction)"
   ]
  },
  {
   "cell_type": "code",
   "execution_count": 3,
   "metadata": {},
   "outputs": [],
   "source": [
    "model = load_model('lstm_model.keras')"
   ]
  },
  {
   "cell_type": "code",
   "execution_count": 4,
   "metadata": {},
   "outputs": [
    {
     "name": "stderr",
     "output_type": "stream",
     "text": [
      "[*********************100%%**********************]  1 of 1 completed\n"
     ]
    }
   ],
   "source": [
    "data = yf.download(\"INFY\")"
   ]
  },
  {
   "cell_type": "code",
   "execution_count": 5,
   "metadata": {},
   "outputs": [
    {
     "data": {
      "text/plain": [
       "Date\n",
       "1999-03-11     0.732422\n",
       "1999-03-12     0.728516\n",
       "1999-03-15     0.662109\n",
       "1999-03-16     0.656250\n",
       "1999-03-17     0.660156\n",
       "                ...    \n",
       "2024-04-15    17.270000\n",
       "2024-04-16    17.049999\n",
       "2024-04-17    16.950001\n",
       "2024-04-18    16.510000\n",
       "2024-04-19    16.809999\n",
       "Name: Close, Length: 6319, dtype: float64"
      ]
     },
     "execution_count": 5,
     "metadata": {},
     "output_type": "execute_result"
    }
   ],
   "source": [
    "data = data['Close']\n",
    "data"
   ]
  },
  {
   "cell_type": "code",
   "execution_count": 12,
   "metadata": {},
   "outputs": [
    {
     "data": {
      "text/plain": [
       "Date\n",
       "1999-03-11     0.732422\n",
       "1999-04-23     0.666016\n",
       "1999-06-07     0.808594\n",
       "1999-07-20     1.339844\n",
       "1999-08-31     1.549805\n",
       "                ...    \n",
       "2023-10-02    17.180000\n",
       "2023-11-13    16.549999\n",
       "2023-12-27    18.600000\n",
       "2024-02-09    20.100000\n",
       "2024-03-25    17.629999\n",
       "Name: Close, Length: 211, dtype: float64"
      ]
     },
     "execution_count": 12,
     "metadata": {},
     "output_type": "execute_result"
    }
   ],
   "source": [
    "data[::30]"
   ]
  },
  {
   "cell_type": "code",
   "execution_count": 8,
   "metadata": {},
   "outputs": [
    {
     "data": {
      "text/plain": [
       "[<matplotlib.lines.Line2D at 0x2904c63e190>]"
      ]
     },
     "execution_count": 8,
     "metadata": {},
     "output_type": "execute_result"
    },
    {
     "data": {
      "image/png": "[encoded data removed]",
      "text/plain": [
       "<Figure size 640x480 with 1 Axes>"
      ]
     },
     "metadata": {},
     "output_type": "display_data"
    }
   ],
   "source": [
    "plt.plot(data)"
   ]
  },
  {
   "cell_type": "code",
   "execution_count": 9,
   "metadata": {},
   "outputs": [
    {
     "name": "stdout",
     "output_type": "stream",
     "text": [
      "\u001b[1m7/7\u001b[0m \u001b[32m━━━━━━━━━━━━━━━━━━━━\u001b[0m\u001b[37m\u001b[0m \u001b[1m0s\u001b[0m 2ms/step \n"
     ]
    }
   ],
   "source": [
    "pred = model.predict(data[::-30])"
   ]
  },
  {
   "cell_type": "code",
   "execution_count": null,
   "metadata": {},
   "outputs": [],
   "source": []
  }
 ],
 "metadata": {
  "kernelspec": {
   "display_name": "myenv",
   "language": "python",
   "name": "python3"
  },
  "language_info": {
   "codemirror_mode": {
    "name": "ipython",
    "version": 3
   },
   "file_extension": ".py",
   "mimetype": "text/x-python",
   "name": "python",
   "nbconvert_exporter": "python",
   "pygments_lexer": "ipython3",
   "version": "3.11.6"
  }
 },
 "nbformat": 4,
 "nbformat_minor": 2
}
