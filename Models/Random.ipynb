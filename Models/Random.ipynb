{
 "cells": [
  {
   "cell_type": "code",
   "execution_count": 3,
   "id": "01079130",
   "metadata": {},
   "outputs": [
    {
     "name": "stdout",
     "output_type": "stream",
     "text": [
      "Requirement already satisfied: yfinance in c:\\users\\sansk\\anaconda3\\lib\\site-packages (0.2.37)\n",
      "Requirement already satisfied: pandas>=1.3.0 in c:\\users\\sansk\\anaconda3\\lib\\site-packages (from yfinance) (2.0.3)\n",
      "Requirement already satisfied: numpy>=1.16.5 in c:\\users\\sansk\\anaconda3\\lib\\site-packages (from yfinance) (1.24.3)\n",
      "Requirement already satisfied: requests>=2.31 in c:\\users\\sansk\\anaconda3\\lib\\site-packages (from yfinance) (2.31.0)\n",
      "Requirement already satisfied: multitasking>=0.0.7 in c:\\users\\sansk\\anaconda3\\lib\\site-packages (from yfinance) (0.0.11)\n",
      "Requirement already satisfied: lxml>=4.9.1 in c:\\users\\sansk\\anaconda3\\lib\\site-packages (from yfinance) (4.9.3)\n",
      "Requirement already satisfied: appdirs>=1.4.4 in c:\\users\\sansk\\anaconda3\\lib\\site-packages (from yfinance) (1.4.4)\n",
      "Requirement already satisfied: pytz>=2022.5 in c:\\users\\sansk\\anaconda3\\lib\\site-packages (from yfinance) (2023.3.post1)\n",
      "Requirement already satisfied: frozendict>=2.3.4 in c:\\users\\sansk\\anaconda3\\lib\\site-packages (from yfinance) (2.4.0)\n",
      "Requirement already satisfied: peewee>=3.16.2 in c:\\users\\sansk\\anaconda3\\lib\\site-packages (from yfinance) (3.17.1)\n",
      "Requirement already satisfied: beautifulsoup4>=4.11.1 in c:\\users\\sansk\\anaconda3\\lib\\site-packages (from yfinance) (4.12.2)\n",
      "Requirement already satisfied: html5lib>=1.1 in c:\\users\\sansk\\anaconda3\\lib\\site-packages (from yfinance) (1.1)\n",
      "Requirement already satisfied: soupsieve>1.2 in c:\\users\\sansk\\anaconda3\\lib\\site-packages (from beautifulsoup4>=4.11.1->yfinance) (2.4)\n",
      "Requirement already satisfied: six>=1.9 in c:\\users\\sansk\\anaconda3\\lib\\site-packages (from html5lib>=1.1->yfinance) (1.16.0)\n",
      "Requirement already satisfied: webencodings in c:\\users\\sansk\\anaconda3\\lib\\site-packages (from html5lib>=1.1->yfinance) (0.5.1)\n",
      "Requirement already satisfied: python-dateutil>=2.8.2 in c:\\users\\sansk\\anaconda3\\lib\\site-packages (from pandas>=1.3.0->yfinance) (2.8.2)\n",
      "Requirement already satisfied: tzdata>=2022.1 in c:\\users\\sansk\\anaconda3\\lib\\site-packages (from pandas>=1.3.0->yfinance) (2023.3)\n",
      "Requirement already satisfied: charset-normalizer<4,>=2 in c:\\users\\sansk\\anaconda3\\lib\\site-packages (from requests>=2.31->yfinance) (2.0.4)\n",
      "Requirement already satisfied: idna<4,>=2.5 in c:\\users\\sansk\\anaconda3\\lib\\site-packages (from requests>=2.31->yfinance) (3.4)\n",
      "Requirement already satisfied: urllib3<3,>=1.21.1 in c:\\users\\sansk\\anaconda3\\lib\\site-packages (from requests>=2.31->yfinance) (1.26.16)\n",
      "Requirement already satisfied: certifi>=2017.4.17 in c:\\users\\sansk\\anaconda3\\lib\\site-packages (from requests>=2.31->yfinance) (2023.7.22)\n"
     ]
    }
   ],
   "source": [
    "!pip install yfinance"
   ]
  },
  {
   "cell_type": "code",
   "execution_count": 4,
   "id": "49bfed53",
   "metadata": {},
   "outputs": [],
   "source": [
    "# Step 1: Import necessary libraries\n",
    "import pandas as pd\n",
    "from sklearn.ensemble import RandomForestRegressor\n",
    "from sklearn.metrics import mean_squared_error\n",
    "from sklearn.model_selection import train_test_split\n",
    "import yfinance as yf"
   ]
  },
  {
   "cell_type": "code",
   "execution_count": 11,
   "id": "0931ff20",
   "metadata": {},
   "outputs": [
    {
     "name": "stderr",
     "output_type": "stream",
     "text": [
      "[*********************100%%**********************]  1 of 1 completed\n"
     ]
    }
   ],
   "source": [
    "# import Infosys data\\n\",\n",
    "\n",
    "stock_data = yf.download('INFY', period='max')\n",
    "\n",
    "  "
   ]
  },
  {
   "cell_type": "code",
   "execution_count": 12,
   "id": "5cf6e61f",
   "metadata": {},
   "outputs": [
    {
     "data": {
      "text/html": [
       "<div>\n",
       "<style scoped>\n",
       "    .dataframe tbody tr th:only-of-type {\n",
       "        vertical-align: middle;\n",
       "    }\n",
       "\n",
       "    .dataframe tbody tr th {\n",
       "        vertical-align: top;\n",
       "    }\n",
       "\n",
       "    .dataframe thead th {\n",
       "        text-align: right;\n",
       "    }\n",
       "</style>\n",
       "<table border=\"1\" class=\"dataframe\">\n",
       "  <thead>\n",
       "    <tr style=\"text-align: right;\">\n",
       "      <th></th>\n",
       "      <th>Open</th>\n",
       "      <th>High</th>\n",
       "      <th>Low</th>\n",
       "      <th>Close</th>\n",
       "      <th>Adj Close</th>\n",
       "      <th>Volume</th>\n",
       "    </tr>\n",
       "  </thead>\n",
       "  <tbody>\n",
       "    <tr>\n",
       "      <th>count</th>\n",
       "      <td>6304.000000</td>\n",
       "      <td>6304.000000</td>\n",
       "      <td>6304.000000</td>\n",
       "      <td>6304.000000</td>\n",
       "      <td>6304.000000</td>\n",
       "      <td>6.304000e+03</td>\n",
       "    </tr>\n",
       "    <tr>\n",
       "      <th>mean</th>\n",
       "      <td>7.785370</td>\n",
       "      <td>7.869899</td>\n",
       "      <td>7.700675</td>\n",
       "      <td>7.786829</td>\n",
       "      <td>6.528600</td>\n",
       "      <td>1.130691e+07</td>\n",
       "    </tr>\n",
       "    <tr>\n",
       "      <th>std</th>\n",
       "      <td>5.300879</td>\n",
       "      <td>5.332308</td>\n",
       "      <td>5.271400</td>\n",
       "      <td>5.303105</td>\n",
       "      <td>5.380708</td>\n",
       "      <td>9.151337e+06</td>\n",
       "    </tr>\n",
       "    <tr>\n",
       "      <th>min</th>\n",
       "      <td>0.583984</td>\n",
       "      <td>0.626953</td>\n",
       "      <td>0.583984</td>\n",
       "      <td>0.625000</td>\n",
       "      <td>0.412873</td>\n",
       "      <td>3.360000e+05</td>\n",
       "    </tr>\n",
       "    <tr>\n",
       "      <th>25%</th>\n",
       "      <td>4.399688</td>\n",
       "      <td>4.453906</td>\n",
       "      <td>4.325938</td>\n",
       "      <td>4.387344</td>\n",
       "      <td>3.005274</td>\n",
       "      <td>5.871275e+06</td>\n",
       "    </tr>\n",
       "    <tr>\n",
       "      <th>50%</th>\n",
       "      <td>6.748125</td>\n",
       "      <td>6.815000</td>\n",
       "      <td>6.689375</td>\n",
       "      <td>6.758125</td>\n",
       "      <td>5.059972</td>\n",
       "      <td>9.213650e+06</td>\n",
       "    </tr>\n",
       "    <tr>\n",
       "      <th>75%</th>\n",
       "      <td>9.066250</td>\n",
       "      <td>9.150000</td>\n",
       "      <td>8.955019</td>\n",
       "      <td>9.060625</td>\n",
       "      <td>7.491175</td>\n",
       "      <td>1.405758e+07</td>\n",
       "    </tr>\n",
       "    <tr>\n",
       "      <th>max</th>\n",
       "      <td>26.150000</td>\n",
       "      <td>26.389999</td>\n",
       "      <td>25.580000</td>\n",
       "      <td>26.200001</td>\n",
       "      <td>24.964010</td>\n",
       "      <td>1.725120e+08</td>\n",
       "    </tr>\n",
       "  </tbody>\n",
       "</table>\n",
       "</div>"
      ],
      "text/plain": [
       "              Open         High          Low        Close    Adj Close  \\\n",
       "count  6304.000000  6304.000000  6304.000000  6304.000000  6304.000000   \n",
       "mean      7.785370     7.869899     7.700675     7.786829     6.528600   \n",
       "std       5.300879     5.332308     5.271400     5.303105     5.380708   \n",
       "min       0.583984     0.626953     0.583984     0.625000     0.412873   \n",
       "25%       4.399688     4.453906     4.325938     4.387344     3.005274   \n",
       "50%       6.748125     6.815000     6.689375     6.758125     5.059972   \n",
       "75%       9.066250     9.150000     8.955019     9.060625     7.491175   \n",
       "max      26.150000    26.389999    25.580000    26.200001    24.964010   \n",
       "\n",
       "             Volume  \n",
       "count  6.304000e+03  \n",
       "mean   1.130691e+07  \n",
       "std    9.151337e+06  \n",
       "min    3.360000e+05  \n",
       "25%    5.871275e+06  \n",
       "50%    9.213650e+06  \n",
       "75%    1.405758e+07  \n",
       "max    1.725120e+08  "
      ]
     },
     "execution_count": 12,
     "metadata": {},
     "output_type": "execute_result"
    }
   ],
   "source": [
    "stock_data.describe()"
   ]
  },
  {
   "cell_type": "code",
   "execution_count": 24,
   "id": "384713ee",
   "metadata": {},
   "outputs": [],
   "source": [
    "#input and output feature preparation\n",
    "\n",
    "#input features\n",
    "stock_data.shape\n",
    "\n",
    "X = stock_data[['Open', 'High', 'Low','Close','Adj Close', 'Volume']] #x will be holding all input values\n",
    "y = stock_data['Close'] #y will hold the output part\n"
   ]
  },
  {
   "cell_type": "code",
   "execution_count": 23,
   "id": "c4a3b350",
   "metadata": {},
   "outputs": [
    {
     "name": "stdout",
     "output_type": "stream",
     "text": [
      "                Open      High       Low     Close  Adj Close     Volume\n",
      "Date                                                                    \n",
      "1999-03-11  0.583984  0.781250  0.583984  0.732422   0.483835  172512000\n",
      "1999-03-12  0.734375  0.761719  0.671875  0.728516   0.481255   39897600\n",
      "1999-03-15  0.730469  0.730469  0.658203  0.662109   0.437387   12672000\n",
      "1999-03-16  0.667969  0.691406  0.656250  0.656250   0.433516    9984000\n",
      "1999-03-17  0.656250  0.699219  0.652344  0.660156   0.436097   15449600\n",
      "...              ...       ...       ...       ...        ...        ...\n",
      "1999-07-27  1.175781  1.290039  1.171875  1.244141   0.822172    5100800\n",
      "1999-07-28  1.253906  1.367188  1.253906  1.339844   0.885416    3948800\n",
      "1999-07-29  1.308594  1.310547  1.265625  1.292969   0.854439    2630400\n",
      "1999-07-30  1.289063  1.300781  1.277344  1.277344   0.844114    2246400\n",
      "1999-08-02  1.282227  1.343750  1.282227  1.298828   0.858311    1638400\n",
      "\n",
      "[100 rows x 6 columns]\n"
     ]
    }
   ],
   "source": [
    "print (X[:100])\n",
    "#here we can see the infosys data that will work as the input features, helping in our predictions."
   ]
  },
  {
   "cell_type": "code",
   "execution_count": 26,
   "id": "81845d2a",
   "metadata": {},
   "outputs": [],
   "source": [
    "#now splitting the dataset into training and testing sets\n",
    "#importing train_test_split function\n",
    "from sklearn.model_selection import train_test_split\n",
    "#splitting the data set\n",
    "X_train , X_test, y_train, y_test = train_test_split(X,y, test_size=0.20) \n",
    "\n",
    "#x_train will be input training set\n",
    "#y_train will be output holding training set\n",
    "#likewise for testing part"
   ]
  },
  {
   "cell_type": "code",
   "execution_count": 29,
   "id": "901604c5",
   "metadata": {},
   "outputs": [
    {
     "name": "stdout",
     "output_type": "stream",
     "text": [
      "(5043, 6) (1261, 6) (5043,) (1261,)\n"
     ]
    }
   ],
   "source": [
    "print (X_train.shape , X_test.shape, y_train.shape, y_test.shape)"
   ]
  },
  {
   "cell_type": "code",
   "execution_count": 31,
   "id": "7ddd8741",
   "metadata": {},
   "outputs": [],
   "source": [
    "#Creating RandomForestModel and importing RFMregressor\n",
    "from sklearn.ensemble import RandomForestRegressor"
   ]
  },
  {
   "cell_type": "code",
   "execution_count": 32,
   "id": "65a74756",
   "metadata": {},
   "outputs": [],
   "source": [
    "#Instatiation of the model\n",
    "model = RandomForestRegressor (n_estimators = 30, random_state = 30)"
   ]
  },
  {
   "cell_type": "code",
   "execution_count": 34,
   "id": "99f0b5d5",
   "metadata": {},
   "outputs": [],
   "source": [
    "#Fitting the model\n",
    "LL_rf = model.fit(X_train, y_train)"
   ]
  },
  {
   "cell_type": "code",
   "execution_count": 35,
   "id": "8400086a",
   "metadata": {},
   "outputs": [],
   "source": [
    "# Training Model Evaluation"
   ]
  },
  {
   "cell_type": "code",
   "execution_count": 38,
   "id": "4aac15f5",
   "metadata": {},
   "outputs": [],
   "source": [
    "from sklearn.metrics import mean_absolute_error , mean_squared_error, explained_variance_score , r2_score"
   ]
  },
  {
   "cell_type": "code",
   "execution_count": 37,
   "id": "e4c2f119",
   "metadata": {},
   "outputs": [
    {
     "name": "stdout",
     "output_type": "stream",
     "text": [
      "The training r_sq is: 1.00\n"
     ]
    }
   ],
   "source": [
    "#The training r_sq\n",
    "print('The training r_sq is: %.2f'% LL_rf.score(X_train , y_train))"
   ]
  },
  {
   "cell_type": "code",
   "execution_count": 44,
   "id": "1df94e1e",
   "metadata": {},
   "outputs": [
    {
     "name": "stdout",
     "output_type": "stream",
     "text": [
      "[ 7.5499585   5.38466689  4.72416658 ...  4.73270834 22.88966605\n",
      "  5.11141664]\n"
     ]
    }
   ],
   "source": [
    "# Prediction on the training dataset\n",
    "\n",
    "ytrain_pred = LL_rf.predict(X_train)\n",
    "print (ytrain_pred)"
   ]
  },
  {
   "cell_type": "code",
   "execution_count": 43,
   "id": "09434e91",
   "metadata": {},
   "outputs": [
    {
     "name": "stdout",
     "output_type": "stream",
     "text": [
      "The MAE is: 0.00\n"
     ]
    }
   ],
   "source": [
    "#The MAE on the training dataset\n",
    "print('The MAE is: %.2f' %mean_absolute_error(y_train, ytrain_pred))"
   ]
  },
  {
   "cell_type": "code",
   "execution_count": 45,
   "id": "b888abc1",
   "metadata": {},
   "outputs": [
    {
     "name": "stdout",
     "output_type": "stream",
     "text": [
      "The MSE is: 0.00\n"
     ]
    }
   ],
   "source": [
    "#The MSE on the training dataset\n",
    "print('The MSE is: %.2f' %mean_squared_error(y_train, ytrain_pred))\n"
   ]
  },
  {
   "cell_type": "code",
   "execution_count": 48,
   "id": "a8d46d76",
   "metadata": {},
   "outputs": [
    {
     "name": "stdout",
     "output_type": "stream",
     "text": [
      "The RMSE is: 0.00\n"
     ]
    }
   ],
   "source": [
    "#The RMSE on the training dataset\n",
    "import numpy as np\n",
    "print ('The RMSE is: %.2f' % np.sqrt(mean_squared_error(y_train, ytrain_pred)))"
   ]
  },
  {
   "cell_type": "code",
   "execution_count": 50,
   "id": "2f1d5012",
   "metadata": {},
   "outputs": [
    {
     "name": "stdout",
     "output_type": "stream",
     "text": [
      "The EVS is: 1.00\n"
     ]
    }
   ],
   "source": [
    "#The EVS on the training dataset\n",
    "print('The EVS is: %.2f' %explained_variance_score(y_train, ytrain_pred))"
   ]
  },
  {
   "cell_type": "code",
   "execution_count": 51,
   "id": "f793543a",
   "metadata": {},
   "outputs": [],
   "source": [
    "#Prediction on the testing data\n",
    "y_test_pred = LL_rf.predict(X_test)"
   ]
  },
  {
   "cell_type": "code",
   "execution_count": 52,
   "id": "610e5b6b",
   "metadata": {},
   "outputs": [
    {
     "name": "stdout",
     "output_type": "stream",
     "text": [
      "[ 1.65388554  4.36525006  8.66460355  5.49226564 17.37133395  7.42591669\n",
      " 18.43666706 18.46133277  7.34008334 18.51533343]\n"
     ]
    }
   ],
   "source": [
    "print(y_test_pred[:10])"
   ]
  },
  {
   "cell_type": "code",
   "execution_count": 54,
   "id": "a7cd8b65",
   "metadata": {},
   "outputs": [
    {
     "name": "stdout",
     "output_type": "stream",
     "text": [
      "The testing r_sq is : 1.00\n"
     ]
    }
   ],
   "source": [
    "#The testing coefficeint of detertimination\n",
    "print('The testing r_sq is : %.2f'% r2_score(y_test, y_test_pred))"
   ]
  },
  {
   "cell_type": "code",
   "execution_count": 55,
   "id": "171dfb1b",
   "metadata": {},
   "outputs": [
    {
     "name": "stdout",
     "output_type": "stream",
     "text": [
      "The testing r_sq is : 1.00\n"
     ]
    }
   ],
   "source": [
    "#Or for testingset\n",
    "print('The testing r_sq is : %.2f'% LL_rf.score(X_test, y_test))"
   ]
  },
  {
   "cell_type": "code",
   "execution_count": 56,
   "id": "d636ff8a",
   "metadata": {},
   "outputs": [
    {
     "name": "stdout",
     "output_type": "stream",
     "text": [
      "The MAE is: 0.00\n"
     ]
    }
   ],
   "source": [
    "#The metrics for testingset\n",
    "\n",
    "#The MAE for testingset\n",
    "\n",
    "print('The MAE is: %.2f' %mean_absolute_error(y_test, y_test_pred))"
   ]
  },
  {
   "cell_type": "code",
   "execution_count": 57,
   "id": "c8f165bf",
   "metadata": {},
   "outputs": [
    {
     "name": "stdout",
     "output_type": "stream",
     "text": [
      "The MSE is: 0.00\n"
     ]
    }
   ],
   "source": [
    "#The MSE for testingset\n",
    "\n",
    "print('The MSE is: %.2f' %mean_squared_error(y_test, y_test_pred))"
   ]
  },
  {
   "cell_type": "code",
   "execution_count": 62,
   "id": "0a4522a0",
   "metadata": {},
   "outputs": [
    {
     "name": "stdout",
     "output_type": "stream",
     "text": [
      "The RMSE is: 0.01929453420863689\n"
     ]
    }
   ],
   "source": [
    "#The RMSE\n",
    "print ('The RMSE is:', np.sqrt(mean_squared_error(y_test, y_test_pred)))"
   ]
  },
  {
   "cell_type": "code",
   "execution_count": 63,
   "id": "19055bf0",
   "metadata": {},
   "outputs": [
    {
     "name": "stdout",
     "output_type": "stream",
     "text": [
      "The EVS is: 1.00\n"
     ]
    }
   ],
   "source": [
    "#The EVS for testingset\n",
    "print('The EVS is: %.2f' %explained_variance_score(y_test, y_test_pred))"
   ]
  },
  {
   "cell_type": "code",
   "execution_count": 69,
   "id": "93428180",
   "metadata": {},
   "outputs": [
    {
     "data": {
      "text/plain": [
       "[<matplotlib.lines.Line2D at 0x1ffd85f6190>]"
      ]
     },
     "execution_count": 69,
     "metadata": {},
     "output_type": "execute_result"
    },
    {
     "data": {
      "image/png": "[encoded data removed]",
      "text/plain": [
       "<Figure size 1000x600 with 1 Axes>"
      ]
     },
     "metadata": {},
     "output_type": "display_data"
    }
   ],
   "source": [
    "#PLOTTING observed vs predicted data using matplot\n",
    "\n",
    "import matplotlib.pyplot as plt\n",
    "#Setting the boundaries and parameters\n",
    "plt.rcParams['figure.figsize'] = (10,6)\n",
    "x_ax = range(len(X_test))\n",
    "\n",
    "#Plotting\n",
    "plt.plot(x_ax, y_test, label = 'Observed', color ='pink', linestyle ='-')\n"
   ]
  },
  {
   "cell_type": "code",
   "execution_count": null,
   "id": "e63e3141",
   "metadata": {},
   "outputs": [],
   "source": []
  }
 ],
 "metadata": {
  "kernelspec": {
   "display_name": "Python 3 (ipykernel)",
   "language": "python",
   "name": "python3"
  },
  "language_info": {
   "codemirror_mode": {
    "name": "ipython",
    "version": 3
   },
   "file_extension": ".py",
   "mimetype": "text/x-python",
   "name": "python",
   "nbconvert_exporter": "python",
   "pygments_lexer": "ipython3",
   "version": "3.11.5"
  }
 },
 "nbformat": 4,
 "nbformat_minor": 5
}
