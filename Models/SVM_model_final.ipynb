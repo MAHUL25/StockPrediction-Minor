{
 "cells": [
  {
   "cell_type": "code",
   "execution_count": 137,
   "metadata": {},
   "outputs": [],
   "source": [
    "import pandas as pd\n",
    "import numpy as np\n",
    "\n",
    "import matplotlib.pyplot as plt\n",
    "import matplotlib\n",
    "import seaborn as sns\n",
    "\n",
    "from sklearn.model_selection import train_test_split\n",
    "from sklearn import svm\n",
    "from sklearn.svm import SVR\n",
    "from sklearn.metrics import mean_squared_error, mean_absolute_error, r2_score, accuracy_score, precision_score, recall_score, f1_score, confusion_matrix, root_mean_squared_error\n",
    "from sklearn.preprocessing import StandardScaler, MinMaxScaler\n",
    "from sklearn.model_selection import GridSearchCV\n",
    "\n",
    "from datetime import date\n",
    "\n",
    "import yfinance as yf\n",
    "\n",
    "import pickle"
   ]
  },
  {
   "cell_type": "code",
   "execution_count": 2,
   "metadata": {},
   "outputs": [],
   "source": [
    "def PlotData(data, graph_title, graph_name):\n",
    "    matplotlib.use('Agg')\n",
    "    plt.figure(figsize=(10, 6))\n",
    "    plt.plot(data.index, data)\n",
    "    plt.title(graph_title)\n",
    "    # plt.show()\n",
    "\n",
    "    plt.savefig(f'{graph_name}.png', format='png')"
   ]
  },
  {
   "cell_type": "code",
   "execution_count": 3,
   "metadata": {},
   "outputs": [],
   "source": [
    "def MinMaxData(data, col_name):\n",
    "    x = data.describe()\n",
    "    x = x[col_name]\n",
    "    # minVal = np.int32(x.loc['min'])\n",
    "    minVal = x.loc['min']\n",
    "    # minVal = round(minVal, 4)\n",
    "    # maxVal = np.int32(x.loc['max'])\n",
    "    # maxVal = round(maxVal, 4)\n",
    "    maxVal = x.loc['max']\n",
    "\n",
    "    return minVal, maxVal"
   ]
  },
  {
   "cell_type": "code",
   "execution_count": 4,
   "metadata": {},
   "outputs": [],
   "source": [
    "def DataImport(stock_name):\n",
    "    # t_day = date.today()\n",
    "    # data = yf.download(stock_name, start=f\"{t_day.year - 5}-01-01\", end=f\"{t_day.year}-{t_day.month-1}-01\")\n",
    "    data = yf.download(stock_name)\n",
    "    close_data = data['Close']\n",
    "    # PlotData(close_data, stock_name, \"fullStock\")\n",
    "    open_min, open_max = MinMaxData(data, 'Open')\n",
    "    high_min, high_max = MinMaxData(data, 'High')\n",
    "    low_min, low_max = MinMaxData(data, 'Low')\n",
    "    vol_min, vol_max = MinMaxData(data, 'Volume')\n",
    "    \n",
    "    d = {\"open_min\": open_min, \"open_max\": open_max, \"high_min\": high_min, \"high_max\": high_max, \n",
    "    \"low_min\": low_min, \"low_max\": low_max, \"vol_min\": vol_min, \"vol_max\": vol_max}\n",
    "\n",
    "    return data, d\n"
   ]
  },
  {
   "cell_type": "code",
   "execution_count": 99,
   "metadata": {},
   "outputs": [
    {
     "name": "stderr",
     "output_type": "stream",
     "text": [
      "[*********************100%%**********************]  1 of 1 completed\n"
     ]
    }
   ],
   "source": [
    "data, d = DataImport(\"GC=F\")"
   ]
  },
  {
   "cell_type": "code",
   "execution_count": 62,
   "metadata": {},
   "outputs": [],
   "source": [
    "PlotData(data['Close'], \"INFY\", \"fullStock\")"
   ]
  },
  {
   "cell_type": "code",
   "execution_count": 100,
   "metadata": {},
   "outputs": [
    {
     "data": {
      "text/html": [
       "<div>\n",
       "<style scoped>\n",
       "    .dataframe tbody tr th:only-of-type {\n",
       "        vertical-align: middle;\n",
       "    }\n",
       "\n",
       "    .dataframe tbody tr th {\n",
       "        vertical-align: top;\n",
       "    }\n",
       "\n",
       "    .dataframe thead th {\n",
       "        text-align: right;\n",
       "    }\n",
       "</style>\n",
       "<table border=\"1\" class=\"dataframe\">\n",
       "  <thead>\n",
       "    <tr style=\"text-align: right;\">\n",
       "      <th></th>\n",
       "      <th>Open</th>\n",
       "      <th>High</th>\n",
       "      <th>Low</th>\n",
       "      <th>Close</th>\n",
       "      <th>Adj Close</th>\n",
       "      <th>Volume</th>\n",
       "    </tr>\n",
       "    <tr>\n",
       "      <th>Date</th>\n",
       "      <th></th>\n",
       "      <th></th>\n",
       "      <th></th>\n",
       "      <th></th>\n",
       "      <th></th>\n",
       "      <th></th>\n",
       "    </tr>\n",
       "  </thead>\n",
       "  <tbody>\n",
       "    <tr>\n",
       "      <th>2000-08-30</th>\n",
       "      <td>273.899994</td>\n",
       "      <td>273.899994</td>\n",
       "      <td>273.899994</td>\n",
       "      <td>273.899994</td>\n",
       "      <td>273.899994</td>\n",
       "      <td>0</td>\n",
       "    </tr>\n",
       "    <tr>\n",
       "      <th>2000-08-31</th>\n",
       "      <td>274.799988</td>\n",
       "      <td>278.299988</td>\n",
       "      <td>274.799988</td>\n",
       "      <td>278.299988</td>\n",
       "      <td>278.299988</td>\n",
       "      <td>0</td>\n",
       "    </tr>\n",
       "    <tr>\n",
       "      <th>2000-09-01</th>\n",
       "      <td>277.000000</td>\n",
       "      <td>277.000000</td>\n",
       "      <td>277.000000</td>\n",
       "      <td>277.000000</td>\n",
       "      <td>277.000000</td>\n",
       "      <td>0</td>\n",
       "    </tr>\n",
       "    <tr>\n",
       "      <th>2000-09-05</th>\n",
       "      <td>275.799988</td>\n",
       "      <td>275.799988</td>\n",
       "      <td>275.799988</td>\n",
       "      <td>275.799988</td>\n",
       "      <td>275.799988</td>\n",
       "      <td>2</td>\n",
       "    </tr>\n",
       "    <tr>\n",
       "      <th>2000-09-06</th>\n",
       "      <td>274.200012</td>\n",
       "      <td>274.200012</td>\n",
       "      <td>274.200012</td>\n",
       "      <td>274.200012</td>\n",
       "      <td>274.200012</td>\n",
       "      <td>0</td>\n",
       "    </tr>\n",
       "    <tr>\n",
       "      <th>...</th>\n",
       "      <td>...</td>\n",
       "      <td>...</td>\n",
       "      <td>...</td>\n",
       "      <td>...</td>\n",
       "      <td>...</td>\n",
       "      <td>...</td>\n",
       "    </tr>\n",
       "    <tr>\n",
       "      <th>2024-04-17</th>\n",
       "      <td>2384.199951</td>\n",
       "      <td>2391.399902</td>\n",
       "      <td>2369.300049</td>\n",
       "      <td>2371.699951</td>\n",
       "      <td>2371.699951</td>\n",
       "      <td>37</td>\n",
       "    </tr>\n",
       "    <tr>\n",
       "      <th>2024-04-18</th>\n",
       "      <td>2368.399902</td>\n",
       "      <td>2384.399902</td>\n",
       "      <td>2368.399902</td>\n",
       "      <td>2382.300049</td>\n",
       "      <td>2382.300049</td>\n",
       "      <td>128</td>\n",
       "    </tr>\n",
       "    <tr>\n",
       "      <th>2024-04-19</th>\n",
       "      <td>2379.300049</td>\n",
       "      <td>2399.800049</td>\n",
       "      <td>2377.300049</td>\n",
       "      <td>2398.399902</td>\n",
       "      <td>2398.399902</td>\n",
       "      <td>160</td>\n",
       "    </tr>\n",
       "    <tr>\n",
       "      <th>2024-04-22</th>\n",
       "      <td>2383.300049</td>\n",
       "      <td>2383.300049</td>\n",
       "      <td>2326.899902</td>\n",
       "      <td>2332.199951</td>\n",
       "      <td>2332.199951</td>\n",
       "      <td>160</td>\n",
       "    </tr>\n",
       "    <tr>\n",
       "      <th>2024-04-23</th>\n",
       "      <td>2342.300049</td>\n",
       "      <td>2347.899902</td>\n",
       "      <td>2304.600098</td>\n",
       "      <td>2325.199951</td>\n",
       "      <td>2325.199951</td>\n",
       "      <td>145803</td>\n",
       "    </tr>\n",
       "  </tbody>\n",
       "</table>\n",
       "<p>5933 rows × 6 columns</p>\n",
       "</div>"
      ],
      "text/plain": [
       "                   Open         High          Low        Close    Adj Close  \\\n",
       "Date                                                                          \n",
       "2000-08-30   273.899994   273.899994   273.899994   273.899994   273.899994   \n",
       "2000-08-31   274.799988   278.299988   274.799988   278.299988   278.299988   \n",
       "2000-09-01   277.000000   277.000000   277.000000   277.000000   277.000000   \n",
       "2000-09-05   275.799988   275.799988   275.799988   275.799988   275.799988   \n",
       "2000-09-06   274.200012   274.200012   274.200012   274.200012   274.200012   \n",
       "...                 ...          ...          ...          ...          ...   \n",
       "2024-04-17  2384.199951  2391.399902  2369.300049  2371.699951  2371.699951   \n",
       "2024-04-18  2368.399902  2384.399902  2368.399902  2382.300049  2382.300049   \n",
       "2024-04-19  2379.300049  2399.800049  2377.300049  2398.399902  2398.399902   \n",
       "2024-04-22  2383.300049  2383.300049  2326.899902  2332.199951  2332.199951   \n",
       "2024-04-23  2342.300049  2347.899902  2304.600098  2325.199951  2325.199951   \n",
       "\n",
       "            Volume  \n",
       "Date                \n",
       "2000-08-30       0  \n",
       "2000-08-31       0  \n",
       "2000-09-01       0  \n",
       "2000-09-05       2  \n",
       "2000-09-06       0  \n",
       "...            ...  \n",
       "2024-04-17      37  \n",
       "2024-04-18     128  \n",
       "2024-04-19     160  \n",
       "2024-04-22     160  \n",
       "2024-04-23  145803  \n",
       "\n",
       "[5933 rows x 6 columns]"
      ]
     },
     "execution_count": 100,
     "metadata": {},
     "output_type": "execute_result"
    }
   ],
   "source": [
    "data"
   ]
  },
  {
   "cell_type": "code",
   "execution_count": 101,
   "metadata": {},
   "outputs": [
    {
     "data": {
      "text/plain": [
       "{'open_min': 255.0,\n",
       " 'open_max': 2384.199951171875,\n",
       " 'high_min': 256.1000061035156,\n",
       " 'high_max': 2429.0,\n",
       " 'low_min': 255.0,\n",
       " 'low_max': 2377.300048828125,\n",
       " 'vol_min': 0.0,\n",
       " 'vol_max': 386334.0}"
      ]
     },
     "execution_count": 101,
     "metadata": {},
     "output_type": "execute_result"
    }
   ],
   "source": [
    "d"
   ]
  },
  {
   "cell_type": "code",
   "execution_count": 9,
   "metadata": {},
   "outputs": [],
   "source": [
    "def modelBuilding(data):\n",
    "    columns_to_4decimal = ['Open', 'High', 'Low', 'Close']\n",
    "\n",
    "    data[columns_to_4decimal] = np.round(data[columns_to_4decimal],4)\n",
    "    # print(data)\n",
    "    X = data[['Open', 'Low', 'High', 'Volume']]\n",
    "    y = data['Close']\n",
    "\n",
    "    #split the data into training and test sets\n",
    "    X_train, X_test, y_train, y_test = train_test_split(X, y, test_size=0.20, random_state=42)\n",
    "\n",
    "    scaler = StandardScaler()\n",
    "    X_train_scaled = scaler.fit_transform(X_train)\n",
    "    X_test_scaled = scaler.transform(X_test)\n",
    "\n",
    "    #creates the svr model\n",
    "    svr_model = SVR(kernel = 'rbf', C=100, epsilon=0.1)\n",
    "\n",
    "\n",
    "    #train the model\n",
    "    svr_model.fit(X_train_scaled, y_train)\n",
    "\n",
    "    scaler = MinMaxScaler()\n",
    "    X_train_normalized = scaler.fit_transform(X_train)\n",
    "    X_test_normalized = scaler.transform(X_test)\n",
    "\n",
    "\n",
    "    #defines the parameter for grid search \n",
    "    param_grid = {\n",
    "        'kernel': ['linear', 'rbf'],\n",
    "        'C': [1, 10, 50, 100],\n",
    "        'epsilon': [0.01, .1, 0.2, 0.5]\n",
    "    }\n",
    "    svr = SVR()\n",
    "\n",
    "    grid_search = GridSearchCV(svr, param_grid, cv=5, scoring='neg_mean_squared_error', n_jobs=-1)\n",
    "    normal_pred = grid_search.fit(X_train_normalized, y_train)\n",
    "\n",
    "    best_params = grid_search.best_params_\n",
    "\n",
    "\n",
    "    #trains the model with the best parameter \n",
    "    best_svr_model = SVR(**best_params)\n",
    "    best_svr_model.fit(X_train_normalized, y_train)\n",
    "\n",
    "    return best_svr_model, scaler, X_test, y_test, X_train, y_train"
   ]
  },
  {
   "cell_type": "code",
   "execution_count": 102,
   "metadata": {},
   "outputs": [],
   "source": [
    "model, scaler, X_test, y_test, X_train, y_train = modelBuilding(data)"
   ]
  },
  {
   "cell_type": "code",
   "execution_count": 103,
   "metadata": {},
   "outputs": [
    {
     "data": {
      "text/html": [
       "<div>\n",
       "<style scoped>\n",
       "    .dataframe tbody tr th:only-of-type {\n",
       "        vertical-align: middle;\n",
       "    }\n",
       "\n",
       "    .dataframe tbody tr th {\n",
       "        vertical-align: top;\n",
       "    }\n",
       "\n",
       "    .dataframe thead th {\n",
       "        text-align: right;\n",
       "    }\n",
       "</style>\n",
       "<table border=\"1\" class=\"dataframe\">\n",
       "  <thead>\n",
       "    <tr style=\"text-align: right;\">\n",
       "      <th></th>\n",
       "      <th>Open</th>\n",
       "      <th>Low</th>\n",
       "      <th>High</th>\n",
       "      <th>Volume</th>\n",
       "    </tr>\n",
       "    <tr>\n",
       "      <th>Date</th>\n",
       "      <th></th>\n",
       "      <th></th>\n",
       "      <th></th>\n",
       "      <th></th>\n",
       "    </tr>\n",
       "  </thead>\n",
       "  <tbody>\n",
       "    <tr>\n",
       "      <th>2006-12-11</th>\n",
       "      <td>623.0</td>\n",
       "      <td>622.4</td>\n",
       "      <td>629.7</td>\n",
       "      <td>467</td>\n",
       "    </tr>\n",
       "    <tr>\n",
       "      <th>2006-11-17</th>\n",
       "      <td>617.5</td>\n",
       "      <td>617.5</td>\n",
       "      <td>617.5</td>\n",
       "      <td>10</td>\n",
       "    </tr>\n",
       "    <tr>\n",
       "      <th>2011-02-11</th>\n",
       "      <td>1364.0</td>\n",
       "      <td>1355.2</td>\n",
       "      <td>1368.8</td>\n",
       "      <td>488</td>\n",
       "    </tr>\n",
       "    <tr>\n",
       "      <th>2015-06-22</th>\n",
       "      <td>1197.8</td>\n",
       "      <td>1182.7</td>\n",
       "      <td>1197.8</td>\n",
       "      <td>30</td>\n",
       "    </tr>\n",
       "    <tr>\n",
       "      <th>2014-10-23</th>\n",
       "      <td>1228.0</td>\n",
       "      <td>1227.9</td>\n",
       "      <td>1228.5</td>\n",
       "      <td>2</td>\n",
       "    </tr>\n",
       "    <tr>\n",
       "      <th>...</th>\n",
       "      <td>...</td>\n",
       "      <td>...</td>\n",
       "      <td>...</td>\n",
       "      <td>...</td>\n",
       "    </tr>\n",
       "    <tr>\n",
       "      <th>2019-04-25</th>\n",
       "      <td>1280.6</td>\n",
       "      <td>1275.8</td>\n",
       "      <td>1280.8</td>\n",
       "      <td>95</td>\n",
       "    </tr>\n",
       "    <tr>\n",
       "      <th>2005-08-29</th>\n",
       "      <td>438.5</td>\n",
       "      <td>437.3</td>\n",
       "      <td>439.5</td>\n",
       "      <td>37</td>\n",
       "    </tr>\n",
       "    <tr>\n",
       "      <th>2022-04-14</th>\n",
       "      <td>1977.2</td>\n",
       "      <td>1963.0</td>\n",
       "      <td>1978.7</td>\n",
       "      <td>101</td>\n",
       "    </tr>\n",
       "    <tr>\n",
       "      <th>2006-02-22</th>\n",
       "      <td>552.6</td>\n",
       "      <td>551.0</td>\n",
       "      <td>554.8</td>\n",
       "      <td>253</td>\n",
       "    </tr>\n",
       "    <tr>\n",
       "      <th>2013-03-06</th>\n",
       "      <td>1577.6</td>\n",
       "      <td>1566.8</td>\n",
       "      <td>1582.6</td>\n",
       "      <td>106</td>\n",
       "    </tr>\n",
       "  </tbody>\n",
       "</table>\n",
       "<p>1187 rows × 4 columns</p>\n",
       "</div>"
      ],
      "text/plain": [
       "              Open     Low    High  Volume\n",
       "Date                                      \n",
       "2006-12-11   623.0   622.4   629.7     467\n",
       "2006-11-17   617.5   617.5   617.5      10\n",
       "2011-02-11  1364.0  1355.2  1368.8     488\n",
       "2015-06-22  1197.8  1182.7  1197.8      30\n",
       "2014-10-23  1228.0  1227.9  1228.5       2\n",
       "...            ...     ...     ...     ...\n",
       "2019-04-25  1280.6  1275.8  1280.8      95\n",
       "2005-08-29   438.5   437.3   439.5      37\n",
       "2022-04-14  1977.2  1963.0  1978.7     101\n",
       "2006-02-22   552.6   551.0   554.8     253\n",
       "2013-03-06  1577.6  1566.8  1582.6     106\n",
       "\n",
       "[1187 rows x 4 columns]"
      ]
     },
     "execution_count": 103,
     "metadata": {},
     "output_type": "execute_result"
    }
   ],
   "source": [
    "X_test"
   ]
  },
  {
   "cell_type": "code",
   "execution_count": 104,
   "metadata": {},
   "outputs": [
    {
     "data": {
      "text/html": [
       "<div>\n",
       "<style scoped>\n",
       "    .dataframe tbody tr th:only-of-type {\n",
       "        vertical-align: middle;\n",
       "    }\n",
       "\n",
       "    .dataframe tbody tr th {\n",
       "        vertical-align: top;\n",
       "    }\n",
       "\n",
       "    .dataframe thead th {\n",
       "        text-align: right;\n",
       "    }\n",
       "</style>\n",
       "<table border=\"1\" class=\"dataframe\">\n",
       "  <thead>\n",
       "    <tr style=\"text-align: right;\">\n",
       "      <th></th>\n",
       "      <th>Open</th>\n",
       "      <th>Low</th>\n",
       "      <th>High</th>\n",
       "      <th>Volume</th>\n",
       "    </tr>\n",
       "    <tr>\n",
       "      <th>Date</th>\n",
       "      <th></th>\n",
       "      <th></th>\n",
       "      <th></th>\n",
       "      <th></th>\n",
       "    </tr>\n",
       "  </thead>\n",
       "  <tbody>\n",
       "    <tr>\n",
       "      <th>2011-06-22</th>\n",
       "      <td>1547.2</td>\n",
       "      <td>1544.4</td>\n",
       "      <td>1558.5</td>\n",
       "      <td>222</td>\n",
       "    </tr>\n",
       "    <tr>\n",
       "      <th>2021-11-04</th>\n",
       "      <td>1776.6</td>\n",
       "      <td>1776.2</td>\n",
       "      <td>1798.2</td>\n",
       "      <td>103</td>\n",
       "    </tr>\n",
       "    <tr>\n",
       "      <th>2003-04-16</th>\n",
       "      <td>325.5</td>\n",
       "      <td>323.5</td>\n",
       "      <td>325.8</td>\n",
       "      <td>0</td>\n",
       "    </tr>\n",
       "    <tr>\n",
       "      <th>2002-05-23</th>\n",
       "      <td>322.5</td>\n",
       "      <td>322.5</td>\n",
       "      <td>322.5</td>\n",
       "      <td>0</td>\n",
       "    </tr>\n",
       "    <tr>\n",
       "      <th>2016-04-13</th>\n",
       "      <td>1256.5</td>\n",
       "      <td>1241.3</td>\n",
       "      <td>1256.9</td>\n",
       "      <td>203</td>\n",
       "    </tr>\n",
       "    <tr>\n",
       "      <th>...</th>\n",
       "      <td>...</td>\n",
       "      <td>...</td>\n",
       "      <td>...</td>\n",
       "      <td>...</td>\n",
       "    </tr>\n",
       "    <tr>\n",
       "      <th>2015-09-18</th>\n",
       "      <td>1128.3</td>\n",
       "      <td>1127.8</td>\n",
       "      <td>1141.2</td>\n",
       "      <td>59</td>\n",
       "    </tr>\n",
       "    <tr>\n",
       "      <th>2021-05-13</th>\n",
       "      <td>1814.7</td>\n",
       "      <td>1814.1</td>\n",
       "      <td>1826.8</td>\n",
       "      <td>100</td>\n",
       "    </tr>\n",
       "    <tr>\n",
       "      <th>2021-07-02</th>\n",
       "      <td>1778.7</td>\n",
       "      <td>1778.3</td>\n",
       "      <td>1787.9</td>\n",
       "      <td>23</td>\n",
       "    </tr>\n",
       "    <tr>\n",
       "      <th>2022-02-25</th>\n",
       "      <td>1906.9</td>\n",
       "      <td>1883.6</td>\n",
       "      <td>1920.0</td>\n",
       "      <td>586</td>\n",
       "    </tr>\n",
       "    <tr>\n",
       "      <th>2004-02-17</th>\n",
       "      <td>414.0</td>\n",
       "      <td>413.4</td>\n",
       "      <td>415.4</td>\n",
       "      <td>146</td>\n",
       "    </tr>\n",
       "  </tbody>\n",
       "</table>\n",
       "<p>4746 rows × 4 columns</p>\n",
       "</div>"
      ],
      "text/plain": [
       "              Open     Low    High  Volume\n",
       "Date                                      \n",
       "2011-06-22  1547.2  1544.4  1558.5     222\n",
       "2021-11-04  1776.6  1776.2  1798.2     103\n",
       "2003-04-16   325.5   323.5   325.8       0\n",
       "2002-05-23   322.5   322.5   322.5       0\n",
       "2016-04-13  1256.5  1241.3  1256.9     203\n",
       "...            ...     ...     ...     ...\n",
       "2015-09-18  1128.3  1127.8  1141.2      59\n",
       "2021-05-13  1814.7  1814.1  1826.8     100\n",
       "2021-07-02  1778.7  1778.3  1787.9      23\n",
       "2022-02-25  1906.9  1883.6  1920.0     586\n",
       "2004-02-17   414.0   413.4   415.4     146\n",
       "\n",
       "[4746 rows x 4 columns]"
      ]
     },
     "execution_count": 104,
     "metadata": {},
     "output_type": "execute_result"
    }
   ],
   "source": [
    "X_train"
   ]
  },
  {
   "cell_type": "code",
   "execution_count": 105,
   "metadata": {},
   "outputs": [
    {
     "data": {
      "text/plain": [
       "array([ 630. ,  621.5, 1359.9, ..., 1970.9,  553.9, 1574.6])"
      ]
     },
     "execution_count": 105,
     "metadata": {},
     "output_type": "execute_result"
    }
   ],
   "source": [
    "y_test\n",
    "y_test2 = np.array(y_test)\n",
    "y_test2"
   ]
  },
  {
   "cell_type": "code",
   "execution_count": 106,
   "metadata": {},
   "outputs": [
    {
     "data": {
      "text/plain": [
       "array([1552.9, 1793. ,  325.8, ..., 1782.6, 1886.5,  416. ])"
      ]
     },
     "execution_count": 106,
     "metadata": {},
     "output_type": "execute_result"
    }
   ],
   "source": [
    "y_train\n",
    "y_train2 = np.array(y_train)\n",
    "y_train2"
   ]
  },
  {
   "cell_type": "code",
   "execution_count": 107,
   "metadata": {},
   "outputs": [
    {
     "name": "stderr",
     "output_type": "stream",
     "text": [
      "c:\\Users\\Mehul\\CODES\\StockPrediction-Minor\\myenv\\Lib\\site-packages\\sklearn\\base.py:486: UserWarning: X has feature names, but SVR was fitted without feature names\n",
      "  warnings.warn(\n",
      "c:\\Users\\Mehul\\CODES\\StockPrediction-Minor\\myenv\\Lib\\site-packages\\sklearn\\base.py:486: UserWarning: X has feature names, but SVR was fitted without feature names\n",
      "  warnings.warn(\n"
     ]
    }
   ],
   "source": [
    "y_test_pred = model.predict(X_test)\n",
    "y_train_pred = model.predict(X_train)"
   ]
  },
  {
   "cell_type": "code",
   "execution_count": 108,
   "metadata": {},
   "outputs": [
    {
     "data": {
      "text/plain": [
       "array([1333842.85204359, 1317144.63175472, 2904940.26395437, ...,\n",
       "       4205183.97454052, 1179001.54818424, 3359187.49477712])"
      ]
     },
     "execution_count": 108,
     "metadata": {},
     "output_type": "execute_result"
    }
   ],
   "source": [
    "y_test_pred"
   ]
  },
  {
   "cell_type": "code",
   "execution_count": 109,
   "metadata": {},
   "outputs": [
    {
     "data": {
      "text/plain": [
       "array([3307131.20332258, 3807803.35109168,  692870.00278366, ...,\n",
       "       3801346.43631903, 4056806.58408809,  883721.79125505])"
      ]
     },
     "execution_count": 109,
     "metadata": {},
     "output_type": "execute_result"
    }
   ],
   "source": [
    "y_train_pred"
   ]
  },
  {
   "cell_type": "code",
   "execution_count": 110,
   "metadata": {},
   "outputs": [],
   "source": [
    "scaler2 = MinMaxScaler(feature_range=(0, 1))\n",
    "y_test = scaler2.fit_transform(y_test2.reshape(-1, 1))\n",
    "y_test_pred2 = scaler2.fit_transform(y_test_pred.reshape(-1, 1))\n",
    "\n",
    "y_train = scaler2.fit_transform(y_train2.reshape(-1, 1))\n",
    "y_train_pred2 = scaler2.fit_transform(y_train_pred.reshape(-1, 1))"
   ]
  },
  {
   "cell_type": "code",
   "execution_count": 111,
   "metadata": {},
   "outputs": [],
   "source": [
    "y_test_binary = (y_test > 0.5).astype(int)\n",
    "y_test_pred_binary = (y_test_pred2 > 0.5).astype(int)\n",
    "\n",
    "y_train_binary = (y_train > 0.5).astype(int)\n",
    "y_train_pred_binary = (y_train_pred2 > 0.5).astype(int)"
   ]
  },
  {
   "cell_type": "code",
   "execution_count": 112,
   "metadata": {},
   "outputs": [
    {
     "data": {
      "text/plain": [
       "array([[0],\n",
       "       [0],\n",
       "       [1],\n",
       "       ...,\n",
       "       [1],\n",
       "       [0],\n",
       "       [1]])"
      ]
     },
     "execution_count": 112,
     "metadata": {},
     "output_type": "execute_result"
    }
   ],
   "source": [
    "y_test_binary"
   ]
  },
  {
   "cell_type": "code",
   "execution_count": 113,
   "metadata": {},
   "outputs": [
    {
     "data": {
      "text/plain": [
       "array([[1],\n",
       "       [1],\n",
       "       [0],\n",
       "       ...,\n",
       "       [1],\n",
       "       [1],\n",
       "       [0]])"
      ]
     },
     "execution_count": 113,
     "metadata": {},
     "output_type": "execute_result"
    }
   ],
   "source": [
    "y_train_binary"
   ]
  },
  {
   "cell_type": "code",
   "execution_count": 114,
   "metadata": {},
   "outputs": [
    {
     "data": {
      "text/plain": [
       "array([[0],\n",
       "       [0],\n",
       "       [1],\n",
       "       ...,\n",
       "       [1],\n",
       "       [0],\n",
       "       [1]])"
      ]
     },
     "execution_count": 114,
     "metadata": {},
     "output_type": "execute_result"
    }
   ],
   "source": [
    "y_test_pred_binary"
   ]
  },
  {
   "cell_type": "code",
   "execution_count": 115,
   "metadata": {},
   "outputs": [
    {
     "data": {
      "text/plain": [
       "array([[1],\n",
       "       [1],\n",
       "       [0],\n",
       "       ...,\n",
       "       [1],\n",
       "       [1],\n",
       "       [0]])"
      ]
     },
     "execution_count": 115,
     "metadata": {},
     "output_type": "execute_result"
    }
   ],
   "source": [
    "y_train_pred_binary"
   ]
  },
  {
   "cell_type": "code",
   "execution_count": 116,
   "metadata": {},
   "outputs": [],
   "source": [
    "acc_test = accuracy_score(y_test_binary, y_test_pred_binary)\n",
    "acc_train = accuracy_score(y_train_binary, y_train_pred_binary)"
   ]
  },
  {
   "cell_type": "code",
   "execution_count": 117,
   "metadata": {},
   "outputs": [
    {
     "data": {
      "text/plain": [
       "0.9882055602358888"
      ]
     },
     "execution_count": 117,
     "metadata": {},
     "output_type": "execute_result"
    }
   ],
   "source": [
    "acc_test"
   ]
  },
  {
   "cell_type": "code",
   "execution_count": 118,
   "metadata": {},
   "outputs": [
    {
     "data": {
      "text/plain": [
       "0.9863042562157607"
      ]
     },
     "execution_count": 118,
     "metadata": {},
     "output_type": "execute_result"
    }
   ],
   "source": [
    "acc_train"
   ]
  },
  {
   "cell_type": "code",
   "execution_count": 119,
   "metadata": {},
   "outputs": [
    {
     "data": {
      "text/plain": [
       "(98.63042562157607, 98.82055602358888)"
      ]
     },
     "execution_count": 119,
     "metadata": {},
     "output_type": "execute_result"
    }
   ],
   "source": [
    "(acc_train*100, acc_test*100)"
   ]
  },
  {
   "cell_type": "code",
   "execution_count": 120,
   "metadata": {},
   "outputs": [
    {
     "data": {
      "text/plain": [
       "98.72549082258247"
      ]
     },
     "execution_count": 120,
     "metadata": {},
     "output_type": "execute_result"
    }
   ],
   "source": [
    "avg_acc = (acc_test+acc_train)/2\n",
    "avg_acc*100"
   ]
  },
  {
   "cell_type": "code",
   "execution_count": 121,
   "metadata": {},
   "outputs": [],
   "source": [
    "pres_test = precision_score(y_test_binary, y_test_pred_binary)\n",
    "pres_train = precision_score(y_train_binary, y_train_pred_binary)"
   ]
  },
  {
   "cell_type": "code",
   "execution_count": 122,
   "metadata": {},
   "outputs": [
    {
     "data": {
      "text/plain": [
       "(0.9953379953379954, 0.9669226225634967)"
      ]
     },
     "execution_count": 122,
     "metadata": {},
     "output_type": "execute_result"
    }
   ],
   "source": [
    "(pres_test, pres_train)"
   ]
  },
  {
   "cell_type": "code",
   "execution_count": 123,
   "metadata": {},
   "outputs": [],
   "source": [
    "rec_test = recall_score(y_test_binary, y_test_pred_binary)\n",
    "rec_train = recall_score(y_train_binary, y_train_pred_binary)"
   ]
  },
  {
   "cell_type": "code",
   "execution_count": 124,
   "metadata": {},
   "outputs": [
    {
     "data": {
      "text/plain": [
       "(0.9726651480637813, 0.9945321992709599)"
      ]
     },
     "execution_count": 124,
     "metadata": {},
     "output_type": "execute_result"
    }
   ],
   "source": [
    "(rec_test, rec_train)"
   ]
  },
  {
   "cell_type": "code",
   "execution_count": 125,
   "metadata": {},
   "outputs": [],
   "source": [
    "f1_test = f1_score(y_test_binary, y_test_pred_binary)\n",
    "f1_train = f1_score(y_train_binary, y_train_pred_binary)"
   ]
  },
  {
   "cell_type": "code",
   "execution_count": 126,
   "metadata": {},
   "outputs": [
    {
     "data": {
      "text/plain": [
       "(0.9838709677419355, 0.9805330937406409)"
      ]
     },
     "execution_count": 126,
     "metadata": {},
     "output_type": "execute_result"
    }
   ],
   "source": [
    "(f1_test, f1_train)"
   ]
  },
  {
   "cell_type": "code",
   "execution_count": 135,
   "metadata": {},
   "outputs": [],
   "source": [
    "mse_test = mean_squared_error(y_test_binary, y_test_pred_binary)\n",
    "mse_train = mean_squared_error(y_train_binary, y_train_pred_binary)"
   ]
  },
  {
   "cell_type": "code",
   "execution_count": 136,
   "metadata": {},
   "outputs": [
    {
     "data": {
      "text/plain": [
       "(0.011794439764111205, 0.013695743784239359)"
      ]
     },
     "execution_count": 136,
     "metadata": {},
     "output_type": "execute_result"
    }
   ],
   "source": [
    "(mse_test, mse_train)"
   ]
  },
  {
   "cell_type": "code",
   "execution_count": 139,
   "metadata": {},
   "outputs": [],
   "source": [
    "rmse_test = root_mean_squared_error(y_test_binary, y_test_pred_binary)\n",
    "rmse_train = root_mean_squared_error(y_train_binary, y_train_pred_binary)"
   ]
  },
  {
   "cell_type": "code",
   "execution_count": 140,
   "metadata": {},
   "outputs": [
    {
     "data": {
      "text/plain": [
       "(0.10860220883624423, 0.11702881604220115)"
      ]
     },
     "execution_count": 140,
     "metadata": {},
     "output_type": "execute_result"
    }
   ],
   "source": [
    "(rmse_test, rmse_train)"
   ]
  },
  {
   "cell_type": "code",
   "execution_count": 127,
   "metadata": {},
   "outputs": [],
   "source": [
    "r2_test = r2_score(y_test_binary, y_test_pred_binary)\n",
    "r2_train = r2_score(y_train_binary, y_train_pred_binary)"
   ]
  },
  {
   "cell_type": "code",
   "execution_count": 128,
   "metadata": {},
   "outputs": [
    {
     "data": {
      "text/plain": [
       "(0.9493927618676379, 0.9395425861325599)"
      ]
     },
     "execution_count": 128,
     "metadata": {},
     "output_type": "execute_result"
    }
   ],
   "source": [
    "(r2_test, r2_train)"
   ]
  },
  {
   "cell_type": "code",
   "execution_count": 142,
   "metadata": {},
   "outputs": [
    {
     "data": {
      "text/plain": [
       "array([[746,   2],\n",
       "       [ 12, 427]], dtype=int64)"
      ]
     },
     "execution_count": 142,
     "metadata": {},
     "output_type": "execute_result"
    }
   ],
   "source": [
    "cm_test = confusion_matrix(y_test_binary, y_test_pred_binary)\n",
    "cm_test"
   ]
  },
  {
   "cell_type": "code",
   "execution_count": 148,
   "metadata": {},
   "outputs": [
    {
     "name": "stderr",
     "output_type": "stream",
     "text": [
      "C:\\Users\\Mehul\\AppData\\Local\\Temp\\ipykernel_19168\\2854438660.py:6: UserWarning: FigureCanvasAgg is non-interactive, and thus cannot be shown\n",
      "  plt.show()\n"
     ]
    }
   ],
   "source": [
    "plt.figure(figsize=(8, 6))\n",
    "sns.heatmap(cm_test, annot=True, fmt='d', cmap='Blues', xticklabels=['0', '1'], yticklabels=['0', '1'])\n",
    "plt.xlabel('Predicted')\n",
    "plt.ylabel('True')\n",
    "plt.title('Confusion Matrix')\n",
    "plt.show()"
   ]
  },
  {
   "cell_type": "code",
   "execution_count": 141,
   "metadata": {},
   "outputs": [
    {
     "data": {
      "text/plain": [
       "array([[3044,   56],\n",
       "       [   9, 1637]], dtype=int64)"
      ]
     },
     "execution_count": 141,
     "metadata": {},
     "output_type": "execute_result"
    }
   ],
   "source": [
    "cm_train = confusion_matrix(y_train_binary, y_train_pred_binary)\n",
    "cm_train"
   ]
  },
  {
   "cell_type": "code",
   "execution_count": 147,
   "metadata": {},
   "outputs": [],
   "source": [
    "def plotCm(cm):\n",
    "    plt.figure(figsize=(8, 6))\n",
    "    sns.heatmap(cm, annot=True, fmt='d', cmap='Blues', xticklabels=['0', '1'], yticklabels=['0', '1'])\n",
    "    plt.xlabel('Predicted')\n",
    "    plt.ylabel('True')\n",
    "    plt.title('Confusion Matrix')\n",
    "    plt.show()"
   ]
  },
  {
   "cell_type": "code",
   "execution_count": 143,
   "metadata": {},
   "outputs": [
    {
     "name": "stderr",
     "output_type": "stream",
     "text": [
      "C:\\Users\\Mehul\\AppData\\Local\\Temp\\ipykernel_19168\\2278125101.py:7: UserWarning: FigureCanvasAgg is non-interactive, and thus cannot be shown\n",
      "  plt.show()\n"
     ]
    }
   ],
   "source": [
    "plotCm(cm_test)"
   ]
  },
  {
   "cell_type": "code",
   "execution_count": 132,
   "metadata": {},
   "outputs": [
    {
     "name": "stderr",
     "output_type": "stream",
     "text": [
      "C:\\Users\\Mehul\\AppData\\Local\\Temp\\ipykernel_19168\\2278125101.py:7: UserWarning: FigureCanvasAgg is non-interactive, and thus cannot be shown\n",
      "  plt.show()\n"
     ]
    }
   ],
   "source": [
    "plotCm(cm_train)"
   ]
  },
  {
   "cell_type": "code",
   "execution_count": 53,
   "metadata": {},
   "outputs": [],
   "source": [
    "def Next30_days(data, d):\n",
    "    new_data = pd.DataFrame()\n",
    "    new_data['Date'] = pd.to_datetime(data.index)\n",
    "    new_data = new_data.sort_values(by='Date')\n",
    "\n",
    "    # Extract the last date in the data\n",
    "    last_date = new_data['Date'].max()\n",
    "\n",
    "    # Generate dates for the next 30 days\n",
    "    next_30_days_dates = pd.date_range(start=last_date + pd.Timedelta(days=1), periods=30, freq='D')\n",
    "\n",
    "    # Create a DataFrame for the next 30 days data\n",
    "    next_30_days_data = pd.DataFrame({'Date': next_30_days_dates})\n",
    "    \n",
    "    # next_30_days_data['Volume'] = np.random.randint(100000, 500000, size=len(next_30_days_data))\n",
    "    next_30_days_data['Open'] = np.random.randint(d['open_min'], d['open_max'], size=len(next_30_days_data))\n",
    "    next_30_days_data['Low'] = np.random.randint(d['low_min'], d['low_max'], size=len(next_30_days_data))\n",
    "    next_30_days_data['High'] = np.random.randint(d['high_min'], d['high_max'], size=len(next_30_days_data))\n",
    "    next_30_days_data['Volume'] = np.random.randint(d['vol_min'], d['vol_max'], size=len(next_30_days_data))\n",
    "\n",
    "    next_30_days_data.set_index('Date', inplace=True)\n",
    "    # Print or use the prepared next 30 days data\n",
    "    # print(next_30_days_data)\n",
    "\n",
    "    return next_30_days_data"
   ]
  },
  {
   "cell_type": "code",
   "execution_count": 54,
   "metadata": {},
   "outputs": [],
   "source": [
    "def predictData(data, d):\n",
    "    next_30_days_data = Next30_days(data, d)\n",
    "\n",
    "    next_30_days_scaled = scaler.transform(next_30_days_data)\n",
    "\n",
    "    # Make predictions for the next 30 days\n",
    "    predictions_next_30_days = model.predict(next_30_days_scaled)\n",
    "\n",
    "    return predictions_next_30_days, next_30_days_data"
   ]
  },
  {
   "cell_type": "code",
   "execution_count": 114,
   "metadata": {},
   "outputs": [],
   "source": [
    "pred, next_data = predictData(data, d)"
   ]
  },
  {
   "cell_type": "code",
   "execution_count": 56,
   "metadata": {},
   "outputs": [],
   "source": [
    "def CombineData(data, pred, next_data):\n",
    "    original_close_data = pd.DataFrame()\n",
    "    original_close_data['Close'] = data['Close']\n",
    "    df = pd.DataFrame(pred, index=next_data.index)\n",
    "    df.columns = ['Close']\n",
    "    # original_close_data\n",
    "    # df\n",
    "    predicted_30_days_data_combined = pd.concat([original_close_data, df])\n",
    "    \n",
    "    return predicted_30_days_data_combined"
   ]
  },
  {
   "cell_type": "code",
   "execution_count": 115,
   "metadata": {},
   "outputs": [],
   "source": [
    "data_final = CombineData(data, pred, next_data)"
   ]
  },
  {
   "cell_type": "code",
   "execution_count": 155,
   "metadata": {},
   "outputs": [],
   "source": [
    "def plotPredict(data_final):\n",
    "    x = data_final['Close']\n",
    "    x = x[::-100]\n",
    "    # PlotData(x, f\"{stock_name} Prediction\", \"Data_Prediction\")\n",
    "    return x"
   ]
  },
  {
   "cell_type": "code",
   "execution_count": 156,
   "metadata": {},
   "outputs": [],
   "source": [
    "x = plotPredict(data_final)\n",
    "PlotData(x, f\"INFY Prediction\", \"Data_Prediction\")"
   ]
  },
  {
   "cell_type": "code",
   "execution_count": 157,
   "metadata": {},
   "outputs": [],
   "source": [
    "def OneYear_data(data):\n",
    "    data = data['Close']\n",
    "    one_year_data = data.tail(365)\n",
    "    # PlotData(one_year_data, \"Yearly Stock Data\", \"yearly\")\n",
    "    return one_year_data"
   ]
  },
  {
   "cell_type": "code",
   "execution_count": 158,
   "metadata": {},
   "outputs": [],
   "source": [
    "one_year_data = OneYear_data(data)\n",
    "PlotData(one_year_data, \"Yearly Stock Data\", \"yearly\")"
   ]
  },
  {
   "cell_type": "code",
   "execution_count": 160,
   "metadata": {},
   "outputs": [],
   "source": [
    "def LastMonth_data(data):\n",
    "    data = data['Close']\n",
    "    last_month_data = data.tail(30)\n",
    "    # PlotData(last_moth_data, \"Monthly Stock Data\", \"monthly\")\n",
    "    return last_month_data"
   ]
  },
  {
   "cell_type": "code",
   "execution_count": 161,
   "metadata": {},
   "outputs": [],
   "source": [
    "last_month_data = LastMonth_data(data)\n",
    "PlotData(last_month_data, \"Monthly Stock Data\", \"monthly\")"
   ]
  },
  {
   "cell_type": "code",
   "execution_count": 162,
   "metadata": {},
   "outputs": [],
   "source": [
    "def LastWeek_data(data):\n",
    "    data = data['Close']\n",
    "    last_week_data = data.tail(7)\n",
    "    # PlotData(last_week_data, \"Weekly Stock Data\", \"weekly\")\n",
    "\n",
    "    return last_week_data"
   ]
  },
  {
   "cell_type": "code",
   "execution_count": 163,
   "metadata": {},
   "outputs": [],
   "source": [
    "last_week_data = LastWeek_data(data)\n",
    "PlotData(last_week_data, \"Weekly Stock Data\", \"weekly\")"
   ]
  },
  {
   "cell_type": "code",
   "execution_count": 169,
   "metadata": {},
   "outputs": [],
   "source": [
    "data = {\n",
    "    \"plot\": PlotData,\n",
    "    \"minmax\": MinMaxData,\n",
    "    \"dataImport\": DataImport,\n",
    "    \"model\": modelBuilding,\n",
    "    \"next30\": Next30_days,\n",
    "    \"predictData\": predictData,\n",
    "    \"combine\": CombineData,\n",
    "    \"plotPred\": plotPredict,\n",
    "    \"year\": OneYear_data,\n",
    "    \"month\": LastMonth_data,\n",
    "    \"week\": LastWeek_data,\n",
    "}"
   ]
  },
  {
   "cell_type": "code",
   "execution_count": 179,
   "metadata": {},
   "outputs": [],
   "source": [
    "with open(r'../stockpred/stockpred/Model/svm_final.pkl', 'wb') as file:\n",
    "    pickle.dump(data, file)"
   ]
  },
  {
   "cell_type": "code",
   "execution_count": 171,
   "metadata": {},
   "outputs": [],
   "source": [
    "with open(\"svm_final.pkl\", \"rb\") as file:\n",
    "    load_data = pickle.load(file)"
   ]
  },
  {
   "cell_type": "code",
   "execution_count": 172,
   "metadata": {},
   "outputs": [
    {
     "name": "stderr",
     "output_type": "stream",
     "text": [
      "[*********************100%%**********************]  1 of 1 completed\n"
     ]
    }
   ],
   "source": [
    "data, d = load_data['dataImport'](\"INFY\")"
   ]
  }
 ],
 "metadata": {
  "kernelspec": {
   "display_name": "Python 3",
   "language": "python",
   "name": "python3"
  },
  "language_info": {
   "codemirror_mode": {
    "name": "ipython",
    "version": 3
   },
   "file_extension": ".py",
   "mimetype": "text/x-python",
   "name": "python",
   "nbconvert_exporter": "python",
   "pygments_lexer": "ipython3",
   "version": "3.11.6"
  }
 },
 "nbformat": 4,
 "nbformat_minor": 2
}
