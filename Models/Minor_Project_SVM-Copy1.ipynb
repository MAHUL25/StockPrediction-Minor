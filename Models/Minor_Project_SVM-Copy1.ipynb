{
 "cells": [
  {
   "cell_type": "code",
   "execution_count": 28,
   "id": "2883fc7c",
   "metadata": {},
   "outputs": [],
   "source": [
    "import pandas as pd\n",
    "import numpy as np\n",
    "import matplotlib.pyplot as plt\n",
    "import seaborn as sns\n",
    "from sklearn.model_selection import train_test_split\n",
    "from sklearn import svm"
   ]
  },
  {
   "cell_type": "code",
   "execution_count": 6,
   "id": "e9e2884d",
   "metadata": {},
   "outputs": [
    {
     "name": "stdout",
     "output_type": "stream",
     "text": [
      "Collecting yfinance\n",
      "  Downloading yfinance-0.2.37-py2.py3-none-any.whl (72 kB)\n",
      "\u001b[K     |████████████████████████████████| 72 kB 2.1 MB/s eta 0:00:01\n",
      "\u001b[?25hRequirement already satisfied: appdirs>=1.4.4 in /Users/shubham/opt/anaconda3/lib/python3.9/site-packages (from yfinance) (1.4.4)\n",
      "Requirement already satisfied: beautifulsoup4>=4.11.1 in /Users/shubham/opt/anaconda3/lib/python3.9/site-packages (from yfinance) (4.11.1)\n",
      "Collecting multitasking>=0.0.7\n",
      "  Downloading multitasking-0.0.11-py3-none-any.whl (8.5 kB)\n",
      "Collecting pytz>=2022.5\n",
      "  Downloading pytz-2024.1-py2.py3-none-any.whl (505 kB)\n",
      "\u001b[K     |████████████████████████████████| 505 kB 22.5 MB/s eta 0:00:01\n",
      "\u001b[?25hCollecting peewee>=3.16.2\n",
      "  Downloading peewee-3.17.1.tar.gz (3.0 MB)\n",
      "\u001b[K     |████████████████████████████████| 3.0 MB 7.7 MB/s eta 0:00:01\n",
      "\u001b[?25h  Installing build dependencies ... \u001b[?25ldone\n",
      "\u001b[?25h  Getting requirements to build wheel ... \u001b[?25ldone\n",
      "\u001b[?25h    Preparing wheel metadata ... \u001b[?25ldone\n",
      "\u001b[?25hCollecting frozendict>=2.3.4\n",
      "  Downloading frozendict-2.4.1-cp39-cp39-macosx_10_9_x86_64.whl (37 kB)\n",
      "Requirement already satisfied: numpy>=1.16.5 in /Users/shubham/opt/anaconda3/lib/python3.9/site-packages (from yfinance) (1.21.5)\n",
      "Collecting requests>=2.31\n",
      "  Using cached requests-2.31.0-py3-none-any.whl (62 kB)\n",
      "Requirement already satisfied: pandas>=1.3.0 in /Users/shubham/opt/anaconda3/lib/python3.9/site-packages (from yfinance) (1.4.2)\n",
      "Collecting lxml>=4.9.1\n",
      "  Downloading lxml-5.2.0-cp39-cp39-macosx_10_9_x86_64.whl (4.6 MB)\n",
      "\u001b[K     |████████████████████████████████| 4.6 MB 5.2 MB/s eta 0:00:01\n",
      "\u001b[?25hCollecting html5lib>=1.1\n",
      "  Downloading html5lib-1.1-py2.py3-none-any.whl (112 kB)\n",
      "\u001b[K     |████████████████████████████████| 112 kB 11.4 MB/s eta 0:00:01\n",
      "\u001b[?25hRequirement already satisfied: soupsieve>1.2 in /Users/shubham/opt/anaconda3/lib/python3.9/site-packages (from beautifulsoup4>=4.11.1->yfinance) (2.3.1)\n",
      "Requirement already satisfied: six>=1.9 in /Users/shubham/opt/anaconda3/lib/python3.9/site-packages (from html5lib>=1.1->yfinance) (1.16.0)\n",
      "Requirement already satisfied: webencodings in /Users/shubham/opt/anaconda3/lib/python3.9/site-packages (from html5lib>=1.1->yfinance) (0.5.1)\n",
      "Requirement already satisfied: python-dateutil>=2.8.1 in /Users/shubham/opt/anaconda3/lib/python3.9/site-packages (from pandas>=1.3.0->yfinance) (2.8.2)\n",
      "Requirement already satisfied: idna<4,>=2.5 in /Users/shubham/opt/anaconda3/lib/python3.9/site-packages (from requests>=2.31->yfinance) (3.3)\n",
      "Requirement already satisfied: charset-normalizer<4,>=2 in /Users/shubham/opt/anaconda3/lib/python3.9/site-packages (from requests>=2.31->yfinance) (2.0.4)\n",
      "Requirement already satisfied: urllib3<3,>=1.21.1 in /Users/shubham/opt/anaconda3/lib/python3.9/site-packages (from requests>=2.31->yfinance) (1.26.9)\n",
      "Requirement already satisfied: certifi>=2017.4.17 in /Users/shubham/opt/anaconda3/lib/python3.9/site-packages (from requests>=2.31->yfinance) (2021.10.8)\n",
      "Building wheels for collected packages: peewee\n",
      "  Building wheel for peewee (PEP 517) ... \u001b[?25ldone\n",
      "\u001b[?25h  Created wheel for peewee: filename=peewee-3.17.1-cp39-cp39-macosx_10_9_x86_64.whl size=252188 sha256=d17f3842b4b79a6150fb5c8700051c24101e55e35df20b05120ed28356a95a5e\n",
      "  Stored in directory: /Users/shubham/Library/Caches/pip/wheels/77/ca/43/00120282a2aa9323dd8da301fb17ea79f84c35fc6faa9f94ea\n",
      "Successfully built peewee\n",
      "Installing collected packages: pytz, requests, peewee, multitasking, lxml, html5lib, frozendict, yfinance\n",
      "  Attempting uninstall: pytz\n",
      "    Found existing installation: pytz 2021.3\n",
      "    Uninstalling pytz-2021.3:\n",
      "      Successfully uninstalled pytz-2021.3\n",
      "  Attempting uninstall: requests\n",
      "    Found existing installation: requests 2.27.1\n",
      "    Uninstalling requests-2.27.1:\n",
      "      Successfully uninstalled requests-2.27.1\n",
      "  Attempting uninstall: lxml\n",
      "    Found existing installation: lxml 4.8.0\n",
      "    Uninstalling lxml-4.8.0:\n",
      "      Successfully uninstalled lxml-4.8.0\n",
      "\u001b[31mERROR: pip's dependency resolver does not currently take into account all the packages that are installed. This behaviour is the source of the following dependency conflicts.\n",
      "conda-repo-cli 1.0.4 requires pathlib, which is not installed.\n",
      "anaconda-project 0.10.2 requires ruamel-yaml, which is not installed.\u001b[0m\n",
      "Successfully installed frozendict-2.4.1 html5lib-1.1 lxml-5.2.0 multitasking-0.0.11 peewee-3.17.1 pytz-2024.1 requests-2.31.0 yfinance-0.2.37\n",
      "Note: you may need to restart the kernel to use updated packages.\n"
     ]
    }
   ],
   "source": [
    "pip install yfinance"
   ]
  },
  {
   "cell_type": "code",
   "execution_count": 2,
   "id": "ecb84591",
   "metadata": {},
   "outputs": [],
   "source": [
    "import yfinance as yf"
   ]
  },
  {
   "cell_type": "code",
   "execution_count": 7,
   "id": "bbfc6363",
   "metadata": {},
   "outputs": [
    {
     "name": "stdout",
     "output_type": "stream",
     "text": [
      "imported\n"
     ]
    }
   ],
   "source": [
    "print(\"imported\")"
   ]
  },
  {
   "cell_type": "code",
   "execution_count": 64,
   "id": "8ee7766d",
   "metadata": {},
   "outputs": [
    {
     "name": "stderr",
     "output_type": "stream",
     "text": [
      "[*********************100%%**********************]  1 of 1 completed\n"
     ]
    }
   ],
   "source": [
    "# import Infosys data\\n\",\n",
    "\n",
    "data = yf.download('INFY', start = '2020-01-01', end = '2023-01-01')"
   ]
  },
  {
   "cell_type": "code",
   "execution_count": 65,
   "id": "85d3cc11",
   "metadata": {},
   "outputs": [
    {
     "data": {
      "text/html": [
       "<div>\n",
       "<style scoped>\n",
       "    .dataframe tbody tr th:only-of-type {\n",
       "        vertical-align: middle;\n",
       "    }\n",
       "\n",
       "    .dataframe tbody tr th {\n",
       "        vertical-align: top;\n",
       "    }\n",
       "\n",
       "    .dataframe thead th {\n",
       "        text-align: right;\n",
       "    }\n",
       "</style>\n",
       "<table border=\"1\" class=\"dataframe\">\n",
       "  <thead>\n",
       "    <tr style=\"text-align: right;\">\n",
       "      <th></th>\n",
       "      <th>Open</th>\n",
       "      <th>High</th>\n",
       "      <th>Low</th>\n",
       "      <th>Close</th>\n",
       "      <th>Adj Close</th>\n",
       "      <th>Volume</th>\n",
       "    </tr>\n",
       "  </thead>\n",
       "  <tbody>\n",
       "    <tr>\n",
       "      <th>count</th>\n",
       "      <td>756.000000</td>\n",
       "      <td>756.000000</td>\n",
       "      <td>756.000000</td>\n",
       "      <td>756.000000</td>\n",
       "      <td>756.000000</td>\n",
       "      <td>7.560000e+02</td>\n",
       "    </tr>\n",
       "    <tr>\n",
       "      <th>mean</th>\n",
       "      <td>17.555913</td>\n",
       "      <td>17.715357</td>\n",
       "      <td>17.400661</td>\n",
       "      <td>17.562765</td>\n",
       "      <td>16.599591</td>\n",
       "      <td>9.438471e+06</td>\n",
       "    </tr>\n",
       "    <tr>\n",
       "      <th>std</th>\n",
       "      <td>4.834758</td>\n",
       "      <td>4.857840</td>\n",
       "      <td>4.809979</td>\n",
       "      <td>4.835666</td>\n",
       "      <td>4.736111</td>\n",
       "      <td>5.225127e+06</td>\n",
       "    </tr>\n",
       "    <tr>\n",
       "      <th>min</th>\n",
       "      <td>6.920000</td>\n",
       "      <td>7.190000</td>\n",
       "      <td>6.760000</td>\n",
       "      <td>6.940000</td>\n",
       "      <td>6.329522</td>\n",
       "      <td>1.320600e+06</td>\n",
       "    </tr>\n",
       "    <tr>\n",
       "      <th>25%</th>\n",
       "      <td>13.750000</td>\n",
       "      <td>13.887500</td>\n",
       "      <td>13.595000</td>\n",
       "      <td>13.797500</td>\n",
       "      <td>12.760139</td>\n",
       "      <td>5.828025e+06</td>\n",
       "    </tr>\n",
       "    <tr>\n",
       "      <th>50%</th>\n",
       "      <td>18.370001</td>\n",
       "      <td>18.559999</td>\n",
       "      <td>18.250000</td>\n",
       "      <td>18.415000</td>\n",
       "      <td>17.518204</td>\n",
       "      <td>8.103400e+06</td>\n",
       "    </tr>\n",
       "    <tr>\n",
       "      <th>75%</th>\n",
       "      <td>21.355000</td>\n",
       "      <td>21.460001</td>\n",
       "      <td>21.085000</td>\n",
       "      <td>21.260000</td>\n",
       "      <td>20.114308</td>\n",
       "      <td>1.164065e+07</td>\n",
       "    </tr>\n",
       "    <tr>\n",
       "      <th>max</th>\n",
       "      <td>26.150000</td>\n",
       "      <td>26.389999</td>\n",
       "      <td>25.580000</td>\n",
       "      <td>26.200001</td>\n",
       "      <td>24.964006</td>\n",
       "      <td>4.268660e+07</td>\n",
       "    </tr>\n",
       "  </tbody>\n",
       "</table>\n",
       "</div>"
      ],
      "text/plain": [
       "             Open        High         Low       Close   Adj Close  \\\n",
       "count  756.000000  756.000000  756.000000  756.000000  756.000000   \n",
       "mean    17.555913   17.715357   17.400661   17.562765   16.599591   \n",
       "std      4.834758    4.857840    4.809979    4.835666    4.736111   \n",
       "min      6.920000    7.190000    6.760000    6.940000    6.329522   \n",
       "25%     13.750000   13.887500   13.595000   13.797500   12.760139   \n",
       "50%     18.370001   18.559999   18.250000   18.415000   17.518204   \n",
       "75%     21.355000   21.460001   21.085000   21.260000   20.114308   \n",
       "max     26.150000   26.389999   25.580000   26.200001   24.964006   \n",
       "\n",
       "             Volume  \n",
       "count  7.560000e+02  \n",
       "mean   9.438471e+06  \n",
       "std    5.225127e+06  \n",
       "min    1.320600e+06  \n",
       "25%    5.828025e+06  \n",
       "50%    8.103400e+06  \n",
       "75%    1.164065e+07  \n",
       "max    4.268660e+07  "
      ]
     },
     "execution_count": 65,
     "metadata": {},
     "output_type": "execute_result"
    }
   ],
   "source": [
    "data.describe()"
   ]
  },
  {
   "cell_type": "code",
   "execution_count": null,
   "id": "90bc5da7",
   "metadata": {},
   "outputs": [],
   "source": [
    " "
   ]
  },
  {
   "cell_type": "code",
   "execution_count": 66,
   "id": "88c05659",
   "metadata": {},
   "outputs": [
    {
     "data": {
      "text/html": [
       "<div>\n",
       "<style scoped>\n",
       "    .dataframe tbody tr th:only-of-type {\n",
       "        vertical-align: middle;\n",
       "    }\n",
       "\n",
       "    .dataframe tbody tr th {\n",
       "        vertical-align: top;\n",
       "    }\n",
       "\n",
       "    .dataframe thead th {\n",
       "        text-align: right;\n",
       "    }\n",
       "</style>\n",
       "<table border=\"1\" class=\"dataframe\">\n",
       "  <thead>\n",
       "    <tr style=\"text-align: right;\">\n",
       "      <th></th>\n",
       "      <th>Open</th>\n",
       "      <th>High</th>\n",
       "      <th>Low</th>\n",
       "      <th>Close</th>\n",
       "      <th>Adj Close</th>\n",
       "      <th>Volume</th>\n",
       "    </tr>\n",
       "  </thead>\n",
       "  <tbody>\n",
       "    <tr>\n",
       "      <th>count</th>\n",
       "      <td>756.000000</td>\n",
       "      <td>756.000000</td>\n",
       "      <td>756.000000</td>\n",
       "      <td>756.000000</td>\n",
       "      <td>756.000000</td>\n",
       "      <td>7.560000e+02</td>\n",
       "    </tr>\n",
       "    <tr>\n",
       "      <th>mean</th>\n",
       "      <td>17.555913</td>\n",
       "      <td>17.715357</td>\n",
       "      <td>17.400661</td>\n",
       "      <td>17.562765</td>\n",
       "      <td>16.599591</td>\n",
       "      <td>9.438471e+06</td>\n",
       "    </tr>\n",
       "    <tr>\n",
       "      <th>std</th>\n",
       "      <td>4.834758</td>\n",
       "      <td>4.857840</td>\n",
       "      <td>4.809979</td>\n",
       "      <td>4.835666</td>\n",
       "      <td>4.736111</td>\n",
       "      <td>5.225127e+06</td>\n",
       "    </tr>\n",
       "    <tr>\n",
       "      <th>min</th>\n",
       "      <td>6.920000</td>\n",
       "      <td>7.190000</td>\n",
       "      <td>6.760000</td>\n",
       "      <td>6.940000</td>\n",
       "      <td>6.329522</td>\n",
       "      <td>1.320600e+06</td>\n",
       "    </tr>\n",
       "    <tr>\n",
       "      <th>25%</th>\n",
       "      <td>13.750000</td>\n",
       "      <td>13.887500</td>\n",
       "      <td>13.595000</td>\n",
       "      <td>13.797500</td>\n",
       "      <td>12.760139</td>\n",
       "      <td>5.828025e+06</td>\n",
       "    </tr>\n",
       "    <tr>\n",
       "      <th>50%</th>\n",
       "      <td>18.370000</td>\n",
       "      <td>18.560000</td>\n",
       "      <td>18.250000</td>\n",
       "      <td>18.415000</td>\n",
       "      <td>17.518204</td>\n",
       "      <td>8.103400e+06</td>\n",
       "    </tr>\n",
       "    <tr>\n",
       "      <th>75%</th>\n",
       "      <td>21.355000</td>\n",
       "      <td>21.460000</td>\n",
       "      <td>21.085000</td>\n",
       "      <td>21.260000</td>\n",
       "      <td>20.114308</td>\n",
       "      <td>1.164065e+07</td>\n",
       "    </tr>\n",
       "    <tr>\n",
       "      <th>max</th>\n",
       "      <td>26.150000</td>\n",
       "      <td>26.390000</td>\n",
       "      <td>25.580000</td>\n",
       "      <td>26.200000</td>\n",
       "      <td>24.964006</td>\n",
       "      <td>4.268660e+07</td>\n",
       "    </tr>\n",
       "  </tbody>\n",
       "</table>\n",
       "</div>"
      ],
      "text/plain": [
       "             Open        High         Low       Close   Adj Close  \\\n",
       "count  756.000000  756.000000  756.000000  756.000000  756.000000   \n",
       "mean    17.555913   17.715357   17.400661   17.562765   16.599591   \n",
       "std      4.834758    4.857840    4.809979    4.835666    4.736111   \n",
       "min      6.920000    7.190000    6.760000    6.940000    6.329522   \n",
       "25%     13.750000   13.887500   13.595000   13.797500   12.760139   \n",
       "50%     18.370000   18.560000   18.250000   18.415000   17.518204   \n",
       "75%     21.355000   21.460000   21.085000   21.260000   20.114308   \n",
       "max     26.150000   26.390000   25.580000   26.200000   24.964006   \n",
       "\n",
       "             Volume  \n",
       "count  7.560000e+02  \n",
       "mean   9.438471e+06  \n",
       "std    5.225127e+06  \n",
       "min    1.320600e+06  \n",
       "25%    5.828025e+06  \n",
       "50%    8.103400e+06  \n",
       "75%    1.164065e+07  \n",
       "max    4.268660e+07  "
      ]
     },
     "execution_count": 66,
     "metadata": {},
     "output_type": "execute_result"
    }
   ],
   "source": [
    "columns_to_4decimal = ['Open', 'High', 'Low', 'Close']\n",
    "\n",
    "\n",
    "data[columns_to_4decimal] = np.round(data[columns_to_4decimal],4)\n",
    "data.describe()\n"
   ]
  },
  {
   "cell_type": "code",
   "execution_count": null,
   "id": "620d47b8",
   "metadata": {},
   "outputs": [],
   "source": []
  },
  {
   "cell_type": "code",
   "execution_count": 67,
   "id": "0ee6ccf0",
   "metadata": {},
   "outputs": [
    {
     "data": {
      "text/html": [
       "<div>\n",
       "<style scoped>\n",
       "    .dataframe tbody tr th:only-of-type {\n",
       "        vertical-align: middle;\n",
       "    }\n",
       "\n",
       "    .dataframe tbody tr th {\n",
       "        vertical-align: top;\n",
       "    }\n",
       "\n",
       "    .dataframe thead th {\n",
       "        text-align: right;\n",
       "    }\n",
       "</style>\n",
       "<table border=\"1\" class=\"dataframe\">\n",
       "  <thead>\n",
       "    <tr style=\"text-align: right;\">\n",
       "      <th></th>\n",
       "      <th>Open</th>\n",
       "      <th>High</th>\n",
       "      <th>Low</th>\n",
       "      <th>Close</th>\n",
       "      <th>Volume</th>\n",
       "    </tr>\n",
       "  </thead>\n",
       "  <tbody>\n",
       "    <tr>\n",
       "      <th>count</th>\n",
       "      <td>756.000000</td>\n",
       "      <td>756.000000</td>\n",
       "      <td>756.000000</td>\n",
       "      <td>756.000000</td>\n",
       "      <td>7.560000e+02</td>\n",
       "    </tr>\n",
       "    <tr>\n",
       "      <th>mean</th>\n",
       "      <td>17.555913</td>\n",
       "      <td>17.715357</td>\n",
       "      <td>17.400661</td>\n",
       "      <td>17.562765</td>\n",
       "      <td>9.438471e+06</td>\n",
       "    </tr>\n",
       "    <tr>\n",
       "      <th>std</th>\n",
       "      <td>4.834758</td>\n",
       "      <td>4.857840</td>\n",
       "      <td>4.809979</td>\n",
       "      <td>4.835666</td>\n",
       "      <td>5.225127e+06</td>\n",
       "    </tr>\n",
       "    <tr>\n",
       "      <th>min</th>\n",
       "      <td>6.920000</td>\n",
       "      <td>7.190000</td>\n",
       "      <td>6.760000</td>\n",
       "      <td>6.940000</td>\n",
       "      <td>1.320600e+06</td>\n",
       "    </tr>\n",
       "    <tr>\n",
       "      <th>25%</th>\n",
       "      <td>13.750000</td>\n",
       "      <td>13.887500</td>\n",
       "      <td>13.595000</td>\n",
       "      <td>13.797500</td>\n",
       "      <td>5.828025e+06</td>\n",
       "    </tr>\n",
       "    <tr>\n",
       "      <th>50%</th>\n",
       "      <td>18.370000</td>\n",
       "      <td>18.560000</td>\n",
       "      <td>18.250000</td>\n",
       "      <td>18.415000</td>\n",
       "      <td>8.103400e+06</td>\n",
       "    </tr>\n",
       "    <tr>\n",
       "      <th>75%</th>\n",
       "      <td>21.355000</td>\n",
       "      <td>21.460000</td>\n",
       "      <td>21.085000</td>\n",
       "      <td>21.260000</td>\n",
       "      <td>1.164065e+07</td>\n",
       "    </tr>\n",
       "    <tr>\n",
       "      <th>max</th>\n",
       "      <td>26.150000</td>\n",
       "      <td>26.390000</td>\n",
       "      <td>25.580000</td>\n",
       "      <td>26.200000</td>\n",
       "      <td>4.268660e+07</td>\n",
       "    </tr>\n",
       "  </tbody>\n",
       "</table>\n",
       "</div>"
      ],
      "text/plain": [
       "             Open        High         Low       Close        Volume\n",
       "count  756.000000  756.000000  756.000000  756.000000  7.560000e+02\n",
       "mean    17.555913   17.715357   17.400661   17.562765  9.438471e+06\n",
       "std      4.834758    4.857840    4.809979    4.835666  5.225127e+06\n",
       "min      6.920000    7.190000    6.760000    6.940000  1.320600e+06\n",
       "25%     13.750000   13.887500   13.595000   13.797500  5.828025e+06\n",
       "50%     18.370000   18.560000   18.250000   18.415000  8.103400e+06\n",
       "75%     21.355000   21.460000   21.085000   21.260000  1.164065e+07\n",
       "max     26.150000   26.390000   25.580000   26.200000  4.268660e+07"
      ]
     },
     "execution_count": 67,
     "metadata": {},
     "output_type": "execute_result"
    }
   ],
   "source": [
    "columns_to_drop = ['Adj Close']\n",
    "data.drop(columns=columns_to_drop, inplace=True)\n",
    "\n",
    "data.describe()"
   ]
  },
  {
   "cell_type": "code",
   "execution_count": null,
   "id": "3cdc2471",
   "metadata": {},
   "outputs": [],
   "source": []
  },
  {
   "cell_type": "code",
   "execution_count": 68,
   "id": "ffd111f2",
   "metadata": {},
   "outputs": [
    {
     "data": {
      "text/plain": [
       "<matplotlib.legend.Legend at 0x7fca756339a0>"
      ]
     },
     "execution_count": 68,
     "metadata": {},
     "output_type": "execute_result"
    },
    {
     "data": {
      "image/png": "[encoded data removed]",
      "text/plain": [
       "<Figure size 864x432 with 1 Axes>"
      ]
     },
     "metadata": {
      "needs_background": "light"
     },
     "output_type": "display_data"
    }
   ],
   "source": [
    "plt.figure(figsize=(12,6))\n",
    "plt.plot(data['Open'], label='Open', linewidth=2)\n",
    "plt.plot(data['Close'], label='Close', linewidth=2)\n",
    "plt.xlabel('Date')\n",
    "plt.ylabel('Values')\n",
    "plt.title('Stock market data over time')\n",
    "plt.legend()\n"
   ]
  },
  {
   "cell_type": "code",
   "execution_count": 69,
   "id": "1627260b",
   "metadata": {},
   "outputs": [
    {
     "data": {
      "text/plain": [
       "<matplotlib.legend.Legend at 0x7fca301e8f70>"
      ]
     },
     "execution_count": 69,
     "metadata": {},
     "output_type": "execute_result"
    },
    {
     "data": {
      "image/png": "[encoded data removed]",
      "text/plain": [
       "<Figure size 864x432 with 1 Axes>"
      ]
     },
     "metadata": {
      "needs_background": "light"
     },
     "output_type": "display_data"
    }
   ],
   "source": [
    "plt.figure(figsize=(12,6))\n",
    "plt.plot(data['Low'], label='Low', linewidth=2)\n",
    "plt.plot(data['High'], label='High', linewidth=2)\n",
    "plt.xlabel('Date')\n",
    "plt.ylabel('Values')\n",
    "plt.title('Stock market data over time')\n",
    "plt.legend()"
   ]
  },
  {
   "cell_type": "code",
   "execution_count": 70,
   "id": "b035d6dd",
   "metadata": {},
   "outputs": [
    {
     "data": {
      "text/plain": [
       "<matplotlib.legend.Legend at 0x7fca416bf2e0>"
      ]
     },
     "execution_count": 70,
     "metadata": {},
     "output_type": "execute_result"
    },
    {
     "data": {
      "image/png": "[encoded data removed]",
      "text/plain": [
       "<Figure size 864x432 with 1 Axes>"
      ]
     },
     "metadata": {
      "needs_background": "light"
     },
     "output_type": "display_data"
    }
   ],
   "source": [
    "plt.figure(figsize=(12,6))\n",
    "plt.plot(data['Volume'], label='Volume', linewidth=2)\n",
    "plt.xlabel('Date')\n",
    "plt.ylabel('Values')\n",
    "plt.title('Stock market data over time')\n",
    "plt.legend()"
   ]
  },
  {
   "cell_type": "code",
   "execution_count": null,
   "id": "8f215cf8",
   "metadata": {},
   "outputs": [],
   "source": []
  },
  {
   "cell_type": "code",
   "execution_count": 71,
   "id": "a4336789",
   "metadata": {},
   "outputs": [
    {
     "data": {
      "text/plain": [
       "(756, 5)"
      ]
     },
     "execution_count": 71,
     "metadata": {},
     "output_type": "execute_result"
    }
   ],
   "source": [
    "data.shape"
   ]
  },
  {
   "cell_type": "code",
   "execution_count": 72,
   "id": "1239d4b9",
   "metadata": {},
   "outputs": [
    {
     "name": "stdout",
     "output_type": "stream",
     "text": [
      "X_train shape (604, 4)\n",
      "X_test shape (152, 4)\n",
      "y_train shape (604,)\n",
      "y_test shape (152,)\n"
     ]
    }
   ],
   "source": [
    "X = data[['Open', 'Low', 'High', 'Volume']]\n",
    "y = data['Close']\n",
    "\n",
    "#split the data into training and test sets\n",
    "X_train, X_test, y_train, y_test = train_test_split(X, y, test_size=0.20, random_state=42)\n",
    "\n",
    "print(\"X_train shape\", X_train.shape)\n",
    "print(\"X_test shape\", X_test.shape)\n",
    "print(\"y_train shape\", y_train.shape)\n",
    "print(\"y_test shape\", y_test.shape)\n"
   ]
  },
  {
   "cell_type": "code",
   "execution_count": 73,
   "id": "38d63f67",
   "metadata": {},
   "outputs": [
    {
     "data": {
      "text/html": [
       "<div>\n",
       "<style scoped>\n",
       "    .dataframe tbody tr th:only-of-type {\n",
       "        vertical-align: middle;\n",
       "    }\n",
       "\n",
       "    .dataframe tbody tr th {\n",
       "        vertical-align: top;\n",
       "    }\n",
       "\n",
       "    .dataframe thead th {\n",
       "        text-align: right;\n",
       "    }\n",
       "</style>\n",
       "<table border=\"1\" class=\"dataframe\">\n",
       "  <thead>\n",
       "    <tr style=\"text-align: right;\">\n",
       "      <th></th>\n",
       "      <th>Open</th>\n",
       "      <th>Low</th>\n",
       "      <th>High</th>\n",
       "      <th>Volume</th>\n",
       "    </tr>\n",
       "    <tr>\n",
       "      <th>Date</th>\n",
       "      <th></th>\n",
       "      <th></th>\n",
       "      <th></th>\n",
       "      <th></th>\n",
       "    </tr>\n",
       "  </thead>\n",
       "  <tbody>\n",
       "    <tr>\n",
       "      <th>2020-11-03</th>\n",
       "      <td>14.23</td>\n",
       "      <td>14.20</td>\n",
       "      <td>14.46</td>\n",
       "      <td>4398900</td>\n",
       "    </tr>\n",
       "    <tr>\n",
       "      <th>2020-04-13</th>\n",
       "      <td>8.50</td>\n",
       "      <td>8.32</td>\n",
       "      <td>8.55</td>\n",
       "      <td>5684500</td>\n",
       "    </tr>\n",
       "    <tr>\n",
       "      <th>2021-04-23</th>\n",
       "      <td>17.81</td>\n",
       "      <td>17.77</td>\n",
       "      <td>17.96</td>\n",
       "      <td>4617800</td>\n",
       "    </tr>\n",
       "    <tr>\n",
       "      <th>2020-07-10</th>\n",
       "      <td>10.26</td>\n",
       "      <td>10.22</td>\n",
       "      <td>10.40</td>\n",
       "      <td>7959000</td>\n",
       "    </tr>\n",
       "    <tr>\n",
       "      <th>2020-03-06</th>\n",
       "      <td>9.96</td>\n",
       "      <td>9.59</td>\n",
       "      <td>10.04</td>\n",
       "      <td>15525700</td>\n",
       "    </tr>\n",
       "    <tr>\n",
       "      <th>...</th>\n",
       "      <td>...</td>\n",
       "      <td>...</td>\n",
       "      <td>...</td>\n",
       "      <td>...</td>\n",
       "    </tr>\n",
       "    <tr>\n",
       "      <th>2020-04-15</th>\n",
       "      <td>8.28</td>\n",
       "      <td>8.25</td>\n",
       "      <td>8.46</td>\n",
       "      <td>8004400</td>\n",
       "    </tr>\n",
       "    <tr>\n",
       "      <th>2020-06-04</th>\n",
       "      <td>9.24</td>\n",
       "      <td>9.18</td>\n",
       "      <td>9.39</td>\n",
       "      <td>15375600</td>\n",
       "    </tr>\n",
       "    <tr>\n",
       "      <th>2021-01-28</th>\n",
       "      <td>17.46</td>\n",
       "      <td>17.41</td>\n",
       "      <td>17.75</td>\n",
       "      <td>7877600</td>\n",
       "    </tr>\n",
       "    <tr>\n",
       "      <th>2021-09-23</th>\n",
       "      <td>23.68</td>\n",
       "      <td>23.60</td>\n",
       "      <td>23.79</td>\n",
       "      <td>5323800</td>\n",
       "    </tr>\n",
       "    <tr>\n",
       "      <th>2020-05-29</th>\n",
       "      <td>9.04</td>\n",
       "      <td>8.98</td>\n",
       "      <td>9.14</td>\n",
       "      <td>7768600</td>\n",
       "    </tr>\n",
       "  </tbody>\n",
       "</table>\n",
       "<p>604 rows × 4 columns</p>\n",
       "</div>"
      ],
      "text/plain": [
       "             Open    Low   High    Volume\n",
       "Date                                     \n",
       "2020-11-03  14.23  14.20  14.46   4398900\n",
       "2020-04-13   8.50   8.32   8.55   5684500\n",
       "2021-04-23  17.81  17.77  17.96   4617800\n",
       "2020-07-10  10.26  10.22  10.40   7959000\n",
       "2020-03-06   9.96   9.59  10.04  15525700\n",
       "...           ...    ...    ...       ...\n",
       "2020-04-15   8.28   8.25   8.46   8004400\n",
       "2020-06-04   9.24   9.18   9.39  15375600\n",
       "2021-01-28  17.46  17.41  17.75   7877600\n",
       "2021-09-23  23.68  23.60  23.79   5323800\n",
       "2020-05-29   9.04   8.98   9.14   7768600\n",
       "\n",
       "[604 rows x 4 columns]"
      ]
     },
     "execution_count": 73,
     "metadata": {},
     "output_type": "execute_result"
    }
   ],
   "source": [
    "X_train"
   ]
  },
  {
   "cell_type": "code",
   "execution_count": 74,
   "id": "fa03b12e",
   "metadata": {},
   "outputs": [
    {
     "data": {
      "text/html": [
       "<div>\n",
       "<style scoped>\n",
       "    .dataframe tbody tr th:only-of-type {\n",
       "        vertical-align: middle;\n",
       "    }\n",
       "\n",
       "    .dataframe tbody tr th {\n",
       "        vertical-align: top;\n",
       "    }\n",
       "\n",
       "    .dataframe thead th {\n",
       "        text-align: right;\n",
       "    }\n",
       "</style>\n",
       "<table border=\"1\" class=\"dataframe\">\n",
       "  <thead>\n",
       "    <tr style=\"text-align: right;\">\n",
       "      <th></th>\n",
       "      <th>Open</th>\n",
       "      <th>Low</th>\n",
       "      <th>High</th>\n",
       "      <th>Volume</th>\n",
       "    </tr>\n",
       "    <tr>\n",
       "      <th>Date</th>\n",
       "      <th></th>\n",
       "      <th></th>\n",
       "      <th></th>\n",
       "      <th></th>\n",
       "    </tr>\n",
       "  </thead>\n",
       "  <tbody>\n",
       "    <tr>\n",
       "      <th>2021-08-16</th>\n",
       "      <td>23.55</td>\n",
       "      <td>23.32</td>\n",
       "      <td>23.61</td>\n",
       "      <td>3635400</td>\n",
       "    </tr>\n",
       "    <tr>\n",
       "      <th>2020-05-21</th>\n",
       "      <td>8.96</td>\n",
       "      <td>8.87</td>\n",
       "      <td>9.02</td>\n",
       "      <td>11336400</td>\n",
       "    </tr>\n",
       "    <tr>\n",
       "      <th>2021-09-08</th>\n",
       "      <td>23.34</td>\n",
       "      <td>23.12</td>\n",
       "      <td>23.41</td>\n",
       "      <td>4351700</td>\n",
       "    </tr>\n",
       "    <tr>\n",
       "      <th>2022-04-27</th>\n",
       "      <td>19.99</td>\n",
       "      <td>19.99</td>\n",
       "      <td>20.32</td>\n",
       "      <td>9754100</td>\n",
       "    </tr>\n",
       "    <tr>\n",
       "      <th>2022-05-24</th>\n",
       "      <td>18.49</td>\n",
       "      <td>18.25</td>\n",
       "      <td>18.57</td>\n",
       "      <td>9904800</td>\n",
       "    </tr>\n",
       "    <tr>\n",
       "      <th>...</th>\n",
       "      <td>...</td>\n",
       "      <td>...</td>\n",
       "      <td>...</td>\n",
       "      <td>...</td>\n",
       "    </tr>\n",
       "    <tr>\n",
       "      <th>2020-11-04</th>\n",
       "      <td>14.66</td>\n",
       "      <td>14.62</td>\n",
       "      <td>14.86</td>\n",
       "      <td>5624600</td>\n",
       "    </tr>\n",
       "    <tr>\n",
       "      <th>2022-08-02</th>\n",
       "      <td>19.48</td>\n",
       "      <td>19.44</td>\n",
       "      <td>19.62</td>\n",
       "      <td>6613000</td>\n",
       "    </tr>\n",
       "    <tr>\n",
       "      <th>2021-01-13</th>\n",
       "      <td>19.03</td>\n",
       "      <td>18.40</td>\n",
       "      <td>19.07</td>\n",
       "      <td>18409900</td>\n",
       "    </tr>\n",
       "    <tr>\n",
       "      <th>2020-05-12</th>\n",
       "      <td>9.17</td>\n",
       "      <td>9.08</td>\n",
       "      <td>9.39</td>\n",
       "      <td>14818900</td>\n",
       "    </tr>\n",
       "    <tr>\n",
       "      <th>2022-01-24</th>\n",
       "      <td>22.88</td>\n",
       "      <td>21.97</td>\n",
       "      <td>22.97</td>\n",
       "      <td>18128000</td>\n",
       "    </tr>\n",
       "  </tbody>\n",
       "</table>\n",
       "<p>152 rows × 4 columns</p>\n",
       "</div>"
      ],
      "text/plain": [
       "             Open    Low   High    Volume\n",
       "Date                                     \n",
       "2021-08-16  23.55  23.32  23.61   3635400\n",
       "2020-05-21   8.96   8.87   9.02  11336400\n",
       "2021-09-08  23.34  23.12  23.41   4351700\n",
       "2022-04-27  19.99  19.99  20.32   9754100\n",
       "2022-05-24  18.49  18.25  18.57   9904800\n",
       "...           ...    ...    ...       ...\n",
       "2020-11-04  14.66  14.62  14.86   5624600\n",
       "2022-08-02  19.48  19.44  19.62   6613000\n",
       "2021-01-13  19.03  18.40  19.07  18409900\n",
       "2020-05-12   9.17   9.08   9.39  14818900\n",
       "2022-01-24  22.88  21.97  22.97  18128000\n",
       "\n",
       "[152 rows x 4 columns]"
      ]
     },
     "execution_count": 74,
     "metadata": {},
     "output_type": "execute_result"
    }
   ],
   "source": [
    "X_test"
   ]
  },
  {
   "cell_type": "code",
   "execution_count": 75,
   "id": "c0ad95fc",
   "metadata": {},
   "outputs": [
    {
     "data": {
      "text/plain": [
       "Date\n",
       "2020-11-03    14.30\n",
       "2020-04-13     8.50\n",
       "2021-04-23    17.89\n",
       "2020-07-10    10.39\n",
       "2020-03-06     9.78\n",
       "              ...  \n",
       "2020-04-15     8.33\n",
       "2020-06-04     9.27\n",
       "2021-01-28    17.64\n",
       "2021-09-23    23.73\n",
       "2020-05-29     9.10\n",
       "Name: Close, Length: 604, dtype: float64"
      ]
     },
     "execution_count": 75,
     "metadata": {},
     "output_type": "execute_result"
    }
   ],
   "source": [
    "y_train"
   ]
  },
  {
   "cell_type": "code",
   "execution_count": 76,
   "id": "3260fa06",
   "metadata": {},
   "outputs": [
    {
     "data": {
      "text/plain": [
       "Date\n",
       "2021-08-16    23.40\n",
       "2020-05-21     8.93\n",
       "2021-09-08    23.19\n",
       "2022-04-27    20.12\n",
       "2022-05-24    18.40\n",
       "              ...  \n",
       "2020-11-04    14.68\n",
       "2022-08-02    19.49\n",
       "2021-01-13    18.43\n",
       "2020-05-12     9.15\n",
       "2022-01-24    22.94\n",
       "Name: Close, Length: 152, dtype: float64"
      ]
     },
     "execution_count": 76,
     "metadata": {},
     "output_type": "execute_result"
    }
   ],
   "source": [
    "y_test"
   ]
  },
  {
   "cell_type": "code",
   "execution_count": null,
   "id": "9856a6a4",
   "metadata": {},
   "outputs": [],
   "source": []
  },
  {
   "cell_type": "code",
   "execution_count": 77,
   "id": "d234d196",
   "metadata": {},
   "outputs": [],
   "source": [
    "from sklearn.svm import SVR\n",
    "from sklearn.metrics import mean_squared_error\n",
    "from sklearn.preprocessing import StandardScaler"
   ]
  },
  {
   "cell_type": "code",
   "execution_count": null,
   "id": "4d3604a8",
   "metadata": {},
   "outputs": [],
   "source": []
  },
  {
   "cell_type": "code",
   "execution_count": 79,
   "id": "4c6aaefc",
   "metadata": {},
   "outputs": [
    {
     "name": "stdout",
     "output_type": "stream",
     "text": [
      "[23.45373772  8.9339335  23.24173979 20.27063072 18.35031158  8.71280558\n",
      "  7.233269    9.32458202 17.97620665 24.69639735 10.09282035 19.1843551\n",
      " 19.24565938 22.18215374 22.97592989 18.36046986 18.14764432 22.28941854\n",
      " 22.79934267 22.12193903 18.05521799 18.69149328 19.06108482 22.63173437\n",
      " 22.47641478 22.74949105 22.69830842 18.40996193 18.6028895  12.69226722\n",
      " 17.62818883 15.02461126 12.74758345  9.18098716 19.00602304 18.98156306\n",
      " 23.05767712 17.88462803 18.16035983 19.7148375  25.1534042  23.85926611\n",
      "  8.53084365 16.69229246 18.43434297 23.17488929 19.61187151 15.19603086\n",
      " 15.51689288 17.95395198 11.31355506 18.40637616  8.8621505  20.46644581\n",
      " 13.52017836 22.84525751 14.15525456 21.96925783 17.95092472 10.88173587\n",
      " 18.60152653  9.27291213 11.22019545 20.24644481 23.27270589 20.67769954\n",
      " 12.74458564 17.85171341 17.48466893 18.17751278  8.09801168 18.69254319\n",
      " 22.47576643 15.48413995 22.70613911 18.40025195 18.57995696 18.21369927\n",
      " 12.82833313  8.50440401 22.74165002  8.21749148 15.18993137 18.96486162\n",
      " 20.65402573  8.08885041 20.09587297 23.87210878 10.28616003 19.47428226\n",
      " 13.99864369  9.27230134 20.22178394 19.20301027 23.16246572 10.89366271\n",
      " 20.45030534 11.08183938 22.88636266 17.84927385 15.67835546 15.64588473\n",
      " 20.17178199 23.9590315  12.87770546  9.1573528   8.87312143 19.26858484\n",
      " 10.20763223 25.76886936 22.92503298 11.01050642 18.48479488 18.0306006\n",
      " 22.84849249 14.27028608 24.65182456 22.94334656 23.26947466 19.56170536\n",
      " 12.65672967 18.10310845 23.54622881 18.37184136 22.40479873 18.20631851\n",
      "  8.86874    18.26330724  8.89626436 18.81478966 20.30104152 19.33138798\n",
      " 14.38617872 10.49909576 22.99202743  7.22235823 25.4639012  18.39309913\n",
      " 18.26864822 18.42334542 17.09165687 18.21368922  8.52119211 18.31673021\n",
      " 25.27407552 18.1861855  17.98687233 14.7443953  19.56687894 18.70545909\n",
      "  9.26254343 22.17980245]\n",
      "Mean Squared Error: 0.06562066885601217\n"
     ]
    }
   ],
   "source": [
    "scaler = StandardScaler()\n",
    "X_train_scaled = scaler.fit_transform(X_train)\n",
    "X_test_scaled = scaler.transform(X_test)\n",
    "\n",
    "\n",
    "#creates the svr model\n",
    "svr_model = SVR(kernel = 'rbf', C=100, epsilon=0.1)\n",
    "\n",
    "\n",
    "#train the model\n",
    "svr_model.fit(X_train_scaled, y_train)\n",
    "\n",
    "\n",
    "#make presictions on the test data\n",
    "prediction = svr_model.predict(X_test_scaled)\n",
    "\n",
    "\n",
    "#Evaluate the model\n",
    "mse = mean_squared_error(y_test, prediction)\n",
    "print(prediction)\n",
    "print(\"Mean Squared Error:\", mse)\n",
    "\n"
   ]
  },
  {
   "cell_type": "code",
   "execution_count": null,
   "id": "748c87c4",
   "metadata": {},
   "outputs": [],
   "source": []
  },
  {
   "cell_type": "code",
   "execution_count": 80,
   "id": "f24325ec",
   "metadata": {},
   "outputs": [],
   "source": [
    "from sklearn.metrics import mean_squared_error, mean_absolute_error, r2_score"
   ]
  },
  {
   "cell_type": "code",
   "execution_count": 81,
   "id": "f5e5318f",
   "metadata": {},
   "outputs": [
    {
     "name": "stdout",
     "output_type": "stream",
     "text": [
      "Mean Absolute Error: 0.1055906045623839\n"
     ]
    }
   ],
   "source": [
    "mae = mean_absolute_error(y_test, prediction)\n",
    "print(\"Mean Absolute Error:\", mae)"
   ]
  },
  {
   "cell_type": "code",
   "execution_count": 83,
   "id": "9b188807",
   "metadata": {},
   "outputs": [
    {
     "name": "stdout",
     "output_type": "stream",
     "text": [
      "R2 score: 0.9973698886266352\n"
     ]
    }
   ],
   "source": [
    "rrs = r2_score(y_test, prediction)\n",
    "print(\"R2 score:\", rrs)"
   ]
  },
  {
   "cell_type": "code",
   "execution_count": null,
   "id": "e97414f6",
   "metadata": {},
   "outputs": [],
   "source": []
  },
  {
   "cell_type": "code",
   "execution_count": 86,
   "id": "62de1ce3",
   "metadata": {},
   "outputs": [],
   "source": [
    "from sklearn.preprocessing import MinMaxScaler\n",
    "from sklearn.metrics import mean_squared_error\n",
    "from sklearn.model_selection import GridSearchCV\n"
   ]
  },
  {
   "cell_type": "code",
   "execution_count": 98,
   "id": "aac9b633",
   "metadata": {},
   "outputs": [
    {
     "name": "stdout",
     "output_type": "stream",
     "text": [
      "Best Hyperparameters: {'C': 100, 'epsilon': 0.01, 'kernel': 'linear'}\n",
      "Mean Squared Error: 0.013558245500364637\n"
     ]
    }
   ],
   "source": [
    "scaler = MinMaxScaler()\n",
    "X_train_normalized = scaler.fit_transform(X_train)\n",
    "X_test_normalized = scaler.transform(X_test)\n",
    "\n",
    "\n",
    "#defines the parameter for grid search \n",
    "param_grid = {\n",
    "    'kernel': ['linear', 'rbf'],\n",
    "    'C': [1, 10, 50, 100],\n",
    "    'epsilon': [0.01, .1, 0.2, 0.5]\n",
    "}\n",
    "svr = SVR()\n",
    "\n",
    "grid_search = GridSearchCV(svr, param_grid, cv=5, scoring='neg_mean_squared_error', n_jobs=-1)\n",
    "normal_pred = grid_search.fit(X_train_normalized, y_train)\n",
    "\n",
    "best_params = grid_search.best_params_\n",
    "\n",
    "\n",
    "#trains the model with the best parameter \n",
    "best_svr_model = SVR(**best_params)\n",
    "best_svr_model.fit(X_train_normalized, y_train)\n",
    "\n",
    "prediction = best_svr_model.predict(X_test_normalized)\n",
    "\n",
    "\n",
    "mse = mean_squared_error(y_test, prediction)\n",
    "\n",
    "\n",
    "print(\"Best Hyperparameters:\", best_params)\n",
    "print(\"Mean Squared Error:\", mse)\n"
   ]
  },
  {
   "cell_type": "code",
   "execution_count": null,
   "id": "938d7198",
   "metadata": {},
   "outputs": [],
   "source": []
  },
  {
   "cell_type": "code",
   "execution_count": 95,
   "id": "262bb520",
   "metadata": {},
   "outputs": [
    {
     "name": "stdout",
     "output_type": "stream",
     "text": [
      "R-Squared (Accuracy) in Percentage: 99.94565782959081\n"
     ]
    }
   ],
   "source": [
    "from sklearn.metrics import r2_score\n",
    "\n",
    "r2 = r2_score(y_test, prediction)\n",
    "\n",
    "accuracy_percentage = r2 * 100\n",
    "\n",
    "print(\"R-Squared (Accuracy) in Percentage:\", accuracy_percentage)\n",
    "\n",
    "\n",
    "\n",
    "\n"
   ]
  },
  {
   "cell_type": "code",
   "execution_count": 96,
   "id": "9de105e2",
   "metadata": {},
   "outputs": [
    {
     "name": "stdout",
     "output_type": "stream",
     "text": [
      "MAE: 0.07854616898586239\n"
     ]
    }
   ],
   "source": [
    "mae = mean_absolute_error(y_test, prediction)\n",
    "print(\"MAE:\", mae)"
   ]
  },
  {
   "cell_type": "code",
   "execution_count": null,
   "id": "efbfd159",
   "metadata": {},
   "outputs": [],
   "source": []
  },
  {
   "cell_type": "code",
   "execution_count": 123,
   "id": "14b58920",
   "metadata": {},
   "outputs": [
    {
     "data": {
      "image/png": "[encoded data removed]",
      "text/plain": [
       "<Figure size 432x288 with 1 Axes>"
      ]
     },
     "metadata": {
      "needs_background": "light"
     },
     "output_type": "display_data"
    }
   ],
   "source": [
    "# Plot actual data\n",
    "plt.plot(range(len(y_test)), y_test, color='red', label='Actual')\n",
    "\n",
    "# Plot predictions\n",
    "plt.plot(range(len(prediction)), prediction, color='chocolate', label='Predicted')\n",
    "\n",
    "plt.title('Actual vs Predicted')\n",
    "plt.xlabel('Data Point')\n",
    "plt.ylabel('Target Value')\n",
    "plt.legend()\n",
    "plt.show()"
   ]
  },
  {
   "cell_type": "code",
   "execution_count": null,
   "id": "cba28d9e",
   "metadata": {},
   "outputs": [],
   "source": []
  },
  {
   "cell_type": "code",
   "execution_count": 97,
   "id": "1f200015",
   "metadata": {},
   "outputs": [],
   "source": [
    "import pickle"
   ]
  },
  {
   "cell_type": "code",
   "execution_count": 99,
   "id": "6ff44f5e",
   "metadata": {},
   "outputs": [],
   "source": [
    "with open('svm.pkl', 'wb') as file:\n",
    "    pickle.dump(normal_pred, file)"
   ]
  },
  {
   "cell_type": "code",
   "execution_count": 100,
   "id": "942be21e",
   "metadata": {},
   "outputs": [],
   "source": [
    "with open('svm.pkl', 'rb') as file:\n",
    "    loaded_model = pickle.load(file)"
   ]
  },
  {
   "cell_type": "code",
   "execution_count": 113,
   "id": "a9e6be7a",
   "metadata": {},
   "outputs": [
    {
     "name": "stderr",
     "output_type": "stream",
     "text": [
      "[*********************100%%**********************]  1 of 1 completed\n"
     ]
    }
   ],
   "source": [
    "data2 = yf.download('AAPL', start='2021-02-01', end='2024-02-01')\n",
    "sd=data2['Close']"
   ]
  },
  {
   "cell_type": "code",
   "execution_count": 115,
   "id": "9840a9b5",
   "metadata": {},
   "outputs": [
    {
     "ename": "ValueError",
     "evalue": "Expected 2D array, got 1D array instead:\narray=[134.13999939 134.99000549 133.94000244 137.38999939 136.75999451\n 136.91000366 136.00999451 135.38999939 135.13000488 135.36999512\n 133.19000244 130.83999634 129.71000671 129.86999512 126.\n 125.86000061 125.34999847 120.98999786 121.26000214 127.79000092\n 125.12000275 122.05999756 120.12999725 121.41999817 116.36000061\n 121.08999634 119.98000336 121.95999908 121.02999878 123.98999786\n 125.56999969 124.76000214 120.52999878 119.98999786 123.38999939\n 122.54000092 120.08999634 120.58999634 121.20999908 121.38999939\n 119.90000153 122.15000153 123.         125.90000153 126.20999908\n 127.90000153 130.36000061 133.         131.24000549 134.42999268\n 132.02999878 134.5        134.16000366 134.83999634 133.11000061\n 133.5        131.94000244 134.32000732 134.72000122 134.38999939\n 133.58000183 133.47999573 131.46000671 132.53999329 127.84999847\n 128.1000061  129.74000549 130.21000671 126.84999847 125.91000366\n 122.76999664 124.97000122 127.44999695 126.26999664 124.84999847\n 124.69000244 127.30999756 125.43000031 127.09999847 126.90000153\n 126.84999847 125.27999878 124.61000061 124.27999878 125.05999756\n 123.54000092 125.88999939 125.90000153 126.73999786 127.12999725\n 126.11000061 127.34999847 130.47999573 129.63999939 130.1499939\n 131.78999329 130.46000671 132.30000305 133.97999573 133.69999695\n 133.41000366 133.11000061 134.77999878 136.33000183 136.96000671\n 137.27000427 139.96000671 142.02000427 144.57000732 143.24000549\n 145.11000061 144.5        145.63999939 149.1499939  148.47999573\n 146.38999939 142.44999695 146.1499939  145.3999939  146.80000305\n 148.55999756 148.99000549 146.77000427 144.97999573 145.63999939\n 145.86000061 145.52000427 147.36000061 146.94999695 147.05999756\n 146.13999939 146.08999634 145.6000061  145.86000061 148.88999939\n 149.1000061  151.11999512 150.19000244 146.36000061 146.69999695\n 148.19000244 149.71000671 149.61999512 148.36000061 147.53999329\n 148.6000061  153.11999512 151.83000183 152.50999451 153.6499939\n 154.30000305 156.69000244 155.11000061 154.07000732 148.97000122\n 149.55000305 148.11999512 149.02999878 148.78999329 146.05999756\n 142.94000244 143.42999268 145.8500061  146.83000183 146.91999817\n 145.36999512 141.91000366 142.83000183 141.5        142.6499939\n 139.13999939 141.11000061 142.         143.28999329 142.8999939\n 142.80999756 141.50999451 140.91000366 143.75999451 144.83999634\n 146.55000305 148.75999451 149.25999451 149.47999573 148.69000244\n 148.63999939 149.32000732 148.8500061  152.57000732 149.80000305\n 148.96000671 150.02000427 151.49000549 150.96000671 151.27999878\n 150.44000244 150.80999756 147.91999817 147.86999512 149.99000549\n 150.         151.         153.49000549 157.86999512 160.55000305\n 161.02000427 161.41000366 161.94000244 156.80999756 160.24000549\n 165.30000305 164.77000427 163.75999451 161.83999634 165.32000732\n 171.17999268 175.08000183 174.55999756 179.44999695 175.74000549\n 174.33000183 179.30000305 172.25999451 171.13999939 169.75\n 172.99000549 175.63999939 176.27999878 180.33000183 179.28999329\n 179.38000488 178.19999695 177.57000732 182.00999451 179.69999695\n 174.91999817 172.         172.16999817 172.19000244 175.08000183\n 175.52999878 172.19000244 173.07000732 169.80000305 166.22999573\n 164.50999451 162.41000366 161.61999512 159.77999878 159.69000244\n 159.22000122 170.33000183 174.77999878 174.61000061 175.83999634\n 172.8999939  172.38999939 171.66000366 174.83000183 176.27999878\n 172.11999512 168.63999939 168.88000488 172.78999329 172.55000305\n 168.88000488 167.30000305 164.32000732 160.07000732 162.74000549\n 164.8500061  165.11999512 163.19999695 166.55999756 166.22999573\n 163.16999817 159.30000305 157.44000244 162.94999695 158.52000427\n 154.72999573 150.61999512 155.08999634 159.58999634 160.61999512\n 163.97999573 165.38000488 168.82000732 170.21000671 174.07000732\n 174.72000122 175.6000061  178.96000671 177.77000427 174.61000061\n 174.30999756 178.44000244 175.05999756 171.83000183 172.13999939\n 170.08999634 165.75       167.66000366 170.3999939  165.28999329\n 165.07000732 167.3999939  167.22999573 166.41999817 161.78999329\n 162.88000488 156.80000305 156.57000732 163.63999939 157.6499939\n 157.96000671 159.47999573 166.02000427 156.77000427 157.27999878\n 152.05999756 154.50999451 146.5        142.55999756 147.11000061\n 145.53999329 149.24000549 140.82000732 137.3500061  137.58999634\n 143.11000061 140.36000061 140.52000427 143.77999878 149.63999939\n 148.83999634 148.71000671 151.21000671 145.38000488 146.13999939\n 148.71000671 147.96000671 142.63999939 137.13000488 131.88000488\n 132.75999451 135.42999268 130.05999756 131.55999756 135.86999512\n 135.3500061  138.27000427 141.66000366 141.66000366 137.44000244\n 139.22999573 136.72000122 138.92999268 141.55999756 142.91999817\n 146.3500061  147.03999329 144.86999512 145.86000061 145.49000549\n 148.47000122 150.16999817 147.07000732 151.         153.03999329\n 155.3500061  154.08999634 152.94999695 151.6000061  156.78999329\n 157.3500061  162.50999451 161.50999451 160.00999451 166.13000488\n 165.80999756 165.3500061  164.86999512 164.91999817 169.24000549\n 168.49000549 172.1000061  173.19000244 173.02999878 174.55000305\n 174.1499939  171.52000427 167.57000732 167.22999573 167.52999878\n 170.02999878 163.61999512 161.38000488 158.91000366 157.22000122\n 157.96000671 155.80999756 154.52999878 155.96000671 154.46000671\n 157.36999512 163.42999268 153.83999634 155.30999756 152.36999512\n 150.69999695 154.47999573 156.8999939  153.72000122 152.74000549\n 150.42999268 150.77000427 151.75999451 149.83999634 142.47999573\n 138.19999695 142.44999695 146.1000061  146.3999939  145.42999268\n 140.08999634 140.41999817 138.97999573 138.33999634 142.99000549\n 138.38000488 142.41000366 143.75       143.86000061 143.38999939\n 147.27000427 149.44999695 152.33999634 149.3500061  144.80000305\n 155.74000549 153.33999634 150.6499939  145.02999878 138.88000488\n 138.38000488 138.91999817 139.5        134.86999512 146.86999512\n 149.69999695 148.27999878 150.03999329 148.78999329 150.72000122\n 151.28999329 148.00999451 150.17999268 151.07000732 148.11000061\n 144.22000122 141.16999817 148.02999878 148.30999756 147.80999756\n 146.63000488 142.91000366 140.94000244 142.6499939  142.16000366\n 144.49000549 145.47000122 143.21000671 136.5        134.50999451\n 132.36999512 132.30000305 135.44999695 132.22999573 131.86000061\n 130.02999878 126.04000092 129.61000061 129.92999268 125.06999969\n 126.36000061 125.01999664 129.61999512 130.1499939  130.72999573\n 133.49000549 133.41000366 134.75999451 135.94000244 135.21000671\n 135.27000427 137.86999512 141.11000061 142.52999878 141.86000061\n 143.96000671 145.92999268 143.         144.28999329 145.42999268\n 150.82000732 154.5        151.72999573 154.6499939  151.91999817\n 150.86999512 151.00999451 153.8500061  153.19999695 155.33000183\n 153.71000671 152.55000305 148.47999573 148.91000366 149.3999939\n 146.71000671 147.91999817 147.41000366 145.30999756 145.91000366\n 151.02999878 153.83000183 151.6000061  152.86999512 150.58999634\n 148.5        150.47000122 152.58999634 152.99000549 155.8500061\n 155.         157.3999939  159.27999878 157.83000183 158.92999268\n 160.25       158.27999878 157.6499939  160.77000427 162.36000061\n 164.8999939  166.16999817 165.63000488 163.75999451 164.66000366\n 162.02999878 160.80000305 160.1000061  165.55999756 165.21000671\n 165.22999573 166.47000122 167.63000488 166.6499939  165.02000427\n 165.33000183 163.77000427 163.75999451 168.41000366 169.67999268\n 169.58999634 168.53999329 167.44999695 165.78999329 173.57000732\n 173.5        171.77000427 173.55999756 173.75       172.57000732\n 172.07000732 172.07000732 172.69000244 175.05000305 175.16000366\n 174.19999695 171.55999756 171.83999634 172.99000549 175.42999268\n 177.30000305 177.25       180.08999634 180.94999695 179.58000183\n 179.21000671 177.82000732 180.57000732 180.96000671 183.78999329\n 183.30999756 183.94999695 186.00999451 184.91999817 185.00999451\n 183.96000671 187.         186.67999268 185.27000427 188.05999756\n 189.25       189.58999634 193.97000122 192.46000671 191.33000183\n 191.80999756 190.67999268 188.61000061 188.08000183 189.77000427\n 190.53999329 190.69000244 193.99000549 193.72999573 195.1000061\n 193.13000488 191.94000244 192.75       193.61999512 194.5\n 193.22000122 195.83000183 196.44999695 195.61000061 192.58000183\n 191.16999817 181.99000549 178.8500061  179.80000305 178.19000244\n 177.97000122 177.78999329 179.46000671 177.44999695 176.57000732\n 174.         174.49000549 175.83999634 177.22999573 181.11999512\n 176.38000488 178.61000061 180.19000244 184.11999512 187.6499939\n 187.86999512 189.46000671 189.69999695 182.91000366 177.55999756\n 178.17999268 179.36000061 176.30000305 174.21000671 175.74000549\n 175.00999451 177.97000122 179.07000732 175.49000549 173.92999268\n 174.78999329 176.08000183 171.96000671 170.42999268 170.69000244\n 171.21000671 173.75       172.3999939  173.66000366 174.91000366\n 177.49000549 178.99000549 178.38999939 179.80000305 180.71000671\n 178.8500061  178.72000122 177.1499939  175.83999634 175.46000671\n 172.88000488 173.         173.44000244 171.1000061  166.88999939\n 168.22000122 170.28999329 170.77000427 173.97000122 177.57000732\n 176.6499939  179.22999573 181.82000732 182.88999939 182.41000366\n 186.3999939  184.80000305 187.44000244 188.00999451 189.71000671\n 189.69000244 191.44999695 190.63999939 191.30999756 189.97000122\n 189.78999329 190.3999939  189.36999512 189.94999695 191.24000549\n 189.42999268 193.41999817 192.32000732 194.27000427 195.71000671\n 193.17999268 194.71000671 197.96000671 198.11000061 197.57000732\n 195.88999939 196.94000244 194.83000183 194.67999268 193.6000061\n 193.05000305 193.1499939  193.58000183 192.52999878 185.63999939\n 184.25       181.91000366 181.17999268 185.55999756 185.13999939\n 186.19000244 185.58999634 185.91999817 183.63000488 182.67999268\n 188.63000488 191.55999756 193.88999939 195.17999268 194.5\n 194.16999817 192.41999817 191.72999573 188.03999329 184.3999939 ].\nReshape your data either using array.reshape(-1, 1) if your data has a single feature or array.reshape(1, -1) if it contains a single sample.",
     "output_type": "error",
     "traceback": [
      "\u001b[0;31m---------------------------------------------------------------------------\u001b[0m",
      "\u001b[0;31mValueError\u001b[0m                                Traceback (most recent call last)",
      "Input \u001b[0;32mIn [115]\u001b[0m, in \u001b[0;36m<cell line: 1>\u001b[0;34m()\u001b[0m\n\u001b[0;32m----> 1\u001b[0m prediction \u001b[38;5;241m=\u001b[39m \u001b[43mloaded_model\u001b[49m\u001b[38;5;241;43m.\u001b[39;49m\u001b[43mpredict\u001b[49m\u001b[43m(\u001b[49m\u001b[43msd\u001b[49m\u001b[43m)\u001b[49m\n",
      "File \u001b[0;32m~/opt/anaconda3/lib/python3.9/site-packages/sklearn/utils/metaestimators.py:113\u001b[0m, in \u001b[0;36m_AvailableIfDescriptor.__get__.<locals>.<lambda>\u001b[0;34m(*args, **kwargs)\u001b[0m\n\u001b[1;32m    110\u001b[0m         \u001b[38;5;28;01mraise\u001b[39;00m attr_err\n\u001b[1;32m    112\u001b[0m     \u001b[38;5;66;03m# lambda, but not partial, allows help() to work with update_wrapper\u001b[39;00m\n\u001b[0;32m--> 113\u001b[0m     out \u001b[38;5;241m=\u001b[39m \u001b[38;5;28;01mlambda\u001b[39;00m \u001b[38;5;241m*\u001b[39margs, \u001b[38;5;241m*\u001b[39m\u001b[38;5;241m*\u001b[39mkwargs: \u001b[38;5;28;43mself\u001b[39;49m\u001b[38;5;241;43m.\u001b[39;49m\u001b[43mfn\u001b[49m\u001b[43m(\u001b[49m\u001b[43mobj\u001b[49m\u001b[43m,\u001b[49m\u001b[43m \u001b[49m\u001b[38;5;241;43m*\u001b[39;49m\u001b[43margs\u001b[49m\u001b[43m,\u001b[49m\u001b[43m \u001b[49m\u001b[38;5;241;43m*\u001b[39;49m\u001b[38;5;241;43m*\u001b[39;49m\u001b[43mkwargs\u001b[49m\u001b[43m)\u001b[49m  \u001b[38;5;66;03m# noqa\u001b[39;00m\n\u001b[1;32m    114\u001b[0m \u001b[38;5;28;01melse\u001b[39;00m:\n\u001b[1;32m    116\u001b[0m     \u001b[38;5;28;01mdef\u001b[39;00m \u001b[38;5;21mfn\u001b[39m(\u001b[38;5;241m*\u001b[39margs, \u001b[38;5;241m*\u001b[39m\u001b[38;5;241m*\u001b[39mkwargs):\n",
      "File \u001b[0;32m~/opt/anaconda3/lib/python3.9/site-packages/sklearn/model_selection/_search.py:521\u001b[0m, in \u001b[0;36mBaseSearchCV.predict\u001b[0;34m(self, X)\u001b[0m\n\u001b[1;32m    503\u001b[0m \u001b[38;5;124;03m\"\"\"Call predict on the estimator with the best found parameters.\u001b[39;00m\n\u001b[1;32m    504\u001b[0m \n\u001b[1;32m    505\u001b[0m \u001b[38;5;124;03mOnly available if ``refit=True`` and the underlying estimator supports\u001b[39;00m\n\u001b[0;32m   (...)\u001b[0m\n\u001b[1;32m    518\u001b[0m \u001b[38;5;124;03m    the best found parameters.\u001b[39;00m\n\u001b[1;32m    519\u001b[0m \u001b[38;5;124;03m\"\"\"\u001b[39;00m\n\u001b[1;32m    520\u001b[0m check_is_fitted(\u001b[38;5;28mself\u001b[39m)\n\u001b[0;32m--> 521\u001b[0m \u001b[38;5;28;01mreturn\u001b[39;00m \u001b[38;5;28;43mself\u001b[39;49m\u001b[38;5;241;43m.\u001b[39;49m\u001b[43mbest_estimator_\u001b[49m\u001b[38;5;241;43m.\u001b[39;49m\u001b[43mpredict\u001b[49m\u001b[43m(\u001b[49m\u001b[43mX\u001b[49m\u001b[43m)\u001b[49m\n",
      "File \u001b[0;32m~/opt/anaconda3/lib/python3.9/site-packages/sklearn/svm/_base.py:414\u001b[0m, in \u001b[0;36mBaseLibSVM.predict\u001b[0;34m(self, X)\u001b[0m\n\u001b[1;32m    398\u001b[0m \u001b[38;5;28;01mdef\u001b[39;00m \u001b[38;5;21mpredict\u001b[39m(\u001b[38;5;28mself\u001b[39m, X):\n\u001b[1;32m    399\u001b[0m     \u001b[38;5;124;03m\"\"\"Perform regression on samples in X.\u001b[39;00m\n\u001b[1;32m    400\u001b[0m \n\u001b[1;32m    401\u001b[0m \u001b[38;5;124;03m    For an one-class model, +1 (inlier) or -1 (outlier) is returned.\u001b[39;00m\n\u001b[0;32m   (...)\u001b[0m\n\u001b[1;32m    412\u001b[0m \u001b[38;5;124;03m        The predicted values.\u001b[39;00m\n\u001b[1;32m    413\u001b[0m \u001b[38;5;124;03m    \"\"\"\u001b[39;00m\n\u001b[0;32m--> 414\u001b[0m     X \u001b[38;5;241m=\u001b[39m \u001b[38;5;28;43mself\u001b[39;49m\u001b[38;5;241;43m.\u001b[39;49m\u001b[43m_validate_for_predict\u001b[49m\u001b[43m(\u001b[49m\u001b[43mX\u001b[49m\u001b[43m)\u001b[49m\n\u001b[1;32m    415\u001b[0m     predict \u001b[38;5;241m=\u001b[39m \u001b[38;5;28mself\u001b[39m\u001b[38;5;241m.\u001b[39m_sparse_predict \u001b[38;5;28;01mif\u001b[39;00m \u001b[38;5;28mself\u001b[39m\u001b[38;5;241m.\u001b[39m_sparse \u001b[38;5;28;01melse\u001b[39;00m \u001b[38;5;28mself\u001b[39m\u001b[38;5;241m.\u001b[39m_dense_predict\n\u001b[1;32m    416\u001b[0m     \u001b[38;5;28;01mreturn\u001b[39;00m predict(X)\n",
      "File \u001b[0;32m~/opt/anaconda3/lib/python3.9/site-packages/sklearn/svm/_base.py:592\u001b[0m, in \u001b[0;36mBaseLibSVM._validate_for_predict\u001b[0;34m(self, X)\u001b[0m\n\u001b[1;32m    589\u001b[0m check_is_fitted(\u001b[38;5;28mself\u001b[39m)\n\u001b[1;32m    591\u001b[0m \u001b[38;5;28;01mif\u001b[39;00m \u001b[38;5;129;01mnot\u001b[39;00m callable(\u001b[38;5;28mself\u001b[39m\u001b[38;5;241m.\u001b[39mkernel):\n\u001b[0;32m--> 592\u001b[0m     X \u001b[38;5;241m=\u001b[39m \u001b[38;5;28;43mself\u001b[39;49m\u001b[38;5;241;43m.\u001b[39;49m\u001b[43m_validate_data\u001b[49m\u001b[43m(\u001b[49m\n\u001b[1;32m    593\u001b[0m \u001b[43m        \u001b[49m\u001b[43mX\u001b[49m\u001b[43m,\u001b[49m\n\u001b[1;32m    594\u001b[0m \u001b[43m        \u001b[49m\u001b[43maccept_sparse\u001b[49m\u001b[38;5;241;43m=\u001b[39;49m\u001b[38;5;124;43m\"\u001b[39;49m\u001b[38;5;124;43mcsr\u001b[39;49m\u001b[38;5;124;43m\"\u001b[39;49m\u001b[43m,\u001b[49m\n\u001b[1;32m    595\u001b[0m \u001b[43m        \u001b[49m\u001b[43mdtype\u001b[49m\u001b[38;5;241;43m=\u001b[39;49m\u001b[43mnp\u001b[49m\u001b[38;5;241;43m.\u001b[39;49m\u001b[43mfloat64\u001b[49m\u001b[43m,\u001b[49m\n\u001b[1;32m    596\u001b[0m \u001b[43m        \u001b[49m\u001b[43morder\u001b[49m\u001b[38;5;241;43m=\u001b[39;49m\u001b[38;5;124;43m\"\u001b[39;49m\u001b[38;5;124;43mC\u001b[39;49m\u001b[38;5;124;43m\"\u001b[39;49m\u001b[43m,\u001b[49m\n\u001b[1;32m    597\u001b[0m \u001b[43m        \u001b[49m\u001b[43maccept_large_sparse\u001b[49m\u001b[38;5;241;43m=\u001b[39;49m\u001b[38;5;28;43;01mFalse\u001b[39;49;00m\u001b[43m,\u001b[49m\n\u001b[1;32m    598\u001b[0m \u001b[43m        \u001b[49m\u001b[43mreset\u001b[49m\u001b[38;5;241;43m=\u001b[39;49m\u001b[38;5;28;43;01mFalse\u001b[39;49;00m\u001b[43m,\u001b[49m\n\u001b[1;32m    599\u001b[0m \u001b[43m    \u001b[49m\u001b[43m)\u001b[49m\n\u001b[1;32m    601\u001b[0m \u001b[38;5;28;01mif\u001b[39;00m \u001b[38;5;28mself\u001b[39m\u001b[38;5;241m.\u001b[39m_sparse \u001b[38;5;129;01mand\u001b[39;00m \u001b[38;5;129;01mnot\u001b[39;00m sp\u001b[38;5;241m.\u001b[39misspmatrix(X):\n\u001b[1;32m    602\u001b[0m     X \u001b[38;5;241m=\u001b[39m sp\u001b[38;5;241m.\u001b[39mcsr_matrix(X)\n",
      "File \u001b[0;32m~/opt/anaconda3/lib/python3.9/site-packages/sklearn/base.py:566\u001b[0m, in \u001b[0;36mBaseEstimator._validate_data\u001b[0;34m(self, X, y, reset, validate_separately, **check_params)\u001b[0m\n\u001b[1;32m    564\u001b[0m     \u001b[38;5;28;01mraise\u001b[39;00m \u001b[38;5;167;01mValueError\u001b[39;00m(\u001b[38;5;124m\"\u001b[39m\u001b[38;5;124mValidation should be done on X, y or both.\u001b[39m\u001b[38;5;124m\"\u001b[39m)\n\u001b[1;32m    565\u001b[0m \u001b[38;5;28;01melif\u001b[39;00m \u001b[38;5;129;01mnot\u001b[39;00m no_val_X \u001b[38;5;129;01mand\u001b[39;00m no_val_y:\n\u001b[0;32m--> 566\u001b[0m     X \u001b[38;5;241m=\u001b[39m \u001b[43mcheck_array\u001b[49m\u001b[43m(\u001b[49m\u001b[43mX\u001b[49m\u001b[43m,\u001b[49m\u001b[43m \u001b[49m\u001b[38;5;241;43m*\u001b[39;49m\u001b[38;5;241;43m*\u001b[39;49m\u001b[43mcheck_params\u001b[49m\u001b[43m)\u001b[49m\n\u001b[1;32m    567\u001b[0m     out \u001b[38;5;241m=\u001b[39m X\n\u001b[1;32m    568\u001b[0m \u001b[38;5;28;01melif\u001b[39;00m no_val_X \u001b[38;5;129;01mand\u001b[39;00m \u001b[38;5;129;01mnot\u001b[39;00m no_val_y:\n",
      "File \u001b[0;32m~/opt/anaconda3/lib/python3.9/site-packages/sklearn/utils/validation.py:769\u001b[0m, in \u001b[0;36mcheck_array\u001b[0;34m(array, accept_sparse, accept_large_sparse, dtype, order, copy, force_all_finite, ensure_2d, allow_nd, ensure_min_samples, ensure_min_features, estimator)\u001b[0m\n\u001b[1;32m    767\u001b[0m     \u001b[38;5;66;03m# If input is 1D raise error\u001b[39;00m\n\u001b[1;32m    768\u001b[0m     \u001b[38;5;28;01mif\u001b[39;00m array\u001b[38;5;241m.\u001b[39mndim \u001b[38;5;241m==\u001b[39m \u001b[38;5;241m1\u001b[39m:\n\u001b[0;32m--> 769\u001b[0m         \u001b[38;5;28;01mraise\u001b[39;00m \u001b[38;5;167;01mValueError\u001b[39;00m(\n\u001b[1;32m    770\u001b[0m             \u001b[38;5;124m\"\u001b[39m\u001b[38;5;124mExpected 2D array, got 1D array instead:\u001b[39m\u001b[38;5;130;01m\\n\u001b[39;00m\u001b[38;5;124marray=\u001b[39m\u001b[38;5;132;01m{}\u001b[39;00m\u001b[38;5;124m.\u001b[39m\u001b[38;5;130;01m\\n\u001b[39;00m\u001b[38;5;124m\"\u001b[39m\n\u001b[1;32m    771\u001b[0m             \u001b[38;5;124m\"\u001b[39m\u001b[38;5;124mReshape your data either using array.reshape(-1, 1) if \u001b[39m\u001b[38;5;124m\"\u001b[39m\n\u001b[1;32m    772\u001b[0m             \u001b[38;5;124m\"\u001b[39m\u001b[38;5;124myour data has a single feature or array.reshape(1, -1) \u001b[39m\u001b[38;5;124m\"\u001b[39m\n\u001b[1;32m    773\u001b[0m             \u001b[38;5;124m\"\u001b[39m\u001b[38;5;124mif it contains a single sample.\u001b[39m\u001b[38;5;124m\"\u001b[39m\u001b[38;5;241m.\u001b[39mformat(array)\n\u001b[1;32m    774\u001b[0m         )\n\u001b[1;32m    776\u001b[0m \u001b[38;5;66;03m# make sure we actually converted to numeric:\u001b[39;00m\n\u001b[1;32m    777\u001b[0m \u001b[38;5;28;01mif\u001b[39;00m dtype_numeric \u001b[38;5;129;01mand\u001b[39;00m array\u001b[38;5;241m.\u001b[39mdtype\u001b[38;5;241m.\u001b[39mkind \u001b[38;5;129;01min\u001b[39;00m \u001b[38;5;124m\"\u001b[39m\u001b[38;5;124mOUSV\u001b[39m\u001b[38;5;124m\"\u001b[39m:\n",
      "\u001b[0;31mValueError\u001b[0m: Expected 2D array, got 1D array instead:\narray=[134.13999939 134.99000549 133.94000244 137.38999939 136.75999451\n 136.91000366 136.00999451 135.38999939 135.13000488 135.36999512\n 133.19000244 130.83999634 129.71000671 129.86999512 126.\n 125.86000061 125.34999847 120.98999786 121.26000214 127.79000092\n 125.12000275 122.05999756 120.12999725 121.41999817 116.36000061\n 121.08999634 119.98000336 121.95999908 121.02999878 123.98999786\n 125.56999969 124.76000214 120.52999878 119.98999786 123.38999939\n 122.54000092 120.08999634 120.58999634 121.20999908 121.38999939\n 119.90000153 122.15000153 123.         125.90000153 126.20999908\n 127.90000153 130.36000061 133.         131.24000549 134.42999268\n 132.02999878 134.5        134.16000366 134.83999634 133.11000061\n 133.5        131.94000244 134.32000732 134.72000122 134.38999939\n 133.58000183 133.47999573 131.46000671 132.53999329 127.84999847\n 128.1000061  129.74000549 130.21000671 126.84999847 125.91000366\n 122.76999664 124.97000122 127.44999695 126.26999664 124.84999847\n 124.69000244 127.30999756 125.43000031 127.09999847 126.90000153\n 126.84999847 125.27999878 124.61000061 124.27999878 125.05999756\n 123.54000092 125.88999939 125.90000153 126.73999786 127.12999725\n 126.11000061 127.34999847 130.47999573 129.63999939 130.1499939\n 131.78999329 130.46000671 132.30000305 133.97999573 133.69999695\n 133.41000366 133.11000061 134.77999878 136.33000183 136.96000671\n 137.27000427 139.96000671 142.02000427 144.57000732 143.24000549\n 145.11000061 144.5        145.63999939 149.1499939  148.47999573\n 146.38999939 142.44999695 146.1499939  145.3999939  146.80000305\n 148.55999756 148.99000549 146.77000427 144.97999573 145.63999939\n 145.86000061 145.52000427 147.36000061 146.94999695 147.05999756\n 146.13999939 146.08999634 145.6000061  145.86000061 148.88999939\n 149.1000061  151.11999512 150.19000244 146.36000061 146.69999695\n 148.19000244 149.71000671 149.61999512 148.36000061 147.53999329\n 148.6000061  153.11999512 151.83000183 152.50999451 153.6499939\n 154.30000305 156.69000244 155.11000061 154.07000732 148.97000122\n 149.55000305 148.11999512 149.02999878 148.78999329 146.05999756\n 142.94000244 143.42999268 145.8500061  146.83000183 146.91999817\n 145.36999512 141.91000366 142.83000183 141.5        142.6499939\n 139.13999939 141.11000061 142.         143.28999329 142.8999939\n 142.80999756 141.50999451 140.91000366 143.75999451 144.83999634\n 146.55000305 148.75999451 149.25999451 149.47999573 148.69000244\n 148.63999939 149.32000732 148.8500061  152.57000732 149.80000305\n 148.96000671 150.02000427 151.49000549 150.96000671 151.27999878\n 150.44000244 150.80999756 147.91999817 147.86999512 149.99000549\n 150.         151.         153.49000549 157.86999512 160.55000305\n 161.02000427 161.41000366 161.94000244 156.80999756 160.24000549\n 165.30000305 164.77000427 163.75999451 161.83999634 165.32000732\n 171.17999268 175.08000183 174.55999756 179.44999695 175.74000549\n 174.33000183 179.30000305 172.25999451 171.13999939 169.75\n 172.99000549 175.63999939 176.27999878 180.33000183 179.28999329\n 179.38000488 178.19999695 177.57000732 182.00999451 179.69999695\n 174.91999817 172.         172.16999817 172.19000244 175.08000183\n 175.52999878 172.19000244 173.07000732 169.80000305 166.22999573\n 164.50999451 162.41000366 161.61999512 159.77999878 159.69000244\n 159.22000122 170.33000183 174.77999878 174.61000061 175.83999634\n 172.8999939  172.38999939 171.66000366 174.83000183 176.27999878\n 172.11999512 168.63999939 168.88000488 172.78999329 172.55000305\n 168.88000488 167.30000305 164.32000732 160.07000732 162.74000549\n 164.8500061  165.11999512 163.19999695 166.55999756 166.22999573\n 163.16999817 159.30000305 157.44000244 162.94999695 158.52000427\n 154.72999573 150.61999512 155.08999634 159.58999634 160.61999512\n 163.97999573 165.38000488 168.82000732 170.21000671 174.07000732\n 174.72000122 175.6000061  178.96000671 177.77000427 174.61000061\n 174.30999756 178.44000244 175.05999756 171.83000183 172.13999939\n 170.08999634 165.75       167.66000366 170.3999939  165.28999329\n 165.07000732 167.3999939  167.22999573 166.41999817 161.78999329\n 162.88000488 156.80000305 156.57000732 163.63999939 157.6499939\n 157.96000671 159.47999573 166.02000427 156.77000427 157.27999878\n 152.05999756 154.50999451 146.5        142.55999756 147.11000061\n 145.53999329 149.24000549 140.82000732 137.3500061  137.58999634\n 143.11000061 140.36000061 140.52000427 143.77999878 149.63999939\n 148.83999634 148.71000671 151.21000671 145.38000488 146.13999939\n 148.71000671 147.96000671 142.63999939 137.13000488 131.88000488\n 132.75999451 135.42999268 130.05999756 131.55999756 135.86999512\n 135.3500061  138.27000427 141.66000366 141.66000366 137.44000244\n 139.22999573 136.72000122 138.92999268 141.55999756 142.91999817\n 146.3500061  147.03999329 144.86999512 145.86000061 145.49000549\n 148.47000122 150.16999817 147.07000732 151.         153.03999329\n 155.3500061  154.08999634 152.94999695 151.6000061  156.78999329\n 157.3500061  162.50999451 161.50999451 160.00999451 166.13000488\n 165.80999756 165.3500061  164.86999512 164.91999817 169.24000549\n 168.49000549 172.1000061  173.19000244 173.02999878 174.55000305\n 174.1499939  171.52000427 167.57000732 167.22999573 167.52999878\n 170.02999878 163.61999512 161.38000488 158.91000366 157.22000122\n 157.96000671 155.80999756 154.52999878 155.96000671 154.46000671\n 157.36999512 163.42999268 153.83999634 155.30999756 152.36999512\n 150.69999695 154.47999573 156.8999939  153.72000122 152.74000549\n 150.42999268 150.77000427 151.75999451 149.83999634 142.47999573\n 138.19999695 142.44999695 146.1000061  146.3999939  145.42999268\n 140.08999634 140.41999817 138.97999573 138.33999634 142.99000549\n 138.38000488 142.41000366 143.75       143.86000061 143.38999939\n 147.27000427 149.44999695 152.33999634 149.3500061  144.80000305\n 155.74000549 153.33999634 150.6499939  145.02999878 138.88000488\n 138.38000488 138.91999817 139.5        134.86999512 146.86999512\n 149.69999695 148.27999878 150.03999329 148.78999329 150.72000122\n 151.28999329 148.00999451 150.17999268 151.07000732 148.11000061\n 144.22000122 141.16999817 148.02999878 148.30999756 147.80999756\n 146.63000488 142.91000366 140.94000244 142.6499939  142.16000366\n 144.49000549 145.47000122 143.21000671 136.5        134.50999451\n 132.36999512 132.30000305 135.44999695 132.22999573 131.86000061\n 130.02999878 126.04000092 129.61000061 129.92999268 125.06999969\n 126.36000061 125.01999664 129.61999512 130.1499939  130.72999573\n 133.49000549 133.41000366 134.75999451 135.94000244 135.21000671\n 135.27000427 137.86999512 141.11000061 142.52999878 141.86000061\n 143.96000671 145.92999268 143.         144.28999329 145.42999268\n 150.82000732 154.5        151.72999573 154.6499939  151.91999817\n 150.86999512 151.00999451 153.8500061  153.19999695 155.33000183\n 153.71000671 152.55000305 148.47999573 148.91000366 149.3999939\n 146.71000671 147.91999817 147.41000366 145.30999756 145.91000366\n 151.02999878 153.83000183 151.6000061  152.86999512 150.58999634\n 148.5        150.47000122 152.58999634 152.99000549 155.8500061\n 155.         157.3999939  159.27999878 157.83000183 158.92999268\n 160.25       158.27999878 157.6499939  160.77000427 162.36000061\n 164.8999939  166.16999817 165.63000488 163.75999451 164.66000366\n 162.02999878 160.80000305 160.1000061  165.55999756 165.21000671\n 165.22999573 166.47000122 167.63000488 166.6499939  165.02000427\n 165.33000183 163.77000427 163.75999451 168.41000366 169.67999268\n 169.58999634 168.53999329 167.44999695 165.78999329 173.57000732\n 173.5        171.77000427 173.55999756 173.75       172.57000732\n 172.07000732 172.07000732 172.69000244 175.05000305 175.16000366\n 174.19999695 171.55999756 171.83999634 172.99000549 175.42999268\n 177.30000305 177.25       180.08999634 180.94999695 179.58000183\n 179.21000671 177.82000732 180.57000732 180.96000671 183.78999329\n 183.30999756 183.94999695 186.00999451 184.91999817 185.00999451\n 183.96000671 187.         186.67999268 185.27000427 188.05999756\n 189.25       189.58999634 193.97000122 192.46000671 191.33000183\n 191.80999756 190.67999268 188.61000061 188.08000183 189.77000427\n 190.53999329 190.69000244 193.99000549 193.72999573 195.1000061\n 193.13000488 191.94000244 192.75       193.61999512 194.5\n 193.22000122 195.83000183 196.44999695 195.61000061 192.58000183\n 191.16999817 181.99000549 178.8500061  179.80000305 178.19000244\n 177.97000122 177.78999329 179.46000671 177.44999695 176.57000732\n 174.         174.49000549 175.83999634 177.22999573 181.11999512\n 176.38000488 178.61000061 180.19000244 184.11999512 187.6499939\n 187.86999512 189.46000671 189.69999695 182.91000366 177.55999756\n 178.17999268 179.36000061 176.30000305 174.21000671 175.74000549\n 175.00999451 177.97000122 179.07000732 175.49000549 173.92999268\n 174.78999329 176.08000183 171.96000671 170.42999268 170.69000244\n 171.21000671 173.75       172.3999939  173.66000366 174.91000366\n 177.49000549 178.99000549 178.38999939 179.80000305 180.71000671\n 178.8500061  178.72000122 177.1499939  175.83999634 175.46000671\n 172.88000488 173.         173.44000244 171.1000061  166.88999939\n 168.22000122 170.28999329 170.77000427 173.97000122 177.57000732\n 176.6499939  179.22999573 181.82000732 182.88999939 182.41000366\n 186.3999939  184.80000305 187.44000244 188.00999451 189.71000671\n 189.69000244 191.44999695 190.63999939 191.30999756 189.97000122\n 189.78999329 190.3999939  189.36999512 189.94999695 191.24000549\n 189.42999268 193.41999817 192.32000732 194.27000427 195.71000671\n 193.17999268 194.71000671 197.96000671 198.11000061 197.57000732\n 195.88999939 196.94000244 194.83000183 194.67999268 193.6000061\n 193.05000305 193.1499939  193.58000183 192.52999878 185.63999939\n 184.25       181.91000366 181.17999268 185.55999756 185.13999939\n 186.19000244 185.58999634 185.91999817 183.63000488 182.67999268\n 188.63000488 191.55999756 193.88999939 195.17999268 194.5\n 194.16999817 192.41999817 191.72999573 188.03999329 184.3999939 ].\nReshape your data either using array.reshape(-1, 1) if your data has a single feature or array.reshape(1, -1) if it contains a single sample."
     ]
    }
   ],
   "source": [
    "prediction = loaded_model.predict(sd)"
   ]
  },
  {
   "cell_type": "code",
   "execution_count": 117,
   "id": "40dd0bd5",
   "metadata": {},
   "outputs": [
    {
     "ename": "ValueError",
     "evalue": "x and y must have same first dimension, but have shapes (755,) and (152,)",
     "output_type": "error",
     "traceback": [
      "\u001b[0;31m---------------------------------------------------------------------------\u001b[0m",
      "\u001b[0;31mValueError\u001b[0m                                Traceback (most recent call last)",
      "Input \u001b[0;32mIn [117]\u001b[0m, in \u001b[0;36m<cell line: 1>\u001b[0;34m()\u001b[0m\n\u001b[0;32m----> 1\u001b[0m \u001b[43mplt\u001b[49m\u001b[38;5;241;43m.\u001b[39;49m\u001b[43mplot\u001b[49m\u001b[43m(\u001b[49m\u001b[43mdata2\u001b[49m\u001b[38;5;241;43m.\u001b[39;49m\u001b[43mindex\u001b[49m\u001b[43m,\u001b[49m\u001b[43m \u001b[49m\u001b[43mprediction\u001b[49m\u001b[43m,\u001b[49m\u001b[43m \u001b[49m\u001b[43mlabel\u001b[49m\u001b[38;5;241;43m=\u001b[39;49m\u001b[38;5;124;43m'\u001b[39;49m\u001b[38;5;124;43mPrediction\u001b[39;49m\u001b[38;5;124;43m'\u001b[39;49m\u001b[43m)\u001b[49m\n\u001b[1;32m      2\u001b[0m plt\u001b[38;5;241m.\u001b[39mxlabel(\u001b[38;5;124m'\u001b[39m\u001b[38;5;124mDate\u001b[39m\u001b[38;5;124m'\u001b[39m)\n\u001b[1;32m      3\u001b[0m plt\u001b[38;5;241m.\u001b[39mylabel(\u001b[38;5;124m'\u001b[39m\u001b[38;5;124mPredicted Stock Price\u001b[39m\u001b[38;5;124m'\u001b[39m)\n",
      "File \u001b[0;32m~/opt/anaconda3/lib/python3.9/site-packages/matplotlib/pyplot.py:2757\u001b[0m, in \u001b[0;36mplot\u001b[0;34m(scalex, scaley, data, *args, **kwargs)\u001b[0m\n\u001b[1;32m   2755\u001b[0m \u001b[38;5;129m@_copy_docstring_and_deprecators\u001b[39m(Axes\u001b[38;5;241m.\u001b[39mplot)\n\u001b[1;32m   2756\u001b[0m \u001b[38;5;28;01mdef\u001b[39;00m \u001b[38;5;21mplot\u001b[39m(\u001b[38;5;241m*\u001b[39margs, scalex\u001b[38;5;241m=\u001b[39m\u001b[38;5;28;01mTrue\u001b[39;00m, scaley\u001b[38;5;241m=\u001b[39m\u001b[38;5;28;01mTrue\u001b[39;00m, data\u001b[38;5;241m=\u001b[39m\u001b[38;5;28;01mNone\u001b[39;00m, \u001b[38;5;241m*\u001b[39m\u001b[38;5;241m*\u001b[39mkwargs):\n\u001b[0;32m-> 2757\u001b[0m     \u001b[38;5;28;01mreturn\u001b[39;00m \u001b[43mgca\u001b[49m\u001b[43m(\u001b[49m\u001b[43m)\u001b[49m\u001b[38;5;241;43m.\u001b[39;49m\u001b[43mplot\u001b[49m\u001b[43m(\u001b[49m\n\u001b[1;32m   2758\u001b[0m \u001b[43m        \u001b[49m\u001b[38;5;241;43m*\u001b[39;49m\u001b[43margs\u001b[49m\u001b[43m,\u001b[49m\u001b[43m \u001b[49m\u001b[43mscalex\u001b[49m\u001b[38;5;241;43m=\u001b[39;49m\u001b[43mscalex\u001b[49m\u001b[43m,\u001b[49m\u001b[43m \u001b[49m\u001b[43mscaley\u001b[49m\u001b[38;5;241;43m=\u001b[39;49m\u001b[43mscaley\u001b[49m\u001b[43m,\u001b[49m\n\u001b[1;32m   2759\u001b[0m \u001b[43m        \u001b[49m\u001b[38;5;241;43m*\u001b[39;49m\u001b[38;5;241;43m*\u001b[39;49m\u001b[43m(\u001b[49m\u001b[43m{\u001b[49m\u001b[38;5;124;43m\"\u001b[39;49m\u001b[38;5;124;43mdata\u001b[39;49m\u001b[38;5;124;43m\"\u001b[39;49m\u001b[43m:\u001b[49m\u001b[43m \u001b[49m\u001b[43mdata\u001b[49m\u001b[43m}\u001b[49m\u001b[43m \u001b[49m\u001b[38;5;28;43;01mif\u001b[39;49;00m\u001b[43m \u001b[49m\u001b[43mdata\u001b[49m\u001b[43m \u001b[49m\u001b[38;5;129;43;01mis\u001b[39;49;00m\u001b[43m \u001b[49m\u001b[38;5;129;43;01mnot\u001b[39;49;00m\u001b[43m \u001b[49m\u001b[38;5;28;43;01mNone\u001b[39;49;00m\u001b[43m \u001b[49m\u001b[38;5;28;43;01melse\u001b[39;49;00m\u001b[43m \u001b[49m\u001b[43m{\u001b[49m\u001b[43m}\u001b[49m\u001b[43m)\u001b[49m\u001b[43m,\u001b[49m\u001b[43m \u001b[49m\u001b[38;5;241;43m*\u001b[39;49m\u001b[38;5;241;43m*\u001b[39;49m\u001b[43mkwargs\u001b[49m\u001b[43m)\u001b[49m\n",
      "File \u001b[0;32m~/opt/anaconda3/lib/python3.9/site-packages/matplotlib/axes/_axes.py:1632\u001b[0m, in \u001b[0;36mAxes.plot\u001b[0;34m(self, scalex, scaley, data, *args, **kwargs)\u001b[0m\n\u001b[1;32m   1390\u001b[0m \u001b[38;5;124;03m\"\"\"\u001b[39;00m\n\u001b[1;32m   1391\u001b[0m \u001b[38;5;124;03mPlot y versus x as lines and/or markers.\u001b[39;00m\n\u001b[1;32m   1392\u001b[0m \n\u001b[0;32m   (...)\u001b[0m\n\u001b[1;32m   1629\u001b[0m \u001b[38;5;124;03m(``'green'``) or hex strings (``'#008000'``).\u001b[39;00m\n\u001b[1;32m   1630\u001b[0m \u001b[38;5;124;03m\"\"\"\u001b[39;00m\n\u001b[1;32m   1631\u001b[0m kwargs \u001b[38;5;241m=\u001b[39m cbook\u001b[38;5;241m.\u001b[39mnormalize_kwargs(kwargs, mlines\u001b[38;5;241m.\u001b[39mLine2D)\n\u001b[0;32m-> 1632\u001b[0m lines \u001b[38;5;241m=\u001b[39m [\u001b[38;5;241m*\u001b[39m\u001b[38;5;28mself\u001b[39m\u001b[38;5;241m.\u001b[39m_get_lines(\u001b[38;5;241m*\u001b[39margs, data\u001b[38;5;241m=\u001b[39mdata, \u001b[38;5;241m*\u001b[39m\u001b[38;5;241m*\u001b[39mkwargs)]\n\u001b[1;32m   1633\u001b[0m \u001b[38;5;28;01mfor\u001b[39;00m line \u001b[38;5;129;01min\u001b[39;00m lines:\n\u001b[1;32m   1634\u001b[0m     \u001b[38;5;28mself\u001b[39m\u001b[38;5;241m.\u001b[39madd_line(line)\n",
      "File \u001b[0;32m~/opt/anaconda3/lib/python3.9/site-packages/matplotlib/axes/_base.py:312\u001b[0m, in \u001b[0;36m_process_plot_var_args.__call__\u001b[0;34m(self, data, *args, **kwargs)\u001b[0m\n\u001b[1;32m    310\u001b[0m     this \u001b[38;5;241m+\u001b[39m\u001b[38;5;241m=\u001b[39m args[\u001b[38;5;241m0\u001b[39m],\n\u001b[1;32m    311\u001b[0m     args \u001b[38;5;241m=\u001b[39m args[\u001b[38;5;241m1\u001b[39m:]\n\u001b[0;32m--> 312\u001b[0m \u001b[38;5;28;01myield from\u001b[39;00m \u001b[38;5;28;43mself\u001b[39;49m\u001b[38;5;241;43m.\u001b[39;49m\u001b[43m_plot_args\u001b[49m\u001b[43m(\u001b[49m\u001b[43mthis\u001b[49m\u001b[43m,\u001b[49m\u001b[43m \u001b[49m\u001b[43mkwargs\u001b[49m\u001b[43m)\u001b[49m\n",
      "File \u001b[0;32m~/opt/anaconda3/lib/python3.9/site-packages/matplotlib/axes/_base.py:498\u001b[0m, in \u001b[0;36m_process_plot_var_args._plot_args\u001b[0;34m(self, tup, kwargs, return_kwargs)\u001b[0m\n\u001b[1;32m    495\u001b[0m     \u001b[38;5;28mself\u001b[39m\u001b[38;5;241m.\u001b[39maxes\u001b[38;5;241m.\u001b[39myaxis\u001b[38;5;241m.\u001b[39mupdate_units(y)\n\u001b[1;32m    497\u001b[0m \u001b[38;5;28;01mif\u001b[39;00m x\u001b[38;5;241m.\u001b[39mshape[\u001b[38;5;241m0\u001b[39m] \u001b[38;5;241m!=\u001b[39m y\u001b[38;5;241m.\u001b[39mshape[\u001b[38;5;241m0\u001b[39m]:\n\u001b[0;32m--> 498\u001b[0m     \u001b[38;5;28;01mraise\u001b[39;00m \u001b[38;5;167;01mValueError\u001b[39;00m(\u001b[38;5;124mf\u001b[39m\u001b[38;5;124m\"\u001b[39m\u001b[38;5;124mx and y must have same first dimension, but \u001b[39m\u001b[38;5;124m\"\u001b[39m\n\u001b[1;32m    499\u001b[0m                      \u001b[38;5;124mf\u001b[39m\u001b[38;5;124m\"\u001b[39m\u001b[38;5;124mhave shapes \u001b[39m\u001b[38;5;132;01m{\u001b[39;00mx\u001b[38;5;241m.\u001b[39mshape\u001b[38;5;132;01m}\u001b[39;00m\u001b[38;5;124m and \u001b[39m\u001b[38;5;132;01m{\u001b[39;00my\u001b[38;5;241m.\u001b[39mshape\u001b[38;5;132;01m}\u001b[39;00m\u001b[38;5;124m\"\u001b[39m)\n\u001b[1;32m    500\u001b[0m \u001b[38;5;28;01mif\u001b[39;00m x\u001b[38;5;241m.\u001b[39mndim \u001b[38;5;241m>\u001b[39m \u001b[38;5;241m2\u001b[39m \u001b[38;5;129;01mor\u001b[39;00m y\u001b[38;5;241m.\u001b[39mndim \u001b[38;5;241m>\u001b[39m \u001b[38;5;241m2\u001b[39m:\n\u001b[1;32m    501\u001b[0m     \u001b[38;5;28;01mraise\u001b[39;00m \u001b[38;5;167;01mValueError\u001b[39;00m(\u001b[38;5;124mf\u001b[39m\u001b[38;5;124m\"\u001b[39m\u001b[38;5;124mx and y can be no greater than 2D, but have \u001b[39m\u001b[38;5;124m\"\u001b[39m\n\u001b[1;32m    502\u001b[0m                      \u001b[38;5;124mf\u001b[39m\u001b[38;5;124m\"\u001b[39m\u001b[38;5;124mshapes \u001b[39m\u001b[38;5;132;01m{\u001b[39;00mx\u001b[38;5;241m.\u001b[39mshape\u001b[38;5;132;01m}\u001b[39;00m\u001b[38;5;124m and \u001b[39m\u001b[38;5;132;01m{\u001b[39;00my\u001b[38;5;241m.\u001b[39mshape\u001b[38;5;132;01m}\u001b[39;00m\u001b[38;5;124m\"\u001b[39m)\n",
      "\u001b[0;31mValueError\u001b[0m: x and y must have same first dimension, but have shapes (755,) and (152,)"
     ]
    },
    {
     "data": {
      "image/png": "[encoded data removed]",
      "text/plain": [
       "<Figure size 432x288 with 1 Axes>"
      ]
     },
     "metadata": {
      "needs_background": "light"
     },
     "output_type": "display_data"
    }
   ],
   "source": [
    "plt.plot(data2.index, prediction, label='Prediction')\n",
    "plt.xlabel('Date')\n",
    "plt.ylabel('Predicted Stock Price')\n",
    "plt.title('Predicted Stock Price over Time')\n",
    "plt.legend()\n",
    "plt.show()"
   ]
  },
  {
   "cell_type": "code",
   "execution_count": null,
   "id": "59801db6",
   "metadata": {},
   "outputs": [],
   "source": []
  },
  {
   "cell_type": "code",
   "execution_count": null,
   "id": "6e5cb5a6",
   "metadata": {},
   "outputs": [],
   "source": []
  },
  {
   "cell_type": "code",
   "execution_count": null,
   "id": "0f394dce",
   "metadata": {},
   "outputs": [],
   "source": []
  },
  {
   "cell_type": "code",
   "execution_count": null,
   "id": "b72aed50",
   "metadata": {},
   "outputs": [],
   "source": []
  },
  {
   "cell_type": "code",
   "execution_count": null,
   "id": "754c1e12",
   "metadata": {},
   "outputs": [],
   "source": []
  },
  {
   "cell_type": "code",
   "execution_count": null,
   "id": "478a030e",
   "metadata": {},
   "outputs": [],
   "source": []
  },
  {
   "cell_type": "code",
   "execution_count": null,
   "id": "995fe0bb",
   "metadata": {},
   "outputs": [],
   "source": []
  }
 ],
 "metadata": {
  "kernelspec": {
   "display_name": "Python 3 (ipykernel)",
   "language": "python",
   "name": "python3"
  },
  "language_info": {
   "codemirror_mode": {
    "name": "ipython",
    "version": 3
   },
   "file_extension": ".py",
   "mimetype": "text/x-python",
   "name": "python",
   "nbconvert_exporter": "python",
   "pygments_lexer": "ipython3",
   "version": "3.9.12"
  }
 },
 "nbformat": 4,
 "nbformat_minor": 5
}
